{
 "cells": [
  {
   "cell_type": "code",
   "execution_count": 79,
   "id": "9207268a",
   "metadata": {},
   "outputs": [],
   "source": [
    "#pip install \"pandas<2.0.0\"\n",
    "#!pip install swifter\n",
    "#!pip install tensorflow"
   ]
  },
  {
   "cell_type": "code",
   "execution_count": 24,
   "id": "a1a7fb77",
   "metadata": {},
   "outputs": [],
   "source": [
    "#Environnement\n",
    "\n",
    "import pandas as pd\n",
    "import joblib\n",
    "from joblib import load,dump\n",
    "import numpy as np\n",
    "import matplotlib.pyplot as plt\n",
    "\n",
    "\n",
    "import re\n",
    "import unicodedata\n",
    "from nltk.corpus import stopwords\n",
    "from nltk.tokenize import word_tokenize\n",
    "import swifter\n",
    "from bs4 import BeautifulSoup\n",
    "\n",
    "from sklearn.model_selection import train_test_split\n",
    "from sklearn.preprocessing import LabelEncoder\n",
    "import tensorflow as tf\n",
    "from tensorflow.keras import Sequential\n",
    "from tensorflow.keras.layers import Embedding, Dense, GlobalAveragePooling1D, RNN, GRUCell, Dropout\n"
   ]
  },
  {
   "cell_type": "code",
   "execution_count": 73,
   "id": "e7e9aa1f",
   "metadata": {},
   "outputs": [],
   "source": [
    "#Dépendances\n",
    "#fonction pour gestion de la ponctuation et des balises avant suppression\n",
    "def remplacement_encodage(text):\n",
    "    #gestion des caractères mal encodés hors html\n",
    "    text = text.replace(\"à¢\",\"â\")\n",
    "    text = text.replace(\"â¿¿\",\"'\")\n",
    "    text = text.replace(\"Â°\",\"°\")\n",
    "    text = text.replace(\"¿\",\"oe\")\n",
    "    #suppression encodage html\n",
    "    from bs4 import BeautifulSoup\n",
    "    soup = BeautifulSoup(text, 'html.parser')\n",
    "    text = soup.get_text()\n",
    "    return text\n",
    "\n",
    "# Converts the unicode file to ascii \n",
    "def unicode_to_ascii(s):\n",
    "    return ''.join(c for c in unicodedata.normalize('NFD', s)\n",
    "        if unicodedata.category(c) != 'Mn')\n",
    "\n",
    "def preprocess_sentence(w):\n",
    "    stop_words = stopwords.words('french')\n",
    "    w = unicode_to_ascii(w.lower().strip())\n",
    "    # creating a space between a word and the punctuation following it\n",
    "    # eg: \"he is a boy.\" => \"he is a boy .\"\n",
    "    w = re.sub(r\"([?.!,¿])\", r\" \\1 \", w)\n",
    "    w = re.sub(r'[\" \"]+', \" \", w)\n",
    "    # replacing everything with space except (a-z, A-Z, \".\", \"?\", \"!\", \",\")\n",
    "    w = re.sub(r\"[^a-zA-Z?.!]+\", \" \", w)\n",
    "    w = re.sub(r'\\b\\w{0,2}\\b', '', w)\n",
    "\n",
    "    # remove stopword\n",
    "    mots = word_tokenize(w.strip())\n",
    "    mots = [mot for mot in mots if mot not in stop_words]\n",
    "    return ' '.join(mots).strip()\n",
    "\n",
    "def preprocess_texte(df,maxlen=500,num_words=10000,embedding_dim = 200,langue= \"FR\"):\n",
    "    \n",
    "    if langue == 'FR':\n",
    "        df.texte_traduit_fr = df.texte_traduit_fr.swifter.apply(remplacement_encodage)\n",
    "        df.texte_traduit_fr = df.texte_traduit_fr.swifter.apply(lambda x :preprocess_sentence(x))\n",
    "        #Encodage cible\n",
    "        le = LabelEncoder()\n",
    "        le.fit(df.prdtypecode)\n",
    "        target = le.transform(df.prdtypecode)\n",
    "\n",
    "        X_text_train, X_text_test, y_train, y_test = train_test_split(df.texte_traduit_fr, target, test_size=0.2, random_state=1234)\n",
    "\n",
    "        # Définition du tokenizer\n",
    "        tokenizer = tf.keras.preprocessing.text.Tokenizer(num_words=num_words)\n",
    "        # Mettre à jour le dictionnaire du tokenizer\n",
    "        tokenizer.fit_on_texts(X_text_train)\n",
    "\n",
    "        word2idx = tokenizer.word_index\n",
    "        idx2word = tokenizer.index_word\n",
    "        vocab_size = tokenizer.num_words\n",
    "\n",
    "        #transformation du texte en sequences d'index\n",
    "        X_train = tokenizer.texts_to_sequences(X_text_train)\n",
    "        X_test = tokenizer.texts_to_sequences(X_text_test)\n",
    "\n",
    "        X_train = tf.keras.preprocessing.sequence.pad_sequences(X_train, maxlen=maxlen, padding='post', truncating='post')\n",
    "        X_test = tf.keras.preprocessing.sequence.pad_sequences(X_test, maxlen=maxlen, padding='post', truncating='post')\n",
    "    \n",
    "    if langue == 'EN':\n",
    "        df.texte_traduit_en = df.texte_traduit_en.swifter.apply(remplacement_encodage)\n",
    "        df.texte_traduit_en = df.texte_traduit_en.swifter.apply(lambda x :preprocess_sentence(x))\n",
    "        #Encodage cible\n",
    "        le = LabelEncoder()\n",
    "        le.fit(df.prdtypecode)\n",
    "        target = le.transform(df.prdtypecode)\n",
    "\n",
    "        X_text_train, X_text_test, y_train, y_test = train_test_split(df.texte_traduit_en, target, test_size=0.2, random_state=1234)\n",
    "\n",
    "        # Définition du tokenizer\n",
    "        tokenizer = tf.keras.preprocessing.text.Tokenizer(num_words=num_words)\n",
    "        # Mettre à jour le dictionnaire du tokenizer\n",
    "        tokenizer.fit_on_texts(X_text_train)\n",
    "\n",
    "        word2idx = tokenizer.word_index\n",
    "        idx2word = tokenizer.index_word\n",
    "        vocab_size = tokenizer.num_words\n",
    "\n",
    "        #transformation du texte en sequences d'index\n",
    "        X_train = tokenizer.texts_to_sequences(X_text_train)\n",
    "        X_test = tokenizer.texts_to_sequences(X_text_test)\n",
    "\n",
    "        X_train = tf.keras.preprocessing.sequence.pad_sequences(X_train, maxlen=maxlen, padding='post', truncating='post')\n",
    "        X_test = tf.keras.preprocessing.sequence.pad_sequences(X_test, maxlen=maxlen, padding='post', truncating='post')  \n",
    "        \n",
    "        \n",
    "        \n",
    "    return X_train, X_test, y_train, y_test        \n",
    "                           \n",
    "def train_model(X_train, X_test,y_train,y_test,num_words=10000,embedding_dim = 200):\n",
    "    #Construction du modèle \n",
    "    model = Sequential()\n",
    "    model.add(Embedding(num_words, embedding_dim))\n",
    "    model.add(RNN(GRUCell(128), return_sequences=True))\n",
    "    model.add(Dropout(0.3))\n",
    "    model.add(GlobalAveragePooling1D())\n",
    "    model.add(Dense(256, activation='relu'))     \n",
    "    model.add(Dropout(0.3))\n",
    "    model.add(Dense(27, activation='softmax'))\n",
    "\n",
    "    model.compile(optimizer='adam',\n",
    "                  loss='sparse_categorical_crossentropy',\n",
    "                  metrics=['accuracy'])\n",
    "\n",
    "    history = model.fit(X_train, y_train,\n",
    "    batch_size = 64,\n",
    "    epochs=6,\n",
    "    callbacks=[[reduce_learning_rate, early_stopping]],\n",
    "    validation_data = [X_test, y_test])\n",
    "    return model    \n",
    "               "
   ]
  },
  {
   "cell_type": "code",
   "execution_count": 26,
   "id": "66671b3d",
   "metadata": {},
   "outputs": [],
   "source": [
    "#Définition des CallBacks\n",
    "\n",
    "from tensorflow.keras.callbacks import Callback,ModelCheckpoint,EarlyStopping,ReduceLROnPlateau\n",
    "early_stopping = EarlyStopping(monitor=\"val_loss\",\n",
    "                               min_delta = 0.01,\n",
    "                               patience = 2,\n",
    "                               verbose=1,\n",
    "                               restore_best_weights = True)\n",
    "\n",
    "reduce_learning_rate = ReduceLROnPlateau(monitor=\"val_loss\",\n",
    "                                         patience = 2,\n",
    "                                         factor = 0.1,\n",
    "                                         cooldown = 3,\n",
    "                                         verbose=1,\n",
    "                                         min_lr = 1e-6)"
   ]
  },
  {
   "cell_type": "markdown",
   "id": "a8c2bf1d",
   "metadata": {},
   "source": [
    "model_checkpoint = ModelCheckpoint(filepath = get_output_path_folder(\"Fichiers_points_de_controles\"),\n",
    "                                    monitor = \"val_loss\",\n",
    "                                    verbose = 1,\n",
    "                                    save_best_only = False,\n",
    "                                    save_weights_only= False,\n",
    "                                    moder = \"auto\",\n",
    "                                    save_freq=\"epoch\")"
   ]
  },
  {
   "cell_type": "markdown",
   "id": "ede54fa6",
   "metadata": {},
   "source": [
    "# Données"
   ]
  },
  {
   "cell_type": "code",
   "execution_count": null,
   "id": "d4c824ba",
   "metadata": {},
   "outputs": [],
   "source": [
    "df = load(\"df_translated.joblib\")\n",
    "\n",
    "df.description = df.description.astype(\"str\")\n",
    "df.description_fr = df.description_fr.astype(\"str\")\n",
    "df.description_en = df.description_en.astype(\"str\")\n",
    "\n",
    "# fusion de désignation et description\n",
    "df[\"texte_non_traduit\"] = df.apply(lambda row: row[\"designation\"] + \" \" + row[\"description\"] if ((row[\"description\"]!='nan') and (row[\"designation\"] != row[\"description\"])) else row[\"designation\"], axis=1)\n",
    "\n",
    "df[\"texte_traduit_fr\"] = df.apply(lambda row: row[\"designation_fr\"] + \" \" + row[\"description_fr\"] if ((row[\"description_fr\"]!='nan') and (row[\"designation_fr\"] != row[\"description_fr\"])) else row[\"designation_fr\"], axis=1)\n",
    "\n",
    "df[\"texte_traduit_en\"] = df.apply(lambda row: row[\"designation_en\"] + \" \" + row[\"description_en\"] if ((row[\"description_en\"]!='nan') and (row[\"designation_en\"] != row[\"description_en\"])) else row[\"designation_en\"], axis=1)\n",
    "\n",
    "#retrait des colonnes initiales description et designation\n",
    "to_drop=['description','designation','productid', 'imageid','langues détectées', 'designation_fr', 'designation_en',\n",
    "       'description_fr', 'description_en']\n",
    "df = df.drop(columns = to_drop)\n",
    "df_texte_non_traduit = df.drop(columns =['texte_traduit_fr', 'texte_traduit_en'])\n",
    "df_texte_traduit_fr = df.drop(columns =['texte_non_traduit', 'texte_traduit_en'])\n",
    "df_texte_traduit_en = df.drop(columns =['texte_non_traduit', 'texte_traduit_fr'])\n",
    "\n",
    "\n",
    "#Enregistrement sauvegarde\n",
    "dump(df_texte_non_traduit,\"df_texte_non_traduit.joblib\")\n",
    "dump(df_texte_traduit_fr,\"df_texte_traduit_fr.joblib\")\n",
    "dump(df_texte_traduit_en,\"df_texte_traduit_en.joblib\")\n",
    "\n",
    "df_texte_non_traduit = load(\"df_texte_non_traduit.joblib\")\n",
    "df_texte_traduit_fr = load(\"df_texte_traduit_fr.joblib\")\n",
    "df_texte_traduit_en = load(\"df_texte_traduit_en.joblib\")\n"
   ]
  },
  {
   "cell_type": "markdown",
   "id": "92a113e6",
   "metadata": {},
   "source": [
    "# Travail à l'aide du texte traduit intégralement en FR"
   ]
  },
  {
   "cell_type": "code",
   "execution_count": 9,
   "id": "28c700ff",
   "metadata": {},
   "outputs": [
    {
     "data": {
      "text/html": [
       "<div>\n",
       "<style scoped>\n",
       "    .dataframe tbody tr th:only-of-type {\n",
       "        vertical-align: middle;\n",
       "    }\n",
       "\n",
       "    .dataframe tbody tr th {\n",
       "        vertical-align: top;\n",
       "    }\n",
       "\n",
       "    .dataframe thead th {\n",
       "        text-align: right;\n",
       "    }\n",
       "</style>\n",
       "<table border=\"1\" class=\"dataframe\">\n",
       "  <thead>\n",
       "    <tr style=\"text-align: right;\">\n",
       "      <th></th>\n",
       "      <th>prdtypecode</th>\n",
       "      <th>texte_traduit_fr</th>\n",
       "    </tr>\n",
       "  </thead>\n",
       "  <tbody>\n",
       "    <tr>\n",
       "      <th>0</th>\n",
       "      <td>10</td>\n",
       "      <td>Olivia : Carnet personnalisé / 150 pages / Dot...</td>\n",
       "    </tr>\n",
       "    <tr>\n",
       "      <th>1</th>\n",
       "      <td>2280</td>\n",
       "      <td>Journal Des Arts (Le) N° 133 Du 28/09/2001 - L...</td>\n",
       "    </tr>\n",
       "    <tr>\n",
       "      <th>2</th>\n",
       "      <td>50</td>\n",
       "      <td>Grand Stylet Ergonomique Bleu Gamepad Nintendo...</td>\n",
       "    </tr>\n",
       "    <tr>\n",
       "      <th>3</th>\n",
       "      <td>1280</td>\n",
       "      <td>Peluche Donald - Europe - Disneyland 2000 (Mar...</td>\n",
       "    </tr>\n",
       "    <tr>\n",
       "      <th>4</th>\n",
       "      <td>2705</td>\n",
       "      <td>La Guerre Des Tuques Luc a des id&amp;eacute;es de...</td>\n",
       "    </tr>\n",
       "  </tbody>\n",
       "</table>\n",
       "</div>"
      ],
      "text/plain": [
       "   prdtypecode                                   texte_traduit_fr\n",
       "0           10  Olivia : Carnet personnalisé / 150 pages / Dot...\n",
       "1         2280  Journal Des Arts (Le) N° 133 Du 28/09/2001 - L...\n",
       "2           50  Grand Stylet Ergonomique Bleu Gamepad Nintendo...\n",
       "3         1280  Peluche Donald - Europe - Disneyland 2000 (Mar...\n",
       "4         2705  La Guerre Des Tuques Luc a des id&eacute;es de..."
      ]
     },
     "execution_count": 9,
     "metadata": {},
     "output_type": "execute_result"
    }
   ],
   "source": [
    "df = load('df_texte_traduit_fr.joblib')\n",
    "df.head()"
   ]
  },
  {
   "cell_type": "code",
   "execution_count": 10,
   "id": "fecb4a11",
   "metadata": {},
   "outputs": [],
   "source": [
    "## Essai sur des paramètres fixes"
   ]
  },
  {
   "cell_type": "code",
   "execution_count": 12,
   "id": "d12d6947",
   "metadata": {},
   "outputs": [
    {
     "data": {
      "application/vnd.jupyter.widget-view+json": {
       "model_id": "df122413cb774461b3a0de6302aa68af",
       "version_major": 2,
       "version_minor": 0
      },
      "text/plain": [
       "Pandas Apply:   0%|          | 0/84916 [00:00<?, ?it/s]"
      ]
     },
     "metadata": {},
     "output_type": "display_data"
    },
    {
     "data": {
      "application/vnd.jupyter.widget-view+json": {
       "model_id": "d6279c61f75849cc85cb8a2b2178065f",
       "version_major": 2,
       "version_minor": 0
      },
      "text/plain": [
       "Pandas Apply:   0%|          | 0/84916 [00:00<?, ?it/s]"
      ]
     },
     "metadata": {},
     "output_type": "display_data"
    }
   ],
   "source": [
    "X_train, X_test, y_train, y_test = preprocess_texte(df,maxlen=500,num_words=10000,embedding_dim = 200)"
   ]
  },
  {
   "cell_type": "code",
   "execution_count": 144,
   "id": "6d47a830",
   "metadata": {
    "collapsed": true
   },
   "outputs": [
    {
     "name": "stdout",
     "output_type": "stream",
     "text": [
      "Epoch 1/10\n",
      "1062/1062 [==============================] - 601s 564ms/step - loss: 1.6994 - accuracy: 0.4881 - val_loss: 0.9705 - val_accuracy: 0.7087\n",
      "Epoch 2/10\n",
      "1062/1062 [==============================] - 615s 579ms/step - loss: 0.8210 - accuracy: 0.7543 - val_loss: 0.8005 - val_accuracy: 0.7603\n",
      "Epoch 3/10\n",
      "1062/1062 [==============================] - 604s 568ms/step - loss: 0.6260 - accuracy: 0.8106 - val_loss: 0.7698 - val_accuracy: 0.7738\n",
      "Epoch 4/10\n",
      "1062/1062 [==============================] - 597s 562ms/step - loss: 0.5133 - accuracy: 0.8423 - val_loss: 0.7893 - val_accuracy: 0.7779\n",
      "Epoch 5/10\n",
      "1062/1062 [==============================] - 600s 565ms/step - loss: 0.4311 - accuracy: 0.8645 - val_loss: 0.8104 - val_accuracy: 0.7804\n",
      "Epoch 6/10\n",
      "1062/1062 [==============================] - 614s 578ms/step - loss: 0.3643 - accuracy: 0.8840 - val_loss: 0.8670 - val_accuracy: 0.7780\n",
      "Epoch 7/10\n",
      "1062/1062 [==============================] - 609s 574ms/step - loss: 0.3115 - accuracy: 0.8994 - val_loss: 0.9518 - val_accuracy: 0.7728\n",
      "Epoch 8/10\n",
      "1062/1062 [==============================] - 602s 567ms/step - loss: 0.2663 - accuracy: 0.9140 - val_loss: 1.0372 - val_accuracy: 0.7706\n",
      "Epoch 9/10\n",
      "1062/1062 [==============================] - 600s 565ms/step - loss: 0.2321 - accuracy: 0.9239 - val_loss: 1.0869 - val_accuracy: 0.7747\n",
      "Epoch 10/10\n",
      "1062/1062 [==============================] - 593s 559ms/step - loss: 0.2027 - accuracy: 0.9335 - val_loss: 1.1722 - val_accuracy: 0.7689\n"
     ]
    }
   ],
   "source": [
    "history = model.fit(X_train, y_train,\n",
    "    batch_size = 64,\n",
    "    epochs=10,\n",
    "    validation_data = [X_test, y_test])\n"
   ]
  },
  {
   "cell_type": "code",
   "execution_count": 147,
   "id": "244ac320",
   "metadata": {},
   "outputs": [
    {
     "name": "stdout",
     "output_type": "stream",
     "text": [
      "INFO:tensorflow:Assets written to: DL_texte_fred_v1\\assets\n"
     ]
    },
    {
     "name": "stderr",
     "output_type": "stream",
     "text": [
      "INFO:tensorflow:Assets written to: DL_texte_fred_v1\\assets\n"
     ]
    }
   ],
   "source": [
    "model.save(\"DL_texte_fred_v1\")"
   ]
  },
  {
   "cell_type": "markdown",
   "id": "3d110dce",
   "metadata": {},
   "source": [
    "### Optimisation du paramètre maxlen"
   ]
  },
  {
   "cell_type": "code",
   "execution_count": 19,
   "id": "56939468",
   "metadata": {},
   "outputs": [
    {
     "data": {
      "application/vnd.jupyter.widget-view+json": {
       "model_id": "915ac18f6902435093172d42af7d13f4",
       "version_major": 2,
       "version_minor": 0
      },
      "text/plain": [
       "Pandas Apply:   0%|          | 0/84916 [00:00<?, ?it/s]"
      ]
     },
     "metadata": {},
     "output_type": "display_data"
    },
    {
     "data": {
      "application/vnd.jupyter.widget-view+json": {
       "model_id": "4c5febc19520438fb8ade7c8c86b8ac5",
       "version_major": 2,
       "version_minor": 0
      },
      "text/plain": [
       "Pandas Apply:   0%|          | 0/84916 [00:00<?, ?it/s]"
      ]
     },
     "metadata": {},
     "output_type": "display_data"
    },
    {
     "name": "stdout",
     "output_type": "stream",
     "text": [
      "Epoch 1/4\n",
      "WARNING:tensorflow:From C:\\Users\\Frederic\\anaconda3\\Lib\\site-packages\\keras\\src\\utils\\tf_utils.py:492: The name tf.ragged.RaggedTensorValue is deprecated. Please use tf.compat.v1.ragged.RaggedTensorValue instead.\n",
      "\n",
      "WARNING:tensorflow:From C:\\Users\\Frederic\\anaconda3\\Lib\\site-packages\\keras\\src\\engine\\base_layer_utils.py:384: The name tf.executing_eagerly_outside_functions is deprecated. Please use tf.compat.v1.executing_eagerly_outside_functions instead.\n",
      "\n",
      "1062/1062 [==============================] - 86s 79ms/step - loss: 1.4844 - accuracy: 0.5463 - val_loss: 0.9160 - val_accuracy: 0.7247 - lr: 0.0010\n",
      "Epoch 2/4\n",
      "1062/1062 [==============================] - 85s 80ms/step - loss: 0.7655 - accuracy: 0.7706 - val_loss: 0.7755 - val_accuracy: 0.7640 - lr: 0.0010\n",
      "Epoch 3/4\n",
      "1062/1062 [==============================] - 86s 81ms/step - loss: 0.5869 - accuracy: 0.8209 - val_loss: 0.7860 - val_accuracy: 0.7724 - lr: 0.0010\n",
      "Epoch 4/4\n",
      "1061/1062 [============================>.] - ETA: 0s - loss: 0.4838 - accuracy: 0.8505\n",
      "Epoch 4: ReduceLROnPlateau reducing learning rate to 0.00010000000474974513.\n",
      "Restoring model weights from the end of the best epoch: 2.\n",
      "1062/1062 [==============================] - 85s 80ms/step - loss: 0.4838 - accuracy: 0.8505 - val_loss: 0.7981 - val_accuracy: 0.7794 - lr: 0.0010\n",
      "Epoch 4: early stopping\n",
      "266/266 [==============================] - 6s 22ms/step - loss: 0.7755 - accuracy: 0.7640\n"
     ]
    },
    {
     "data": {
      "application/vnd.jupyter.widget-view+json": {
       "model_id": "7503597dd2c94eb89d9f604d35a708f0",
       "version_major": 2,
       "version_minor": 0
      },
      "text/plain": [
       "Pandas Apply:   0%|          | 0/84916 [00:00<?, ?it/s]"
      ]
     },
     "metadata": {},
     "output_type": "display_data"
    },
    {
     "data": {
      "application/vnd.jupyter.widget-view+json": {
       "model_id": "b6c519f3f8f943f19504d7cd4f949885",
       "version_major": 2,
       "version_minor": 0
      },
      "text/plain": [
       "Pandas Apply:   0%|          | 0/84916 [00:00<?, ?it/s]"
      ]
     },
     "metadata": {},
     "output_type": "display_data"
    },
    {
     "name": "stdout",
     "output_type": "stream",
     "text": [
      "Epoch 1/4\n",
      "1062/1062 [==============================] - 246s 231ms/step - loss: 1.7022 - accuracy: 0.4793 - val_loss: 1.0162 - val_accuracy: 0.6931 - lr: 0.0010\n",
      "Epoch 2/4\n",
      "1062/1062 [==============================] - 243s 229ms/step - loss: 0.8533 - accuracy: 0.7430 - val_loss: 0.8187 - val_accuracy: 0.7574 - lr: 0.0010\n",
      "Epoch 3/4\n",
      "1062/1062 [==============================] - 250s 235ms/step - loss: 0.6527 - accuracy: 0.8015 - val_loss: 0.7710 - val_accuracy: 0.7750 - lr: 0.0010\n",
      "Epoch 4/4\n",
      "1062/1062 [==============================] - 248s 234ms/step - loss: 0.5355 - accuracy: 0.8360 - val_loss: 0.8012 - val_accuracy: 0.7725 - lr: 0.0010\n",
      "266/266 [==============================] - 18s 68ms/step - loss: 0.8012 - accuracy: 0.7725\n"
     ]
    },
    {
     "data": {
      "application/vnd.jupyter.widget-view+json": {
       "model_id": "6d9317a4f6ae470e8a83ae1380aad0b6",
       "version_major": 2,
       "version_minor": 0
      },
      "text/plain": [
       "Pandas Apply:   0%|          | 0/84916 [00:00<?, ?it/s]"
      ]
     },
     "metadata": {},
     "output_type": "display_data"
    },
    {
     "data": {
      "application/vnd.jupyter.widget-view+json": {
       "model_id": "d82e3260d6374c76b1c1db18b3fc7b51",
       "version_major": 2,
       "version_minor": 0
      },
      "text/plain": [
       "Pandas Apply:   0%|          | 0/84916 [00:00<?, ?it/s]"
      ]
     },
     "metadata": {},
     "output_type": "display_data"
    },
    {
     "name": "stdout",
     "output_type": "stream",
     "text": [
      "Epoch 1/4\n",
      "1062/1062 [==============================] - 538s 505ms/step - loss: 1.7486 - accuracy: 0.4717 - val_loss: 0.9945 - val_accuracy: 0.6966 - lr: 0.0010\n",
      "Epoch 2/4\n",
      "1062/1062 [==============================] - 546s 514ms/step - loss: 0.8461 - accuracy: 0.7486 - val_loss: 0.8156 - val_accuracy: 0.7541 - lr: 0.0010\n",
      "Epoch 3/4\n",
      "1062/1062 [==============================] - 554s 522ms/step - loss: 0.6502 - accuracy: 0.8033 - val_loss: 0.7784 - val_accuracy: 0.7678 - lr: 0.0010\n",
      "Epoch 4/4\n",
      "1062/1062 [==============================] - 571s 538ms/step - loss: 0.5302 - accuracy: 0.8378 - val_loss: 0.7966 - val_accuracy: 0.7746 - lr: 0.0010\n",
      "266/266 [==============================] - 37s 139ms/step - loss: 0.7966 - accuracy: 0.7746\n"
     ]
    },
    {
     "data": {
      "application/vnd.jupyter.widget-view+json": {
       "model_id": "8078318c81de445f86a14e53147e65c8",
       "version_major": 2,
       "version_minor": 0
      },
      "text/plain": [
       "Pandas Apply:   0%|          | 0/84916 [00:00<?, ?it/s]"
      ]
     },
     "metadata": {},
     "output_type": "display_data"
    },
    {
     "data": {
      "application/vnd.jupyter.widget-view+json": {
       "model_id": "f67b8b481f674d0793d04f442d6eafce",
       "version_major": 2,
       "version_minor": 0
      },
      "text/plain": [
       "Pandas Apply:   0%|          | 0/84916 [00:00<?, ?it/s]"
      ]
     },
     "metadata": {},
     "output_type": "display_data"
    },
    {
     "name": "stdout",
     "output_type": "stream",
     "text": [
      "Epoch 1/4\n",
      "1062/1062 [==============================] - 833s 783ms/step - loss: 1.8053 - accuracy: 0.4521 - val_loss: 0.9922 - val_accuracy: 0.7054 - lr: 0.0010\n",
      "Epoch 2/4\n",
      "1062/1062 [==============================] - 920s 867ms/step - loss: 0.8413 - accuracy: 0.7497 - val_loss: 0.8143 - val_accuracy: 0.7576 - lr: 0.0010\n",
      "Epoch 3/4\n",
      "1062/1062 [==============================] - 933s 879ms/step - loss: 0.6363 - accuracy: 0.8086 - val_loss: 0.7746 - val_accuracy: 0.7713 - lr: 0.0010\n",
      "Epoch 4/4\n",
      "1062/1062 [==============================] - 946s 891ms/step - loss: 0.5334 - accuracy: 0.8356 - val_loss: 0.8016 - val_accuracy: 0.7704 - lr: 0.0010\n",
      "266/266 [==============================] - 57s 213ms/step - loss: 0.8016 - accuracy: 0.7704\n"
     ]
    },
    {
     "data": {
      "application/vnd.jupyter.widget-view+json": {
       "model_id": "8470ddd6e43c41cf81f12a4be469616e",
       "version_major": 2,
       "version_minor": 0
      },
      "text/plain": [
       "Pandas Apply:   0%|          | 0/84916 [00:00<?, ?it/s]"
      ]
     },
     "metadata": {},
     "output_type": "display_data"
    },
    {
     "data": {
      "application/vnd.jupyter.widget-view+json": {
       "model_id": "a040800eee934c578f4959866e65613d",
       "version_major": 2,
       "version_minor": 0
      },
      "text/plain": [
       "Pandas Apply:   0%|          | 0/84916 [00:00<?, ?it/s]"
      ]
     },
     "metadata": {},
     "output_type": "display_data"
    },
    {
     "name": "stdout",
     "output_type": "stream",
     "text": [
      "Epoch 1/4\n",
      "1062/1062 [==============================] - 1512s 1s/step - loss: 1.8414 - accuracy: 0.4483 - val_loss: 1.0130 - val_accuracy: 0.6966 - lr: 0.0010\n",
      "Epoch 2/4\n",
      "1062/1062 [==============================] - 1470s 1s/step - loss: 0.8508 - accuracy: 0.7456 - val_loss: 0.7938 - val_accuracy: 0.7617 - lr: 0.0010\n",
      "Epoch 3/4\n",
      "1062/1062 [==============================] - 1527s 1s/step - loss: 0.6402 - accuracy: 0.8056 - val_loss: 0.7664 - val_accuracy: 0.7746 - lr: 0.0010\n",
      "Epoch 4/4\n",
      "1062/1062 [==============================] - 1547s 1s/step - loss: 0.5243 - accuracy: 0.8384 - val_loss: 0.7915 - val_accuracy: 0.7715 - lr: 0.0010\n",
      "266/266 [==============================] - 89s 333ms/step - loss: 0.7915 - accuracy: 0.7715\n"
     ]
    }
   ],
   "source": [
    "scores_test_maxlen=[]\n",
    "\n",
    "for maxlen in np.arange(100,1000,200):\n",
    "    X_train, X_test, y_train, y_test = preprocess_texte(df=df,maxlen=maxlen,num_words=10000,embedding_dim = 200)\n",
    "    model_entraine = train_model(X_train, X_test,y_train,y_test,num_words=10000,embedding_dim = 200)\n",
    "    score = model_entraine.evaluate(X_test, y_test, batch_size=64)\n",
    "    scores_test_maxlen.append(score)  \n",
    "\n",
    "scores_test_maxlen = list(np.array(scores_test_maxlen)[:,1])"
   ]
  },
  {
   "cell_type": "code",
   "execution_count": 22,
   "id": "8e031bfb",
   "metadata": {},
   "outputs": [
    {
     "data": {
      "text/plain": [
       "array([0.76401317, 0.77249175, 0.77455252, 0.77043098, 0.77149081])"
      ]
     },
     "execution_count": 22,
     "metadata": {},
     "output_type": "execute_result"
    }
   ],
   "source": [
    "np.array(scores_test_maxlen)"
   ]
  },
  {
   "cell_type": "code",
   "execution_count": 30,
   "id": "4dd62050",
   "metadata": {},
   "outputs": [
    {
     "data": {
      "image/png": "[encoded data removed]",
      "text/plain": [
       "<Figure size 640x480 with 1 Axes>"
      ]
     },
     "metadata": {},
     "output_type": "display_data"
    }
   ],
   "source": [
    "scores_test_maxlen_show = list(np.array(scores_test_maxlen)[:])\n",
    "\n",
    "plt.plot(np.arange(100,1000,200),scores_test_maxlen_show)\n",
    "plt.show();"
   ]
  },
  {
   "cell_type": "code",
   "execution_count": 31,
   "id": "6205125e",
   "metadata": {},
   "outputs": [],
   "source": [
    "#mise en Dataframe\n",
    "scores_test_maxlen=np.array(scores_test_maxlen) \n",
    "datascores_maxlen=pd.DataFrame(scores_test_maxlen,columns=['score'])\n",
    "datascores_maxlen['maxlen'] = np.arange(100,1000,200)\n",
    "datascores_maxlen['num_words']=[10_000]*5\n",
    "datascores_maxlen['embedding_dim']=[200]*5"
   ]
  },
  {
   "cell_type": "code",
   "execution_count": 32,
   "id": "9842ba73",
   "metadata": {},
   "outputs": [
    {
     "data": {
      "text/html": [
       "<div>\n",
       "<style scoped>\n",
       "    .dataframe tbody tr th:only-of-type {\n",
       "        vertical-align: middle;\n",
       "    }\n",
       "\n",
       "    .dataframe tbody tr th {\n",
       "        vertical-align: top;\n",
       "    }\n",
       "\n",
       "    .dataframe thead th {\n",
       "        text-align: right;\n",
       "    }\n",
       "</style>\n",
       "<table border=\"1\" class=\"dataframe\">\n",
       "  <thead>\n",
       "    <tr style=\"text-align: right;\">\n",
       "      <th></th>\n",
       "      <th>score</th>\n",
       "      <th>maxlen</th>\n",
       "      <th>num_words</th>\n",
       "      <th>embedding_dim</th>\n",
       "    </tr>\n",
       "  </thead>\n",
       "  <tbody>\n",
       "    <tr>\n",
       "      <th>0</th>\n",
       "      <td>0.764013</td>\n",
       "      <td>100</td>\n",
       "      <td>10000</td>\n",
       "      <td>200</td>\n",
       "    </tr>\n",
       "    <tr>\n",
       "      <th>1</th>\n",
       "      <td>0.772492</td>\n",
       "      <td>300</td>\n",
       "      <td>10000</td>\n",
       "      <td>200</td>\n",
       "    </tr>\n",
       "    <tr>\n",
       "      <th>2</th>\n",
       "      <td>0.774553</td>\n",
       "      <td>500</td>\n",
       "      <td>10000</td>\n",
       "      <td>200</td>\n",
       "    </tr>\n",
       "    <tr>\n",
       "      <th>3</th>\n",
       "      <td>0.770431</td>\n",
       "      <td>700</td>\n",
       "      <td>10000</td>\n",
       "      <td>200</td>\n",
       "    </tr>\n",
       "    <tr>\n",
       "      <th>4</th>\n",
       "      <td>0.771491</td>\n",
       "      <td>900</td>\n",
       "      <td>10000</td>\n",
       "      <td>200</td>\n",
       "    </tr>\n",
       "  </tbody>\n",
       "</table>\n",
       "</div>"
      ],
      "text/plain": [
       "      score  maxlen  num_words  embedding_dim\n",
       "0  0.764013     100      10000            200\n",
       "1  0.772492     300      10000            200\n",
       "2  0.774553     500      10000            200\n",
       "3  0.770431     700      10000            200\n",
       "4  0.771491     900      10000            200"
      ]
     },
     "execution_count": 32,
     "metadata": {},
     "output_type": "execute_result"
    }
   ],
   "source": [
    "datascores_maxlen.head()"
   ]
  },
  {
   "cell_type": "code",
   "execution_count": null,
   "id": "ebc4dbf4",
   "metadata": {},
   "outputs": [],
   "source": []
  },
  {
   "cell_type": "markdown",
   "id": "8197bef5",
   "metadata": {},
   "source": [
    "### Optimisation du paramètre num_words"
   ]
  },
  {
   "cell_type": "markdown",
   "id": "ee6be8a6",
   "metadata": {},
   "source": [
    "#### partie 1"
   ]
  },
  {
   "cell_type": "code",
   "execution_count": null,
   "id": "3a9c9e07",
   "metadata": {},
   "outputs": [],
   "source": [
    "scores_num_words=[]\n",
    "maxlen = 300\n",
    "\n",
    "for num_words in np.arange(1000,100000,9000):\n",
    "    X_train, X_test, y_train, y_test = preprocess_texte(df=df,maxlen=maxlen,num_words=num_words,embedding_dim = 200)\n",
    "    model_entraine = train_model(X_train, X_test,y_train,y_test,num_words=num_words,embedding_dim = 200)\n",
    "    score = model_entraine.evaluate(X_test, y_test, batch_size=128)\n",
    "    scores_num_words.append(score)  \n"
   ]
  },
  {
   "cell_type": "code",
   "execution_count": null,
   "id": "53eda335",
   "metadata": {},
   "outputs": [],
   "source": [
    "scores_num_words_show= list(np.array(scores_num_words)[:,1])\n",
    "\n",
    "plt.plot(np.arange(1000,100000,9000),scores_num_words_show)\n",
    "plt.show()\n",
    "\n",
    "print(max(scores_num_words))"
   ]
  },
  {
   "cell_type": "code",
   "execution_count": null,
   "id": "15b2cde0",
   "metadata": {},
   "outputs": [],
   "source": [
    "scores_num_words=np.array(scores_num_words)\n",
    "datascores_num_words=pd.DataFrame(scores_num_words,columns=['score'])\n",
    "data_scores_num_words['maxlen'] = [300]*11\n",
    "data_scores_num_words['embedding_dim'] =[200]*11\n",
    "data_scores_num_words['num_words']= np.arange(1000,100000,9000)"
   ]
  },
  {
   "cell_type": "markdown",
   "id": "8eee9cf0",
   "metadata": {},
   "source": [
    "#### partie 2"
   ]
  },
  {
   "cell_type": "code",
   "execution_count": null,
   "id": "2caa4b92",
   "metadata": {},
   "outputs": [],
   "source": [
    "scores_num_words_2=[]\n",
    "maxlen = 300\n",
    "\n",
    "for num_words in np.arange(100000,200000,15000):\n",
    "    X_train, X_test, y_train, y_test = preprocess_texte(df=df,maxlen=maxlen,num_words=num_words,embedding_dim = 200)\n",
    "    model_entraine = train_model(X_train, X_test,y_train,y_test,num_words=num_words,embedding_dim = 200)\n",
    "    score = model_entraine.evaluate(X_test, y_test, batch_size=128)\n",
    "    scores_num_words_3.append(score) \n"
   ]
  },
  {
   "cell_type": "code",
   "execution_count": null,
   "id": "0d3fc593",
   "metadata": {},
   "outputs": [],
   "source": [
    "scores_num_words_2_show= list(np.array(scores_num_words_2)[:,1])\n",
    "\n",
    "plt.plot(np.arange(100000,200000,15000),scores_num_words_2_show)\n",
    "plt.show()\n",
    "\n",
    "print(max(scores_num_words_2))"
   ]
  },
  {
   "cell_type": "code",
   "execution_count": null,
   "id": "d713c24f",
   "metadata": {},
   "outputs": [],
   "source": [
    "scores_num_words_2=np.array(scores_num_words_2)\n",
    "datascores_num_words_2=pd.DataFrame(scores_num_words_2,columns=['score'])\n",
    "data_scores_num_words_2['maxlen'] = [300]*11\n",
    "data_scores_num_words_2['embedding_dim'] =[200]*11\n",
    "data_scores_num_words_2['num_words']= np.arange(100000,200000,15000)"
   ]
  },
  {
   "cell_type": "code",
   "execution_count": null,
   "id": "bda9b072",
   "metadata": {},
   "outputs": [],
   "source": []
  },
  {
   "cell_type": "markdown",
   "id": "53c777b1",
   "metadata": {},
   "source": [
    "### Optimisation du paramètre embedding_dim"
   ]
  },
  {
   "cell_type": "code",
   "execution_count": null,
   "id": "98cdea96",
   "metadata": {},
   "outputs": [],
   "source": [
    "#Application\n",
    "scores_embedding_dim=[]\n",
    "maxlen = 300\n",
    "num_words= 100000\n",
    "\n",
    "for embedding_dim in np.arange(50,800,100):\n",
    "    X_train, X_test, y_train, y_test = preprocess_texte(df=df,maxlen=maxlen,num_words=num_words,embedding_dim = 200)\n",
    "    model_entraine = train_model(X_train, X_test,y_train,y_test,num_words=num_words,embedding_dim = 200)\n",
    "    score = model_entraine.evaluate(X_test, y_test, batch_size=128)\n",
    "    scores_embedding_dim.append(score) "
   ]
  },
  {
   "cell_type": "code",
   "execution_count": null,
   "id": "337fa872",
   "metadata": {},
   "outputs": [],
   "source": [
    "scores_embedding_dim_show= list(np.array(scores_embedding_dim)[:,1])\n",
    "\n",
    "plt.plot(nnp.arange(50,800,100),scores_embedding_dim_show)\n",
    "plt.show()\n",
    "\n",
    "print(max(scores_embedding_dim))"
   ]
  },
  {
   "cell_type": "code",
   "execution_count": null,
   "id": "39c2a0f5",
   "metadata": {},
   "outputs": [],
   "source": [
    "scores_embedding_dim=np.array(scores_embedding_dim) \n",
    "datascores_embedding_dim=pd.DataFrame(scores_embedding_dim,columns=column_names)\n",
    "datascores_embedding_dim['maxlen'] = [300]*5\n",
    "datascores_embedding_dim['num_words']=[100_000]*5\n",
    "datascores_embedding_dim['embedding_dim']=np.arange(50,500,100)"
   ]
  },
  {
   "cell_type": "markdown",
   "id": "1a1b33f4",
   "metadata": {},
   "source": [
    "# Enregistrement et chargement du df_score"
   ]
  },
  {
   "cell_type": "code",
   "execution_count": null,
   "id": "6642a3ca",
   "metadata": {},
   "outputs": [],
   "source": [
    "df = pd.concat([datascores_embedding_dim, data_scores_num_words,data_scores_num_words_2])\n",
    "joblib.dump(df,'df_score_texte.joblib')"
   ]
  },
  {
   "cell_type": "code",
   "execution_count": null,
   "id": "dc486946",
   "metadata": {},
   "outputs": [],
   "source": [
    "# Chargement du fichier de score"
   ]
  },
  {
   "cell_type": "code",
   "execution_count": 47,
   "id": "4f1bd2f3",
   "metadata": {},
   "outputs": [],
   "source": [
    "import joblib\n",
    "df = joblib.load ('df_score_texte.joblib')"
   ]
  },
  {
   "cell_type": "code",
   "execution_count": 48,
   "id": "9c0ad283",
   "metadata": {},
   "outputs": [],
   "source": [
    "df_scores_DL_texte = pd.concat([datascores_maxlen,df])"
   ]
  },
  {
   "cell_type": "code",
   "execution_count": 49,
   "id": "b74ad185",
   "metadata": {},
   "outputs": [
    {
     "data": {
      "text/html": [
       "<div>\n",
       "<style scoped>\n",
       "    .dataframe tbody tr th:only-of-type {\n",
       "        vertical-align: middle;\n",
       "    }\n",
       "\n",
       "    .dataframe tbody tr th {\n",
       "        vertical-align: top;\n",
       "    }\n",
       "\n",
       "    .dataframe thead th {\n",
       "        text-align: right;\n",
       "    }\n",
       "</style>\n",
       "<table border=\"1\" class=\"dataframe\">\n",
       "  <thead>\n",
       "    <tr style=\"text-align: right;\">\n",
       "      <th></th>\n",
       "      <th>score</th>\n",
       "      <th>maxlen</th>\n",
       "      <th>num_words</th>\n",
       "      <th>embedding_dim</th>\n",
       "    </tr>\n",
       "  </thead>\n",
       "  <tbody>\n",
       "    <tr>\n",
       "      <th>0</th>\n",
       "      <td>0.764013</td>\n",
       "      <td>100</td>\n",
       "      <td>10000</td>\n",
       "      <td>200</td>\n",
       "    </tr>\n",
       "    <tr>\n",
       "      <th>1</th>\n",
       "      <td>0.772492</td>\n",
       "      <td>300</td>\n",
       "      <td>10000</td>\n",
       "      <td>200</td>\n",
       "    </tr>\n",
       "    <tr>\n",
       "      <th>2</th>\n",
       "      <td>0.774553</td>\n",
       "      <td>500</td>\n",
       "      <td>10000</td>\n",
       "      <td>200</td>\n",
       "    </tr>\n",
       "    <tr>\n",
       "      <th>3</th>\n",
       "      <td>0.770431</td>\n",
       "      <td>700</td>\n",
       "      <td>10000</td>\n",
       "      <td>200</td>\n",
       "    </tr>\n",
       "    <tr>\n",
       "      <th>4</th>\n",
       "      <td>0.771491</td>\n",
       "      <td>900</td>\n",
       "      <td>10000</td>\n",
       "      <td>200</td>\n",
       "    </tr>\n",
       "    <tr>\n",
       "      <th>0</th>\n",
       "      <td>0.781029</td>\n",
       "      <td>300</td>\n",
       "      <td>100000</td>\n",
       "      <td>50</td>\n",
       "    </tr>\n",
       "    <tr>\n",
       "      <th>1</th>\n",
       "      <td>0.779263</td>\n",
       "      <td>300</td>\n",
       "      <td>100000</td>\n",
       "      <td>150</td>\n",
       "    </tr>\n",
       "    <tr>\n",
       "      <th>2</th>\n",
       "      <td>0.788154</td>\n",
       "      <td>300</td>\n",
       "      <td>100000</td>\n",
       "      <td>250</td>\n",
       "    </tr>\n",
       "    <tr>\n",
       "      <th>3</th>\n",
       "      <td>0.778851</td>\n",
       "      <td>300</td>\n",
       "      <td>100000</td>\n",
       "      <td>350</td>\n",
       "    </tr>\n",
       "    <tr>\n",
       "      <th>4</th>\n",
       "      <td>0.788389</td>\n",
       "      <td>300</td>\n",
       "      <td>100000</td>\n",
       "      <td>450</td>\n",
       "    </tr>\n",
       "    <tr>\n",
       "      <th>0</th>\n",
       "      <td>0.662683</td>\n",
       "      <td>300</td>\n",
       "      <td>1000</td>\n",
       "      <td>100000</td>\n",
       "    </tr>\n",
       "    <tr>\n",
       "      <th>1</th>\n",
       "      <td>0.774788</td>\n",
       "      <td>300</td>\n",
       "      <td>10000</td>\n",
       "      <td>100000</td>\n",
       "    </tr>\n",
       "    <tr>\n",
       "      <th>2</th>\n",
       "      <td>0.775318</td>\n",
       "      <td>300</td>\n",
       "      <td>19000</td>\n",
       "      <td>100000</td>\n",
       "    </tr>\n",
       "    <tr>\n",
       "      <th>3</th>\n",
       "      <td>0.781795</td>\n",
       "      <td>300</td>\n",
       "      <td>28000</td>\n",
       "      <td>100000</td>\n",
       "    </tr>\n",
       "    <tr>\n",
       "      <th>4</th>\n",
       "      <td>0.782207</td>\n",
       "      <td>300</td>\n",
       "      <td>37000</td>\n",
       "      <td>100000</td>\n",
       "    </tr>\n",
       "    <tr>\n",
       "      <th>5</th>\n",
       "      <td>0.780853</td>\n",
       "      <td>300</td>\n",
       "      <td>46000</td>\n",
       "      <td>100000</td>\n",
       "    </tr>\n",
       "    <tr>\n",
       "      <th>6</th>\n",
       "      <td>0.775082</td>\n",
       "      <td>300</td>\n",
       "      <td>55000</td>\n",
       "      <td>100000</td>\n",
       "    </tr>\n",
       "    <tr>\n",
       "      <th>7</th>\n",
       "      <td>0.780499</td>\n",
       "      <td>300</td>\n",
       "      <td>64000</td>\n",
       "      <td>100000</td>\n",
       "    </tr>\n",
       "    <tr>\n",
       "      <th>8</th>\n",
       "      <td>0.780617</td>\n",
       "      <td>300</td>\n",
       "      <td>73000</td>\n",
       "      <td>100000</td>\n",
       "    </tr>\n",
       "    <tr>\n",
       "      <th>9</th>\n",
       "      <td>0.785327</td>\n",
       "      <td>300</td>\n",
       "      <td>82000</td>\n",
       "      <td>100000</td>\n",
       "    </tr>\n",
       "    <tr>\n",
       "      <th>10</th>\n",
       "      <td>0.785268</td>\n",
       "      <td>300</td>\n",
       "      <td>91000</td>\n",
       "      <td>100000</td>\n",
       "    </tr>\n",
       "    <tr>\n",
       "      <th>0</th>\n",
       "      <td>0.790803</td>\n",
       "      <td>300</td>\n",
       "      <td>100000</td>\n",
       "      <td>100000</td>\n",
       "    </tr>\n",
       "    <tr>\n",
       "      <th>1</th>\n",
       "      <td>0.776613</td>\n",
       "      <td>300</td>\n",
       "      <td>115000</td>\n",
       "      <td>100000</td>\n",
       "    </tr>\n",
       "    <tr>\n",
       "      <th>2</th>\n",
       "      <td>0.789979</td>\n",
       "      <td>300</td>\n",
       "      <td>130000</td>\n",
       "      <td>100000</td>\n",
       "    </tr>\n",
       "    <tr>\n",
       "      <th>3</th>\n",
       "      <td>0.783561</td>\n",
       "      <td>300</td>\n",
       "      <td>145000</td>\n",
       "      <td>100000</td>\n",
       "    </tr>\n",
       "    <tr>\n",
       "      <th>4</th>\n",
       "      <td>0.781677</td>\n",
       "      <td>300</td>\n",
       "      <td>160000</td>\n",
       "      <td>100000</td>\n",
       "    </tr>\n",
       "    <tr>\n",
       "      <th>5</th>\n",
       "      <td>0.779969</td>\n",
       "      <td>300</td>\n",
       "      <td>175000</td>\n",
       "      <td>100000</td>\n",
       "    </tr>\n",
       "    <tr>\n",
       "      <th>6</th>\n",
       "      <td>0.783620</td>\n",
       "      <td>300</td>\n",
       "      <td>190000</td>\n",
       "      <td>100000</td>\n",
       "    </tr>\n",
       "  </tbody>\n",
       "</table>\n",
       "</div>"
      ],
      "text/plain": [
       "       score  maxlen  num_words  embedding_dim\n",
       "0   0.764013     100      10000            200\n",
       "1   0.772492     300      10000            200\n",
       "2   0.774553     500      10000            200\n",
       "3   0.770431     700      10000            200\n",
       "4   0.771491     900      10000            200\n",
       "0   0.781029     300     100000             50\n",
       "1   0.779263     300     100000            150\n",
       "2   0.788154     300     100000            250\n",
       "3   0.778851     300     100000            350\n",
       "4   0.788389     300     100000            450\n",
       "0   0.662683     300       1000         100000\n",
       "1   0.774788     300      10000         100000\n",
       "2   0.775318     300      19000         100000\n",
       "3   0.781795     300      28000         100000\n",
       "4   0.782207     300      37000         100000\n",
       "5   0.780853     300      46000         100000\n",
       "6   0.775082     300      55000         100000\n",
       "7   0.780499     300      64000         100000\n",
       "8   0.780617     300      73000         100000\n",
       "9   0.785327     300      82000         100000\n",
       "10  0.785268     300      91000         100000\n",
       "0   0.790803     300     100000         100000\n",
       "1   0.776613     300     115000         100000\n",
       "2   0.789979     300     130000         100000\n",
       "3   0.783561     300     145000         100000\n",
       "4   0.781677     300     160000         100000\n",
       "5   0.779969     300     175000         100000\n",
       "6   0.783620     300     190000         100000"
      ]
     },
     "execution_count": 49,
     "metadata": {},
     "output_type": "execute_result"
    }
   ],
   "source": [
    "df_scores_DL_texte.head(55)"
   ]
  },
  {
   "cell_type": "code",
   "execution_count": 50,
   "id": "28ce97a6",
   "metadata": {},
   "outputs": [],
   "source": [
    "# La modification des paramètres maxlen, num_words et embedding_dim ne permet pas d'améliorer sensiblement le score"
   ]
  },
  {
   "cell_type": "code",
   "execution_count": 53,
   "id": "2074dfaf",
   "metadata": {},
   "outputs": [],
   "source": [
    "df_etude_num_words =  df_scores_DL_texte[(df_scores_DL_texte['maxlen'].values == 300) & (df_scores_DL_texte['embedding_dim'].values == 100000)]"
   ]
  },
  {
   "cell_type": "code",
   "execution_count": 58,
   "id": "ffbc3b4d",
   "metadata": {},
   "outputs": [
    {
     "data": {
      "text/plain": [
       "Text(0, 0.5, 'score')"
      ]
     },
     "execution_count": 58,
     "metadata": {},
     "output_type": "execute_result"
    },
    {
     "data": {
      "image/png": "[encoded data removed]",
      "text/plain": [
       "<Figure size 640x480 with 1 Axes>"
      ]
     },
     "metadata": {},
     "output_type": "display_data"
    }
   ],
   "source": [
    "plt.scatter(df_etude_num_words.num_words, df_etude_num_words.score)\n",
    "plt.ylim(0,1)\n",
    "plt.hlines(0.78, 0,200000)\n",
    "plt.xlabel('num_words')\n",
    "plt.ylabel('score')"
   ]
  },
  {
   "cell_type": "code",
   "execution_count": 59,
   "id": "9d78cf2e",
   "metadata": {},
   "outputs": [
    {
     "name": "stdout",
     "output_type": "stream",
     "text": [
      "la variable numw_ords n'a pas d'effet significatif sur le score du modèle\n"
     ]
    }
   ],
   "source": [
    "print(\"la variable numw_ords n'a pas d'effet significatif sur le score du modèle\")"
   ]
  },
  {
   "cell_type": "code",
   "execution_count": null,
   "id": "1c0c0aa4",
   "metadata": {},
   "outputs": [],
   "source": []
  },
  {
   "cell_type": "code",
   "execution_count": null,
   "id": "2b06da5f",
   "metadata": {},
   "outputs": [],
   "source": []
  },
  {
   "cell_type": "markdown",
   "id": "e0834a69",
   "metadata": {},
   "source": [
    "ANNEXE : Essais lancés"
   ]
  },
  {
   "cell_type": "code",
   "execution_count": 24,
   "id": "0053e140",
   "metadata": {
    "collapsed": true
   },
   "outputs": [
    {
     "data": {
      "application/vnd.jupyter.widget-view+json": {
       "model_id": "48dc90e605af4bf5a4a8e67aa87e96c9",
       "version_major": 2,
       "version_minor": 0
      },
      "text/plain": [
       "Pandas Apply:   0%|          | 0/84916 [00:00<?, ?it/s]"
      ]
     },
     "metadata": {},
     "output_type": "display_data"
    },
    {
     "data": {
      "application/vnd.jupyter.widget-view+json": {
       "model_id": "2f7b1ebba0f248b79c9312ba590c990e",
       "version_major": 2,
       "version_minor": 0
      },
      "text/plain": [
       "Pandas Apply:   0%|          | 0/84916 [00:00<?, ?it/s]"
      ]
     },
     "metadata": {},
     "output_type": "display_data"
    },
    {
     "name": "stdout",
     "output_type": "stream",
     "text": [
      "Epoch 1/4\n",
      "1062/1062 [==============================] - 229s 215ms/step - loss: 1.9214 - accuracy: 0.4213 - val_loss: 1.3675 - val_accuracy: 0.5939 - lr: 0.0010\n",
      "Epoch 2/4\n",
      "1062/1062 [==============================] - 226s 213ms/step - loss: 1.2974 - accuracy: 0.6154 - val_loss: 1.1945 - val_accuracy: 0.6378 - lr: 0.0010\n",
      "Epoch 3/4\n",
      "1062/1062 [==============================] - 228s 214ms/step - loss: 1.1548 - accuracy: 0.6544 - val_loss: 1.1287 - val_accuracy: 0.6627 - lr: 0.0010\n",
      "Epoch 4/4\n",
      "1062/1062 [==============================] - 231s 218ms/step - loss: 1.0740 - accuracy: 0.6729 - val_loss: 1.1074 - val_accuracy: 0.6627 - lr: 0.0010\n",
      "133/133 [==============================] - 14s 106ms/step - loss: 1.1074 - accuracy: 0.6627\n"
     ]
    },
    {
     "data": {
      "application/vnd.jupyter.widget-view+json": {
       "model_id": "49dea8b3baa34813bb125eb4f1be85c3",
       "version_major": 2,
       "version_minor": 0
      },
      "text/plain": [
       "Pandas Apply:   0%|          | 0/84916 [00:00<?, ?it/s]"
      ]
     },
     "metadata": {},
     "output_type": "display_data"
    },
    {
     "data": {
      "application/vnd.jupyter.widget-view+json": {
       "model_id": "e0687223fc8045ae9653dccfa8b85a6b",
       "version_major": 2,
       "version_minor": 0
      },
      "text/plain": [
       "Pandas Apply:   0%|          | 0/84916 [00:00<?, ?it/s]"
      ]
     },
     "metadata": {},
     "output_type": "display_data"
    },
    {
     "name": "stdout",
     "output_type": "stream",
     "text": [
      "Epoch 1/4\n",
      "1062/1062 [==============================] - 263s 246ms/step - loss: 1.6694 - accuracy: 0.4959 - val_loss: 0.9541 - val_accuracy: 0.7134 - lr: 0.0010\n",
      "Epoch 2/4\n",
      "1062/1062 [==============================] - 263s 247ms/step - loss: 0.8111 - accuracy: 0.7587 - val_loss: 0.7993 - val_accuracy: 0.7622 - lr: 0.0010\n",
      "Epoch 3/4\n",
      "1062/1062 [==============================] - 262s 247ms/step - loss: 0.6211 - accuracy: 0.8127 - val_loss: 0.7478 - val_accuracy: 0.7772 - lr: 0.0010\n",
      "Epoch 4/4\n",
      "1062/1062 [==============================] - 265s 250ms/step - loss: 0.5092 - accuracy: 0.8432 - val_loss: 0.7764 - val_accuracy: 0.7748 - lr: 0.0010\n",
      "133/133 [==============================] - 16s 120ms/step - loss: 0.7764 - accuracy: 0.7748\n"
     ]
    },
    {
     "data": {
      "application/vnd.jupyter.widget-view+json": {
       "model_id": "a27066ac1172412fa6e01a72f4ff1d1b",
       "version_major": 2,
       "version_minor": 0
      },
      "text/plain": [
       "Pandas Apply:   0%|          | 0/84916 [00:00<?, ?it/s]"
      ]
     },
     "metadata": {},
     "output_type": "display_data"
    },
    {
     "data": {
      "application/vnd.jupyter.widget-view+json": {
       "model_id": "de28404d595c44cc878029ec13b934d0",
       "version_major": 2,
       "version_minor": 0
      },
      "text/plain": [
       "Pandas Apply:   0%|          | 0/84916 [00:00<?, ?it/s]"
      ]
     },
     "metadata": {},
     "output_type": "display_data"
    },
    {
     "name": "stdout",
     "output_type": "stream",
     "text": [
      "Epoch 1/4\n",
      "1062/1062 [==============================] - 325s 304ms/step - loss: 1.6112 - accuracy: 0.5076 - val_loss: 0.9453 - val_accuracy: 0.7154 - lr: 0.0010\n",
      "Epoch 2/4\n",
      "1062/1062 [==============================] - 316s 298ms/step - loss: 0.7474 - accuracy: 0.7767 - val_loss: 0.7606 - val_accuracy: 0.7753 - lr: 0.0010\n",
      "Epoch 3/4\n",
      "1062/1062 [==============================] - 316s 298ms/step - loss: 0.5343 - accuracy: 0.8371 - val_loss: 0.7646 - val_accuracy: 0.7845 - lr: 0.0010\n",
      "Epoch 4/4\n",
      "1062/1062 [==============================] - ETA: 0s - loss: 0.4131 - accuracy: 0.8717\n",
      "Epoch 4: ReduceLROnPlateau reducing learning rate to 0.00010000000474974513.\n",
      "Restoring model weights from the end of the best epoch: 2.\n",
      "1062/1062 [==============================] - 315s 297ms/step - loss: 0.4131 - accuracy: 0.8717 - val_loss: 0.8073 - val_accuracy: 0.7824 - lr: 0.0010\n",
      "Epoch 4: early stopping\n",
      "133/133 [==============================] - 17s 130ms/step - loss: 0.7606 - accuracy: 0.7753\n"
     ]
    },
    {
     "data": {
      "application/vnd.jupyter.widget-view+json": {
       "model_id": "6fb9d6a5e80246d8ad8921f1e2b13e1a",
       "version_major": 2,
       "version_minor": 0
      },
      "text/plain": [
       "Pandas Apply:   0%|          | 0/84916 [00:00<?, ?it/s]"
      ]
     },
     "metadata": {},
     "output_type": "display_data"
    },
    {
     "data": {
      "application/vnd.jupyter.widget-view+json": {
       "model_id": "d5e6de9f9b97477abd2d8cec1cc44b85",
       "version_major": 2,
       "version_minor": 0
      },
      "text/plain": [
       "Pandas Apply:   0%|          | 0/84916 [00:00<?, ?it/s]"
      ]
     },
     "metadata": {},
     "output_type": "display_data"
    },
    {
     "name": "stdout",
     "output_type": "stream",
     "text": [
      "Epoch 1/4\n",
      "1062/1062 [==============================] - 316s 297ms/step - loss: 1.5986 - accuracy: 0.5143 - val_loss: 0.9202 - val_accuracy: 0.7239 - lr: 0.0010\n",
      "Epoch 2/4\n",
      "1062/1062 [==============================] - 305s 287ms/step - loss: 0.7226 - accuracy: 0.7827 - val_loss: 0.7383 - val_accuracy: 0.7818 - lr: 0.0010\n",
      "Epoch 3/4\n",
      "1062/1062 [==============================] - 304s 286ms/step - loss: 0.4814 - accuracy: 0.8543 - val_loss: 0.7590 - val_accuracy: 0.7848 - lr: 0.0010\n",
      "Epoch 4/4\n",
      "1062/1062 [==============================] - ETA: 0s - loss: 0.3459 - accuracy: 0.8932\n",
      "Epoch 4: ReduceLROnPlateau reducing learning rate to 0.00010000000474974513.\n",
      "Restoring model weights from the end of the best epoch: 2.\n",
      "1062/1062 [==============================] - 315s 296ms/step - loss: 0.3459 - accuracy: 0.8932 - val_loss: 0.8136 - val_accuracy: 0.7859 - lr: 0.0010\n",
      "Epoch 4: early stopping\n",
      "133/133 [==============================] - 17s 131ms/step - loss: 0.7383 - accuracy: 0.7818\n"
     ]
    },
    {
     "data": {
      "application/vnd.jupyter.widget-view+json": {
       "model_id": "c91ee263e6e34c11acb01397dfbb9739",
       "version_major": 2,
       "version_minor": 0
      },
      "text/plain": [
       "Pandas Apply:   0%|          | 0/84916 [00:00<?, ?it/s]"
      ]
     },
     "metadata": {},
     "output_type": "display_data"
    },
    {
     "data": {
      "application/vnd.jupyter.widget-view+json": {
       "model_id": "82ac6f434d86432a92e55d2c8c4caa1b",
       "version_major": 2,
       "version_minor": 0
      },
      "text/plain": [
       "Pandas Apply:   0%|          | 0/84916 [00:00<?, ?it/s]"
      ]
     },
     "metadata": {},
     "output_type": "display_data"
    },
    {
     "name": "stdout",
     "output_type": "stream",
     "text": [
      "Epoch 1/4\n",
      "1062/1062 [==============================] - 304s 285ms/step - loss: 1.6340 - accuracy: 0.5027 - val_loss: 0.9521 - val_accuracy: 0.7126 - lr: 0.0010\n",
      "Epoch 2/4\n",
      "1062/1062 [==============================] - 296s 279ms/step - loss: 0.7287 - accuracy: 0.7811 - val_loss: 0.7401 - val_accuracy: 0.7822 - lr: 0.0010\n",
      "Epoch 3/4\n",
      "1062/1062 [==============================] - 297s 279ms/step - loss: 0.4729 - accuracy: 0.8562 - val_loss: 0.7405 - val_accuracy: 0.7859 - lr: 0.0010\n",
      "Epoch 4/4\n",
      "1062/1062 [==============================] - ETA: 0s - loss: 0.3276 - accuracy: 0.8997\n",
      "Epoch 4: ReduceLROnPlateau reducing learning rate to 0.00010000000474974513.\n",
      "Restoring model weights from the end of the best epoch: 2.\n",
      "1062/1062 [==============================] - 298s 280ms/step - loss: 0.3276 - accuracy: 0.8997 - val_loss: 0.8075 - val_accuracy: 0.7891 - lr: 0.0010\n",
      "Epoch 4: early stopping\n",
      "133/133 [==============================] - 15s 111ms/step - loss: 0.7401 - accuracy: 0.7822\n"
     ]
    },
    {
     "data": {
      "application/vnd.jupyter.widget-view+json": {
       "model_id": "8eeb36b58ae445c4a0f8bf3c9371e1ae",
       "version_major": 2,
       "version_minor": 0
      },
      "text/plain": [
       "Pandas Apply:   0%|          | 0/84916 [00:00<?, ?it/s]"
      ]
     },
     "metadata": {},
     "output_type": "display_data"
    },
    {
     "data": {
      "application/vnd.jupyter.widget-view+json": {
       "model_id": "0a6f1b6bebbf49dab3704469634b2bc4",
       "version_major": 2,
       "version_minor": 0
      },
      "text/plain": [
       "Pandas Apply:   0%|          | 0/84916 [00:00<?, ?it/s]"
      ]
     },
     "metadata": {},
     "output_type": "display_data"
    },
    {
     "name": "stdout",
     "output_type": "stream",
     "text": [
      "Epoch 1/4\n",
      "1062/1062 [==============================] - 386s 362ms/step - loss: 1.7219 - accuracy: 0.4699 - val_loss: 0.9998 - val_accuracy: 0.6972 - lr: 0.0010\n",
      "Epoch 2/4\n",
      "1062/1062 [==============================] - 365s 344ms/step - loss: 0.7486 - accuracy: 0.7748 - val_loss: 0.7388 - val_accuracy: 0.7809 - lr: 0.0010\n",
      "Epoch 3/4\n",
      "1062/1062 [==============================] - 362s 341ms/step - loss: 0.4591 - accuracy: 0.8624 - val_loss: 0.7349 - val_accuracy: 0.7909 - lr: 0.0010\n",
      "Epoch 4/4\n",
      "1062/1062 [==============================] - ETA: 0s - loss: 0.3079 - accuracy: 0.9051Restoring model weights from the end of the best epoch: 2.\n",
      "1062/1062 [==============================] - 362s 341ms/step - loss: 0.3079 - accuracy: 0.9051 - val_loss: 0.8290 - val_accuracy: 0.7909 - lr: 0.0010\n",
      "Epoch 4: early stopping\n",
      "133/133 [==============================] - 18s 133ms/step - loss: 0.7388 - accuracy: 0.7809\n"
     ]
    },
    {
     "data": {
      "application/vnd.jupyter.widget-view+json": {
       "model_id": "925ea0467538407fbba71c70c5fd1d71",
       "version_major": 2,
       "version_minor": 0
      },
      "text/plain": [
       "Pandas Apply:   0%|          | 0/84916 [00:00<?, ?it/s]"
      ]
     },
     "metadata": {},
     "output_type": "display_data"
    },
    {
     "data": {
      "application/vnd.jupyter.widget-view+json": {
       "model_id": "7b28f0c6d8354289a6dca2e4187f5428",
       "version_major": 2,
       "version_minor": 0
      },
      "text/plain": [
       "Pandas Apply:   0%|          | 0/84916 [00:00<?, ?it/s]"
      ]
     },
     "metadata": {},
     "output_type": "display_data"
    },
    {
     "name": "stdout",
     "output_type": "stream",
     "text": [
      "Epoch 1/4\n",
      "1062/1062 [==============================] - 343s 322ms/step - loss: 1.6215 - accuracy: 0.5051 - val_loss: 0.9078 - val_accuracy: 0.7270 - lr: 0.0010\n",
      "Epoch 2/4\n",
      "1062/1062 [==============================] - 335s 315ms/step - loss: 0.7123 - accuracy: 0.7861 - val_loss: 0.7503 - val_accuracy: 0.7751 - lr: 0.0010\n",
      "Epoch 3/4\n",
      "1062/1062 [==============================] - 332s 312ms/step - loss: 0.4421 - accuracy: 0.8656 - val_loss: 0.7500 - val_accuracy: 0.7852 - lr: 0.0010\n",
      "Epoch 4/4\n",
      "1062/1062 [==============================] - ETA: 0s - loss: 0.2888 - accuracy: 0.9120Restoring model weights from the end of the best epoch: 2.\n",
      "1062/1062 [==============================] - 332s 312ms/step - loss: 0.2888 - accuracy: 0.9120 - val_loss: 0.8378 - val_accuracy: 0.7870 - lr: 0.0010\n",
      "Epoch 4: early stopping\n",
      "133/133 [==============================] - 16s 117ms/step - loss: 0.7503 - accuracy: 0.7751\n"
     ]
    },
    {
     "data": {
      "application/vnd.jupyter.widget-view+json": {
       "model_id": "997e957a07b54c9fb130ed2c9ef3871d",
       "version_major": 2,
       "version_minor": 0
      },
      "text/plain": [
       "Pandas Apply:   0%|          | 0/84916 [00:00<?, ?it/s]"
      ]
     },
     "metadata": {},
     "output_type": "display_data"
    },
    {
     "data": {
      "application/vnd.jupyter.widget-view+json": {
       "model_id": "14f37b75b3e1481e8d2985afe53a7c0d",
       "version_major": 2,
       "version_minor": 0
      },
      "text/plain": [
       "Pandas Apply:   0%|          | 0/84916 [00:00<?, ?it/s]"
      ]
     },
     "metadata": {},
     "output_type": "display_data"
    },
    {
     "name": "stdout",
     "output_type": "stream",
     "text": [
      "Epoch 1/4\n",
      "1062/1062 [==============================] - 389s 365ms/step - loss: 1.6359 - accuracy: 0.4995 - val_loss: 0.9151 - val_accuracy: 0.7194 - lr: 0.0010\n",
      "Epoch 2/4\n",
      "1062/1062 [==============================] - 383s 361ms/step - loss: 0.6969 - accuracy: 0.7919 - val_loss: 0.7246 - val_accuracy: 0.7805 - lr: 0.0010\n",
      "Epoch 3/4\n",
      "1062/1062 [==============================] - 386s 363ms/step - loss: 0.4212 - accuracy: 0.8717 - val_loss: 0.7711 - val_accuracy: 0.7852 - lr: 0.0010\n",
      "Epoch 4/4\n",
      "1062/1062 [==============================] - ETA: 0s - loss: 0.2721 - accuracy: 0.9171\n",
      "Epoch 4: ReduceLROnPlateau reducing learning rate to 0.00010000000474974513.\n",
      "Restoring model weights from the end of the best epoch: 2.\n",
      "1062/1062 [==============================] - 384s 362ms/step - loss: 0.2721 - accuracy: 0.9171 - val_loss: 0.8645 - val_accuracy: 0.7805 - lr: 0.0010\n",
      "Epoch 4: early stopping\n",
      "133/133 [==============================] - 19s 139ms/step - loss: 0.7246 - accuracy: 0.7805\n"
     ]
    },
    {
     "data": {
      "application/vnd.jupyter.widget-view+json": {
       "model_id": "68e0c6e883a7473195f787ccd258cf52",
       "version_major": 2,
       "version_minor": 0
      },
      "text/plain": [
       "Pandas Apply:   0%|          | 0/84916 [00:00<?, ?it/s]"
      ]
     },
     "metadata": {},
     "output_type": "display_data"
    },
    {
     "data": {
      "application/vnd.jupyter.widget-view+json": {
       "model_id": "acbace55ac36400e8d21a08f69ebce9d",
       "version_major": 2,
       "version_minor": 0
      },
      "text/plain": [
       "Pandas Apply:   0%|          | 0/84916 [00:00<?, ?it/s]"
      ]
     },
     "metadata": {},
     "output_type": "display_data"
    },
    {
     "name": "stdout",
     "output_type": "stream",
     "text": [
      "Epoch 1/4\n",
      "1062/1062 [==============================] - 394s 370ms/step - loss: 1.5892 - accuracy: 0.5159 - val_loss: 0.8779 - val_accuracy: 0.7352 - lr: 0.0010\n",
      "Epoch 2/4\n",
      "1062/1062 [==============================] - 380s 358ms/step - loss: 0.6750 - accuracy: 0.7983 - val_loss: 0.7431 - val_accuracy: 0.7806 - lr: 0.0010\n",
      "Epoch 3/4\n",
      "1062/1062 [==============================] - 382s 360ms/step - loss: 0.4106 - accuracy: 0.8735 - val_loss: 0.7824 - val_accuracy: 0.7845 - lr: 0.0010\n",
      "Epoch 4/4\n",
      "1062/1062 [==============================] - ETA: 0s - loss: 0.2657 - accuracy: 0.9185\n",
      "Epoch 4: ReduceLROnPlateau reducing learning rate to 0.00010000000474974513.\n",
      "Restoring model weights from the end of the best epoch: 2.\n",
      "1062/1062 [==============================] - 381s 359ms/step - loss: 0.2657 - accuracy: 0.9185 - val_loss: 0.8851 - val_accuracy: 0.7831 - lr: 0.0010\n",
      "Epoch 4: early stopping\n",
      "133/133 [==============================] - 18s 134ms/step - loss: 0.7431 - accuracy: 0.7806\n"
     ]
    },
    {
     "data": {
      "application/vnd.jupyter.widget-view+json": {
       "model_id": "3781eb0767494fefbf527e212ff015b8",
       "version_major": 2,
       "version_minor": 0
      },
      "text/plain": [
       "Pandas Apply:   0%|          | 0/84916 [00:00<?, ?it/s]"
      ]
     },
     "metadata": {},
     "output_type": "display_data"
    },
    {
     "data": {
      "application/vnd.jupyter.widget-view+json": {
       "model_id": "0d3958862ec04af58d382a5721fa1cef",
       "version_major": 2,
       "version_minor": 0
      },
      "text/plain": [
       "Pandas Apply:   0%|          | 0/84916 [00:00<?, ?it/s]"
      ]
     },
     "metadata": {},
     "output_type": "display_data"
    },
    {
     "name": "stdout",
     "output_type": "stream",
     "text": [
      "Epoch 1/4\n",
      "1062/1062 [==============================] - 382s 358ms/step - loss: 1.6217 - accuracy: 0.5075 - val_loss: 0.8976 - val_accuracy: 0.7322 - lr: 0.0010\n",
      "Epoch 2/4\n",
      "1062/1062 [==============================] - 378s 356ms/step - loss: 0.6743 - accuracy: 0.7974 - val_loss: 0.7204 - val_accuracy: 0.7853 - lr: 0.0010\n",
      "Epoch 3/4\n",
      "1062/1062 [==============================] - 378s 356ms/step - loss: 0.3821 - accuracy: 0.8841 - val_loss: 0.7588 - val_accuracy: 0.7902 - lr: 0.0010\n",
      "Epoch 4/4\n",
      "1062/1062 [==============================] - ETA: 0s - loss: 0.2307 - accuracy: 0.9308\n",
      "Epoch 4: ReduceLROnPlateau reducing learning rate to 0.00010000000474974513.\n",
      "Restoring model weights from the end of the best epoch: 2.\n",
      "1062/1062 [==============================] - 379s 357ms/step - loss: 0.2307 - accuracy: 0.9308 - val_loss: 0.8760 - val_accuracy: 0.7889 - lr: 0.0010\n",
      "Epoch 4: early stopping\n",
      "133/133 [==============================] - 16s 122ms/step - loss: 0.7204 - accuracy: 0.7853\n"
     ]
    },
    {
     "data": {
      "application/vnd.jupyter.widget-view+json": {
       "model_id": "406c162da26a4efa904d6cff52b08147",
       "version_major": 2,
       "version_minor": 0
      },
      "text/plain": [
       "Pandas Apply:   0%|          | 0/84916 [00:00<?, ?it/s]"
      ]
     },
     "metadata": {},
     "output_type": "display_data"
    },
    {
     "data": {
      "application/vnd.jupyter.widget-view+json": {
       "model_id": "ddfc7dbfe7a04585b1b11005f48bd353",
       "version_major": 2,
       "version_minor": 0
      },
      "text/plain": [
       "Pandas Apply:   0%|          | 0/84916 [00:00<?, ?it/s]"
      ]
     },
     "metadata": {},
     "output_type": "display_data"
    },
    {
     "name": "stdout",
     "output_type": "stream",
     "text": [
      "Epoch 1/4\n",
      "1062/1062 [==============================] - 430s 403ms/step - loss: 1.6712 - accuracy: 0.4846 - val_loss: 0.9446 - val_accuracy: 0.7164 - lr: 0.0010\n",
      "Epoch 2/4\n",
      "1062/1062 [==============================] - 419s 395ms/step - loss: 0.7072 - accuracy: 0.7852 - val_loss: 0.7325 - val_accuracy: 0.7853 - lr: 0.0010\n",
      "Epoch 3/4\n",
      "1062/1062 [==============================] - 421s 396ms/step - loss: 0.4136 - accuracy: 0.8747 - val_loss: 0.7558 - val_accuracy: 0.7846 - lr: 0.0010\n",
      "Epoch 4/4\n",
      "1062/1062 [==============================] - ETA: 0s - loss: 0.2540 - accuracy: 0.9220\n",
      "Epoch 4: ReduceLROnPlateau reducing learning rate to 0.00010000000474974513.\n",
      "Restoring model weights from the end of the best epoch: 2.\n",
      "1062/1062 [==============================] - 421s 397ms/step - loss: 0.2540 - accuracy: 0.9220 - val_loss: 0.8960 - val_accuracy: 0.7819 - lr: 0.0010\n",
      "Epoch 4: early stopping\n",
      "133/133 [==============================] - 18s 133ms/step - loss: 0.7325 - accuracy: 0.7853\n"
     ]
    }
   ],
   "source": [
    "#Application\n",
    "scores_num_words=[]\n",
    "maxlen = 300\n",
    "\n",
    "for num_words in np.arange(1000,100000,9000):\n",
    "    X_train, X_test, y_train, y_test = preprocess_texte(df=df,maxlen=maxlen,num_words=num_words,embedding_dim = 200)\n",
    "    model_entraine = train_model(X_train, X_test,y_train,y_test,num_words=num_words,embedding_dim = 200)\n",
    "    score = model_entraine.evaluate(X_test, y_test, batch_size=128)\n",
    "    scores_num_words.append(score)  \n"
   ]
  },
  {
   "cell_type": "code",
   "execution_count": 33,
   "id": "435c83b0",
   "metadata": {},
   "outputs": [
    {
     "data": {
      "image/png": "[encoded data removed]",
      "text/plain": [
       "<Figure size 640x480 with 1 Axes>"
      ]
     },
     "metadata": {},
     "output_type": "display_data"
    },
    {
     "name": "stdout",
     "output_type": "stream",
     "text": [
      "0.7853273749351501\n"
     ]
    }
   ],
   "source": [
    "import matplotlib.pyplot as plt\n",
    "plt.plot(np.arange(1000,100000,9000),scores_num_words_2)\n",
    "plt.show()\n",
    "\n",
    "print(max(scores_num_words_2))"
   ]
  },
  {
   "cell_type": "code",
   "execution_count": 34,
   "id": "cd22e39b",
   "metadata": {
    "collapsed": true
   },
   "outputs": [
    {
     "data": {
      "application/vnd.jupyter.widget-view+json": {
       "model_id": "795348965cb244cf8c56298fdd925694",
       "version_major": 2,
       "version_minor": 0
      },
      "text/plain": [
       "Pandas Apply:   0%|          | 0/84916 [00:00<?, ?it/s]"
      ]
     },
     "metadata": {},
     "output_type": "display_data"
    },
    {
     "data": {
      "application/vnd.jupyter.widget-view+json": {
       "model_id": "5847ecfc06b44b28b5af7369872d1808",
       "version_major": 2,
       "version_minor": 0
      },
      "text/plain": [
       "Pandas Apply:   0%|          | 0/84916 [00:00<?, ?it/s]"
      ]
     },
     "metadata": {},
     "output_type": "display_data"
    },
    {
     "name": "stdout",
     "output_type": "stream",
     "text": [
      "Epoch 1/4\n",
      "1062/1062 [==============================] - 420s 394ms/step - loss: 1.6025 - accuracy: 0.5124 - val_loss: 0.8745 - val_accuracy: 0.7382 - lr: 0.0010\n",
      "Epoch 2/4\n",
      "1062/1062 [==============================] - 425s 400ms/step - loss: 0.6677 - accuracy: 0.8009 - val_loss: 0.7266 - val_accuracy: 0.7908 - lr: 0.0010\n",
      "Epoch 3/4\n",
      "1062/1062 [==============================] - 410s 386ms/step - loss: 0.3783 - accuracy: 0.8842 - val_loss: 0.7730 - val_accuracy: 0.7864 - lr: 0.0010\n",
      "Epoch 4/4\n",
      "1062/1062 [==============================] - ETA: 0s - loss: 0.2244 - accuracy: 0.9313\n",
      "Epoch 4: ReduceLROnPlateau reducing learning rate to 0.00010000000474974513.\n",
      "Restoring model weights from the end of the best epoch: 2.\n",
      "1062/1062 [==============================] - 412s 388ms/step - loss: 0.2244 - accuracy: 0.9313 - val_loss: 0.9169 - val_accuracy: 0.7823 - lr: 0.0010\n",
      "Epoch 4: early stopping\n",
      "133/133 [==============================] - 17s 126ms/step - loss: 0.7266 - accuracy: 0.7908\n"
     ]
    },
    {
     "data": {
      "application/vnd.jupyter.widget-view+json": {
       "model_id": "e8bd20a2fee04942aa356d3b66529703",
       "version_major": 2,
       "version_minor": 0
      },
      "text/plain": [
       "Pandas Apply:   0%|          | 0/84916 [00:00<?, ?it/s]"
      ]
     },
     "metadata": {},
     "output_type": "display_data"
    },
    {
     "data": {
      "application/vnd.jupyter.widget-view+json": {
       "model_id": "1e0c9273f2324afbb5ccabec2a3cf0a5",
       "version_major": 2,
       "version_minor": 0
      },
      "text/plain": [
       "Pandas Apply:   0%|          | 0/84916 [00:00<?, ?it/s]"
      ]
     },
     "metadata": {},
     "output_type": "display_data"
    },
    {
     "name": "stdout",
     "output_type": "stream",
     "text": [
      "Epoch 1/4\n",
      "1062/1062 [==============================] - 401s 376ms/step - loss: 1.5837 - accuracy: 0.5207 - val_loss: 0.8856 - val_accuracy: 0.7250 - lr: 0.0010\n",
      "Epoch 2/4\n",
      "1062/1062 [==============================] - 400s 376ms/step - loss: 0.6783 - accuracy: 0.7973 - val_loss: 0.7617 - val_accuracy: 0.7766 - lr: 0.0010\n",
      "Epoch 3/4\n",
      "1062/1062 [==============================] - 410s 386ms/step - loss: 0.3853 - accuracy: 0.8848 - val_loss: 0.8121 - val_accuracy: 0.7730 - lr: 0.0010\n",
      "Epoch 4/4\n",
      "1062/1062 [==============================] - ETA: 0s - loss: 0.2229 - accuracy: 0.9332\n",
      "Epoch 4: ReduceLROnPlateau reducing learning rate to 0.00010000000474974513.\n",
      "Restoring model weights from the end of the best epoch: 2.\n",
      "1062/1062 [==============================] - 401s 378ms/step - loss: 0.2229 - accuracy: 0.9332 - val_loss: 0.9230 - val_accuracy: 0.7808 - lr: 0.0010\n",
      "Epoch 4: early stopping\n",
      "133/133 [==============================] - 15s 114ms/step - loss: 0.7617 - accuracy: 0.7766\n"
     ]
    },
    {
     "data": {
      "application/vnd.jupyter.widget-view+json": {
       "model_id": "fd9214cbc25547359640d252143e64c2",
       "version_major": 2,
       "version_minor": 0
      },
      "text/plain": [
       "Pandas Apply:   0%|          | 0/84916 [00:00<?, ?it/s]"
      ]
     },
     "metadata": {},
     "output_type": "display_data"
    },
    {
     "data": {
      "application/vnd.jupyter.widget-view+json": {
       "model_id": "783d7faf49ec43afb915ed33827c6dd4",
       "version_major": 2,
       "version_minor": 0
      },
      "text/plain": [
       "Pandas Apply:   0%|          | 0/84916 [00:00<?, ?it/s]"
      ]
     },
     "metadata": {},
     "output_type": "display_data"
    },
    {
     "name": "stdout",
     "output_type": "stream",
     "text": [
      "Epoch 1/4\n",
      "1062/1062 [==============================] - 460s 431ms/step - loss: 1.6263 - accuracy: 0.5015 - val_loss: 0.9164 - val_accuracy: 0.7240 - lr: 0.0010\n",
      "Epoch 2/4\n",
      "1062/1062 [==============================] - 462s 435ms/step - loss: 0.6755 - accuracy: 0.7946 - val_loss: 0.7112 - val_accuracy: 0.7900 - lr: 0.0010\n",
      "Epoch 3/4\n",
      "1062/1062 [==============================] - 462s 435ms/step - loss: 0.3773 - accuracy: 0.8843 - val_loss: 0.7559 - val_accuracy: 0.7906 - lr: 0.0010\n",
      "Epoch 4/4\n",
      "1062/1062 [==============================] - ETA: 0s - loss: 0.2152 - accuracy: 0.9345\n",
      "Epoch 4: ReduceLROnPlateau reducing learning rate to 0.00010000000474974513.\n",
      "Restoring model weights from the end of the best epoch: 2.\n",
      "1062/1062 [==============================] - 493s 465ms/step - loss: 0.2152 - accuracy: 0.9345 - val_loss: 0.8939 - val_accuracy: 0.7831 - lr: 0.0010\n",
      "Epoch 4: early stopping\n",
      "133/133 [==============================] - 19s 139ms/step - loss: 0.7112 - accuracy: 0.7900\n"
     ]
    },
    {
     "data": {
      "application/vnd.jupyter.widget-view+json": {
       "model_id": "ac5dffc9abc94a439a72c73c30d31eeb",
       "version_major": 2,
       "version_minor": 0
      },
      "text/plain": [
       "Pandas Apply:   0%|          | 0/84916 [00:00<?, ?it/s]"
      ]
     },
     "metadata": {},
     "output_type": "display_data"
    },
    {
     "data": {
      "application/vnd.jupyter.widget-view+json": {
       "model_id": "c2a87c27b8af48318157b20ea2407532",
       "version_major": 2,
       "version_minor": 0
      },
      "text/plain": [
       "Pandas Apply:   0%|          | 0/84916 [00:00<?, ?it/s]"
      ]
     },
     "metadata": {},
     "output_type": "display_data"
    },
    {
     "name": "stdout",
     "output_type": "stream",
     "text": [
      "Epoch 1/4\n",
      "1062/1062 [==============================] - 466s 438ms/step - loss: 1.6452 - accuracy: 0.4958 - val_loss: 0.9634 - val_accuracy: 0.7100 - lr: 0.0010\n",
      "Epoch 2/4\n",
      "1062/1062 [==============================] - 464s 437ms/step - loss: 0.7036 - accuracy: 0.7873 - val_loss: 0.7335 - val_accuracy: 0.7836 - lr: 0.0010\n",
      "Epoch 3/4\n",
      "1062/1062 [==============================] - 465s 438ms/step - loss: 0.3860 - accuracy: 0.8831 - val_loss: 0.7862 - val_accuracy: 0.7810 - lr: 0.0010\n",
      "Epoch 4/4\n",
      "1062/1062 [==============================] - ETA: 0s - loss: 0.2232 - accuracy: 0.9321\n",
      "Epoch 4: ReduceLROnPlateau reducing learning rate to 0.00010000000474974513.\n",
      "Restoring model weights from the end of the best epoch: 2.\n",
      "1062/1062 [==============================] - 462s 435ms/step - loss: 0.2232 - accuracy: 0.9321 - val_loss: 0.9474 - val_accuracy: 0.7764 - lr: 0.0010\n",
      "Epoch 4: early stopping\n",
      "133/133 [==============================] - 16s 120ms/step - loss: 0.7335 - accuracy: 0.7836\n"
     ]
    },
    {
     "data": {
      "application/vnd.jupyter.widget-view+json": {
       "model_id": "9a43aab5ca3944708bb1f64fcbefdacd",
       "version_major": 2,
       "version_minor": 0
      },
      "text/plain": [
       "Pandas Apply:   0%|          | 0/84916 [00:00<?, ?it/s]"
      ]
     },
     "metadata": {},
     "output_type": "display_data"
    },
    {
     "data": {
      "application/vnd.jupyter.widget-view+json": {
       "model_id": "72c854085ebc46a0bc1996c7281aabd2",
       "version_major": 2,
       "version_minor": 0
      },
      "text/plain": [
       "Pandas Apply:   0%|          | 0/84916 [00:00<?, ?it/s]"
      ]
     },
     "metadata": {},
     "output_type": "display_data"
    },
    {
     "name": "stdout",
     "output_type": "stream",
     "text": [
      "Epoch 1/4\n",
      "1062/1062 [==============================] - 478s 449ms/step - loss: 1.6653 - accuracy: 0.4887 - val_loss: 0.9400 - val_accuracy: 0.7207 - lr: 0.0010\n",
      "Epoch 2/4\n",
      "1062/1062 [==============================] - 491s 462ms/step - loss: 0.6980 - accuracy: 0.7914 - val_loss: 0.7506 - val_accuracy: 0.7817 - lr: 0.0010\n",
      "Epoch 3/4\n",
      "1062/1062 [==============================] - 492s 464ms/step - loss: 0.3894 - accuracy: 0.8828 - val_loss: 0.7811 - val_accuracy: 0.7870 - lr: 0.0010\n",
      "Epoch 4/4\n",
      "1062/1062 [==============================] - ETA: 0s - loss: 0.2286 - accuracy: 0.9303\n",
      "Epoch 4: ReduceLROnPlateau reducing learning rate to 0.00010000000474974513.\n",
      "Restoring model weights from the end of the best epoch: 2.\n",
      "1062/1062 [==============================] - 477s 449ms/step - loss: 0.2286 - accuracy: 0.9303 - val_loss: 0.9064 - val_accuracy: 0.7852 - lr: 0.0010\n",
      "Epoch 4: early stopping\n",
      "133/133 [==============================] - 16s 121ms/step - loss: 0.7506 - accuracy: 0.7817\n"
     ]
    },
    {
     "data": {
      "application/vnd.jupyter.widget-view+json": {
       "model_id": "cb0a5b0a0c244bf5a6a669a45f70da81",
       "version_major": 2,
       "version_minor": 0
      },
      "text/plain": [
       "Pandas Apply:   0%|          | 0/84916 [00:00<?, ?it/s]"
      ]
     },
     "metadata": {},
     "output_type": "display_data"
    },
    {
     "data": {
      "application/vnd.jupyter.widget-view+json": {
       "model_id": "6025034958424fc6882a5bd1e71463fc",
       "version_major": 2,
       "version_minor": 0
      },
      "text/plain": [
       "Pandas Apply:   0%|          | 0/84916 [00:00<?, ?it/s]"
      ]
     },
     "metadata": {},
     "output_type": "display_data"
    },
    {
     "name": "stdout",
     "output_type": "stream",
     "text": [
      "Epoch 1/4\n",
      "1062/1062 [==============================] - 559s 525ms/step - loss: 1.6323 - accuracy: 0.4976 - val_loss: 0.9146 - val_accuracy: 0.7189 - lr: 0.0010\n",
      "Epoch 2/4\n",
      "1062/1062 [==============================] - 569s 536ms/step - loss: 0.6973 - accuracy: 0.7909 - val_loss: 0.7487 - val_accuracy: 0.7800 - lr: 0.0010\n",
      "Epoch 3/4\n",
      "1062/1062 [==============================] - 554s 522ms/step - loss: 0.4014 - accuracy: 0.8788 - val_loss: 0.7868 - val_accuracy: 0.7817 - lr: 0.0010\n",
      "Epoch 4/4\n",
      "1062/1062 [==============================] - ETA: 0s - loss: 0.2398 - accuracy: 0.9284\n",
      "Epoch 4: ReduceLROnPlateau reducing learning rate to 0.00010000000474974513.\n",
      "Restoring model weights from the end of the best epoch: 2.\n",
      "1062/1062 [==============================] - 561s 529ms/step - loss: 0.2398 - accuracy: 0.9284 - val_loss: 0.8955 - val_accuracy: 0.7784 - lr: 0.0010\n",
      "Epoch 4: early stopping\n",
      "133/133 [==============================] - 21s 155ms/step - loss: 0.7487 - accuracy: 0.7800\n"
     ]
    },
    {
     "data": {
      "application/vnd.jupyter.widget-view+json": {
       "model_id": "1e730431c8b0468782e0c83085c1cc62",
       "version_major": 2,
       "version_minor": 0
      },
      "text/plain": [
       "Pandas Apply:   0%|          | 0/84916 [00:00<?, ?it/s]"
      ]
     },
     "metadata": {},
     "output_type": "display_data"
    },
    {
     "data": {
      "application/vnd.jupyter.widget-view+json": {
       "model_id": "fdf230778e94496898d095413708775a",
       "version_major": 2,
       "version_minor": 0
      },
      "text/plain": [
       "Pandas Apply:   0%|          | 0/84916 [00:00<?, ?it/s]"
      ]
     },
     "metadata": {},
     "output_type": "display_data"
    },
    {
     "name": "stdout",
     "output_type": "stream",
     "text": [
      "Epoch 1/4\n",
      "1062/1062 [==============================] - 575s 540ms/step - loss: 1.5868 - accuracy: 0.5168 - val_loss: 0.8591 - val_accuracy: 0.7410 - lr: 0.0010\n",
      "Epoch 2/4\n",
      "1062/1062 [==============================] - 557s 525ms/step - loss: 0.6421 - accuracy: 0.8079 - val_loss: 0.7378 - val_accuracy: 0.7836 - lr: 0.0010\n",
      "Epoch 3/4\n",
      "1062/1062 [==============================] - 574s 540ms/step - loss: 0.3536 - accuracy: 0.8925 - val_loss: 0.7914 - val_accuracy: 0.7845 - lr: 0.0010\n",
      "Epoch 4/4\n",
      "1062/1062 [==============================] - ETA: 0s - loss: 0.2053 - accuracy: 0.9376\n",
      "Epoch 4: ReduceLROnPlateau reducing learning rate to 0.00010000000474974513.\n",
      "Restoring model weights from the end of the best epoch: 2.\n",
      "1062/1062 [==============================] - 575s 542ms/step - loss: 0.2053 - accuracy: 0.9376 - val_loss: 0.8983 - val_accuracy: 0.7807 - lr: 0.0010\n",
      "Epoch 4: early stopping\n",
      "133/133 [==============================] - 16s 123ms/step - loss: 0.7378 - accuracy: 0.7836\n"
     ]
    }
   ],
   "source": [
    "scores_num_words_3=[]\n",
    "maxlen = 300\n",
    "\n",
    "for num_words in np.arange(100000,200000,15000):\n",
    "    X_train, X_test, y_train, y_test = preprocess_texte(df=df,maxlen=maxlen,num_words=num_words,embedding_dim = 200)\n",
    "    model_entraine = train_model(X_train, X_test,y_train,y_test,num_words=num_words,embedding_dim = 200)\n",
    "    score = model_entraine.evaluate(X_test, y_test, batch_size=128)\n",
    "    scores_num_words_3.append(score)  \n"
   ]
  },
  {
   "cell_type": "code",
   "execution_count": 35,
   "id": "3b389777",
   "metadata": {},
   "outputs": [
    {
     "data": {
      "image/png": "[encoded data removed]",
      "text/plain": [
       "<Figure size 640x480 with 1 Axes>"
      ]
     },
     "metadata": {},
     "output_type": "display_data"
    },
    {
     "name": "stdout",
     "output_type": "stream",
     "text": [
      "0.7853273749351501\n"
     ]
    }
   ],
   "source": [
    "scores_num_words_3 = list(np.array(scores_num_words_3)[:,1])\n",
    "\n",
    "import matplotlib.pyplot as plt\n",
    "plt.plot(np.arange(100000,200000,15000),scores_num_words_3)\n",
    "plt.show()\n",
    "\n",
    "print(max(scores_num_words_2))"
   ]
  },
  {
   "cell_type": "code",
   "execution_count": null,
   "id": "e98908fd",
   "metadata": {},
   "outputs": [
    {
     "data": {
      "application/vnd.jupyter.widget-view+json": {
       "model_id": "5291c3fdb1ed4497861754319999ab39",
       "version_major": 2,
       "version_minor": 0
      },
      "text/plain": [
       "Pandas Apply:   0%|          | 0/84916 [00:00<?, ?it/s]"
      ]
     },
     "metadata": {},
     "output_type": "display_data"
    },
    {
     "data": {
      "application/vnd.jupyter.widget-view+json": {
       "model_id": "186be3092c4f40e2bbf7a64ffbba08ce",
       "version_major": 2,
       "version_minor": 0
      },
      "text/plain": [
       "Pandas Apply:   0%|          | 0/84916 [00:00<?, ?it/s]"
      ]
     },
     "metadata": {},
     "output_type": "display_data"
    },
    {
     "name": "stdout",
     "output_type": "stream",
     "text": [
      "Epoch 1/4\n",
      "1062/1062 [==============================] - 462s 434ms/step - loss: 1.6575 - accuracy: 0.4863 - val_loss: 0.9326 - val_accuracy: 0.7206 - lr: 0.0010\n",
      "Epoch 2/4\n",
      "1062/1062 [==============================] - 456s 429ms/step - loss: 0.7074 - accuracy: 0.7867 - val_loss: 0.7411 - val_accuracy: 0.7810 - lr: 0.0010\n",
      "Epoch 3/4\n",
      "1062/1062 [==============================] - 463s 436ms/step - loss: 0.4075 - accuracy: 0.8762 - val_loss: 0.7630 - val_accuracy: 0.7846 - lr: 0.0010\n",
      "Epoch 4/4\n",
      "1062/1062 [==============================] - ETA: 0s - loss: 0.2481 - accuracy: 0.9257\n",
      "Epoch 4: ReduceLROnPlateau reducing learning rate to 0.00010000000474974513.\n",
      "Restoring model weights from the end of the best epoch: 2.\n",
      "1062/1062 [==============================] - 458s 432ms/step - loss: 0.2481 - accuracy: 0.9257 - val_loss: 0.9057 - val_accuracy: 0.7808 - lr: 0.0010\n",
      "Epoch 4: early stopping\n",
      "133/133 [==============================] - 19s 143ms/step - loss: 0.7411 - accuracy: 0.7810\n"
     ]
    },
    {
     "data": {
      "application/vnd.jupyter.widget-view+json": {
       "model_id": "37b7548b6c4a405e9279c59a3a342427",
       "version_major": 2,
       "version_minor": 0
      },
      "text/plain": [
       "Pandas Apply:   0%|          | 0/84916 [00:00<?, ?it/s]"
      ]
     },
     "metadata": {},
     "output_type": "display_data"
    },
    {
     "data": {
      "application/vnd.jupyter.widget-view+json": {
       "model_id": "22281c27b02a4003a5d4f1114f825062",
       "version_major": 2,
       "version_minor": 0
      },
      "text/plain": [
       "Pandas Apply:   0%|          | 0/84916 [00:00<?, ?it/s]"
      ]
     },
     "metadata": {},
     "output_type": "display_data"
    },
    {
     "name": "stdout",
     "output_type": "stream",
     "text": [
      "Epoch 1/4\n",
      "1062/1062 [==============================] - 429s 402ms/step - loss: 1.7035 - accuracy: 0.4798 - val_loss: 0.9477 - val_accuracy: 0.7171 - lr: 0.0010\n",
      "Epoch 2/4\n",
      "1062/1062 [==============================] - 425s 400ms/step - loss: 0.7201 - accuracy: 0.7854 - val_loss: 0.7562 - val_accuracy: 0.7793 - lr: 0.0010\n",
      "Epoch 3/4\n",
      "1062/1062 [==============================] - 424s 399ms/step - loss: 0.4143 - accuracy: 0.8765 - val_loss: 0.7833 - val_accuracy: 0.7831 - lr: 0.0010\n",
      "Epoch 4/4\n",
      "1062/1062 [==============================] - ETA: 0s - loss: 0.2488 - accuracy: 0.9256\n",
      "Epoch 4: ReduceLROnPlateau reducing learning rate to 0.00010000000474974513.\n",
      "Restoring model weights from the end of the best epoch: 2.\n",
      "1062/1062 [==============================] - 423s 398ms/step - loss: 0.2488 - accuracy: 0.9256 - val_loss: 0.8850 - val_accuracy: 0.7820 - lr: 0.0010\n",
      "Epoch 4: early stopping\n",
      "133/133 [==============================] - 17s 125ms/step - loss: 0.7562 - accuracy: 0.7793\n"
     ]
    },
    {
     "data": {
      "application/vnd.jupyter.widget-view+json": {
       "model_id": "8d743ea430bf42d093dfe46e45378fe5",
       "version_major": 2,
       "version_minor": 0
      },
      "text/plain": [
       "Pandas Apply:   0%|          | 0/84916 [00:00<?, ?it/s]"
      ]
     },
     "metadata": {},
     "output_type": "display_data"
    },
    {
     "data": {
      "application/vnd.jupyter.widget-view+json": {
       "model_id": "016e446a1d1843d6a80425b1cd25187b",
       "version_major": 2,
       "version_minor": 0
      },
      "text/plain": [
       "Pandas Apply:   0%|          | 0/84916 [00:00<?, ?it/s]"
      ]
     },
     "metadata": {},
     "output_type": "display_data"
    },
    {
     "name": "stdout",
     "output_type": "stream",
     "text": [
      "Epoch 1/4\n",
      "1062/1062 [==============================] - 449s 421ms/step - loss: 1.6364 - accuracy: 0.5007 - val_loss: 0.9298 - val_accuracy: 0.7191 - lr: 0.0010\n",
      "Epoch 2/4\n",
      "1062/1062 [==============================] - 447s 421ms/step - loss: 0.6859 - accuracy: 0.7930 - val_loss: 0.7153 - val_accuracy: 0.7882 - lr: 0.0010\n",
      "Epoch 3/4\n",
      "1062/1062 [==============================] - 450s 423ms/step - loss: 0.3840 - accuracy: 0.8844 - val_loss: 0.7739 - val_accuracy: 0.7865 - lr: 0.0010\n",
      "Epoch 4/4\n",
      "1062/1062 [==============================] - ETA: 0s - loss: 0.2317 - accuracy: 0.9308\n",
      "Epoch 4: ReduceLROnPlateau reducing learning rate to 0.00010000000474974513.\n",
      "Restoring model weights from the end of the best epoch: 2.\n",
      "1062/1062 [==============================] - 455s 428ms/step - loss: 0.2317 - accuracy: 0.9308 - val_loss: 0.8845 - val_accuracy: 0.7836 - lr: 0.0010\n",
      "Epoch 4: early stopping\n",
      "133/133 [==============================] - 19s 143ms/step - loss: 0.7153 - accuracy: 0.7882\n"
     ]
    },
    {
     "data": {
      "application/vnd.jupyter.widget-view+json": {
       "model_id": "66b6c2dc186c443db241cd00fc7ce3ac",
       "version_major": 2,
       "version_minor": 0
      },
      "text/plain": [
       "Pandas Apply:   0%|          | 0/84916 [00:00<?, ?it/s]"
      ]
     },
     "metadata": {},
     "output_type": "display_data"
    },
    {
     "data": {
      "application/vnd.jupyter.widget-view+json": {
       "model_id": "3c762451398548a99712794eff0e277e",
       "version_major": 2,
       "version_minor": 0
      },
      "text/plain": [
       "Pandas Apply:   0%|          | 0/84916 [00:00<?, ?it/s]"
      ]
     },
     "metadata": {},
     "output_type": "display_data"
    },
    {
     "name": "stdout",
     "output_type": "stream",
     "text": [
      "Epoch 1/4\n",
      "1062/1062 [==============================] - 433s 406ms/step - loss: 1.6552 - accuracy: 0.4915 - val_loss: 0.9508 - val_accuracy: 0.7173 - lr: 0.0010\n",
      "Epoch 2/4\n",
      "1062/1062 [==============================] - 433s 407ms/step - loss: 0.7255 - accuracy: 0.7843 - val_loss: 0.7459 - val_accuracy: 0.7789 - lr: 0.0010\n",
      "Epoch 3/4\n",
      "1062/1062 [==============================] - 433s 407ms/step - loss: 0.4202 - accuracy: 0.8741 - val_loss: 0.7722 - val_accuracy: 0.7829 - lr: 0.0010\n",
      "Epoch 4/4\n",
      "1062/1062 [==============================] - ETA: 0s - loss: 0.2545 - accuracy: 0.9236\n",
      "Epoch 4: ReduceLROnPlateau reducing learning rate to 0.00010000000474974513.\n",
      "Restoring model weights from the end of the best epoch: 2.\n",
      "1062/1062 [==============================] - 432s 407ms/step - loss: 0.2545 - accuracy: 0.9236 - val_loss: 0.8450 - val_accuracy: 0.7872 - lr: 0.0010\n",
      "Epoch 4: early stopping\n",
      "133/133 [==============================] - 19s 141ms/step - loss: 0.7459 - accuracy: 0.7789\n"
     ]
    },
    {
     "data": {
      "application/vnd.jupyter.widget-view+json": {
       "model_id": "943c8dfb39b2474bb746e37b24a39fc7",
       "version_major": 2,
       "version_minor": 0
      },
      "text/plain": [
       "Pandas Apply:   0%|          | 0/84916 [00:00<?, ?it/s]"
      ]
     },
     "metadata": {},
     "output_type": "display_data"
    },
    {
     "data": {
      "application/vnd.jupyter.widget-view+json": {
       "model_id": "f357b81ba79145fda86977a6cd3a35c7",
       "version_major": 2,
       "version_minor": 0
      },
      "text/plain": [
       "Pandas Apply:   0%|          | 0/84916 [00:00<?, ?it/s]"
      ]
     },
     "metadata": {},
     "output_type": "display_data"
    },
    {
     "name": "stdout",
     "output_type": "stream",
     "text": [
      "Epoch 1/4\n",
      "1062/1062 [==============================] - 454s 426ms/step - loss: 1.6205 - accuracy: 0.5002 - val_loss: 0.9094 - val_accuracy: 0.7198 - lr: 0.0010\n",
      "Epoch 2/4\n",
      "1062/1062 [==============================] - 460s 433ms/step - loss: 0.6786 - accuracy: 0.7940 - val_loss: 0.7105 - val_accuracy: 0.7884 - lr: 0.0010\n",
      "Epoch 3/4\n",
      "1062/1062 [==============================] - 465s 438ms/step - loss: 0.3774 - accuracy: 0.8840 - val_loss: 0.7682 - val_accuracy: 0.7867 - lr: 0.0010\n",
      "Epoch 4/4\n",
      "1062/1062 [==============================] - ETA: 0s - loss: 0.2234 - accuracy: 0.9319\n",
      "Epoch 4: ReduceLROnPlateau reducing learning rate to 0.00010000000474974513.\n",
      "Restoring model weights from the end of the best epoch: 2.\n",
      "1062/1062 [==============================] - 463s 436ms/step - loss: 0.2234 - accuracy: 0.9319 - val_loss: 0.9110 - val_accuracy: 0.7819 - lr: 0.0010\n",
      "Epoch 4: early stopping\n",
      "133/133 [==============================] - 19s 141ms/step - loss: 0.7105 - accuracy: 0.7884\n"
     ]
    },
    {
     "data": {
      "application/vnd.jupyter.widget-view+json": {
       "model_id": "b9dfaf59572d46e2ad9c2d888769b7f3",
       "version_major": 2,
       "version_minor": 0
      },
      "text/plain": [
       "Pandas Apply:   0%|          | 0/84916 [00:00<?, ?it/s]"
      ]
     },
     "metadata": {},
     "output_type": "display_data"
    },
    {
     "data": {
      "application/vnd.jupyter.widget-view+json": {
       "model_id": "37141e7403e544e1abb1d46048a4369f",
       "version_major": 2,
       "version_minor": 0
      },
      "text/plain": [
       "Pandas Apply:   0%|          | 0/84916 [00:00<?, ?it/s]"
      ]
     },
     "metadata": {},
     "output_type": "display_data"
    },
    {
     "name": "stdout",
     "output_type": "stream",
     "text": [
      "Epoch 1/4\n",
      "1062/1062 [==============================] - 449s 421ms/step - loss: 1.6344 - accuracy: 0.4978 - val_loss: 0.9422 - val_accuracy: 0.7126 - lr: 0.0010\n",
      "Epoch 2/4\n",
      " 572/1062 [===============>..............] - ETA: 3:07 - loss: 0.7478 - accuracy: 0.7755"
     ]
    }
   ],
   "source": [
    "#Application\n",
    "scores_embedding_dim=[]\n",
    "maxlen = 300\n",
    "num_words= 100000\n",
    "\n",
    "for embedding_dim in np.arange(50,800,100):\n",
    "    X_train, X_test, y_train, y_test = preprocess_texte(df=df,maxlen=maxlen,num_words=num_words,embedding_dim = 200)\n",
    "    model_entraine = train_model(X_train, X_test,y_train,y_test,num_words=num_words,embedding_dim = 200)\n",
    "    score = model_entraine.evaluate(X_test, y_test, batch_size=128)\n",
    "    scores_embedding_dim.append(score) \n"
   ]
  },
  {
   "cell_type": "code",
   "execution_count": null,
   "id": "79c9eb52",
   "metadata": {},
   "outputs": [],
   "source": []
  },
  {
   "cell_type": "markdown",
   "id": "4aa1eb71",
   "metadata": {},
   "source": [
    "# Travail à l'aide du texte traduit intégralement en EN"
   ]
  },
  {
   "cell_type": "code",
   "execution_count": 64,
   "id": "9d0280ab",
   "metadata": {},
   "outputs": [
    {
     "data": {
      "text/html": [
       "<div>\n",
       "<style scoped>\n",
       "    .dataframe tbody tr th:only-of-type {\n",
       "        vertical-align: middle;\n",
       "    }\n",
       "\n",
       "    .dataframe tbody tr th {\n",
       "        vertical-align: top;\n",
       "    }\n",
       "\n",
       "    .dataframe thead th {\n",
       "        text-align: right;\n",
       "    }\n",
       "</style>\n",
       "<table border=\"1\" class=\"dataframe\">\n",
       "  <thead>\n",
       "    <tr style=\"text-align: right;\">\n",
       "      <th></th>\n",
       "      <th>prdtypecode</th>\n",
       "      <th>texte_traduit_en</th>\n",
       "    </tr>\n",
       "  </thead>\n",
       "  <tbody>\n",
       "    <tr>\n",
       "      <th>0</th>\n",
       "      <td>10</td>\n",
       "      <td>Olivia: Personalized Notebook / 150 Pages / Do...</td>\n",
       "    </tr>\n",
       "    <tr>\n",
       "      <th>1</th>\n",
       "      <td>2280</td>\n",
       "      <td>Journal Des Arts (Le) N° 133 Of 09/28/2001 - A...</td>\n",
       "    </tr>\n",
       "    <tr>\n",
       "      <th>2</th>\n",
       "      <td>50</td>\n",
       "      <td>Large Blue Ergonomic Stylus Gamepad Nintendo W...</td>\n",
       "    </tr>\n",
       "    <tr>\n",
       "      <th>3</th>\n",
       "      <td>1280</td>\n",
       "      <td>Donald Plush - Europe - Disneyland 2000 (Finge...</td>\n",
       "    </tr>\n",
       "    <tr>\n",
       "      <th>4</th>\n",
       "      <td>2705</td>\n",
       "      <td>The War of the Tuques Luc has ideas of grandeu...</td>\n",
       "    </tr>\n",
       "  </tbody>\n",
       "</table>\n",
       "</div>"
      ],
      "text/plain": [
       "   prdtypecode                                   texte_traduit_en\n",
       "0           10  Olivia: Personalized Notebook / 150 Pages / Do...\n",
       "1         2280  Journal Des Arts (Le) N° 133 Of 09/28/2001 - A...\n",
       "2           50  Large Blue Ergonomic Stylus Gamepad Nintendo W...\n",
       "3         1280  Donald Plush - Europe - Disneyland 2000 (Finge...\n",
       "4         2705  The War of the Tuques Luc has ideas of grandeu..."
      ]
     },
     "execution_count": 64,
     "metadata": {},
     "output_type": "execute_result"
    }
   ],
   "source": [
    "df_EN = load('df_texte_traduit_en.joblib')\n",
    "df_EN.head()"
   ]
  },
  {
   "cell_type": "markdown",
   "id": "8fa08514",
   "metadata": {},
   "source": [
    "### Sur 4 epochs"
   ]
  },
  {
   "cell_type": "code",
   "execution_count": 65,
   "id": "1e2cc50d",
   "metadata": {},
   "outputs": [
    {
     "data": {
      "application/vnd.jupyter.widget-view+json": {
       "model_id": "cb86cd9d65294e468b60af70fb785908",
       "version_major": 2,
       "version_minor": 0
      },
      "text/plain": [
       "Pandas Apply:   0%|          | 0/84916 [00:00<?, ?it/s]"
      ]
     },
     "metadata": {},
     "output_type": "display_data"
    },
    {
     "data": {
      "application/vnd.jupyter.widget-view+json": {
       "model_id": "39ef736ff87f4247aab91764d24ceb6a",
       "version_major": 2,
       "version_minor": 0
      },
      "text/plain": [
       "Pandas Apply:   0%|          | 0/84916 [00:00<?, ?it/s]"
      ]
     },
     "metadata": {},
     "output_type": "display_data"
    }
   ],
   "source": [
    "X_train, X_test, y_train, y_test = preprocess_texte(df,maxlen=500,num_words=10000,embedding_dim = 250,langue='EN')"
   ]
  },
  {
   "cell_type": "code",
   "execution_count": 67,
   "id": "75cf12b6",
   "metadata": {},
   "outputs": [
    {
     "name": "stdout",
     "output_type": "stream",
     "text": [
      "Epoch 1/4\n",
      "1062/1062 [==============================] - 768s 722ms/step - loss: 1.7019 - accuracy: 0.4832 - val_loss: 0.9621 - val_accuracy: 0.7068 - lr: 0.0010\n",
      "Epoch 2/4\n",
      "1062/1062 [==============================] - 746s 703ms/step - loss: 0.7985 - accuracy: 0.7598 - val_loss: 0.7777 - val_accuracy: 0.7683 - lr: 0.0010\n",
      "Epoch 3/4\n",
      "1062/1062 [==============================] - 749s 705ms/step - loss: 0.6084 - accuracy: 0.8130 - val_loss: 0.7596 - val_accuracy: 0.7799 - lr: 0.0010\n",
      "Epoch 4/4\n",
      "1062/1062 [==============================] - 746s 703ms/step - loss: 0.4970 - accuracy: 0.8458 - val_loss: 0.7735 - val_accuracy: 0.7812 - lr: 0.0010\n",
      "[0.7914506793022156, 0.7714908123016357]\n"
     ]
    }
   ],
   "source": [
    "model_entraine = train_model(X_train, X_test,y_train,y_test,num_words=10000,embedding_dim = 250)"
   ]
  },
  {
   "cell_type": "code",
   "execution_count": 68,
   "id": "ee4bb1b4",
   "metadata": {},
   "outputs": [
    {
     "name": "stdout",
     "output_type": "stream",
     "text": [
      "133/133 [==============================] - 38s 287ms/step - loss: 0.7735 - accuracy: 0.7812\n",
      "[0.7734773755073547, 0.7812058329582214]\n"
     ]
    }
   ],
   "source": [
    "score = model_entraine.evaluate(X_test, y_test, batch_size=128)\n",
    "print(score)\n"
   ]
  },
  {
   "cell_type": "markdown",
   "id": "f0edcd8c",
   "metadata": {},
   "source": [
    "### Sur 6 epochs"
   ]
  },
  {
   "cell_type": "code",
   "execution_count": 72,
   "id": "5973493f",
   "metadata": {},
   "outputs": [
    {
     "data": {
      "application/vnd.jupyter.widget-view+json": {
       "model_id": "635180002ca84c2283a38e0680a31ad9",
       "version_major": 2,
       "version_minor": 0
      },
      "text/plain": [
       "Pandas Apply:   0%|          | 0/84916 [00:00<?, ?it/s]"
      ]
     },
     "metadata": {},
     "output_type": "display_data"
    },
    {
     "data": {
      "application/vnd.jupyter.widget-view+json": {
       "model_id": "d9aa7b8731d54112ac7e320c8a801155",
       "version_major": 2,
       "version_minor": 0
      },
      "text/plain": [
       "Pandas Apply:   0%|          | 0/84916 [00:00<?, ?it/s]"
      ]
     },
     "metadata": {},
     "output_type": "display_data"
    }
   ],
   "source": [
    "X_train, X_test, y_train, y_test = preprocess_texte(df,maxlen=500,num_words=10000,embedding_dim = 250,langue='EN')"
   ]
  },
  {
   "cell_type": "code",
   "execution_count": null,
   "id": "ba85c589",
   "metadata": {},
   "outputs": [
    {
     "name": "stdout",
     "output_type": "stream",
     "text": [
      "Epoch 1/6\n",
      " 406/1062 [==========>...................] - ETA: 7:26 - loss: 2.4028 - accuracy: 0.2737"
     ]
    }
   ],
   "source": [
    "model_entraine = train_model(X_train, X_test,y_train,y_test,num_words=10000,embedding_dim = 250)"
   ]
  },
  {
   "cell_type": "code",
   "execution_count": null,
   "id": "775bb8ad",
   "metadata": {},
   "outputs": [],
   "source": []
  },
  {
   "cell_type": "markdown",
   "id": "bb86b39d",
   "metadata": {},
   "source": [
    "# Test d'un autre modèle"
   ]
  },
  {
   "cell_type": "code",
   "execution_count": 71,
   "id": "ecb8481a",
   "metadata": {},
   "outputs": [
    {
     "data": {
      "application/vnd.jupyter.widget-view+json": {
       "model_id": "af76fc2a7fdf4eb4b564baf0870a9e2c",
       "version_major": 2,
       "version_minor": 0
      },
      "text/plain": [
       "Pandas Apply:   0%|          | 0/84916 [00:00<?, ?it/s]"
      ]
     },
     "metadata": {},
     "output_type": "display_data"
    },
    {
     "name": "stderr",
     "output_type": "stream",
     "text": [
      "C:\\Users\\Frederic\\AppData\\Local\\Temp\\ipykernel_6596\\3695007898.py:11: MarkupResemblesLocatorWarning: The input looks more like a filename than markup. You may want to open this file and pass the filehandle into Beautiful Soup.\n",
      "  soup = BeautifulSoup(text, 'html.parser')\n"
     ]
    },
    {
     "data": {
      "application/vnd.jupyter.widget-view+json": {
       "model_id": "3fc815470f9a427cb024fa64cfd16d2d",
       "version_major": 2,
       "version_minor": 0
      },
      "text/plain": [
       "Pandas Apply:   0%|          | 0/84916 [00:00<?, ?it/s]"
      ]
     },
     "metadata": {},
     "output_type": "display_data"
    },
    {
     "name": "stdout",
     "output_type": "stream",
     "text": [
      "Epoch 1/5\n",
      "1062/1062 [==============================] - 789s 741ms/step - loss: 2.0807 - accuracy: 0.3583 - val_loss: 1.3608 - val_accuracy: 0.5626 - lr: 0.0010\n",
      "Epoch 2/5\n",
      "1062/1062 [==============================] - 785s 739ms/step - loss: 1.2127 - accuracy: 0.6263 - val_loss: 1.0001 - val_accuracy: 0.6952 - lr: 0.0010\n",
      "Epoch 3/5\n",
      "1062/1062 [==============================] - 771s 726ms/step - loss: 0.9247 - accuracy: 0.7234 - val_loss: 0.9038 - val_accuracy: 0.7351 - lr: 0.0010\n",
      "Epoch 4/5\n",
      "1062/1062 [==============================] - 769s 724ms/step - loss: 0.7818 - accuracy: 0.7695 - val_loss: 0.8842 - val_accuracy: 0.7488 - lr: 0.0010\n",
      "Epoch 5/5\n",
      "1062/1062 [==============================] - 772s 727ms/step - loss: 0.6748 - accuracy: 0.7993 - val_loss: 0.9191 - val_accuracy: 0.7555 - lr: 0.0010\n"
     ]
    }
   ],
   "source": [
    "df_FR = load('df_texte_traduit_fr.joblib')\n",
    "\n",
    "X_train, X_test, y_train, y_test = preprocess_texte(df_FR,maxlen=500,num_words=10000,embedding_dim = 250)\n",
    "\n",
    "num_words=10000\n",
    "embedding_dim=250\n",
    "\n",
    "model = Sequential()\n",
    "model.add(Embedding(num_words, embedding_dim))\n",
    "model.add(RNN(GRUCell(128), return_sequences=True))\n",
    "model.add(Dropout(0.3))\n",
    "model.add(GlobalAveragePooling1D())\n",
    "model.add(Dense(256, activation='relu'))     \n",
    "model.add(Dropout(0.3))\n",
    "model.add(Dense(128, activation='relu'))     \n",
    "model.add(Dropout(0.3))\n",
    "model.add(Dense(56, activation='relu'))     \n",
    "model.add(Dropout(0.3))\n",
    "model.add(Dense(27, activation='softmax'))\n",
    "\n",
    "model.compile(optimizer='adam',\n",
    "                  loss='sparse_categorical_crossentropy',\n",
    "                  metrics=['accuracy'])\n",
    "\n",
    "history = model.fit(X_train, y_train,\n",
    "    batch_size = 64,\n",
    "    epochs=5,\n",
    "    callbacks=[[reduce_learning_rate, early_stopping]],\n",
    "    validation_data = [X_test, y_test])"
   ]
  },
  {
   "cell_type": "code",
   "execution_count": null,
   "id": "0afe340e",
   "metadata": {},
   "outputs": [],
   "source": []
  }
 ],
 "metadata": {
  "kernelspec": {
   "display_name": "Python 3 (ipykernel)",
   "language": "python",
   "name": "python3"
  },
  "language_info": {
   "codemirror_mode": {
    "name": "ipython",
    "version": 3
   },
   "file_extension": ".py",
   "mimetype": "text/x-python",
   "name": "python",
   "nbconvert_exporter": "python",
   "pygments_lexer": "ipython3",
   "version": "3.11.5"
  }
 },
 "nbformat": 4,
 "nbformat_minor": 5
}
