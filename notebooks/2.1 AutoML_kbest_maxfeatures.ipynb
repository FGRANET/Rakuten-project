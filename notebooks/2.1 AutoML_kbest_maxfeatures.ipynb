{
 "cells": [
  {
   "cell_type": "code",
   "execution_count": 1,
   "id": "67ee34db",
   "metadata": {},
   "outputs": [],
   "source": [
    "#transformation du texte sous forme de liste en string\n",
    "def jonction(liste):\n",
    "  result = \"\"\n",
    "  for token in liste:\n",
    "    result = result + token + \" \"\n",
    "  return result\n",
    "\n",
    "from sklearn.feature_extraction.text import CountVectorizer\n",
    "from sklearn.preprocessing import StandardScaler\n",
    "from joblib import load,dump\n",
    "import numpy as np\n",
    "import pandas as pd\n",
    "from sklearn.model_selection import train_test_split\n",
    "\n",
    "def fonction_vectorisation_countvectorizer(joblib,colonne,max_features):\n",
    "  #import du df\n",
    "  df = load(joblib)\n",
    "  #transformation de la future colonne feature en chaine de caractère\n",
    "  df[colonne]=df[colonne].apply(jonction)\n",
    "  #séparation des features et de la cible\n",
    "  data = df[colonne]\n",
    "  target = df[\"prdtypecode\"]\n",
    "  #séparation de train et test\n",
    "  X_train, X_test, y_train, y_test = train_test_split(data, target, test_size=0.2, random_state=42, stratify = target)\n",
    "  #vectorisation selon un nombre max de mots les plus fréquents\n",
    "  vectorizer = CountVectorizer(max_features=max_features)\n",
    "  X_train = vectorizer.fit_transform(X_train).todense()\n",
    "  X_test = vectorizer.transform(X_test).todense()\n",
    "  scaler = StandardScaler().fit(np.asarray(X_train))\n",
    "  X_train = scaler.transform(np.asarray(X_train))\n",
    "  X_test = scaler.transform(np.asarray(X_test))\n",
    "  return X_train, X_test, y_train, y_test,vectorizer,df"
   ]
  },
  {
   "cell_type": "code",
   "execution_count": 3,
   "id": "8b2e6a5d",
   "metadata": {},
   "outputs": [],
   "source": [
    "from sklearn.metrics import accuracy_score\n",
    "from sklearn.metrics import f1_score\n",
    "from sklearn.feature_selection import SelectKBest\n",
    "import time\n",
    "import os\n",
    "from sklearn.ensemble import RandomForestClassifier\n",
    "rdf = RandomForestClassifier(n_jobs = -1,random_state = 23,class_weight=\"balanced\")\n",
    "\n",
    "def recherche_maxfeatures_kbest(joblib_path,colonne_a_vectorise,liste_max_features,liste_kbest):\n",
    "  if os.path.exists(joblib_path):\n",
    "    df_import = load(joblib_path)\n",
    "    print(\"récupération du df existant\")\n",
    "  else:\n",
    "    df_import = pd.DataFrame(columns=[\"Max_features\",\"K_best\", \"Accuracy\", \"F1_weighted\", \"F1_macro\", \"Duree en sec\"])\n",
    "    print(\"création d'un dataframe\") \n",
    "  score = []\n",
    "  for i in liste_max_features:\n",
    "    X_trainf, X_testf, y_trainf, y_testf,vectorizerf,dff = fonction_vectorisation_countvectorizer(r\"C:\\Users\\franc\\AutoML\\df_train_post_trad.joblib\",colonne_a_vectorise,i)\n",
    "    for j in liste_kbest:\n",
    "      X_train, X_test, y_train, y_test,vectorizer,df = X_trainf, X_testf, y_trainf, y_testf,vectorizerf,dff\n",
    "      sel = SelectKBest(k=j)\n",
    "      sel.fit(np.asarray(X_train),y_train)\n",
    "      X_train = sel.transform(np.asarray(X_train))\n",
    "      X_test = sel.transform(np.asarray(X_test))\n",
    "      debut = time.time()\n",
    "      rdf.fit(np.asarray(X_train),y_train)\n",
    "      y_pred = rdf.predict(np.asarray(X_test))\n",
    "      accuracy = accuracy_score(y_test, y_pred)\n",
    "      f1_weighted = f1_score(y_test, y_pred, average='weighted')\n",
    "      f1_macro = f1_score(y_test, y_pred, average='macro')\n",
    "      fin = time.time()\n",
    "      duree = fin - debut\n",
    "      model_scores = {\n",
    "            \"Max_features\": f\"{i}\",\n",
    "            \"K_best\":f\"{j}\",\n",
    "            \"Accuracy\": accuracy,\n",
    "            \"F1_weighted\": f1_weighted,\n",
    "            \"F1_macro\": f1_macro,\n",
    "            \"Duree en sec\": duree\n",
    "        }\n",
    "      score.append(model_scores)\n",
    "  df_score = pd.DataFrame(score)\n",
    "  df = pd.concat([df_import, df_score], ignore_index=True)\n",
    "  return df"
   ]
  },
  {
   "cell_type": "code",
   "execution_count": 27,
   "id": "4f6b4931",
   "metadata": {},
   "outputs": [
    {
     "name": "stdout",
     "output_type": "stream",
     "text": [
      "récupération du df existant\n"
     ]
    },
    {
     "data": {
      "text/plain": [
       "['C:\\\\Users\\\\franc\\\\AutoML\\\\df_maxfeatures_kbest.joblib']"
      ]
     },
     "execution_count": 27,
     "metadata": {},
     "output_type": "execute_result"
    }
   ],
   "source": [
    "joblib_path = r\"C:\\Users\\franc\\AutoML\\df_maxfeatures_kbest.joblib\"\n",
    "\n",
    "colonne_a_vectorise = \"mots_stem_sans_chiffres\"\n",
    "liste_max_features =[9000]\n",
    "liste_kbest = [1000,2000,3000,4000,5000,6000,7000]\n",
    "\n",
    "df_maxfeatures_kbest = recherche_maxfeatures_kbest(joblib_path,colonne_a_vectorise,liste_max_features,liste_kbest)\n",
    "dump(df_maxfeatures_kbest,r\"C:\\Users\\franc\\AutoML\\df_maxfeatures_kbest.joblib\")"
   ]
  },
  {
   "cell_type": "code",
   "execution_count": 2,
   "id": "7c1508e2",
   "metadata": {},
   "outputs": [
    {
     "data": {
      "text/html": [
       "<div>\n",
       "<style scoped>\n",
       "    .dataframe tbody tr th:only-of-type {\n",
       "        vertical-align: middle;\n",
       "    }\n",
       "\n",
       "    .dataframe tbody tr th {\n",
       "        vertical-align: top;\n",
       "    }\n",
       "\n",
       "    .dataframe thead th {\n",
       "        text-align: right;\n",
       "    }\n",
       "</style>\n",
       "<table border=\"1\" class=\"dataframe\">\n",
       "  <thead>\n",
       "    <tr style=\"text-align: right;\">\n",
       "      <th></th>\n",
       "      <th>Max_features</th>\n",
       "      <th>K_best</th>\n",
       "      <th>Accuracy</th>\n",
       "      <th>F1_weighted</th>\n",
       "      <th>F1_macro</th>\n",
       "      <th>Duree en sec</th>\n",
       "    </tr>\n",
       "  </thead>\n",
       "  <tbody>\n",
       "    <tr>\n",
       "      <th>0</th>\n",
       "      <td>1000</td>\n",
       "      <td>100</td>\n",
       "      <td>0.568095</td>\n",
       "      <td>0.596247</td>\n",
       "      <td>0.548110</td>\n",
       "      <td>17.682029</td>\n",
       "    </tr>\n",
       "    <tr>\n",
       "      <th>1</th>\n",
       "      <td>1000</td>\n",
       "      <td>200</td>\n",
       "      <td>0.632138</td>\n",
       "      <td>0.655485</td>\n",
       "      <td>0.613806</td>\n",
       "      <td>31.827176</td>\n",
       "    </tr>\n",
       "    <tr>\n",
       "      <th>2</th>\n",
       "      <td>1000</td>\n",
       "      <td>300</td>\n",
       "      <td>0.671006</td>\n",
       "      <td>0.689518</td>\n",
       "      <td>0.645397</td>\n",
       "      <td>44.603908</td>\n",
       "    </tr>\n",
       "    <tr>\n",
       "      <th>3</th>\n",
       "      <td>1000</td>\n",
       "      <td>400</td>\n",
       "      <td>0.687400</td>\n",
       "      <td>0.702872</td>\n",
       "      <td>0.657954</td>\n",
       "      <td>59.463248</td>\n",
       "    </tr>\n",
       "    <tr>\n",
       "      <th>4</th>\n",
       "      <td>1000</td>\n",
       "      <td>500</td>\n",
       "      <td>0.702689</td>\n",
       "      <td>0.707845</td>\n",
       "      <td>0.663419</td>\n",
       "      <td>66.754567</td>\n",
       "    </tr>\n",
       "    <tr>\n",
       "      <th>...</th>\n",
       "      <td>...</td>\n",
       "      <td>...</td>\n",
       "      <td>...</td>\n",
       "      <td>...</td>\n",
       "      <td>...</td>\n",
       "      <td>...</td>\n",
       "    </tr>\n",
       "    <tr>\n",
       "      <th>151</th>\n",
       "      <td>8000</td>\n",
       "      <td>3000</td>\n",
       "      <td>0.768083</td>\n",
       "      <td>0.768647</td>\n",
       "      <td>0.747172</td>\n",
       "      <td>85.092173</td>\n",
       "    </tr>\n",
       "    <tr>\n",
       "      <th>152</th>\n",
       "      <td>8000</td>\n",
       "      <td>4000</td>\n",
       "      <td>0.771706</td>\n",
       "      <td>0.771942</td>\n",
       "      <td>0.752257</td>\n",
       "      <td>97.973827</td>\n",
       "    </tr>\n",
       "    <tr>\n",
       "      <th>153</th>\n",
       "      <td>8000</td>\n",
       "      <td>5000</td>\n",
       "      <td>0.773978</td>\n",
       "      <td>0.774060</td>\n",
       "      <td>0.754647</td>\n",
       "      <td>111.763977</td>\n",
       "    </tr>\n",
       "    <tr>\n",
       "      <th>154</th>\n",
       "      <td>8000</td>\n",
       "      <td>6000</td>\n",
       "      <td>0.777478</td>\n",
       "      <td>0.776706</td>\n",
       "      <td>0.758492</td>\n",
       "      <td>128.356641</td>\n",
       "    </tr>\n",
       "    <tr>\n",
       "      <th>155</th>\n",
       "      <td>8000</td>\n",
       "      <td>7000</td>\n",
       "      <td>0.776127</td>\n",
       "      <td>0.774843</td>\n",
       "      <td>0.757770</td>\n",
       "      <td>138.071113</td>\n",
       "    </tr>\n",
       "  </tbody>\n",
       "</table>\n",
       "<p>156 rows × 6 columns</p>\n",
       "</div>"
      ],
      "text/plain": [
       "    Max_features K_best  Accuracy  F1_weighted  F1_macro  Duree en sec\n",
       "0           1000    100  0.568095     0.596247  0.548110     17.682029\n",
       "1           1000    200  0.632138     0.655485  0.613806     31.827176\n",
       "2           1000    300  0.671006     0.689518  0.645397     44.603908\n",
       "3           1000    400  0.687400     0.702872  0.657954     59.463248\n",
       "4           1000    500  0.702689     0.707845  0.663419     66.754567\n",
       "..           ...    ...       ...          ...       ...           ...\n",
       "151         8000   3000  0.768083     0.768647  0.747172     85.092173\n",
       "152         8000   4000  0.771706     0.771942  0.752257     97.973827\n",
       "153         8000   5000  0.773978     0.774060  0.754647    111.763977\n",
       "154         8000   6000  0.777478     0.776706  0.758492    128.356641\n",
       "155         8000   7000  0.776127     0.774843  0.757770    138.071113\n",
       "\n",
       "[156 rows x 6 columns]"
      ]
     },
     "execution_count": 2,
     "metadata": {},
     "output_type": "execute_result"
    }
   ],
   "source": [
    "df_maxfeatures_kbest = load(r\"C:\\Users\\franc\\AutoML\\df_maxfeatures_kbest.joblib\")\n",
    "df_maxfeatures_kbest"
   ]
  },
  {
   "cell_type": "code",
   "execution_count": 11,
   "id": "2a559cfa",
   "metadata": {},
   "outputs": [
    {
     "data": {
      "application/vnd.plotly.v1+json": {
       "config": {
        "plotlyServerURL": "https://plot.ly"
       },
       "data": [
        {
         "hovertemplate": "K_best=100<br>F1_weighted=%{x}<br>F1_macro=%{y}<extra></extra>",
         "legendgroup": "100",
         "marker": {
          "color": "#636efa",
          "symbol": "circle"
         },
         "mode": "markers",
         "name": "100",
         "orientation": "v",
         "showlegend": true,
         "type": "scatter",
         "x": [
          0.5962469609620753,
          0.5352185814023753,
          0.5238280061801119,
          0.525611270501051
         ],
         "xaxis": "x",
         "y": [
          0.5481100356378191,
          0.4884555867649365,
          0.47167121907655934,
          0.4728526761069092
         ],
         "yaxis": "y"
        },
        {
         "hovertemplate": "K_best=200<br>F1_weighted=%{x}<br>F1_macro=%{y}<extra></extra>",
         "legendgroup": "200",
         "marker": {
          "color": "#EF553B",
          "symbol": "circle"
         },
         "mode": "markers",
         "name": "200",
         "orientation": "v",
         "showlegend": true,
         "type": "scatter",
         "x": [
          0.6554850328752523,
          0.6606921946188709,
          0.6569325160001384,
          0.6523064991425345
         ],
         "xaxis": "x",
         "y": [
          0.6138056944942349,
          0.6279749593107814,
          0.6256015986298683,
          0.6195978736235448
         ],
         "yaxis": "y"
        },
        {
         "hovertemplate": "K_best=300<br>F1_weighted=%{x}<br>F1_macro=%{y}<extra></extra>",
         "legendgroup": "300",
         "marker": {
          "color": "#00cc96",
          "symbol": "circle"
         },
         "mode": "markers",
         "name": "300",
         "orientation": "v",
         "showlegend": true,
         "type": "scatter",
         "x": [
          0.6895184092902104,
          0.6988621798247919,
          0.6864855394406688,
          0.6831972917186045
         ],
         "xaxis": "x",
         "y": [
          0.6453965169641653,
          0.657282472824771,
          0.6529863599179949,
          0.6491212825301341
         ],
         "yaxis": "y"
        },
        {
         "hovertemplate": "K_best=400<br>F1_weighted=%{x}<br>F1_macro=%{y}<extra></extra>",
         "legendgroup": "400",
         "marker": {
          "color": "#ab63fa",
          "symbol": "circle"
         },
         "mode": "markers",
         "name": "400",
         "orientation": "v",
         "showlegend": true,
         "type": "scatter",
         "x": [
          0.7028721554916166,
          0.7139246694904613,
          0.7117838957859629,
          0.7102907868886922
         ],
         "xaxis": "x",
         "y": [
          0.657954093400985,
          0.6745916800918217,
          0.6756828250314605,
          0.6773739749019562
         ],
         "yaxis": "y"
        },
        {
         "hovertemplate": "K_best=500<br>F1_weighted=%{x}<br>F1_macro=%{y}<extra></extra>",
         "legendgroup": "500",
         "marker": {
          "color": "#FFA15A",
          "symbol": "circle"
         },
         "mode": "markers",
         "name": "500",
         "orientation": "v",
         "showlegend": true,
         "type": "scatter",
         "x": [
          0.7078451173167353,
          0.7224668121905253,
          0.7194290936026743,
          0.7179658099403794
         ],
         "xaxis": "x",
         "y": [
          0.663419348575016,
          0.6853827997701981,
          0.6847266422014812,
          0.6820322052863307
         ],
         "yaxis": "y"
        },
        {
         "hovertemplate": "K_best=600<br>F1_weighted=%{x}<br>F1_macro=%{y}<extra></extra>",
         "legendgroup": "600",
         "marker": {
          "color": "#19d3f3",
          "symbol": "circle"
         },
         "mode": "markers",
         "name": "600",
         "orientation": "v",
         "showlegend": true,
         "type": "scatter",
         "x": [
          0.7131708401261743,
          0.7321953675874651,
          0.7322161457667213,
          0.7271387081787213
         ],
         "xaxis": "x",
         "y": [
          0.6692122580686726,
          0.695732276960801,
          0.6993170335355733,
          0.6938327022776162
         ],
         "yaxis": "y"
        },
        {
         "hovertemplate": "K_best=700<br>F1_weighted=%{x}<br>F1_macro=%{y}<extra></extra>",
         "legendgroup": "700",
         "marker": {
          "color": "#FF6692",
          "symbol": "circle"
         },
         "mode": "markers",
         "name": "700",
         "orientation": "v",
         "showlegend": true,
         "type": "scatter",
         "x": [
          0.7223749245792015,
          0.7373840357758104,
          0.7381111592724043,
          0.7373464737786196
         ],
         "xaxis": "x",
         "y": [
          0.6804555059518306,
          0.7015967431223485,
          0.704504690532826,
          0.7043432821488119
         ],
         "yaxis": "y"
        },
        {
         "hovertemplate": "K_best=800<br>F1_weighted=%{x}<br>F1_macro=%{y}<extra></extra>",
         "legendgroup": "800",
         "marker": {
          "color": "#B6E880",
          "symbol": "circle"
         },
         "mode": "markers",
         "name": "800",
         "orientation": "v",
         "showlegend": true,
         "type": "scatter",
         "x": [
          0.7235002915791994,
          0.7426751800483861,
          0.7390581604462085,
          0.7439159360939066
         ],
         "xaxis": "x",
         "y": [
          0.6813562227386113,
          0.7071532843995544,
          0.7049599474842352,
          0.7117594521159082
         ],
         "yaxis": "y"
        },
        {
         "hovertemplate": "K_best=900<br>F1_weighted=%{x}<br>F1_macro=%{y}<extra></extra>",
         "legendgroup": "900",
         "marker": {
          "color": "#FF97FF",
          "symbol": "circle"
         },
         "mode": "markers",
         "name": "900",
         "orientation": "v",
         "showlegend": true,
         "type": "scatter",
         "x": [
          0.7283435302495623,
          0.7479289675803168,
          0.7452513908176995,
          0.7441329028444449,
          0.7403591830513436,
          0.7415826888271047,
          0.7427891330727175,
          0.7444950653447898,
          0.7433948269373322,
          0.7426839756929168
         ],
         "xaxis": "x",
         "y": [
          0.6875864521587155,
          0.7126894676725576,
          0.7130074450477083,
          0.7134862584793432,
          0.7076899554596394,
          0.7108089966599763,
          0.7125008604501987,
          0.715823821490382,
          0.7148260102052577,
          0.7145764834817275
         ],
         "yaxis": "y"
        },
        {
         "hovertemplate": "K_best=1000<br>F1_weighted=%{x}<br>F1_macro=%{y}<extra></extra>",
         "legendgroup": "1000",
         "marker": {
          "color": "#FECB52",
          "symbol": "circle"
         },
         "mode": "markers",
         "name": "1000",
         "orientation": "v",
         "showlegend": true,
         "type": "scatter",
         "x": [
          0.751925163608734,
          0.7478690921898202,
          0.7469534161983458,
          0.7462053090615149,
          0.7479953418054673
         ],
         "xaxis": "x",
         "y": [
          0.7174764658837728,
          0.7153309935095911,
          0.715566590599231,
          0.7173647845558294,
          0.7208063617642092
         ],
         "yaxis": "y"
        },
        {
         "hovertemplate": "K_best=1100<br>F1_weighted=%{x}<br>F1_macro=%{y}<extra></extra>",
         "legendgroup": "1100",
         "marker": {
          "color": "#636efa",
          "symbol": "circle"
         },
         "mode": "markers",
         "name": "1100",
         "orientation": "v",
         "showlegend": true,
         "type": "scatter",
         "x": [
          0.7494034666904686,
          0.7530723958097819,
          0.7518660652728655
         ],
         "xaxis": "x",
         "y": [
          0.7164002196896462,
          0.7205329344400853,
          0.7218048462644222
         ],
         "yaxis": "y"
        },
        {
         "hovertemplate": "K_best=1200<br>F1_weighted=%{x}<br>F1_macro=%{y}<extra></extra>",
         "legendgroup": "1200",
         "marker": {
          "color": "#EF553B",
          "symbol": "circle"
         },
         "mode": "markers",
         "name": "1200",
         "orientation": "v",
         "showlegend": true,
         "type": "scatter",
         "x": [
          0.7534027000262257,
          0.7557213479099323,
          0.7536216185456777
         ],
         "xaxis": "x",
         "y": [
          0.7215504177943378,
          0.7223414983926517,
          0.7245419516241848
         ],
         "yaxis": "y"
        },
        {
         "hovertemplate": "K_best=1300<br>F1_weighted=%{x}<br>F1_macro=%{y}<extra></extra>",
         "legendgroup": "1300",
         "marker": {
          "color": "#00cc96",
          "symbol": "circle"
         },
         "mode": "markers",
         "name": "1300",
         "orientation": "v",
         "showlegend": true,
         "type": "scatter",
         "x": [
          0.755250350349306,
          0.7558153213409123,
          0.7564115281703409
         ],
         "xaxis": "x",
         "y": [
          0.7232015508508445,
          0.7237364905304295,
          0.7251936328332027
         ],
         "yaxis": "y"
        },
        {
         "hovertemplate": "K_best=1400<br>F1_weighted=%{x}<br>F1_macro=%{y}<extra></extra>",
         "legendgroup": "1400",
         "marker": {
          "color": "#ab63fa",
          "symbol": "circle"
         },
         "mode": "markers",
         "name": "1400",
         "orientation": "v",
         "showlegend": true,
         "type": "scatter",
         "x": [
          0.7574459866124855,
          0.757947609905622,
          0.7579340927467338
         ],
         "xaxis": "x",
         "y": [
          0.724831035627367,
          0.7255773417242163,
          0.7277163712322823
         ],
         "yaxis": "y"
        },
        {
         "hovertemplate": "K_best=1500<br>F1_weighted=%{x}<br>F1_macro=%{y}<extra></extra>",
         "legendgroup": "1500",
         "marker": {
          "color": "#FFA15A",
          "symbol": "circle"
         },
         "mode": "markers",
         "name": "1500",
         "orientation": "v",
         "showlegend": true,
         "type": "scatter",
         "x": [
          0.7571954686119811,
          0.7579167727124819,
          0.7588692661132674
         ],
         "xaxis": "x",
         "y": [
          0.7267847610937466,
          0.7270378093036276,
          0.7297656056892685
         ],
         "yaxis": "y"
        },
        {
         "hovertemplate": "K_best=1600<br>F1_weighted=%{x}<br>F1_macro=%{y}<extra></extra>",
         "legendgroup": "1600",
         "marker": {
          "color": "#19d3f3",
          "symbol": "circle"
         },
         "mode": "markers",
         "name": "1600",
         "orientation": "v",
         "showlegend": true,
         "type": "scatter",
         "x": [
          0.7602097243445072,
          0.7597180208526644,
          0.7589303335690394
         ],
         "xaxis": "x",
         "y": [
          0.7313849979874177,
          0.7293766827889266,
          0.7288997903061971
         ],
         "yaxis": "y"
        },
        {
         "hovertemplate": "K_best=1700<br>F1_weighted=%{x}<br>F1_macro=%{y}<extra></extra>",
         "legendgroup": "1700",
         "marker": {
          "color": "#FF6692",
          "symbol": "circle"
         },
         "mode": "markers",
         "name": "1700",
         "orientation": "v",
         "showlegend": true,
         "type": "scatter",
         "x": [
          0.7594809462843128,
          0.7629375646781996,
          0.7621529074327533
         ],
         "xaxis": "x",
         "y": [
          0.7312316445928088,
          0.7329017884798276,
          0.7339697369479151
         ],
         "yaxis": "y"
        },
        {
         "hovertemplate": "K_best=1800<br>F1_weighted=%{x}<br>F1_macro=%{y}<extra></extra>",
         "legendgroup": "1800",
         "marker": {
          "color": "#B6E880",
          "symbol": "circle"
         },
         "mode": "markers",
         "name": "1800",
         "orientation": "v",
         "showlegend": true,
         "type": "scatter",
         "x": [
          0.7610523749885683,
          0.7630229951233888,
          0.761736295565009
         ],
         "xaxis": "x",
         "y": [
          0.7318585191759778,
          0.7357199647704898,
          0.7341548291494537
         ],
         "yaxis": "y"
        },
        {
         "hovertemplate": "K_best=1900<br>F1_weighted=%{x}<br>F1_macro=%{y}<extra></extra>",
         "legendgroup": "1900",
         "marker": {
          "color": "#FF97FF",
          "symbol": "circle"
         },
         "mode": "markers",
         "name": "1900",
         "orientation": "v",
         "showlegend": true,
         "type": "scatter",
         "x": [
          0.7610865465771358,
          0.7642861287674794,
          0.7641936973945894
         ],
         "xaxis": "x",
         "y": [
          0.7330075412747723,
          0.7379127592007452,
          0.7379876407260878
         ],
         "yaxis": "y"
        },
        {
         "hovertemplate": "K_best=2000<br>F1_weighted=%{x}<br>F1_macro=%{y}<extra></extra>",
         "legendgroup": "2000",
         "marker": {
          "color": "#FECB52",
          "symbol": "circle"
         },
         "mode": "markers",
         "name": "2000",
         "orientation": "v",
         "showlegend": true,
         "type": "scatter",
         "x": [
          0.7646951554146247,
          0.763124913596692,
          0.7631820909220889
         ],
         "xaxis": "x",
         "y": [
          0.7391744777007396,
          0.7387057469151893,
          0.7373448600300826
         ],
         "yaxis": "y"
        },
        {
         "hovertemplate": "K_best=2100<br>F1_weighted=%{x}<br>F1_macro=%{y}<extra></extra>",
         "legendgroup": "2100",
         "marker": {
          "color": "#636efa",
          "symbol": "circle"
         },
         "mode": "markers",
         "name": "2100",
         "orientation": "v",
         "showlegend": true,
         "type": "scatter",
         "x": [
          0.7651300685481591
         ],
         "xaxis": "x",
         "y": [
          0.7401282036435272
         ],
         "yaxis": "y"
        },
        {
         "hovertemplate": "K_best=2200<br>F1_weighted=%{x}<br>F1_macro=%{y}<extra></extra>",
         "legendgroup": "2200",
         "marker": {
          "color": "#EF553B",
          "symbol": "circle"
         },
         "mode": "markers",
         "name": "2200",
         "orientation": "v",
         "showlegend": true,
         "type": "scatter",
         "x": [
          0.7640691046817628
         ],
         "xaxis": "x",
         "y": [
          0.7398347432283758
         ],
         "yaxis": "y"
        },
        {
         "hovertemplate": "K_best=2300<br>F1_weighted=%{x}<br>F1_macro=%{y}<extra></extra>",
         "legendgroup": "2300",
         "marker": {
          "color": "#00cc96",
          "symbol": "circle"
         },
         "mode": "markers",
         "name": "2300",
         "orientation": "v",
         "showlegend": true,
         "type": "scatter",
         "x": [
          0.7634556762950694
         ],
         "xaxis": "x",
         "y": [
          0.7405774156929984
         ],
         "yaxis": "y"
        },
        {
         "hovertemplate": "K_best=2400<br>F1_weighted=%{x}<br>F1_macro=%{y}<extra></extra>",
         "legendgroup": "2400",
         "marker": {
          "color": "#ab63fa",
          "symbol": "circle"
         },
         "mode": "markers",
         "name": "2400",
         "orientation": "v",
         "showlegend": true,
         "type": "scatter",
         "x": [
          0.7666519522438892
         ],
         "xaxis": "x",
         "y": [
          0.7420623443246188
         ],
         "yaxis": "y"
        },
        {
         "hovertemplate": "K_best=2500<br>F1_weighted=%{x}<br>F1_macro=%{y}<extra></extra>",
         "legendgroup": "2500",
         "marker": {
          "color": "#FFA15A",
          "symbol": "circle"
         },
         "mode": "markers",
         "name": "2500",
         "orientation": "v",
         "showlegend": true,
         "type": "scatter",
         "x": [
          0.7631040446609875
         ],
         "xaxis": "x",
         "y": [
          0.7374215190297748
         ],
         "yaxis": "y"
        },
        {
         "hovertemplate": "K_best=2600<br>F1_weighted=%{x}<br>F1_macro=%{y}<extra></extra>",
         "legendgroup": "2600",
         "marker": {
          "color": "#19d3f3",
          "symbol": "circle"
         },
         "mode": "markers",
         "name": "2600",
         "orientation": "v",
         "showlegend": true,
         "type": "scatter",
         "x": [
          0.7642484411518937
         ],
         "xaxis": "x",
         "y": [
          0.7388283732258073
         ],
         "yaxis": "y"
        },
        {
         "hovertemplate": "K_best=2700<br>F1_weighted=%{x}<br>F1_macro=%{y}<extra></extra>",
         "legendgroup": "2700",
         "marker": {
          "color": "#FF6692",
          "symbol": "circle"
         },
         "mode": "markers",
         "name": "2700",
         "orientation": "v",
         "showlegend": true,
         "type": "scatter",
         "x": [
          0.7664184359004327
         ],
         "xaxis": "x",
         "y": [
          0.7427952597733134
         ],
         "yaxis": "y"
        },
        {
         "hovertemplate": "K_best=2800<br>F1_weighted=%{x}<br>F1_macro=%{y}<extra></extra>",
         "legendgroup": "2800",
         "marker": {
          "color": "#B6E880",
          "symbol": "circle"
         },
         "mode": "markers",
         "name": "2800",
         "orientation": "v",
         "showlegend": true,
         "type": "scatter",
         "x": [
          0.7651991890808573
         ],
         "xaxis": "x",
         "y": [
          0.7413668489135264
         ],
         "yaxis": "y"
        },
        {
         "hovertemplate": "K_best=2900<br>F1_weighted=%{x}<br>F1_macro=%{y}<extra></extra>",
         "legendgroup": "2900",
         "marker": {
          "color": "#FF97FF",
          "symbol": "circle"
         },
         "mode": "markers",
         "name": "2900",
         "orientation": "v",
         "showlegend": true,
         "type": "scatter",
         "x": [
          0.7642636229687173
         ],
         "xaxis": "x",
         "y": [
          0.7393399791271983
         ],
         "yaxis": "y"
        },
        {
         "hovertemplate": "K_best=3000<br>F1_weighted=%{x}<br>F1_macro=%{y}<extra></extra>",
         "legendgroup": "3000",
         "marker": {
          "color": "#FECB52",
          "symbol": "circle"
         },
         "mode": "markers",
         "name": "3000",
         "orientation": "v",
         "showlegend": true,
         "type": "scatter",
         "x": [
          0.7728115870171661,
          0.7695964127448904,
          0.7686469801379018
         ],
         "xaxis": "x",
         "y": [
          0.7507191836415371,
          0.748339046240841,
          0.7471721242945454
         ],
         "yaxis": "y"
        },
        {
         "hovertemplate": "K_best=3100<br>F1_weighted=%{x}<br>F1_macro=%{y}<extra></extra>",
         "legendgroup": "3100",
         "marker": {
          "color": "#636efa",
          "symbol": "circle"
         },
         "mode": "markers",
         "name": "3100",
         "orientation": "v",
         "showlegend": true,
         "type": "scatter",
         "x": [
          0.7710447520840598
         ],
         "xaxis": "x",
         "y": [
          0.7491742553012649
         ],
         "yaxis": "y"
        },
        {
         "hovertemplate": "K_best=3200<br>F1_weighted=%{x}<br>F1_macro=%{y}<extra></extra>",
         "legendgroup": "3200",
         "marker": {
          "color": "#EF553B",
          "symbol": "circle"
         },
         "mode": "markers",
         "name": "3200",
         "orientation": "v",
         "showlegend": true,
         "type": "scatter",
         "x": [
          0.7720737710613247
         ],
         "xaxis": "x",
         "y": [
          0.7469527767391648
         ],
         "yaxis": "y"
        },
        {
         "hovertemplate": "K_best=3300<br>F1_weighted=%{x}<br>F1_macro=%{y}<extra></extra>",
         "legendgroup": "3300",
         "marker": {
          "color": "#00cc96",
          "symbol": "circle"
         },
         "mode": "markers",
         "name": "3300",
         "orientation": "v",
         "showlegend": true,
         "type": "scatter",
         "x": [
          0.771917879523896
         ],
         "xaxis": "x",
         "y": [
          0.749507999171707
         ],
         "yaxis": "y"
        },
        {
         "hovertemplate": "K_best=3400<br>F1_weighted=%{x}<br>F1_macro=%{y}<extra></extra>",
         "legendgroup": "3400",
         "marker": {
          "color": "#ab63fa",
          "symbol": "circle"
         },
         "mode": "markers",
         "name": "3400",
         "orientation": "v",
         "showlegend": true,
         "type": "scatter",
         "x": [
          0.7727128025624389
         ],
         "xaxis": "x",
         "y": [
          0.7505642161727827
         ],
         "yaxis": "y"
        },
        {
         "hovertemplate": "K_best=3500<br>F1_weighted=%{x}<br>F1_macro=%{y}<extra></extra>",
         "legendgroup": "3500",
         "marker": {
          "color": "#FFA15A",
          "symbol": "circle"
         },
         "mode": "markers",
         "name": "3500",
         "orientation": "v",
         "showlegend": true,
         "type": "scatter",
         "x": [
          0.7718867655026286
         ],
         "xaxis": "x",
         "y": [
          0.7507274662911224
         ],
         "yaxis": "y"
        },
        {
         "hovertemplate": "K_best=3600<br>F1_weighted=%{x}<br>F1_macro=%{y}<extra></extra>",
         "legendgroup": "3600",
         "marker": {
          "color": "#19d3f3",
          "symbol": "circle"
         },
         "mode": "markers",
         "name": "3600",
         "orientation": "v",
         "showlegend": true,
         "type": "scatter",
         "x": [
          0.7714045532779048
         ],
         "xaxis": "x",
         "y": [
          0.7496278842512497
         ],
         "yaxis": "y"
        },
        {
         "hovertemplate": "K_best=3700<br>F1_weighted=%{x}<br>F1_macro=%{y}<extra></extra>",
         "legendgroup": "3700",
         "marker": {
          "color": "#FF6692",
          "symbol": "circle"
         },
         "mode": "markers",
         "name": "3700",
         "orientation": "v",
         "showlegend": true,
         "type": "scatter",
         "x": [
          0.7710154320164699
         ],
         "xaxis": "x",
         "y": [
          0.7499843455186801
         ],
         "yaxis": "y"
        },
        {
         "hovertemplate": "K_best=3800<br>F1_weighted=%{x}<br>F1_macro=%{y}<extra></extra>",
         "legendgroup": "3800",
         "marker": {
          "color": "#B6E880",
          "symbol": "circle"
         },
         "mode": "markers",
         "name": "3800",
         "orientation": "v",
         "showlegend": true,
         "type": "scatter",
         "x": [
          0.7707421340520973
         ],
         "xaxis": "x",
         "y": [
          0.7503126101097952
         ],
         "yaxis": "y"
        },
        {
         "hovertemplate": "K_best=3900<br>F1_weighted=%{x}<br>F1_macro=%{y}<extra></extra>",
         "legendgroup": "3900",
         "marker": {
          "color": "#FF97FF",
          "symbol": "circle"
         },
         "mode": "markers",
         "name": "3900",
         "orientation": "v",
         "showlegend": true,
         "type": "scatter",
         "x": [
          0.7710801846129408
         ],
         "xaxis": "x",
         "y": [
          0.7518354109051327
         ],
         "yaxis": "y"
        },
        {
         "hovertemplate": "K_best=4000<br>F1_weighted=%{x}<br>F1_macro=%{y}<extra></extra>",
         "legendgroup": "4000",
         "marker": {
          "color": "#FECB52",
          "symbol": "circle"
         },
         "mode": "markers",
         "name": "4000",
         "orientation": "v",
         "showlegend": true,
         "type": "scatter",
         "x": [
          0.7763722024915706,
          0.7721026077807676,
          0.7719424773260299
         ],
         "xaxis": "x",
         "y": [
          0.7543203375184303,
          0.7529825064253717,
          0.7522572237723452
         ],
         "yaxis": "y"
        },
        {
         "hovertemplate": "K_best=4100<br>F1_weighted=%{x}<br>F1_macro=%{y}<extra></extra>",
         "legendgroup": "4100",
         "marker": {
          "color": "#636efa",
          "symbol": "circle"
         },
         "mode": "markers",
         "name": "4100",
         "orientation": "v",
         "showlegend": true,
         "type": "scatter",
         "x": [
          0.773487878505366
         ],
         "xaxis": "x",
         "y": [
          0.7536244038984519
         ],
         "yaxis": "y"
        },
        {
         "hovertemplate": "K_best=4200<br>F1_weighted=%{x}<br>F1_macro=%{y}<extra></extra>",
         "legendgroup": "4200",
         "marker": {
          "color": "#EF553B",
          "symbol": "circle"
         },
         "mode": "markers",
         "name": "4200",
         "orientation": "v",
         "showlegend": true,
         "type": "scatter",
         "x": [
          0.7733270451734074
         ],
         "xaxis": "x",
         "y": [
          0.7534540320882058
         ],
         "yaxis": "y"
        },
        {
         "hovertemplate": "K_best=4300<br>F1_weighted=%{x}<br>F1_macro=%{y}<extra></extra>",
         "legendgroup": "4300",
         "marker": {
          "color": "#00cc96",
          "symbol": "circle"
         },
         "mode": "markers",
         "name": "4300",
         "orientation": "v",
         "showlegend": true,
         "type": "scatter",
         "x": [
          0.7727044758218207
         ],
         "xaxis": "x",
         "y": [
          0.7523305664025544
         ],
         "yaxis": "y"
        },
        {
         "hovertemplate": "K_best=4400<br>F1_weighted=%{x}<br>F1_macro=%{y}<extra></extra>",
         "legendgroup": "4400",
         "marker": {
          "color": "#ab63fa",
          "symbol": "circle"
         },
         "mode": "markers",
         "name": "4400",
         "orientation": "v",
         "showlegend": true,
         "type": "scatter",
         "x": [
          0.7726685034142909
         ],
         "xaxis": "x",
         "y": [
          0.7525797166475499
         ],
         "yaxis": "y"
        },
        {
         "hovertemplate": "K_best=4500<br>F1_weighted=%{x}<br>F1_macro=%{y}<extra></extra>",
         "legendgroup": "4500",
         "marker": {
          "color": "#FFA15A",
          "symbol": "circle"
         },
         "mode": "markers",
         "name": "4500",
         "orientation": "v",
         "showlegend": true,
         "type": "scatter",
         "x": [
          0.7750870092095711
         ],
         "xaxis": "x",
         "y": [
          0.7550414918237512
         ],
         "yaxis": "y"
        },
        {
         "hovertemplate": "K_best=4600<br>F1_weighted=%{x}<br>F1_macro=%{y}<extra></extra>",
         "legendgroup": "4600",
         "marker": {
          "color": "#19d3f3",
          "symbol": "circle"
         },
         "mode": "markers",
         "name": "4600",
         "orientation": "v",
         "showlegend": true,
         "type": "scatter",
         "x": [
          0.7745230895039079
         ],
         "xaxis": "x",
         "y": [
          0.7541801694254985
         ],
         "yaxis": "y"
        },
        {
         "hovertemplate": "K_best=4700<br>F1_weighted=%{x}<br>F1_macro=%{y}<extra></extra>",
         "legendgroup": "4700",
         "marker": {
          "color": "#FF6692",
          "symbol": "circle"
         },
         "mode": "markers",
         "name": "4700",
         "orientation": "v",
         "showlegend": true,
         "type": "scatter",
         "x": [
          0.7729952909485924
         ],
         "xaxis": "x",
         "y": [
          0.7536121383786373
         ],
         "yaxis": "y"
        },
        {
         "hovertemplate": "K_best=4800<br>F1_weighted=%{x}<br>F1_macro=%{y}<extra></extra>",
         "legendgroup": "4800",
         "marker": {
          "color": "#B6E880",
          "symbol": "circle"
         },
         "mode": "markers",
         "name": "4800",
         "orientation": "v",
         "showlegend": true,
         "type": "scatter",
         "x": [
          0.7732507918801486
         ],
         "xaxis": "x",
         "y": [
          0.7530779358417922
         ],
         "yaxis": "y"
        },
        {
         "hovertemplate": "K_best=4900<br>F1_weighted=%{x}<br>F1_macro=%{y}<extra></extra>",
         "legendgroup": "4900",
         "marker": {
          "color": "#FF97FF",
          "symbol": "circle"
         },
         "mode": "markers",
         "name": "4900",
         "orientation": "v",
         "showlegend": true,
         "type": "scatter",
         "x": [
          0.7754910650428899
         ],
         "xaxis": "x",
         "y": [
          0.7543684692138279
         ],
         "yaxis": "y"
        },
        {
         "hovertemplate": "K_best=5000<br>F1_weighted=%{x}<br>F1_macro=%{y}<extra></extra>",
         "legendgroup": "5000",
         "marker": {
          "color": "#FECB52",
          "symbol": "circle"
         },
         "mode": "markers",
         "name": "5000",
         "orientation": "v",
         "showlegend": true,
         "type": "scatter",
         "x": [
          0.7735927556073424,
          0.7756500196299446,
          0.7740604183647923
         ],
         "xaxis": "x",
         "y": [
          0.7550797456899312,
          0.7561305893673423,
          0.7546466596521682
         ],
         "yaxis": "y"
        },
        {
         "hovertemplate": "K_best=5100<br>F1_weighted=%{x}<br>F1_macro=%{y}<extra></extra>",
         "legendgroup": "5100",
         "marker": {
          "color": "#636efa",
          "symbol": "circle"
         },
         "mode": "markers",
         "name": "5100",
         "orientation": "v",
         "showlegend": true,
         "type": "scatter",
         "x": [
          0.7739971564028976
         ],
         "xaxis": "x",
         "y": [
          0.755714262854009
         ],
         "yaxis": "y"
        },
        {
         "hovertemplate": "K_best=5200<br>F1_weighted=%{x}<br>F1_macro=%{y}<extra></extra>",
         "legendgroup": "5200",
         "marker": {
          "color": "#EF553B",
          "symbol": "circle"
         },
         "mode": "markers",
         "name": "5200",
         "orientation": "v",
         "showlegend": true,
         "type": "scatter",
         "x": [
          0.774057716337475
         ],
         "xaxis": "x",
         "y": [
          0.7555621433721941
         ],
         "yaxis": "y"
        },
        {
         "hovertemplate": "K_best=5300<br>F1_weighted=%{x}<br>F1_macro=%{y}<extra></extra>",
         "legendgroup": "5300",
         "marker": {
          "color": "#00cc96",
          "symbol": "circle"
         },
         "mode": "markers",
         "name": "5300",
         "orientation": "v",
         "showlegend": true,
         "type": "scatter",
         "x": [
          0.7748472094139834
         ],
         "xaxis": "x",
         "y": [
          0.7548419994999337
         ],
         "yaxis": "y"
        },
        {
         "hovertemplate": "K_best=5400<br>F1_weighted=%{x}<br>F1_macro=%{y}<extra></extra>",
         "legendgroup": "5400",
         "marker": {
          "color": "#ab63fa",
          "symbol": "circle"
         },
         "mode": "markers",
         "name": "5400",
         "orientation": "v",
         "showlegend": true,
         "type": "scatter",
         "x": [
          0.772483092708822
         ],
         "xaxis": "x",
         "y": [
          0.7526075263164009
         ],
         "yaxis": "y"
        },
        {
         "hovertemplate": "K_best=5500<br>F1_weighted=%{x}<br>F1_macro=%{y}<extra></extra>",
         "legendgroup": "5500",
         "marker": {
          "color": "#FFA15A",
          "symbol": "circle"
         },
         "mode": "markers",
         "name": "5500",
         "orientation": "v",
         "showlegend": true,
         "type": "scatter",
         "x": [
          0.7752252315763173
         ],
         "xaxis": "x",
         "y": [
          0.7563808325300673
         ],
         "yaxis": "y"
        },
        {
         "hovertemplate": "K_best=5600<br>F1_weighted=%{x}<br>F1_macro=%{y}<extra></extra>",
         "legendgroup": "5600",
         "marker": {
          "color": "#19d3f3",
          "symbol": "circle"
         },
         "mode": "markers",
         "name": "5600",
         "orientation": "v",
         "showlegend": true,
         "type": "scatter",
         "x": [
          0.7761397823642022
         ],
         "xaxis": "x",
         "y": [
          0.7575361917776765
         ],
         "yaxis": "y"
        },
        {
         "hovertemplate": "K_best=5700<br>F1_weighted=%{x}<br>F1_macro=%{y}<extra></extra>",
         "legendgroup": "5700",
         "marker": {
          "color": "#FF6692",
          "symbol": "circle"
         },
         "mode": "markers",
         "name": "5700",
         "orientation": "v",
         "showlegend": true,
         "type": "scatter",
         "x": [
          0.7755909585664864
         ],
         "xaxis": "x",
         "y": [
          0.7581631142818749
         ],
         "yaxis": "y"
        },
        {
         "hovertemplate": "K_best=5800<br>F1_weighted=%{x}<br>F1_macro=%{y}<extra></extra>",
         "legendgroup": "5800",
         "marker": {
          "color": "#B6E880",
          "symbol": "circle"
         },
         "mode": "markers",
         "name": "5800",
         "orientation": "v",
         "showlegend": true,
         "type": "scatter",
         "x": [
          0.773733439080513
         ],
         "xaxis": "x",
         "y": [
          0.7556715826711028
         ],
         "yaxis": "y"
        },
        {
         "hovertemplate": "K_best=5900<br>F1_weighted=%{x}<br>F1_macro=%{y}<extra></extra>",
         "legendgroup": "5900",
         "marker": {
          "color": "#FF97FF",
          "symbol": "circle"
         },
         "mode": "markers",
         "name": "5900",
         "orientation": "v",
         "showlegend": true,
         "type": "scatter",
         "x": [
          0.775961775394873
         ],
         "xaxis": "x",
         "y": [
          0.7575029669929391
         ],
         "yaxis": "y"
        },
        {
         "hovertemplate": "K_best=6000<br>F1_weighted=%{x}<br>F1_macro=%{y}<extra></extra>",
         "legendgroup": "6000",
         "marker": {
          "color": "#FECB52",
          "symbol": "circle"
         },
         "mode": "markers",
         "name": "6000",
         "orientation": "v",
         "showlegend": true,
         "type": "scatter",
         "x": [
          0.7739809387841236,
          0.7786520846123803,
          0.7767056325428527
         ],
         "xaxis": "x",
         "y": [
          0.7540851474516087,
          0.7623377164774063,
          0.7584924286697131
         ],
         "yaxis": "y"
        },
        {
         "hovertemplate": "K_best=6100<br>F1_weighted=%{x}<br>F1_macro=%{y}<extra></extra>",
         "legendgroup": "6100",
         "marker": {
          "color": "#636efa",
          "symbol": "circle"
         },
         "mode": "markers",
         "name": "6100",
         "orientation": "v",
         "showlegend": true,
         "type": "scatter",
         "x": [
          0.7767924601384872
         ],
         "xaxis": "x",
         "y": [
          0.7576751634078304
         ],
         "yaxis": "y"
        },
        {
         "hovertemplate": "K_best=6200<br>F1_weighted=%{x}<br>F1_macro=%{y}<extra></extra>",
         "legendgroup": "6200",
         "marker": {
          "color": "#EF553B",
          "symbol": "circle"
         },
         "mode": "markers",
         "name": "6200",
         "orientation": "v",
         "showlegend": true,
         "type": "scatter",
         "x": [
          0.7730544570996518
         ],
         "xaxis": "x",
         "y": [
          0.7532830286776226
         ],
         "yaxis": "y"
        },
        {
         "hovertemplate": "K_best=6300<br>F1_weighted=%{x}<br>F1_macro=%{y}<extra></extra>",
         "legendgroup": "6300",
         "marker": {
          "color": "#00cc96",
          "symbol": "circle"
         },
         "mode": "markers",
         "name": "6300",
         "orientation": "v",
         "showlegend": true,
         "type": "scatter",
         "x": [
          0.7757299557656234
         ],
         "xaxis": "x",
         "y": [
          0.7580276219551394
         ],
         "yaxis": "y"
        },
        {
         "hovertemplate": "K_best=6400<br>F1_weighted=%{x}<br>F1_macro=%{y}<extra></extra>",
         "legendgroup": "6400",
         "marker": {
          "color": "#ab63fa",
          "symbol": "circle"
         },
         "mode": "markers",
         "name": "6400",
         "orientation": "v",
         "showlegend": true,
         "type": "scatter",
         "x": [
          0.7759152083826405
         ],
         "xaxis": "x",
         "y": [
          0.7576925514455838
         ],
         "yaxis": "y"
        },
        {
         "hovertemplate": "K_best=6500<br>F1_weighted=%{x}<br>F1_macro=%{y}<extra></extra>",
         "legendgroup": "6500",
         "marker": {
          "color": "#FFA15A",
          "symbol": "circle"
         },
         "mode": "markers",
         "name": "6500",
         "orientation": "v",
         "showlegend": true,
         "type": "scatter",
         "x": [
          0.7728919542834652
         ],
         "xaxis": "x",
         "y": [
          0.7548361805423449
         ],
         "yaxis": "y"
        },
        {
         "hovertemplate": "K_best=6600<br>F1_weighted=%{x}<br>F1_macro=%{y}<extra></extra>",
         "legendgroup": "6600",
         "marker": {
          "color": "#19d3f3",
          "symbol": "circle"
         },
         "mode": "markers",
         "name": "6600",
         "orientation": "v",
         "showlegend": true,
         "type": "scatter",
         "x": [
          0.7755918020744035
         ],
         "xaxis": "x",
         "y": [
          0.7571440532321744
         ],
         "yaxis": "y"
        },
        {
         "hovertemplate": "K_best=6700<br>F1_weighted=%{x}<br>F1_macro=%{y}<extra></extra>",
         "legendgroup": "6700",
         "marker": {
          "color": "#FF6692",
          "symbol": "circle"
         },
         "mode": "markers",
         "name": "6700",
         "orientation": "v",
         "showlegend": true,
         "type": "scatter",
         "x": [
          0.7738508008829696
         ],
         "xaxis": "x",
         "y": [
          0.7569372173577897
         ],
         "yaxis": "y"
        },
        {
         "hovertemplate": "K_best=6800<br>F1_weighted=%{x}<br>F1_macro=%{y}<extra></extra>",
         "legendgroup": "6800",
         "marker": {
          "color": "#B6E880",
          "symbol": "circle"
         },
         "mode": "markers",
         "name": "6800",
         "orientation": "v",
         "showlegend": true,
         "type": "scatter",
         "x": [
          0.7743529962055682
         ],
         "xaxis": "x",
         "y": [
          0.7562828881618131
         ],
         "yaxis": "y"
        },
        {
         "hovertemplate": "K_best=6900<br>F1_weighted=%{x}<br>F1_macro=%{y}<extra></extra>",
         "legendgroup": "6900",
         "marker": {
          "color": "#FF97FF",
          "symbol": "circle"
         },
         "mode": "markers",
         "name": "6900",
         "orientation": "v",
         "showlegend": true,
         "type": "scatter",
         "x": [
          0.7745905813796582
         ],
         "xaxis": "x",
         "y": [
          0.7561054626760191
         ],
         "yaxis": "y"
        },
        {
         "hovertemplate": "K_best=7000<br>F1_weighted=%{x}<br>F1_macro=%{y}<extra></extra>",
         "legendgroup": "7000",
         "marker": {
          "color": "#FECB52",
          "symbol": "circle"
         },
         "mode": "markers",
         "name": "7000",
         "orientation": "v",
         "showlegend": true,
         "type": "scatter",
         "x": [
          0.7748432333860433,
          0.7762357832183145,
          0.7748432333860433
         ],
         "xaxis": "x",
         "y": [
          0.7577698905442368,
          0.7607332418646136,
          0.7577698905442368
         ],
         "yaxis": "y"
        },
        {
         "hovertemplate": "K_best=7100<br>F1_weighted=%{x}<br>F1_macro=%{y}<extra></extra>",
         "legendgroup": "7100",
         "marker": {
          "color": "#636efa",
          "symbol": "circle"
         },
         "mode": "markers",
         "name": "7100",
         "orientation": "v",
         "showlegend": true,
         "type": "scatter",
         "x": [
          0.7758752098367897
         ],
         "xaxis": "x",
         "y": [
          0.7587328970057032
         ],
         "yaxis": "y"
        },
        {
         "hovertemplate": "K_best=7200<br>F1_weighted=%{x}<br>F1_macro=%{y}<extra></extra>",
         "legendgroup": "7200",
         "marker": {
          "color": "#EF553B",
          "symbol": "circle"
         },
         "mode": "markers",
         "name": "7200",
         "orientation": "v",
         "showlegend": true,
         "type": "scatter",
         "x": [
          0.7753334424478261
         ],
         "xaxis": "x",
         "y": [
          0.7578140904053624
         ],
         "yaxis": "y"
        },
        {
         "hovertemplate": "K_best=7300<br>F1_weighted=%{x}<br>F1_macro=%{y}<extra></extra>",
         "legendgroup": "7300",
         "marker": {
          "color": "#00cc96",
          "symbol": "circle"
         },
         "mode": "markers",
         "name": "7300",
         "orientation": "v",
         "showlegend": true,
         "type": "scatter",
         "x": [
          0.7754490986759723
         ],
         "xaxis": "x",
         "y": [
          0.7583078329589497
         ],
         "yaxis": "y"
        },
        {
         "hovertemplate": "K_best=7400<br>F1_weighted=%{x}<br>F1_macro=%{y}<extra></extra>",
         "legendgroup": "7400",
         "marker": {
          "color": "#ab63fa",
          "symbol": "circle"
         },
         "mode": "markers",
         "name": "7400",
         "orientation": "v",
         "showlegend": true,
         "type": "scatter",
         "x": [
          0.7720022873442216
         ],
         "xaxis": "x",
         "y": [
          0.7554297364617651
         ],
         "yaxis": "y"
        },
        {
         "hovertemplate": "K_best=7500<br>F1_weighted=%{x}<br>F1_macro=%{y}<extra></extra>",
         "legendgroup": "7500",
         "marker": {
          "color": "#FFA15A",
          "symbol": "circle"
         },
         "mode": "markers",
         "name": "7500",
         "orientation": "v",
         "showlegend": true,
         "type": "scatter",
         "x": [
          0.776278824858956
         ],
         "xaxis": "x",
         "y": [
          0.7594764764819643
         ],
         "yaxis": "y"
        },
        {
         "hovertemplate": "K_best=7600<br>F1_weighted=%{x}<br>F1_macro=%{y}<extra></extra>",
         "legendgroup": "7600",
         "marker": {
          "color": "#19d3f3",
          "symbol": "circle"
         },
         "mode": "markers",
         "name": "7600",
         "orientation": "v",
         "showlegend": true,
         "type": "scatter",
         "x": [
          0.7744852178123116
         ],
         "xaxis": "x",
         "y": [
          0.7589889461668565
         ],
         "yaxis": "y"
        },
        {
         "hovertemplate": "K_best=7700<br>F1_weighted=%{x}<br>F1_macro=%{y}<extra></extra>",
         "legendgroup": "7700",
         "marker": {
          "color": "#FF6692",
          "symbol": "circle"
         },
         "mode": "markers",
         "name": "7700",
         "orientation": "v",
         "showlegend": true,
         "type": "scatter",
         "x": [
          0.7720571197765372
         ],
         "xaxis": "x",
         "y": [
          0.7554041870178578
         ],
         "yaxis": "y"
        },
        {
         "hovertemplate": "K_best=7800<br>F1_weighted=%{x}<br>F1_macro=%{y}<extra></extra>",
         "legendgroup": "7800",
         "marker": {
          "color": "#B6E880",
          "symbol": "circle"
         },
         "mode": "markers",
         "name": "7800",
         "orientation": "v",
         "showlegend": true,
         "type": "scatter",
         "x": [
          0.775222748752963
         ],
         "xaxis": "x",
         "y": [
          0.7576618651457893
         ],
         "yaxis": "y"
        },
        {
         "hovertemplate": "K_best=7900<br>F1_weighted=%{x}<br>F1_macro=%{y}<extra></extra>",
         "legendgroup": "7900",
         "marker": {
          "color": "#FF97FF",
          "symbol": "circle"
         },
         "mode": "markers",
         "name": "7900",
         "orientation": "v",
         "showlegend": true,
         "type": "scatter",
         "x": [
          0.7740779205865668
         ],
         "xaxis": "x",
         "y": [
          0.7585882536567163
         ],
         "yaxis": "y"
        },
        {
         "hovertemplate": "K_best=8000<br>F1_weighted=%{x}<br>F1_macro=%{y}<extra></extra>",
         "legendgroup": "8000",
         "marker": {
          "color": "#FECB52",
          "symbol": "circle"
         },
         "mode": "markers",
         "name": "8000",
         "orientation": "v",
         "showlegend": true,
         "type": "scatter",
         "x": [
          0.7763457491286679
         ],
         "xaxis": "x",
         "y": [
          0.7616637313259055
         ],
         "yaxis": "y"
        },
        {
         "hovertemplate": "K_best=8100<br>F1_weighted=%{x}<br>F1_macro=%{y}<extra></extra>",
         "legendgroup": "8100",
         "marker": {
          "color": "#636efa",
          "symbol": "circle"
         },
         "mode": "markers",
         "name": "8100",
         "orientation": "v",
         "showlegend": true,
         "type": "scatter",
         "x": [
          0.7754280030104601
         ],
         "xaxis": "x",
         "y": [
          0.7587421856242
         ],
         "yaxis": "y"
        },
        {
         "hovertemplate": "K_best=8200<br>F1_weighted=%{x}<br>F1_macro=%{y}<extra></extra>",
         "legendgroup": "8200",
         "marker": {
          "color": "#EF553B",
          "symbol": "circle"
         },
         "mode": "markers",
         "name": "8200",
         "orientation": "v",
         "showlegend": true,
         "type": "scatter",
         "x": [
          0.7764936560925467
         ],
         "xaxis": "x",
         "y": [
          0.7616054469453649
         ],
         "yaxis": "y"
        },
        {
         "hovertemplate": "K_best=8300<br>F1_weighted=%{x}<br>F1_macro=%{y}<extra></extra>",
         "legendgroup": "8300",
         "marker": {
          "color": "#00cc96",
          "symbol": "circle"
         },
         "mode": "markers",
         "name": "8300",
         "orientation": "v",
         "showlegend": true,
         "type": "scatter",
         "x": [
          0.7766266084420309
         ],
         "xaxis": "x",
         "y": [
          0.7619797646018853
         ],
         "yaxis": "y"
        },
        {
         "hovertemplate": "K_best=8400<br>F1_weighted=%{x}<br>F1_macro=%{y}<extra></extra>",
         "legendgroup": "8400",
         "marker": {
          "color": "#ab63fa",
          "symbol": "circle"
         },
         "mode": "markers",
         "name": "8400",
         "orientation": "v",
         "showlegend": true,
         "type": "scatter",
         "x": [
          0.7776717521335479
         ],
         "xaxis": "x",
         "y": [
          0.762649153909496
         ],
         "yaxis": "y"
        },
        {
         "hovertemplate": "K_best=8500<br>F1_weighted=%{x}<br>F1_macro=%{y}<extra></extra>",
         "legendgroup": "8500",
         "marker": {
          "color": "#FFA15A",
          "symbol": "circle"
         },
         "mode": "markers",
         "name": "8500",
         "orientation": "v",
         "showlegend": true,
         "type": "scatter",
         "x": [
          0.7749386835501847
         ],
         "xaxis": "x",
         "y": [
          0.759399572498586
         ],
         "yaxis": "y"
        },
        {
         "hovertemplate": "K_best=8600<br>F1_weighted=%{x}<br>F1_macro=%{y}<extra></extra>",
         "legendgroup": "8600",
         "marker": {
          "color": "#19d3f3",
          "symbol": "circle"
         },
         "mode": "markers",
         "name": "8600",
         "orientation": "v",
         "showlegend": true,
         "type": "scatter",
         "x": [
          0.7770545652316435
         ],
         "xaxis": "x",
         "y": [
          0.7637992057175802
         ],
         "yaxis": "y"
        },
        {
         "hovertemplate": "K_best=8700<br>F1_weighted=%{x}<br>F1_macro=%{y}<extra></extra>",
         "legendgroup": "8700",
         "marker": {
          "color": "#FF6692",
          "symbol": "circle"
         },
         "mode": "markers",
         "name": "8700",
         "orientation": "v",
         "showlegend": true,
         "type": "scatter",
         "x": [
          0.7755966155465953
         ],
         "xaxis": "x",
         "y": [
          0.7607515234872223
         ],
         "yaxis": "y"
        },
        {
         "hovertemplate": "K_best=8800<br>F1_weighted=%{x}<br>F1_macro=%{y}<extra></extra>",
         "legendgroup": "8800",
         "marker": {
          "color": "#B6E880",
          "symbol": "circle"
         },
         "mode": "markers",
         "name": "8800",
         "orientation": "v",
         "showlegend": true,
         "type": "scatter",
         "x": [
          0.7750644314440746
         ],
         "xaxis": "x",
         "y": [
          0.7612472548469198
         ],
         "yaxis": "y"
        },
        {
         "hovertemplate": "K_best=8900<br>F1_weighted=%{x}<br>F1_macro=%{y}<extra></extra>",
         "legendgroup": "8900",
         "marker": {
          "color": "#FF97FF",
          "symbol": "circle"
         },
         "mode": "markers",
         "name": "8900",
         "orientation": "v",
         "showlegend": true,
         "type": "scatter",
         "x": [
          0.7753357224208052
         ],
         "xaxis": "x",
         "y": [
          0.7618668794780862
         ],
         "yaxis": "y"
        }
       ],
       "layout": {
        "legend": {
         "title": {
          "text": "K_best"
         },
         "tracegroupgap": 0
        },
        "margin": {
         "t": 60
        },
        "template": {
         "data": {
          "bar": [
           {
            "error_x": {
             "color": "#2a3f5f"
            },
            "error_y": {
             "color": "#2a3f5f"
            },
            "marker": {
             "line": {
              "color": "#E5ECF6",
              "width": 0.5
             },
             "pattern": {
              "fillmode": "overlay",
              "size": 10,
              "solidity": 0.2
             }
            },
            "type": "bar"
           }
          ],
          "barpolar": [
           {
            "marker": {
             "line": {
              "color": "#E5ECF6",
              "width": 0.5
             },
             "pattern": {
              "fillmode": "overlay",
              "size": 10,
              "solidity": 0.2
             }
            },
            "type": "barpolar"
           }
          ],
          "carpet": [
           {
            "aaxis": {
             "endlinecolor": "#2a3f5f",
             "gridcolor": "white",
             "linecolor": "white",
             "minorgridcolor": "white",
             "startlinecolor": "#2a3f5f"
            },
            "baxis": {
             "endlinecolor": "#2a3f5f",
             "gridcolor": "white",
             "linecolor": "white",
             "minorgridcolor": "white",
             "startlinecolor": "#2a3f5f"
            },
            "type": "carpet"
           }
          ],
          "choropleth": [
           {
            "colorbar": {
             "outlinewidth": 0,
             "ticks": ""
            },
            "type": "choropleth"
           }
          ],
          "contour": [
           {
            "colorbar": {
             "outlinewidth": 0,
             "ticks": ""
            },
            "colorscale": [
             [
              0,
              "#0d0887"
             ],
             [
              0.1111111111111111,
              "#46039f"
             ],
             [
              0.2222222222222222,
              "#7201a8"
             ],
             [
              0.3333333333333333,
              "#9c179e"
             ],
             [
              0.4444444444444444,
              "#bd3786"
             ],
             [
              0.5555555555555556,
              "#d8576b"
             ],
             [
              0.6666666666666666,
              "#ed7953"
             ],
             [
              0.7777777777777778,
              "#fb9f3a"
             ],
             [
              0.8888888888888888,
              "#fdca26"
             ],
             [
              1,
              "#f0f921"
             ]
            ],
            "type": "contour"
           }
          ],
          "contourcarpet": [
           {
            "colorbar": {
             "outlinewidth": 0,
             "ticks": ""
            },
            "type": "contourcarpet"
           }
          ],
          "heatmap": [
           {
            "colorbar": {
             "outlinewidth": 0,
             "ticks": ""
            },
            "colorscale": [
             [
              0,
              "#0d0887"
             ],
             [
              0.1111111111111111,
              "#46039f"
             ],
             [
              0.2222222222222222,
              "#7201a8"
             ],
             [
              0.3333333333333333,
              "#9c179e"
             ],
             [
              0.4444444444444444,
              "#bd3786"
             ],
             [
              0.5555555555555556,
              "#d8576b"
             ],
             [
              0.6666666666666666,
              "#ed7953"
             ],
             [
              0.7777777777777778,
              "#fb9f3a"
             ],
             [
              0.8888888888888888,
              "#fdca26"
             ],
             [
              1,
              "#f0f921"
             ]
            ],
            "type": "heatmap"
           }
          ],
          "heatmapgl": [
           {
            "colorbar": {
             "outlinewidth": 0,
             "ticks": ""
            },
            "colorscale": [
             [
              0,
              "#0d0887"
             ],
             [
              0.1111111111111111,
              "#46039f"
             ],
             [
              0.2222222222222222,
              "#7201a8"
             ],
             [
              0.3333333333333333,
              "#9c179e"
             ],
             [
              0.4444444444444444,
              "#bd3786"
             ],
             [
              0.5555555555555556,
              "#d8576b"
             ],
             [
              0.6666666666666666,
              "#ed7953"
             ],
             [
              0.7777777777777778,
              "#fb9f3a"
             ],
             [
              0.8888888888888888,
              "#fdca26"
             ],
             [
              1,
              "#f0f921"
             ]
            ],
            "type": "heatmapgl"
           }
          ],
          "histogram": [
           {
            "marker": {
             "pattern": {
              "fillmode": "overlay",
              "size": 10,
              "solidity": 0.2
             }
            },
            "type": "histogram"
           }
          ],
          "histogram2d": [
           {
            "colorbar": {
             "outlinewidth": 0,
             "ticks": ""
            },
            "colorscale": [
             [
              0,
              "#0d0887"
             ],
             [
              0.1111111111111111,
              "#46039f"
             ],
             [
              0.2222222222222222,
              "#7201a8"
             ],
             [
              0.3333333333333333,
              "#9c179e"
             ],
             [
              0.4444444444444444,
              "#bd3786"
             ],
             [
              0.5555555555555556,
              "#d8576b"
             ],
             [
              0.6666666666666666,
              "#ed7953"
             ],
             [
              0.7777777777777778,
              "#fb9f3a"
             ],
             [
              0.8888888888888888,
              "#fdca26"
             ],
             [
              1,
              "#f0f921"
             ]
            ],
            "type": "histogram2d"
           }
          ],
          "histogram2dcontour": [
           {
            "colorbar": {
             "outlinewidth": 0,
             "ticks": ""
            },
            "colorscale": [
             [
              0,
              "#0d0887"
             ],
             [
              0.1111111111111111,
              "#46039f"
             ],
             [
              0.2222222222222222,
              "#7201a8"
             ],
             [
              0.3333333333333333,
              "#9c179e"
             ],
             [
              0.4444444444444444,
              "#bd3786"
             ],
             [
              0.5555555555555556,
              "#d8576b"
             ],
             [
              0.6666666666666666,
              "#ed7953"
             ],
             [
              0.7777777777777778,
              "#fb9f3a"
             ],
             [
              0.8888888888888888,
              "#fdca26"
             ],
             [
              1,
              "#f0f921"
             ]
            ],
            "type": "histogram2dcontour"
           }
          ],
          "mesh3d": [
           {
            "colorbar": {
             "outlinewidth": 0,
             "ticks": ""
            },
            "type": "mesh3d"
           }
          ],
          "parcoords": [
           {
            "line": {
             "colorbar": {
              "outlinewidth": 0,
              "ticks": ""
             }
            },
            "type": "parcoords"
           }
          ],
          "pie": [
           {
            "automargin": true,
            "type": "pie"
           }
          ],
          "scatter": [
           {
            "fillpattern": {
             "fillmode": "overlay",
             "size": 10,
             "solidity": 0.2
            },
            "type": "scatter"
           }
          ],
          "scatter3d": [
           {
            "line": {
             "colorbar": {
              "outlinewidth": 0,
              "ticks": ""
             }
            },
            "marker": {
             "colorbar": {
              "outlinewidth": 0,
              "ticks": ""
             }
            },
            "type": "scatter3d"
           }
          ],
          "scattercarpet": [
           {
            "marker": {
             "colorbar": {
              "outlinewidth": 0,
              "ticks": ""
             }
            },
            "type": "scattercarpet"
           }
          ],
          "scattergeo": [
           {
            "marker": {
             "colorbar": {
              "outlinewidth": 0,
              "ticks": ""
             }
            },
            "type": "scattergeo"
           }
          ],
          "scattergl": [
           {
            "marker": {
             "colorbar": {
              "outlinewidth": 0,
              "ticks": ""
             }
            },
            "type": "scattergl"
           }
          ],
          "scattermapbox": [
           {
            "marker": {
             "colorbar": {
              "outlinewidth": 0,
              "ticks": ""
             }
            },
            "type": "scattermapbox"
           }
          ],
          "scatterpolar": [
           {
            "marker": {
             "colorbar": {
              "outlinewidth": 0,
              "ticks": ""
             }
            },
            "type": "scatterpolar"
           }
          ],
          "scatterpolargl": [
           {
            "marker": {
             "colorbar": {
              "outlinewidth": 0,
              "ticks": ""
             }
            },
            "type": "scatterpolargl"
           }
          ],
          "scatterternary": [
           {
            "marker": {
             "colorbar": {
              "outlinewidth": 0,
              "ticks": ""
             }
            },
            "type": "scatterternary"
           }
          ],
          "surface": [
           {
            "colorbar": {
             "outlinewidth": 0,
             "ticks": ""
            },
            "colorscale": [
             [
              0,
              "#0d0887"
             ],
             [
              0.1111111111111111,
              "#46039f"
             ],
             [
              0.2222222222222222,
              "#7201a8"
             ],
             [
              0.3333333333333333,
              "#9c179e"
             ],
             [
              0.4444444444444444,
              "#bd3786"
             ],
             [
              0.5555555555555556,
              "#d8576b"
             ],
             [
              0.6666666666666666,
              "#ed7953"
             ],
             [
              0.7777777777777778,
              "#fb9f3a"
             ],
             [
              0.8888888888888888,
              "#fdca26"
             ],
             [
              1,
              "#f0f921"
             ]
            ],
            "type": "surface"
           }
          ],
          "table": [
           {
            "cells": {
             "fill": {
              "color": "#EBF0F8"
             },
             "line": {
              "color": "white"
             }
            },
            "header": {
             "fill": {
              "color": "#C8D4E3"
             },
             "line": {
              "color": "white"
             }
            },
            "type": "table"
           }
          ]
         },
         "layout": {
          "annotationdefaults": {
           "arrowcolor": "#2a3f5f",
           "arrowhead": 0,
           "arrowwidth": 1
          },
          "autotypenumbers": "strict",
          "coloraxis": {
           "colorbar": {
            "outlinewidth": 0,
            "ticks": ""
           }
          },
          "colorscale": {
           "diverging": [
            [
             0,
             "#8e0152"
            ],
            [
             0.1,
             "#c51b7d"
            ],
            [
             0.2,
             "#de77ae"
            ],
            [
             0.3,
             "#f1b6da"
            ],
            [
             0.4,
             "#fde0ef"
            ],
            [
             0.5,
             "#f7f7f7"
            ],
            [
             0.6,
             "#e6f5d0"
            ],
            [
             0.7,
             "#b8e186"
            ],
            [
             0.8,
             "#7fbc41"
            ],
            [
             0.9,
             "#4d9221"
            ],
            [
             1,
             "#276419"
            ]
           ],
           "sequential": [
            [
             0,
             "#0d0887"
            ],
            [
             0.1111111111111111,
             "#46039f"
            ],
            [
             0.2222222222222222,
             "#7201a8"
            ],
            [
             0.3333333333333333,
             "#9c179e"
            ],
            [
             0.4444444444444444,
             "#bd3786"
            ],
            [
             0.5555555555555556,
             "#d8576b"
            ],
            [
             0.6666666666666666,
             "#ed7953"
            ],
            [
             0.7777777777777778,
             "#fb9f3a"
            ],
            [
             0.8888888888888888,
             "#fdca26"
            ],
            [
             1,
             "#f0f921"
            ]
           ],
           "sequentialminus": [
            [
             0,
             "#0d0887"
            ],
            [
             0.1111111111111111,
             "#46039f"
            ],
            [
             0.2222222222222222,
             "#7201a8"
            ],
            [
             0.3333333333333333,
             "#9c179e"
            ],
            [
             0.4444444444444444,
             "#bd3786"
            ],
            [
             0.5555555555555556,
             "#d8576b"
            ],
            [
             0.6666666666666666,
             "#ed7953"
            ],
            [
             0.7777777777777778,
             "#fb9f3a"
            ],
            [
             0.8888888888888888,
             "#fdca26"
            ],
            [
             1,
             "#f0f921"
            ]
           ]
          },
          "colorway": [
           "#636efa",
           "#EF553B",
           "#00cc96",
           "#ab63fa",
           "#FFA15A",
           "#19d3f3",
           "#FF6692",
           "#B6E880",
           "#FF97FF",
           "#FECB52"
          ],
          "font": {
           "color": "#2a3f5f"
          },
          "geo": {
           "bgcolor": "white",
           "lakecolor": "white",
           "landcolor": "#E5ECF6",
           "showlakes": true,
           "showland": true,
           "subunitcolor": "white"
          },
          "hoverlabel": {
           "align": "left"
          },
          "hovermode": "closest",
          "mapbox": {
           "style": "light"
          },
          "paper_bgcolor": "white",
          "plot_bgcolor": "#E5ECF6",
          "polar": {
           "angularaxis": {
            "gridcolor": "white",
            "linecolor": "white",
            "ticks": ""
           },
           "bgcolor": "#E5ECF6",
           "radialaxis": {
            "gridcolor": "white",
            "linecolor": "white",
            "ticks": ""
           }
          },
          "scene": {
           "xaxis": {
            "backgroundcolor": "#E5ECF6",
            "gridcolor": "white",
            "gridwidth": 2,
            "linecolor": "white",
            "showbackground": true,
            "ticks": "",
            "zerolinecolor": "white"
           },
           "yaxis": {
            "backgroundcolor": "#E5ECF6",
            "gridcolor": "white",
            "gridwidth": 2,
            "linecolor": "white",
            "showbackground": true,
            "ticks": "",
            "zerolinecolor": "white"
           },
           "zaxis": {
            "backgroundcolor": "#E5ECF6",
            "gridcolor": "white",
            "gridwidth": 2,
            "linecolor": "white",
            "showbackground": true,
            "ticks": "",
            "zerolinecolor": "white"
           }
          },
          "shapedefaults": {
           "line": {
            "color": "#2a3f5f"
           }
          },
          "ternary": {
           "aaxis": {
            "gridcolor": "white",
            "linecolor": "white",
            "ticks": ""
           },
           "baxis": {
            "gridcolor": "white",
            "linecolor": "white",
            "ticks": ""
           },
           "bgcolor": "#E5ECF6",
           "caxis": {
            "gridcolor": "white",
            "linecolor": "white",
            "ticks": ""
           }
          },
          "title": {
           "x": 0.05
          },
          "xaxis": {
           "automargin": true,
           "gridcolor": "white",
           "linecolor": "white",
           "ticks": "",
           "title": {
            "standoff": 15
           },
           "zerolinecolor": "white",
           "zerolinewidth": 2
          },
          "yaxis": {
           "automargin": true,
           "gridcolor": "white",
           "linecolor": "white",
           "ticks": "",
           "title": {
            "standoff": 15
           },
           "zerolinecolor": "white",
           "zerolinewidth": 2
          }
         }
        },
        "xaxis": {
         "anchor": "y",
         "domain": [
          0,
          1
         ],
         "title": {
          "text": "F1_weighted"
         }
        },
        "yaxis": {
         "anchor": "x",
         "domain": [
          0,
          1
         ],
         "title": {
          "text": "F1_macro"
         }
        }
       }
      },
      "text/html": [
       "<div>                            <div id=\"948aa6a6-a4a6-456f-9ce3-7291f8a4d7fe\" class=\"plotly-graph-div\" style=\"height:525px; width:100%;\"></div>            <script type=\"text/javascript\">                require([\"plotly\"], function(Plotly) {                    window.PLOTLYENV=window.PLOTLYENV || {};                                    if (document.getElementById(\"948aa6a6-a4a6-456f-9ce3-7291f8a4d7fe\")) {                    Plotly.newPlot(                        \"948aa6a6-a4a6-456f-9ce3-7291f8a4d7fe\",                        [{\"hovertemplate\":\"K_best=100<br>F1_weighted=%{x}<br>F1_macro=%{y}<extra></extra>\",\"legendgroup\":\"100\",\"marker\":{\"color\":\"#636efa\",\"symbol\":\"circle\"},\"mode\":\"markers\",\"name\":\"100\",\"orientation\":\"v\",\"showlegend\":true,\"x\":[0.5962469609620753,0.5352185814023753,0.5238280061801119,0.525611270501051],\"xaxis\":\"x\",\"y\":[0.5481100356378191,0.4884555867649365,0.47167121907655934,0.4728526761069092],\"yaxis\":\"y\",\"type\":\"scatter\"},{\"hovertemplate\":\"K_best=200<br>F1_weighted=%{x}<br>F1_macro=%{y}<extra></extra>\",\"legendgroup\":\"200\",\"marker\":{\"color\":\"#EF553B\",\"symbol\":\"circle\"},\"mode\":\"markers\",\"name\":\"200\",\"orientation\":\"v\",\"showlegend\":true,\"x\":[0.6554850328752523,0.6606921946188709,0.6569325160001384,0.6523064991425345],\"xaxis\":\"x\",\"y\":[0.6138056944942349,0.6279749593107814,0.6256015986298683,0.6195978736235448],\"yaxis\":\"y\",\"type\":\"scatter\"},{\"hovertemplate\":\"K_best=300<br>F1_weighted=%{x}<br>F1_macro=%{y}<extra></extra>\",\"legendgroup\":\"300\",\"marker\":{\"color\":\"#00cc96\",\"symbol\":\"circle\"},\"mode\":\"markers\",\"name\":\"300\",\"orientation\":\"v\",\"showlegend\":true,\"x\":[0.6895184092902104,0.6988621798247919,0.6864855394406688,0.6831972917186045],\"xaxis\":\"x\",\"y\":[0.6453965169641653,0.657282472824771,0.6529863599179949,0.6491212825301341],\"yaxis\":\"y\",\"type\":\"scatter\"},{\"hovertemplate\":\"K_best=400<br>F1_weighted=%{x}<br>F1_macro=%{y}<extra></extra>\",\"legendgroup\":\"400\",\"marker\":{\"color\":\"#ab63fa\",\"symbol\":\"circle\"},\"mode\":\"markers\",\"name\":\"400\",\"orientation\":\"v\",\"showlegend\":true,\"x\":[0.7028721554916166,0.7139246694904613,0.7117838957859629,0.7102907868886922],\"xaxis\":\"x\",\"y\":[0.657954093400985,0.6745916800918217,0.6756828250314605,0.6773739749019562],\"yaxis\":\"y\",\"type\":\"scatter\"},{\"hovertemplate\":\"K_best=500<br>F1_weighted=%{x}<br>F1_macro=%{y}<extra></extra>\",\"legendgroup\":\"500\",\"marker\":{\"color\":\"#FFA15A\",\"symbol\":\"circle\"},\"mode\":\"markers\",\"name\":\"500\",\"orientation\":\"v\",\"showlegend\":true,\"x\":[0.7078451173167353,0.7224668121905253,0.7194290936026743,0.7179658099403794],\"xaxis\":\"x\",\"y\":[0.663419348575016,0.6853827997701981,0.6847266422014812,0.6820322052863307],\"yaxis\":\"y\",\"type\":\"scatter\"},{\"hovertemplate\":\"K_best=600<br>F1_weighted=%{x}<br>F1_macro=%{y}<extra></extra>\",\"legendgroup\":\"600\",\"marker\":{\"color\":\"#19d3f3\",\"symbol\":\"circle\"},\"mode\":\"markers\",\"name\":\"600\",\"orientation\":\"v\",\"showlegend\":true,\"x\":[0.7131708401261743,0.7321953675874651,0.7322161457667213,0.7271387081787213],\"xaxis\":\"x\",\"y\":[0.6692122580686726,0.695732276960801,0.6993170335355733,0.6938327022776162],\"yaxis\":\"y\",\"type\":\"scatter\"},{\"hovertemplate\":\"K_best=700<br>F1_weighted=%{x}<br>F1_macro=%{y}<extra></extra>\",\"legendgroup\":\"700\",\"marker\":{\"color\":\"#FF6692\",\"symbol\":\"circle\"},\"mode\":\"markers\",\"name\":\"700\",\"orientation\":\"v\",\"showlegend\":true,\"x\":[0.7223749245792015,0.7373840357758104,0.7381111592724043,0.7373464737786196],\"xaxis\":\"x\",\"y\":[0.6804555059518306,0.7015967431223485,0.704504690532826,0.7043432821488119],\"yaxis\":\"y\",\"type\":\"scatter\"},{\"hovertemplate\":\"K_best=800<br>F1_weighted=%{x}<br>F1_macro=%{y}<extra></extra>\",\"legendgroup\":\"800\",\"marker\":{\"color\":\"#B6E880\",\"symbol\":\"circle\"},\"mode\":\"markers\",\"name\":\"800\",\"orientation\":\"v\",\"showlegend\":true,\"x\":[0.7235002915791994,0.7426751800483861,0.7390581604462085,0.7439159360939066],\"xaxis\":\"x\",\"y\":[0.6813562227386113,0.7071532843995544,0.7049599474842352,0.7117594521159082],\"yaxis\":\"y\",\"type\":\"scatter\"},{\"hovertemplate\":\"K_best=900<br>F1_weighted=%{x}<br>F1_macro=%{y}<extra></extra>\",\"legendgroup\":\"900\",\"marker\":{\"color\":\"#FF97FF\",\"symbol\":\"circle\"},\"mode\":\"markers\",\"name\":\"900\",\"orientation\":\"v\",\"showlegend\":true,\"x\":[0.7283435302495623,0.7479289675803168,0.7452513908176995,0.7441329028444449,0.7403591830513436,0.7415826888271047,0.7427891330727175,0.7444950653447898,0.7433948269373322,0.7426839756929168],\"xaxis\":\"x\",\"y\":[0.6875864521587155,0.7126894676725576,0.7130074450477083,0.7134862584793432,0.7076899554596394,0.7108089966599763,0.7125008604501987,0.715823821490382,0.7148260102052577,0.7145764834817275],\"yaxis\":\"y\",\"type\":\"scatter\"},{\"hovertemplate\":\"K_best=1000<br>F1_weighted=%{x}<br>F1_macro=%{y}<extra></extra>\",\"legendgroup\":\"1000\",\"marker\":{\"color\":\"#FECB52\",\"symbol\":\"circle\"},\"mode\":\"markers\",\"name\":\"1000\",\"orientation\":\"v\",\"showlegend\":true,\"x\":[0.751925163608734,0.7478690921898202,0.7469534161983458,0.7462053090615149,0.7479953418054673],\"xaxis\":\"x\",\"y\":[0.7174764658837728,0.7153309935095911,0.715566590599231,0.7173647845558294,0.7208063617642092],\"yaxis\":\"y\",\"type\":\"scatter\"},{\"hovertemplate\":\"K_best=1100<br>F1_weighted=%{x}<br>F1_macro=%{y}<extra></extra>\",\"legendgroup\":\"1100\",\"marker\":{\"color\":\"#636efa\",\"symbol\":\"circle\"},\"mode\":\"markers\",\"name\":\"1100\",\"orientation\":\"v\",\"showlegend\":true,\"x\":[0.7494034666904686,0.7530723958097819,0.7518660652728655],\"xaxis\":\"x\",\"y\":[0.7164002196896462,0.7205329344400853,0.7218048462644222],\"yaxis\":\"y\",\"type\":\"scatter\"},{\"hovertemplate\":\"K_best=1200<br>F1_weighted=%{x}<br>F1_macro=%{y}<extra></extra>\",\"legendgroup\":\"1200\",\"marker\":{\"color\":\"#EF553B\",\"symbol\":\"circle\"},\"mode\":\"markers\",\"name\":\"1200\",\"orientation\":\"v\",\"showlegend\":true,\"x\":[0.7534027000262257,0.7557213479099323,0.7536216185456777],\"xaxis\":\"x\",\"y\":[0.7215504177943378,0.7223414983926517,0.7245419516241848],\"yaxis\":\"y\",\"type\":\"scatter\"},{\"hovertemplate\":\"K_best=1300<br>F1_weighted=%{x}<br>F1_macro=%{y}<extra></extra>\",\"legendgroup\":\"1300\",\"marker\":{\"color\":\"#00cc96\",\"symbol\":\"circle\"},\"mode\":\"markers\",\"name\":\"1300\",\"orientation\":\"v\",\"showlegend\":true,\"x\":[0.755250350349306,0.7558153213409123,0.7564115281703409],\"xaxis\":\"x\",\"y\":[0.7232015508508445,0.7237364905304295,0.7251936328332027],\"yaxis\":\"y\",\"type\":\"scatter\"},{\"hovertemplate\":\"K_best=1400<br>F1_weighted=%{x}<br>F1_macro=%{y}<extra></extra>\",\"legendgroup\":\"1400\",\"marker\":{\"color\":\"#ab63fa\",\"symbol\":\"circle\"},\"mode\":\"markers\",\"name\":\"1400\",\"orientation\":\"v\",\"showlegend\":true,\"x\":[0.7574459866124855,0.757947609905622,0.7579340927467338],\"xaxis\":\"x\",\"y\":[0.724831035627367,0.7255773417242163,0.7277163712322823],\"yaxis\":\"y\",\"type\":\"scatter\"},{\"hovertemplate\":\"K_best=1500<br>F1_weighted=%{x}<br>F1_macro=%{y}<extra></extra>\",\"legendgroup\":\"1500\",\"marker\":{\"color\":\"#FFA15A\",\"symbol\":\"circle\"},\"mode\":\"markers\",\"name\":\"1500\",\"orientation\":\"v\",\"showlegend\":true,\"x\":[0.7571954686119811,0.7579167727124819,0.7588692661132674],\"xaxis\":\"x\",\"y\":[0.7267847610937466,0.7270378093036276,0.7297656056892685],\"yaxis\":\"y\",\"type\":\"scatter\"},{\"hovertemplate\":\"K_best=1600<br>F1_weighted=%{x}<br>F1_macro=%{y}<extra></extra>\",\"legendgroup\":\"1600\",\"marker\":{\"color\":\"#19d3f3\",\"symbol\":\"circle\"},\"mode\":\"markers\",\"name\":\"1600\",\"orientation\":\"v\",\"showlegend\":true,\"x\":[0.7602097243445072,0.7597180208526644,0.7589303335690394],\"xaxis\":\"x\",\"y\":[0.7313849979874177,0.7293766827889266,0.7288997903061971],\"yaxis\":\"y\",\"type\":\"scatter\"},{\"hovertemplate\":\"K_best=1700<br>F1_weighted=%{x}<br>F1_macro=%{y}<extra></extra>\",\"legendgroup\":\"1700\",\"marker\":{\"color\":\"#FF6692\",\"symbol\":\"circle\"},\"mode\":\"markers\",\"name\":\"1700\",\"orientation\":\"v\",\"showlegend\":true,\"x\":[0.7594809462843128,0.7629375646781996,0.7621529074327533],\"xaxis\":\"x\",\"y\":[0.7312316445928088,0.7329017884798276,0.7339697369479151],\"yaxis\":\"y\",\"type\":\"scatter\"},{\"hovertemplate\":\"K_best=1800<br>F1_weighted=%{x}<br>F1_macro=%{y}<extra></extra>\",\"legendgroup\":\"1800\",\"marker\":{\"color\":\"#B6E880\",\"symbol\":\"circle\"},\"mode\":\"markers\",\"name\":\"1800\",\"orientation\":\"v\",\"showlegend\":true,\"x\":[0.7610523749885683,0.7630229951233888,0.761736295565009],\"xaxis\":\"x\",\"y\":[0.7318585191759778,0.7357199647704898,0.7341548291494537],\"yaxis\":\"y\",\"type\":\"scatter\"},{\"hovertemplate\":\"K_best=1900<br>F1_weighted=%{x}<br>F1_macro=%{y}<extra></extra>\",\"legendgroup\":\"1900\",\"marker\":{\"color\":\"#FF97FF\",\"symbol\":\"circle\"},\"mode\":\"markers\",\"name\":\"1900\",\"orientation\":\"v\",\"showlegend\":true,\"x\":[0.7610865465771358,0.7642861287674794,0.7641936973945894],\"xaxis\":\"x\",\"y\":[0.7330075412747723,0.7379127592007452,0.7379876407260878],\"yaxis\":\"y\",\"type\":\"scatter\"},{\"hovertemplate\":\"K_best=2000<br>F1_weighted=%{x}<br>F1_macro=%{y}<extra></extra>\",\"legendgroup\":\"2000\",\"marker\":{\"color\":\"#FECB52\",\"symbol\":\"circle\"},\"mode\":\"markers\",\"name\":\"2000\",\"orientation\":\"v\",\"showlegend\":true,\"x\":[0.7646951554146247,0.763124913596692,0.7631820909220889],\"xaxis\":\"x\",\"y\":[0.7391744777007396,0.7387057469151893,0.7373448600300826],\"yaxis\":\"y\",\"type\":\"scatter\"},{\"hovertemplate\":\"K_best=2100<br>F1_weighted=%{x}<br>F1_macro=%{y}<extra></extra>\",\"legendgroup\":\"2100\",\"marker\":{\"color\":\"#636efa\",\"symbol\":\"circle\"},\"mode\":\"markers\",\"name\":\"2100\",\"orientation\":\"v\",\"showlegend\":true,\"x\":[0.7651300685481591],\"xaxis\":\"x\",\"y\":[0.7401282036435272],\"yaxis\":\"y\",\"type\":\"scatter\"},{\"hovertemplate\":\"K_best=2200<br>F1_weighted=%{x}<br>F1_macro=%{y}<extra></extra>\",\"legendgroup\":\"2200\",\"marker\":{\"color\":\"#EF553B\",\"symbol\":\"circle\"},\"mode\":\"markers\",\"name\":\"2200\",\"orientation\":\"v\",\"showlegend\":true,\"x\":[0.7640691046817628],\"xaxis\":\"x\",\"y\":[0.7398347432283758],\"yaxis\":\"y\",\"type\":\"scatter\"},{\"hovertemplate\":\"K_best=2300<br>F1_weighted=%{x}<br>F1_macro=%{y}<extra></extra>\",\"legendgroup\":\"2300\",\"marker\":{\"color\":\"#00cc96\",\"symbol\":\"circle\"},\"mode\":\"markers\",\"name\":\"2300\",\"orientation\":\"v\",\"showlegend\":true,\"x\":[0.7634556762950694],\"xaxis\":\"x\",\"y\":[0.7405774156929984],\"yaxis\":\"y\",\"type\":\"scatter\"},{\"hovertemplate\":\"K_best=2400<br>F1_weighted=%{x}<br>F1_macro=%{y}<extra></extra>\",\"legendgroup\":\"2400\",\"marker\":{\"color\":\"#ab63fa\",\"symbol\":\"circle\"},\"mode\":\"markers\",\"name\":\"2400\",\"orientation\":\"v\",\"showlegend\":true,\"x\":[0.7666519522438892],\"xaxis\":\"x\",\"y\":[0.7420623443246188],\"yaxis\":\"y\",\"type\":\"scatter\"},{\"hovertemplate\":\"K_best=2500<br>F1_weighted=%{x}<br>F1_macro=%{y}<extra></extra>\",\"legendgroup\":\"2500\",\"marker\":{\"color\":\"#FFA15A\",\"symbol\":\"circle\"},\"mode\":\"markers\",\"name\":\"2500\",\"orientation\":\"v\",\"showlegend\":true,\"x\":[0.7631040446609875],\"xaxis\":\"x\",\"y\":[0.7374215190297748],\"yaxis\":\"y\",\"type\":\"scatter\"},{\"hovertemplate\":\"K_best=2600<br>F1_weighted=%{x}<br>F1_macro=%{y}<extra></extra>\",\"legendgroup\":\"2600\",\"marker\":{\"color\":\"#19d3f3\",\"symbol\":\"circle\"},\"mode\":\"markers\",\"name\":\"2600\",\"orientation\":\"v\",\"showlegend\":true,\"x\":[0.7642484411518937],\"xaxis\":\"x\",\"y\":[0.7388283732258073],\"yaxis\":\"y\",\"type\":\"scatter\"},{\"hovertemplate\":\"K_best=2700<br>F1_weighted=%{x}<br>F1_macro=%{y}<extra></extra>\",\"legendgroup\":\"2700\",\"marker\":{\"color\":\"#FF6692\",\"symbol\":\"circle\"},\"mode\":\"markers\",\"name\":\"2700\",\"orientation\":\"v\",\"showlegend\":true,\"x\":[0.7664184359004327],\"xaxis\":\"x\",\"y\":[0.7427952597733134],\"yaxis\":\"y\",\"type\":\"scatter\"},{\"hovertemplate\":\"K_best=2800<br>F1_weighted=%{x}<br>F1_macro=%{y}<extra></extra>\",\"legendgroup\":\"2800\",\"marker\":{\"color\":\"#B6E880\",\"symbol\":\"circle\"},\"mode\":\"markers\",\"name\":\"2800\",\"orientation\":\"v\",\"showlegend\":true,\"x\":[0.7651991890808573],\"xaxis\":\"x\",\"y\":[0.7413668489135264],\"yaxis\":\"y\",\"type\":\"scatter\"},{\"hovertemplate\":\"K_best=2900<br>F1_weighted=%{x}<br>F1_macro=%{y}<extra></extra>\",\"legendgroup\":\"2900\",\"marker\":{\"color\":\"#FF97FF\",\"symbol\":\"circle\"},\"mode\":\"markers\",\"name\":\"2900\",\"orientation\":\"v\",\"showlegend\":true,\"x\":[0.7642636229687173],\"xaxis\":\"x\",\"y\":[0.7393399791271983],\"yaxis\":\"y\",\"type\":\"scatter\"},{\"hovertemplate\":\"K_best=3000<br>F1_weighted=%{x}<br>F1_macro=%{y}<extra></extra>\",\"legendgroup\":\"3000\",\"marker\":{\"color\":\"#FECB52\",\"symbol\":\"circle\"},\"mode\":\"markers\",\"name\":\"3000\",\"orientation\":\"v\",\"showlegend\":true,\"x\":[0.7728115870171661,0.7695964127448904,0.7686469801379018],\"xaxis\":\"x\",\"y\":[0.7507191836415371,0.748339046240841,0.7471721242945454],\"yaxis\":\"y\",\"type\":\"scatter\"},{\"hovertemplate\":\"K_best=3100<br>F1_weighted=%{x}<br>F1_macro=%{y}<extra></extra>\",\"legendgroup\":\"3100\",\"marker\":{\"color\":\"#636efa\",\"symbol\":\"circle\"},\"mode\":\"markers\",\"name\":\"3100\",\"orientation\":\"v\",\"showlegend\":true,\"x\":[0.7710447520840598],\"xaxis\":\"x\",\"y\":[0.7491742553012649],\"yaxis\":\"y\",\"type\":\"scatter\"},{\"hovertemplate\":\"K_best=3200<br>F1_weighted=%{x}<br>F1_macro=%{y}<extra></extra>\",\"legendgroup\":\"3200\",\"marker\":{\"color\":\"#EF553B\",\"symbol\":\"circle\"},\"mode\":\"markers\",\"name\":\"3200\",\"orientation\":\"v\",\"showlegend\":true,\"x\":[0.7720737710613247],\"xaxis\":\"x\",\"y\":[0.7469527767391648],\"yaxis\":\"y\",\"type\":\"scatter\"},{\"hovertemplate\":\"K_best=3300<br>F1_weighted=%{x}<br>F1_macro=%{y}<extra></extra>\",\"legendgroup\":\"3300\",\"marker\":{\"color\":\"#00cc96\",\"symbol\":\"circle\"},\"mode\":\"markers\",\"name\":\"3300\",\"orientation\":\"v\",\"showlegend\":true,\"x\":[0.771917879523896],\"xaxis\":\"x\",\"y\":[0.749507999171707],\"yaxis\":\"y\",\"type\":\"scatter\"},{\"hovertemplate\":\"K_best=3400<br>F1_weighted=%{x}<br>F1_macro=%{y}<extra></extra>\",\"legendgroup\":\"3400\",\"marker\":{\"color\":\"#ab63fa\",\"symbol\":\"circle\"},\"mode\":\"markers\",\"name\":\"3400\",\"orientation\":\"v\",\"showlegend\":true,\"x\":[0.7727128025624389],\"xaxis\":\"x\",\"y\":[0.7505642161727827],\"yaxis\":\"y\",\"type\":\"scatter\"},{\"hovertemplate\":\"K_best=3500<br>F1_weighted=%{x}<br>F1_macro=%{y}<extra></extra>\",\"legendgroup\":\"3500\",\"marker\":{\"color\":\"#FFA15A\",\"symbol\":\"circle\"},\"mode\":\"markers\",\"name\":\"3500\",\"orientation\":\"v\",\"showlegend\":true,\"x\":[0.7718867655026286],\"xaxis\":\"x\",\"y\":[0.7507274662911224],\"yaxis\":\"y\",\"type\":\"scatter\"},{\"hovertemplate\":\"K_best=3600<br>F1_weighted=%{x}<br>F1_macro=%{y}<extra></extra>\",\"legendgroup\":\"3600\",\"marker\":{\"color\":\"#19d3f3\",\"symbol\":\"circle\"},\"mode\":\"markers\",\"name\":\"3600\",\"orientation\":\"v\",\"showlegend\":true,\"x\":[0.7714045532779048],\"xaxis\":\"x\",\"y\":[0.7496278842512497],\"yaxis\":\"y\",\"type\":\"scatter\"},{\"hovertemplate\":\"K_best=3700<br>F1_weighted=%{x}<br>F1_macro=%{y}<extra></extra>\",\"legendgroup\":\"3700\",\"marker\":{\"color\":\"#FF6692\",\"symbol\":\"circle\"},\"mode\":\"markers\",\"name\":\"3700\",\"orientation\":\"v\",\"showlegend\":true,\"x\":[0.7710154320164699],\"xaxis\":\"x\",\"y\":[0.7499843455186801],\"yaxis\":\"y\",\"type\":\"scatter\"},{\"hovertemplate\":\"K_best=3800<br>F1_weighted=%{x}<br>F1_macro=%{y}<extra></extra>\",\"legendgroup\":\"3800\",\"marker\":{\"color\":\"#B6E880\",\"symbol\":\"circle\"},\"mode\":\"markers\",\"name\":\"3800\",\"orientation\":\"v\",\"showlegend\":true,\"x\":[0.7707421340520973],\"xaxis\":\"x\",\"y\":[0.7503126101097952],\"yaxis\":\"y\",\"type\":\"scatter\"},{\"hovertemplate\":\"K_best=3900<br>F1_weighted=%{x}<br>F1_macro=%{y}<extra></extra>\",\"legendgroup\":\"3900\",\"marker\":{\"color\":\"#FF97FF\",\"symbol\":\"circle\"},\"mode\":\"markers\",\"name\":\"3900\",\"orientation\":\"v\",\"showlegend\":true,\"x\":[0.7710801846129408],\"xaxis\":\"x\",\"y\":[0.7518354109051327],\"yaxis\":\"y\",\"type\":\"scatter\"},{\"hovertemplate\":\"K_best=4000<br>F1_weighted=%{x}<br>F1_macro=%{y}<extra></extra>\",\"legendgroup\":\"4000\",\"marker\":{\"color\":\"#FECB52\",\"symbol\":\"circle\"},\"mode\":\"markers\",\"name\":\"4000\",\"orientation\":\"v\",\"showlegend\":true,\"x\":[0.7763722024915706,0.7721026077807676,0.7719424773260299],\"xaxis\":\"x\",\"y\":[0.7543203375184303,0.7529825064253717,0.7522572237723452],\"yaxis\":\"y\",\"type\":\"scatter\"},{\"hovertemplate\":\"K_best=4100<br>F1_weighted=%{x}<br>F1_macro=%{y}<extra></extra>\",\"legendgroup\":\"4100\",\"marker\":{\"color\":\"#636efa\",\"symbol\":\"circle\"},\"mode\":\"markers\",\"name\":\"4100\",\"orientation\":\"v\",\"showlegend\":true,\"x\":[0.773487878505366],\"xaxis\":\"x\",\"y\":[0.7536244038984519],\"yaxis\":\"y\",\"type\":\"scatter\"},{\"hovertemplate\":\"K_best=4200<br>F1_weighted=%{x}<br>F1_macro=%{y}<extra></extra>\",\"legendgroup\":\"4200\",\"marker\":{\"color\":\"#EF553B\",\"symbol\":\"circle\"},\"mode\":\"markers\",\"name\":\"4200\",\"orientation\":\"v\",\"showlegend\":true,\"x\":[0.7733270451734074],\"xaxis\":\"x\",\"y\":[0.7534540320882058],\"yaxis\":\"y\",\"type\":\"scatter\"},{\"hovertemplate\":\"K_best=4300<br>F1_weighted=%{x}<br>F1_macro=%{y}<extra></extra>\",\"legendgroup\":\"4300\",\"marker\":{\"color\":\"#00cc96\",\"symbol\":\"circle\"},\"mode\":\"markers\",\"name\":\"4300\",\"orientation\":\"v\",\"showlegend\":true,\"x\":[0.7727044758218207],\"xaxis\":\"x\",\"y\":[0.7523305664025544],\"yaxis\":\"y\",\"type\":\"scatter\"},{\"hovertemplate\":\"K_best=4400<br>F1_weighted=%{x}<br>F1_macro=%{y}<extra></extra>\",\"legendgroup\":\"4400\",\"marker\":{\"color\":\"#ab63fa\",\"symbol\":\"circle\"},\"mode\":\"markers\",\"name\":\"4400\",\"orientation\":\"v\",\"showlegend\":true,\"x\":[0.7726685034142909],\"xaxis\":\"x\",\"y\":[0.7525797166475499],\"yaxis\":\"y\",\"type\":\"scatter\"},{\"hovertemplate\":\"K_best=4500<br>F1_weighted=%{x}<br>F1_macro=%{y}<extra></extra>\",\"legendgroup\":\"4500\",\"marker\":{\"color\":\"#FFA15A\",\"symbol\":\"circle\"},\"mode\":\"markers\",\"name\":\"4500\",\"orientation\":\"v\",\"showlegend\":true,\"x\":[0.7750870092095711],\"xaxis\":\"x\",\"y\":[0.7550414918237512],\"yaxis\":\"y\",\"type\":\"scatter\"},{\"hovertemplate\":\"K_best=4600<br>F1_weighted=%{x}<br>F1_macro=%{y}<extra></extra>\",\"legendgroup\":\"4600\",\"marker\":{\"color\":\"#19d3f3\",\"symbol\":\"circle\"},\"mode\":\"markers\",\"name\":\"4600\",\"orientation\":\"v\",\"showlegend\":true,\"x\":[0.7745230895039079],\"xaxis\":\"x\",\"y\":[0.7541801694254985],\"yaxis\":\"y\",\"type\":\"scatter\"},{\"hovertemplate\":\"K_best=4700<br>F1_weighted=%{x}<br>F1_macro=%{y}<extra></extra>\",\"legendgroup\":\"4700\",\"marker\":{\"color\":\"#FF6692\",\"symbol\":\"circle\"},\"mode\":\"markers\",\"name\":\"4700\",\"orientation\":\"v\",\"showlegend\":true,\"x\":[0.7729952909485924],\"xaxis\":\"x\",\"y\":[0.7536121383786373],\"yaxis\":\"y\",\"type\":\"scatter\"},{\"hovertemplate\":\"K_best=4800<br>F1_weighted=%{x}<br>F1_macro=%{y}<extra></extra>\",\"legendgroup\":\"4800\",\"marker\":{\"color\":\"#B6E880\",\"symbol\":\"circle\"},\"mode\":\"markers\",\"name\":\"4800\",\"orientation\":\"v\",\"showlegend\":true,\"x\":[0.7732507918801486],\"xaxis\":\"x\",\"y\":[0.7530779358417922],\"yaxis\":\"y\",\"type\":\"scatter\"},{\"hovertemplate\":\"K_best=4900<br>F1_weighted=%{x}<br>F1_macro=%{y}<extra></extra>\",\"legendgroup\":\"4900\",\"marker\":{\"color\":\"#FF97FF\",\"symbol\":\"circle\"},\"mode\":\"markers\",\"name\":\"4900\",\"orientation\":\"v\",\"showlegend\":true,\"x\":[0.7754910650428899],\"xaxis\":\"x\",\"y\":[0.7543684692138279],\"yaxis\":\"y\",\"type\":\"scatter\"},{\"hovertemplate\":\"K_best=5000<br>F1_weighted=%{x}<br>F1_macro=%{y}<extra></extra>\",\"legendgroup\":\"5000\",\"marker\":{\"color\":\"#FECB52\",\"symbol\":\"circle\"},\"mode\":\"markers\",\"name\":\"5000\",\"orientation\":\"v\",\"showlegend\":true,\"x\":[0.7735927556073424,0.7756500196299446,0.7740604183647923],\"xaxis\":\"x\",\"y\":[0.7550797456899312,0.7561305893673423,0.7546466596521682],\"yaxis\":\"y\",\"type\":\"scatter\"},{\"hovertemplate\":\"K_best=5100<br>F1_weighted=%{x}<br>F1_macro=%{y}<extra></extra>\",\"legendgroup\":\"5100\",\"marker\":{\"color\":\"#636efa\",\"symbol\":\"circle\"},\"mode\":\"markers\",\"name\":\"5100\",\"orientation\":\"v\",\"showlegend\":true,\"x\":[0.7739971564028976],\"xaxis\":\"x\",\"y\":[0.755714262854009],\"yaxis\":\"y\",\"type\":\"scatter\"},{\"hovertemplate\":\"K_best=5200<br>F1_weighted=%{x}<br>F1_macro=%{y}<extra></extra>\",\"legendgroup\":\"5200\",\"marker\":{\"color\":\"#EF553B\",\"symbol\":\"circle\"},\"mode\":\"markers\",\"name\":\"5200\",\"orientation\":\"v\",\"showlegend\":true,\"x\":[0.774057716337475],\"xaxis\":\"x\",\"y\":[0.7555621433721941],\"yaxis\":\"y\",\"type\":\"scatter\"},{\"hovertemplate\":\"K_best=5300<br>F1_weighted=%{x}<br>F1_macro=%{y}<extra></extra>\",\"legendgroup\":\"5300\",\"marker\":{\"color\":\"#00cc96\",\"symbol\":\"circle\"},\"mode\":\"markers\",\"name\":\"5300\",\"orientation\":\"v\",\"showlegend\":true,\"x\":[0.7748472094139834],\"xaxis\":\"x\",\"y\":[0.7548419994999337],\"yaxis\":\"y\",\"type\":\"scatter\"},{\"hovertemplate\":\"K_best=5400<br>F1_weighted=%{x}<br>F1_macro=%{y}<extra></extra>\",\"legendgroup\":\"5400\",\"marker\":{\"color\":\"#ab63fa\",\"symbol\":\"circle\"},\"mode\":\"markers\",\"name\":\"5400\",\"orientation\":\"v\",\"showlegend\":true,\"x\":[0.772483092708822],\"xaxis\":\"x\",\"y\":[0.7526075263164009],\"yaxis\":\"y\",\"type\":\"scatter\"},{\"hovertemplate\":\"K_best=5500<br>F1_weighted=%{x}<br>F1_macro=%{y}<extra></extra>\",\"legendgroup\":\"5500\",\"marker\":{\"color\":\"#FFA15A\",\"symbol\":\"circle\"},\"mode\":\"markers\",\"name\":\"5500\",\"orientation\":\"v\",\"showlegend\":true,\"x\":[0.7752252315763173],\"xaxis\":\"x\",\"y\":[0.7563808325300673],\"yaxis\":\"y\",\"type\":\"scatter\"},{\"hovertemplate\":\"K_best=5600<br>F1_weighted=%{x}<br>F1_macro=%{y}<extra></extra>\",\"legendgroup\":\"5600\",\"marker\":{\"color\":\"#19d3f3\",\"symbol\":\"circle\"},\"mode\":\"markers\",\"name\":\"5600\",\"orientation\":\"v\",\"showlegend\":true,\"x\":[0.7761397823642022],\"xaxis\":\"x\",\"y\":[0.7575361917776765],\"yaxis\":\"y\",\"type\":\"scatter\"},{\"hovertemplate\":\"K_best=5700<br>F1_weighted=%{x}<br>F1_macro=%{y}<extra></extra>\",\"legendgroup\":\"5700\",\"marker\":{\"color\":\"#FF6692\",\"symbol\":\"circle\"},\"mode\":\"markers\",\"name\":\"5700\",\"orientation\":\"v\",\"showlegend\":true,\"x\":[0.7755909585664864],\"xaxis\":\"x\",\"y\":[0.7581631142818749],\"yaxis\":\"y\",\"type\":\"scatter\"},{\"hovertemplate\":\"K_best=5800<br>F1_weighted=%{x}<br>F1_macro=%{y}<extra></extra>\",\"legendgroup\":\"5800\",\"marker\":{\"color\":\"#B6E880\",\"symbol\":\"circle\"},\"mode\":\"markers\",\"name\":\"5800\",\"orientation\":\"v\",\"showlegend\":true,\"x\":[0.773733439080513],\"xaxis\":\"x\",\"y\":[0.7556715826711028],\"yaxis\":\"y\",\"type\":\"scatter\"},{\"hovertemplate\":\"K_best=5900<br>F1_weighted=%{x}<br>F1_macro=%{y}<extra></extra>\",\"legendgroup\":\"5900\",\"marker\":{\"color\":\"#FF97FF\",\"symbol\":\"circle\"},\"mode\":\"markers\",\"name\":\"5900\",\"orientation\":\"v\",\"showlegend\":true,\"x\":[0.775961775394873],\"xaxis\":\"x\",\"y\":[0.7575029669929391],\"yaxis\":\"y\",\"type\":\"scatter\"},{\"hovertemplate\":\"K_best=6000<br>F1_weighted=%{x}<br>F1_macro=%{y}<extra></extra>\",\"legendgroup\":\"6000\",\"marker\":{\"color\":\"#FECB52\",\"symbol\":\"circle\"},\"mode\":\"markers\",\"name\":\"6000\",\"orientation\":\"v\",\"showlegend\":true,\"x\":[0.7739809387841236,0.7786520846123803,0.7767056325428527],\"xaxis\":\"x\",\"y\":[0.7540851474516087,0.7623377164774063,0.7584924286697131],\"yaxis\":\"y\",\"type\":\"scatter\"},{\"hovertemplate\":\"K_best=6100<br>F1_weighted=%{x}<br>F1_macro=%{y}<extra></extra>\",\"legendgroup\":\"6100\",\"marker\":{\"color\":\"#636efa\",\"symbol\":\"circle\"},\"mode\":\"markers\",\"name\":\"6100\",\"orientation\":\"v\",\"showlegend\":true,\"x\":[0.7767924601384872],\"xaxis\":\"x\",\"y\":[0.7576751634078304],\"yaxis\":\"y\",\"type\":\"scatter\"},{\"hovertemplate\":\"K_best=6200<br>F1_weighted=%{x}<br>F1_macro=%{y}<extra></extra>\",\"legendgroup\":\"6200\",\"marker\":{\"color\":\"#EF553B\",\"symbol\":\"circle\"},\"mode\":\"markers\",\"name\":\"6200\",\"orientation\":\"v\",\"showlegend\":true,\"x\":[0.7730544570996518],\"xaxis\":\"x\",\"y\":[0.7532830286776226],\"yaxis\":\"y\",\"type\":\"scatter\"},{\"hovertemplate\":\"K_best=6300<br>F1_weighted=%{x}<br>F1_macro=%{y}<extra></extra>\",\"legendgroup\":\"6300\",\"marker\":{\"color\":\"#00cc96\",\"symbol\":\"circle\"},\"mode\":\"markers\",\"name\":\"6300\",\"orientation\":\"v\",\"showlegend\":true,\"x\":[0.7757299557656234],\"xaxis\":\"x\",\"y\":[0.7580276219551394],\"yaxis\":\"y\",\"type\":\"scatter\"},{\"hovertemplate\":\"K_best=6400<br>F1_weighted=%{x}<br>F1_macro=%{y}<extra></extra>\",\"legendgroup\":\"6400\",\"marker\":{\"color\":\"#ab63fa\",\"symbol\":\"circle\"},\"mode\":\"markers\",\"name\":\"6400\",\"orientation\":\"v\",\"showlegend\":true,\"x\":[0.7759152083826405],\"xaxis\":\"x\",\"y\":[0.7576925514455838],\"yaxis\":\"y\",\"type\":\"scatter\"},{\"hovertemplate\":\"K_best=6500<br>F1_weighted=%{x}<br>F1_macro=%{y}<extra></extra>\",\"legendgroup\":\"6500\",\"marker\":{\"color\":\"#FFA15A\",\"symbol\":\"circle\"},\"mode\":\"markers\",\"name\":\"6500\",\"orientation\":\"v\",\"showlegend\":true,\"x\":[0.7728919542834652],\"xaxis\":\"x\",\"y\":[0.7548361805423449],\"yaxis\":\"y\",\"type\":\"scatter\"},{\"hovertemplate\":\"K_best=6600<br>F1_weighted=%{x}<br>F1_macro=%{y}<extra></extra>\",\"legendgroup\":\"6600\",\"marker\":{\"color\":\"#19d3f3\",\"symbol\":\"circle\"},\"mode\":\"markers\",\"name\":\"6600\",\"orientation\":\"v\",\"showlegend\":true,\"x\":[0.7755918020744035],\"xaxis\":\"x\",\"y\":[0.7571440532321744],\"yaxis\":\"y\",\"type\":\"scatter\"},{\"hovertemplate\":\"K_best=6700<br>F1_weighted=%{x}<br>F1_macro=%{y}<extra></extra>\",\"legendgroup\":\"6700\",\"marker\":{\"color\":\"#FF6692\",\"symbol\":\"circle\"},\"mode\":\"markers\",\"name\":\"6700\",\"orientation\":\"v\",\"showlegend\":true,\"x\":[0.7738508008829696],\"xaxis\":\"x\",\"y\":[0.7569372173577897],\"yaxis\":\"y\",\"type\":\"scatter\"},{\"hovertemplate\":\"K_best=6800<br>F1_weighted=%{x}<br>F1_macro=%{y}<extra></extra>\",\"legendgroup\":\"6800\",\"marker\":{\"color\":\"#B6E880\",\"symbol\":\"circle\"},\"mode\":\"markers\",\"name\":\"6800\",\"orientation\":\"v\",\"showlegend\":true,\"x\":[0.7743529962055682],\"xaxis\":\"x\",\"y\":[0.7562828881618131],\"yaxis\":\"y\",\"type\":\"scatter\"},{\"hovertemplate\":\"K_best=6900<br>F1_weighted=%{x}<br>F1_macro=%{y}<extra></extra>\",\"legendgroup\":\"6900\",\"marker\":{\"color\":\"#FF97FF\",\"symbol\":\"circle\"},\"mode\":\"markers\",\"name\":\"6900\",\"orientation\":\"v\",\"showlegend\":true,\"x\":[0.7745905813796582],\"xaxis\":\"x\",\"y\":[0.7561054626760191],\"yaxis\":\"y\",\"type\":\"scatter\"},{\"hovertemplate\":\"K_best=7000<br>F1_weighted=%{x}<br>F1_macro=%{y}<extra></extra>\",\"legendgroup\":\"7000\",\"marker\":{\"color\":\"#FECB52\",\"symbol\":\"circle\"},\"mode\":\"markers\",\"name\":\"7000\",\"orientation\":\"v\",\"showlegend\":true,\"x\":[0.7748432333860433,0.7762357832183145,0.7748432333860433],\"xaxis\":\"x\",\"y\":[0.7577698905442368,0.7607332418646136,0.7577698905442368],\"yaxis\":\"y\",\"type\":\"scatter\"},{\"hovertemplate\":\"K_best=7100<br>F1_weighted=%{x}<br>F1_macro=%{y}<extra></extra>\",\"legendgroup\":\"7100\",\"marker\":{\"color\":\"#636efa\",\"symbol\":\"circle\"},\"mode\":\"markers\",\"name\":\"7100\",\"orientation\":\"v\",\"showlegend\":true,\"x\":[0.7758752098367897],\"xaxis\":\"x\",\"y\":[0.7587328970057032],\"yaxis\":\"y\",\"type\":\"scatter\"},{\"hovertemplate\":\"K_best=7200<br>F1_weighted=%{x}<br>F1_macro=%{y}<extra></extra>\",\"legendgroup\":\"7200\",\"marker\":{\"color\":\"#EF553B\",\"symbol\":\"circle\"},\"mode\":\"markers\",\"name\":\"7200\",\"orientation\":\"v\",\"showlegend\":true,\"x\":[0.7753334424478261],\"xaxis\":\"x\",\"y\":[0.7578140904053624],\"yaxis\":\"y\",\"type\":\"scatter\"},{\"hovertemplate\":\"K_best=7300<br>F1_weighted=%{x}<br>F1_macro=%{y}<extra></extra>\",\"legendgroup\":\"7300\",\"marker\":{\"color\":\"#00cc96\",\"symbol\":\"circle\"},\"mode\":\"markers\",\"name\":\"7300\",\"orientation\":\"v\",\"showlegend\":true,\"x\":[0.7754490986759723],\"xaxis\":\"x\",\"y\":[0.7583078329589497],\"yaxis\":\"y\",\"type\":\"scatter\"},{\"hovertemplate\":\"K_best=7400<br>F1_weighted=%{x}<br>F1_macro=%{y}<extra></extra>\",\"legendgroup\":\"7400\",\"marker\":{\"color\":\"#ab63fa\",\"symbol\":\"circle\"},\"mode\":\"markers\",\"name\":\"7400\",\"orientation\":\"v\",\"showlegend\":true,\"x\":[0.7720022873442216],\"xaxis\":\"x\",\"y\":[0.7554297364617651],\"yaxis\":\"y\",\"type\":\"scatter\"},{\"hovertemplate\":\"K_best=7500<br>F1_weighted=%{x}<br>F1_macro=%{y}<extra></extra>\",\"legendgroup\":\"7500\",\"marker\":{\"color\":\"#FFA15A\",\"symbol\":\"circle\"},\"mode\":\"markers\",\"name\":\"7500\",\"orientation\":\"v\",\"showlegend\":true,\"x\":[0.776278824858956],\"xaxis\":\"x\",\"y\":[0.7594764764819643],\"yaxis\":\"y\",\"type\":\"scatter\"},{\"hovertemplate\":\"K_best=7600<br>F1_weighted=%{x}<br>F1_macro=%{y}<extra></extra>\",\"legendgroup\":\"7600\",\"marker\":{\"color\":\"#19d3f3\",\"symbol\":\"circle\"},\"mode\":\"markers\",\"name\":\"7600\",\"orientation\":\"v\",\"showlegend\":true,\"x\":[0.7744852178123116],\"xaxis\":\"x\",\"y\":[0.7589889461668565],\"yaxis\":\"y\",\"type\":\"scatter\"},{\"hovertemplate\":\"K_best=7700<br>F1_weighted=%{x}<br>F1_macro=%{y}<extra></extra>\",\"legendgroup\":\"7700\",\"marker\":{\"color\":\"#FF6692\",\"symbol\":\"circle\"},\"mode\":\"markers\",\"name\":\"7700\",\"orientation\":\"v\",\"showlegend\":true,\"x\":[0.7720571197765372],\"xaxis\":\"x\",\"y\":[0.7554041870178578],\"yaxis\":\"y\",\"type\":\"scatter\"},{\"hovertemplate\":\"K_best=7800<br>F1_weighted=%{x}<br>F1_macro=%{y}<extra></extra>\",\"legendgroup\":\"7800\",\"marker\":{\"color\":\"#B6E880\",\"symbol\":\"circle\"},\"mode\":\"markers\",\"name\":\"7800\",\"orientation\":\"v\",\"showlegend\":true,\"x\":[0.775222748752963],\"xaxis\":\"x\",\"y\":[0.7576618651457893],\"yaxis\":\"y\",\"type\":\"scatter\"},{\"hovertemplate\":\"K_best=7900<br>F1_weighted=%{x}<br>F1_macro=%{y}<extra></extra>\",\"legendgroup\":\"7900\",\"marker\":{\"color\":\"#FF97FF\",\"symbol\":\"circle\"},\"mode\":\"markers\",\"name\":\"7900\",\"orientation\":\"v\",\"showlegend\":true,\"x\":[0.7740779205865668],\"xaxis\":\"x\",\"y\":[0.7585882536567163],\"yaxis\":\"y\",\"type\":\"scatter\"},{\"hovertemplate\":\"K_best=8000<br>F1_weighted=%{x}<br>F1_macro=%{y}<extra></extra>\",\"legendgroup\":\"8000\",\"marker\":{\"color\":\"#FECB52\",\"symbol\":\"circle\"},\"mode\":\"markers\",\"name\":\"8000\",\"orientation\":\"v\",\"showlegend\":true,\"x\":[0.7763457491286679],\"xaxis\":\"x\",\"y\":[0.7616637313259055],\"yaxis\":\"y\",\"type\":\"scatter\"},{\"hovertemplate\":\"K_best=8100<br>F1_weighted=%{x}<br>F1_macro=%{y}<extra></extra>\",\"legendgroup\":\"8100\",\"marker\":{\"color\":\"#636efa\",\"symbol\":\"circle\"},\"mode\":\"markers\",\"name\":\"8100\",\"orientation\":\"v\",\"showlegend\":true,\"x\":[0.7754280030104601],\"xaxis\":\"x\",\"y\":[0.7587421856242],\"yaxis\":\"y\",\"type\":\"scatter\"},{\"hovertemplate\":\"K_best=8200<br>F1_weighted=%{x}<br>F1_macro=%{y}<extra></extra>\",\"legendgroup\":\"8200\",\"marker\":{\"color\":\"#EF553B\",\"symbol\":\"circle\"},\"mode\":\"markers\",\"name\":\"8200\",\"orientation\":\"v\",\"showlegend\":true,\"x\":[0.7764936560925467],\"xaxis\":\"x\",\"y\":[0.7616054469453649],\"yaxis\":\"y\",\"type\":\"scatter\"},{\"hovertemplate\":\"K_best=8300<br>F1_weighted=%{x}<br>F1_macro=%{y}<extra></extra>\",\"legendgroup\":\"8300\",\"marker\":{\"color\":\"#00cc96\",\"symbol\":\"circle\"},\"mode\":\"markers\",\"name\":\"8300\",\"orientation\":\"v\",\"showlegend\":true,\"x\":[0.7766266084420309],\"xaxis\":\"x\",\"y\":[0.7619797646018853],\"yaxis\":\"y\",\"type\":\"scatter\"},{\"hovertemplate\":\"K_best=8400<br>F1_weighted=%{x}<br>F1_macro=%{y}<extra></extra>\",\"legendgroup\":\"8400\",\"marker\":{\"color\":\"#ab63fa\",\"symbol\":\"circle\"},\"mode\":\"markers\",\"name\":\"8400\",\"orientation\":\"v\",\"showlegend\":true,\"x\":[0.7776717521335479],\"xaxis\":\"x\",\"y\":[0.762649153909496],\"yaxis\":\"y\",\"type\":\"scatter\"},{\"hovertemplate\":\"K_best=8500<br>F1_weighted=%{x}<br>F1_macro=%{y}<extra></extra>\",\"legendgroup\":\"8500\",\"marker\":{\"color\":\"#FFA15A\",\"symbol\":\"circle\"},\"mode\":\"markers\",\"name\":\"8500\",\"orientation\":\"v\",\"showlegend\":true,\"x\":[0.7749386835501847],\"xaxis\":\"x\",\"y\":[0.759399572498586],\"yaxis\":\"y\",\"type\":\"scatter\"},{\"hovertemplate\":\"K_best=8600<br>F1_weighted=%{x}<br>F1_macro=%{y}<extra></extra>\",\"legendgroup\":\"8600\",\"marker\":{\"color\":\"#19d3f3\",\"symbol\":\"circle\"},\"mode\":\"markers\",\"name\":\"8600\",\"orientation\":\"v\",\"showlegend\":true,\"x\":[0.7770545652316435],\"xaxis\":\"x\",\"y\":[0.7637992057175802],\"yaxis\":\"y\",\"type\":\"scatter\"},{\"hovertemplate\":\"K_best=8700<br>F1_weighted=%{x}<br>F1_macro=%{y}<extra></extra>\",\"legendgroup\":\"8700\",\"marker\":{\"color\":\"#FF6692\",\"symbol\":\"circle\"},\"mode\":\"markers\",\"name\":\"8700\",\"orientation\":\"v\",\"showlegend\":true,\"x\":[0.7755966155465953],\"xaxis\":\"x\",\"y\":[0.7607515234872223],\"yaxis\":\"y\",\"type\":\"scatter\"},{\"hovertemplate\":\"K_best=8800<br>F1_weighted=%{x}<br>F1_macro=%{y}<extra></extra>\",\"legendgroup\":\"8800\",\"marker\":{\"color\":\"#B6E880\",\"symbol\":\"circle\"},\"mode\":\"markers\",\"name\":\"8800\",\"orientation\":\"v\",\"showlegend\":true,\"x\":[0.7750644314440746],\"xaxis\":\"x\",\"y\":[0.7612472548469198],\"yaxis\":\"y\",\"type\":\"scatter\"},{\"hovertemplate\":\"K_best=8900<br>F1_weighted=%{x}<br>F1_macro=%{y}<extra></extra>\",\"legendgroup\":\"8900\",\"marker\":{\"color\":\"#FF97FF\",\"symbol\":\"circle\"},\"mode\":\"markers\",\"name\":\"8900\",\"orientation\":\"v\",\"showlegend\":true,\"x\":[0.7753357224208052],\"xaxis\":\"x\",\"y\":[0.7618668794780862],\"yaxis\":\"y\",\"type\":\"scatter\"}],                        {\"template\":{\"data\":{\"histogram2dcontour\":[{\"type\":\"histogram2dcontour\",\"colorbar\":{\"outlinewidth\":0,\"ticks\":\"\"},\"colorscale\":[[0.0,\"#0d0887\"],[0.1111111111111111,\"#46039f\"],[0.2222222222222222,\"#7201a8\"],[0.3333333333333333,\"#9c179e\"],[0.4444444444444444,\"#bd3786\"],[0.5555555555555556,\"#d8576b\"],[0.6666666666666666,\"#ed7953\"],[0.7777777777777778,\"#fb9f3a\"],[0.8888888888888888,\"#fdca26\"],[1.0,\"#f0f921\"]]}],\"choropleth\":[{\"type\":\"choropleth\",\"colorbar\":{\"outlinewidth\":0,\"ticks\":\"\"}}],\"histogram2d\":[{\"type\":\"histogram2d\",\"colorbar\":{\"outlinewidth\":0,\"ticks\":\"\"},\"colorscale\":[[0.0,\"#0d0887\"],[0.1111111111111111,\"#46039f\"],[0.2222222222222222,\"#7201a8\"],[0.3333333333333333,\"#9c179e\"],[0.4444444444444444,\"#bd3786\"],[0.5555555555555556,\"#d8576b\"],[0.6666666666666666,\"#ed7953\"],[0.7777777777777778,\"#fb9f3a\"],[0.8888888888888888,\"#fdca26\"],[1.0,\"#f0f921\"]]}],\"heatmap\":[{\"type\":\"heatmap\",\"colorbar\":{\"outlinewidth\":0,\"ticks\":\"\"},\"colorscale\":[[0.0,\"#0d0887\"],[0.1111111111111111,\"#46039f\"],[0.2222222222222222,\"#7201a8\"],[0.3333333333333333,\"#9c179e\"],[0.4444444444444444,\"#bd3786\"],[0.5555555555555556,\"#d8576b\"],[0.6666666666666666,\"#ed7953\"],[0.7777777777777778,\"#fb9f3a\"],[0.8888888888888888,\"#fdca26\"],[1.0,\"#f0f921\"]]}],\"heatmapgl\":[{\"type\":\"heatmapgl\",\"colorbar\":{\"outlinewidth\":0,\"ticks\":\"\"},\"colorscale\":[[0.0,\"#0d0887\"],[0.1111111111111111,\"#46039f\"],[0.2222222222222222,\"#7201a8\"],[0.3333333333333333,\"#9c179e\"],[0.4444444444444444,\"#bd3786\"],[0.5555555555555556,\"#d8576b\"],[0.6666666666666666,\"#ed7953\"],[0.7777777777777778,\"#fb9f3a\"],[0.8888888888888888,\"#fdca26\"],[1.0,\"#f0f921\"]]}],\"contourcarpet\":[{\"type\":\"contourcarpet\",\"colorbar\":{\"outlinewidth\":0,\"ticks\":\"\"}}],\"contour\":[{\"type\":\"contour\",\"colorbar\":{\"outlinewidth\":0,\"ticks\":\"\"},\"colorscale\":[[0.0,\"#0d0887\"],[0.1111111111111111,\"#46039f\"],[0.2222222222222222,\"#7201a8\"],[0.3333333333333333,\"#9c179e\"],[0.4444444444444444,\"#bd3786\"],[0.5555555555555556,\"#d8576b\"],[0.6666666666666666,\"#ed7953\"],[0.7777777777777778,\"#fb9f3a\"],[0.8888888888888888,\"#fdca26\"],[1.0,\"#f0f921\"]]}],\"surface\":[{\"type\":\"surface\",\"colorbar\":{\"outlinewidth\":0,\"ticks\":\"\"},\"colorscale\":[[0.0,\"#0d0887\"],[0.1111111111111111,\"#46039f\"],[0.2222222222222222,\"#7201a8\"],[0.3333333333333333,\"#9c179e\"],[0.4444444444444444,\"#bd3786\"],[0.5555555555555556,\"#d8576b\"],[0.6666666666666666,\"#ed7953\"],[0.7777777777777778,\"#fb9f3a\"],[0.8888888888888888,\"#fdca26\"],[1.0,\"#f0f921\"]]}],\"mesh3d\":[{\"type\":\"mesh3d\",\"colorbar\":{\"outlinewidth\":0,\"ticks\":\"\"}}],\"scatter\":[{\"fillpattern\":{\"fillmode\":\"overlay\",\"size\":10,\"solidity\":0.2},\"type\":\"scatter\"}],\"parcoords\":[{\"type\":\"parcoords\",\"line\":{\"colorbar\":{\"outlinewidth\":0,\"ticks\":\"\"}}}],\"scatterpolargl\":[{\"type\":\"scatterpolargl\",\"marker\":{\"colorbar\":{\"outlinewidth\":0,\"ticks\":\"\"}}}],\"bar\":[{\"error_x\":{\"color\":\"#2a3f5f\"},\"error_y\":{\"color\":\"#2a3f5f\"},\"marker\":{\"line\":{\"color\":\"#E5ECF6\",\"width\":0.5},\"pattern\":{\"fillmode\":\"overlay\",\"size\":10,\"solidity\":0.2}},\"type\":\"bar\"}],\"scattergeo\":[{\"type\":\"scattergeo\",\"marker\":{\"colorbar\":{\"outlinewidth\":0,\"ticks\":\"\"}}}],\"scatterpolar\":[{\"type\":\"scatterpolar\",\"marker\":{\"colorbar\":{\"outlinewidth\":0,\"ticks\":\"\"}}}],\"histogram\":[{\"marker\":{\"pattern\":{\"fillmode\":\"overlay\",\"size\":10,\"solidity\":0.2}},\"type\":\"histogram\"}],\"scattergl\":[{\"type\":\"scattergl\",\"marker\":{\"colorbar\":{\"outlinewidth\":0,\"ticks\":\"\"}}}],\"scatter3d\":[{\"type\":\"scatter3d\",\"line\":{\"colorbar\":{\"outlinewidth\":0,\"ticks\":\"\"}},\"marker\":{\"colorbar\":{\"outlinewidth\":0,\"ticks\":\"\"}}}],\"scattermapbox\":[{\"type\":\"scattermapbox\",\"marker\":{\"colorbar\":{\"outlinewidth\":0,\"ticks\":\"\"}}}],\"scatterternary\":[{\"type\":\"scatterternary\",\"marker\":{\"colorbar\":{\"outlinewidth\":0,\"ticks\":\"\"}}}],\"scattercarpet\":[{\"type\":\"scattercarpet\",\"marker\":{\"colorbar\":{\"outlinewidth\":0,\"ticks\":\"\"}}}],\"carpet\":[{\"aaxis\":{\"endlinecolor\":\"#2a3f5f\",\"gridcolor\":\"white\",\"linecolor\":\"white\",\"minorgridcolor\":\"white\",\"startlinecolor\":\"#2a3f5f\"},\"baxis\":{\"endlinecolor\":\"#2a3f5f\",\"gridcolor\":\"white\",\"linecolor\":\"white\",\"minorgridcolor\":\"white\",\"startlinecolor\":\"#2a3f5f\"},\"type\":\"carpet\"}],\"table\":[{\"cells\":{\"fill\":{\"color\":\"#EBF0F8\"},\"line\":{\"color\":\"white\"}},\"header\":{\"fill\":{\"color\":\"#C8D4E3\"},\"line\":{\"color\":\"white\"}},\"type\":\"table\"}],\"barpolar\":[{\"marker\":{\"line\":{\"color\":\"#E5ECF6\",\"width\":0.5},\"pattern\":{\"fillmode\":\"overlay\",\"size\":10,\"solidity\":0.2}},\"type\":\"barpolar\"}],\"pie\":[{\"automargin\":true,\"type\":\"pie\"}]},\"layout\":{\"autotypenumbers\":\"strict\",\"colorway\":[\"#636efa\",\"#EF553B\",\"#00cc96\",\"#ab63fa\",\"#FFA15A\",\"#19d3f3\",\"#FF6692\",\"#B6E880\",\"#FF97FF\",\"#FECB52\"],\"font\":{\"color\":\"#2a3f5f\"},\"hovermode\":\"closest\",\"hoverlabel\":{\"align\":\"left\"},\"paper_bgcolor\":\"white\",\"plot_bgcolor\":\"#E5ECF6\",\"polar\":{\"bgcolor\":\"#E5ECF6\",\"angularaxis\":{\"gridcolor\":\"white\",\"linecolor\":\"white\",\"ticks\":\"\"},\"radialaxis\":{\"gridcolor\":\"white\",\"linecolor\":\"white\",\"ticks\":\"\"}},\"ternary\":{\"bgcolor\":\"#E5ECF6\",\"aaxis\":{\"gridcolor\":\"white\",\"linecolor\":\"white\",\"ticks\":\"\"},\"baxis\":{\"gridcolor\":\"white\",\"linecolor\":\"white\",\"ticks\":\"\"},\"caxis\":{\"gridcolor\":\"white\",\"linecolor\":\"white\",\"ticks\":\"\"}},\"coloraxis\":{\"colorbar\":{\"outlinewidth\":0,\"ticks\":\"\"}},\"colorscale\":{\"sequential\":[[0.0,\"#0d0887\"],[0.1111111111111111,\"#46039f\"],[0.2222222222222222,\"#7201a8\"],[0.3333333333333333,\"#9c179e\"],[0.4444444444444444,\"#bd3786\"],[0.5555555555555556,\"#d8576b\"],[0.6666666666666666,\"#ed7953\"],[0.7777777777777778,\"#fb9f3a\"],[0.8888888888888888,\"#fdca26\"],[1.0,\"#f0f921\"]],\"sequentialminus\":[[0.0,\"#0d0887\"],[0.1111111111111111,\"#46039f\"],[0.2222222222222222,\"#7201a8\"],[0.3333333333333333,\"#9c179e\"],[0.4444444444444444,\"#bd3786\"],[0.5555555555555556,\"#d8576b\"],[0.6666666666666666,\"#ed7953\"],[0.7777777777777778,\"#fb9f3a\"],[0.8888888888888888,\"#fdca26\"],[1.0,\"#f0f921\"]],\"diverging\":[[0,\"#8e0152\"],[0.1,\"#c51b7d\"],[0.2,\"#de77ae\"],[0.3,\"#f1b6da\"],[0.4,\"#fde0ef\"],[0.5,\"#f7f7f7\"],[0.6,\"#e6f5d0\"],[0.7,\"#b8e186\"],[0.8,\"#7fbc41\"],[0.9,\"#4d9221\"],[1,\"#276419\"]]},\"xaxis\":{\"gridcolor\":\"white\",\"linecolor\":\"white\",\"ticks\":\"\",\"title\":{\"standoff\":15},\"zerolinecolor\":\"white\",\"automargin\":true,\"zerolinewidth\":2},\"yaxis\":{\"gridcolor\":\"white\",\"linecolor\":\"white\",\"ticks\":\"\",\"title\":{\"standoff\":15},\"zerolinecolor\":\"white\",\"automargin\":true,\"zerolinewidth\":2},\"scene\":{\"xaxis\":{\"backgroundcolor\":\"#E5ECF6\",\"gridcolor\":\"white\",\"linecolor\":\"white\",\"showbackground\":true,\"ticks\":\"\",\"zerolinecolor\":\"white\",\"gridwidth\":2},\"yaxis\":{\"backgroundcolor\":\"#E5ECF6\",\"gridcolor\":\"white\",\"linecolor\":\"white\",\"showbackground\":true,\"ticks\":\"\",\"zerolinecolor\":\"white\",\"gridwidth\":2},\"zaxis\":{\"backgroundcolor\":\"#E5ECF6\",\"gridcolor\":\"white\",\"linecolor\":\"white\",\"showbackground\":true,\"ticks\":\"\",\"zerolinecolor\":\"white\",\"gridwidth\":2}},\"shapedefaults\":{\"line\":{\"color\":\"#2a3f5f\"}},\"annotationdefaults\":{\"arrowcolor\":\"#2a3f5f\",\"arrowhead\":0,\"arrowwidth\":1},\"geo\":{\"bgcolor\":\"white\",\"landcolor\":\"#E5ECF6\",\"subunitcolor\":\"white\",\"showland\":true,\"showlakes\":true,\"lakecolor\":\"white\"},\"title\":{\"x\":0.05},\"mapbox\":{\"style\":\"light\"}}},\"xaxis\":{\"anchor\":\"y\",\"domain\":[0.0,1.0],\"title\":{\"text\":\"F1_weighted\"}},\"yaxis\":{\"anchor\":\"x\",\"domain\":[0.0,1.0],\"title\":{\"text\":\"F1_macro\"}},\"legend\":{\"title\":{\"text\":\"K_best\"},\"tracegroupgap\":0},\"margin\":{\"t\":60}},                        {\"responsive\": true}                    ).then(function(){\n",
       "                            \n",
       "var gd = document.getElementById('948aa6a6-a4a6-456f-9ce3-7291f8a4d7fe');\n",
       "var x = new MutationObserver(function (mutations, observer) {{\n",
       "        var display = window.getComputedStyle(gd).display;\n",
       "        if (!display || display === 'none') {{\n",
       "            console.log([gd, 'removed!']);\n",
       "            Plotly.purge(gd);\n",
       "            observer.disconnect();\n",
       "        }}\n",
       "}});\n",
       "\n",
       "// Listen for the removal of the full notebook cells\n",
       "var notebookContainer = gd.closest('#notebook-container');\n",
       "if (notebookContainer) {{\n",
       "    x.observe(notebookContainer, {childList: true});\n",
       "}}\n",
       "\n",
       "// Listen for the clearing of the current output cell\n",
       "var outputEl = gd.closest('.output');\n",
       "if (outputEl) {{\n",
       "    x.observe(outputEl, {childList: true});\n",
       "}}\n",
       "\n",
       "                        })                };                });            </script>        </div>"
      ]
     },
     "metadata": {},
     "output_type": "display_data"
    }
   ],
   "source": [
    "import plotly.express as px\n",
    "fig = px.scatter(df_maxfeatures_kbest, x=\"F1_weighted\", y=\"F1_macro\", color='K_best')\n",
    "fig.show()"
   ]
  },
  {
   "cell_type": "code",
   "execution_count": 12,
   "id": "a583d946",
   "metadata": {},
   "outputs": [
    {
     "data": {
      "application/vnd.plotly.v1+json": {
       "config": {
        "plotlyServerURL": "https://plot.ly"
       },
       "data": [
        {
         "hovertemplate": "Max_features=1000<br>K_best=%{x}<br>F1_macro=%{y}<extra></extra>",
         "legendgroup": "1000",
         "marker": {
          "color": "#636efa",
          "symbol": "circle"
         },
         "mode": "markers",
         "name": "1000",
         "orientation": "v",
         "showlegend": true,
         "type": "scatter",
         "x": [
          "100",
          "200",
          "300",
          "400",
          "500",
          "600",
          "700",
          "800",
          "900"
         ],
         "xaxis": "x",
         "y": [
          0.5481100356378191,
          0.6138056944942349,
          0.6453965169641653,
          0.657954093400985,
          0.663419348575016,
          0.6692122580686726,
          0.6804555059518306,
          0.6813562227386113,
          0.6875864521587155
         ],
         "yaxis": "y"
        },
        {
         "hovertemplate": "Max_features=2000<br>K_best=%{x}<br>F1_macro=%{y}<extra></extra>",
         "legendgroup": "2000",
         "marker": {
          "color": "#EF553B",
          "symbol": "circle"
         },
         "mode": "markers",
         "name": "2000",
         "orientation": "v",
         "showlegend": true,
         "type": "scatter",
         "x": [
          "100",
          "200",
          "300",
          "400",
          "500",
          "600",
          "700",
          "800",
          "900",
          "1000",
          "1100",
          "1200",
          "1300",
          "1400",
          "1500",
          "1600",
          "1700",
          "1800",
          "1900"
         ],
         "xaxis": "x",
         "y": [
          0.4884555867649365,
          0.6279749593107814,
          0.657282472824771,
          0.6745916800918217,
          0.6853827997701981,
          0.695732276960801,
          0.7015967431223485,
          0.7071532843995544,
          0.7126894676725576,
          0.7174764658837728,
          0.7164002196896462,
          0.7215504177943378,
          0.7232015508508445,
          0.724831035627367,
          0.7267847610937466,
          0.7313849979874177,
          0.7312316445928088,
          0.7318585191759778,
          0.7330075412747723
         ],
         "yaxis": "y"
        },
        {
         "hovertemplate": "Max_features=3000<br>K_best=%{x}<br>F1_macro=%{y}<extra></extra>",
         "legendgroup": "3000",
         "marker": {
          "color": "#00cc96",
          "symbol": "circle"
         },
         "mode": "markers",
         "name": "3000",
         "orientation": "v",
         "showlegend": true,
         "type": "scatter",
         "x": [
          "100",
          "200",
          "300",
          "400",
          "500",
          "600",
          "700",
          "800",
          "900",
          "1000",
          "1100",
          "1200",
          "1300",
          "1400",
          "1500",
          "1600",
          "1700",
          "1800",
          "1900",
          "2000",
          "2100",
          "2200",
          "2300",
          "2400",
          "2500",
          "2600",
          "2700",
          "2800",
          "2900"
         ],
         "xaxis": "x",
         "y": [
          0.47167121907655934,
          0.6256015986298683,
          0.6529863599179949,
          0.6756828250314605,
          0.6847266422014812,
          0.6993170335355733,
          0.704504690532826,
          0.7049599474842352,
          0.7130074450477083,
          0.7153309935095911,
          0.7205329344400853,
          0.7223414983926517,
          0.7237364905304295,
          0.7255773417242163,
          0.7270378093036276,
          0.7293766827889266,
          0.7329017884798276,
          0.7357199647704898,
          0.7379127592007452,
          0.7391744777007396,
          0.7401282036435272,
          0.7398347432283758,
          0.7405774156929984,
          0.7420623443246188,
          0.7374215190297748,
          0.7388283732258073,
          0.7427952597733134,
          0.7413668489135264,
          0.7393399791271983
         ],
         "yaxis": "y"
        },
        {
         "hovertemplate": "Max_features=4000<br>K_best=%{x}<br>F1_macro=%{y}<extra></extra>",
         "legendgroup": "4000",
         "marker": {
          "color": "#ab63fa",
          "symbol": "circle"
         },
         "mode": "markers",
         "name": "4000",
         "orientation": "v",
         "showlegend": true,
         "type": "scatter",
         "x": [
          "100",
          "200",
          "300",
          "400",
          "500",
          "600",
          "700",
          "800",
          "900",
          "1000",
          "1100",
          "1200",
          "1300",
          "1400",
          "1500",
          "1600",
          "1700",
          "1800",
          "1900",
          "3000",
          "3100",
          "3200",
          "3300",
          "3400",
          "3500",
          "3600",
          "3700",
          "3800",
          "3900"
         ],
         "xaxis": "x",
         "y": [
          0.4728526761069092,
          0.6195978736235448,
          0.6491212825301341,
          0.6773739749019562,
          0.6820322052863307,
          0.6938327022776162,
          0.7043432821488119,
          0.7117594521159082,
          0.7134862584793432,
          0.715566590599231,
          0.7218048462644222,
          0.7245419516241848,
          0.7251936328332027,
          0.7277163712322823,
          0.7297656056892685,
          0.7288997903061971,
          0.7339697369479151,
          0.7341548291494537,
          0.7379876407260878,
          0.7507191836415371,
          0.7491742553012649,
          0.7469527767391648,
          0.749507999171707,
          0.7505642161727827,
          0.7507274662911224,
          0.7496278842512497,
          0.7499843455186801,
          0.7503126101097952,
          0.7518354109051327
         ],
         "yaxis": "y"
        },
        {
         "hovertemplate": "Max_features=5000<br>K_best=%{x}<br>F1_macro=%{y}<extra></extra>",
         "legendgroup": "5000",
         "marker": {
          "color": "#FFA15A",
          "symbol": "circle"
         },
         "mode": "markers",
         "name": "5000",
         "orientation": "v",
         "showlegend": true,
         "type": "scatter",
         "x": [
          "900",
          "4000",
          "4100",
          "4200",
          "4300",
          "4400",
          "4500",
          "4600",
          "4700",
          "4800",
          "4900"
         ],
         "xaxis": "x",
         "y": [
          0.7076899554596394,
          0.7543203375184303,
          0.7536244038984519,
          0.7534540320882058,
          0.7523305664025544,
          0.7525797166475499,
          0.7550414918237512,
          0.7541801694254985,
          0.7536121383786373,
          0.7530779358417922,
          0.7543684692138279
         ],
         "yaxis": "y"
        },
        {
         "hovertemplate": "Max_features=6000<br>K_best=%{x}<br>F1_macro=%{y}<extra></extra>",
         "legendgroup": "6000",
         "marker": {
          "color": "#19d3f3",
          "symbol": "circle"
         },
         "mode": "markers",
         "name": "6000",
         "orientation": "v",
         "showlegend": true,
         "type": "scatter",
         "x": [
          "900",
          "5000",
          "5100",
          "5200",
          "5300",
          "5400",
          "5500",
          "5600",
          "5700",
          "5800",
          "5900"
         ],
         "xaxis": "x",
         "y": [
          0.7108089966599763,
          0.7550797456899312,
          0.755714262854009,
          0.7555621433721941,
          0.7548419994999337,
          0.7526075263164009,
          0.7563808325300673,
          0.7575361917776765,
          0.7581631142818749,
          0.7556715826711028,
          0.7575029669929391
         ],
         "yaxis": "y"
        },
        {
         "hovertemplate": "Max_features=7000<br>K_best=%{x}<br>F1_macro=%{y}<extra></extra>",
         "legendgroup": "7000",
         "marker": {
          "color": "#FF6692",
          "symbol": "circle"
         },
         "mode": "markers",
         "name": "7000",
         "orientation": "v",
         "showlegend": true,
         "type": "scatter",
         "x": [
          "900",
          "6000",
          "6100",
          "6200",
          "6300",
          "6400",
          "6500",
          "6600",
          "6700",
          "6800",
          "6900"
         ],
         "xaxis": "x",
         "y": [
          0.7125008604501987,
          0.7540851474516087,
          0.7576751634078304,
          0.7532830286776226,
          0.7580276219551394,
          0.7576925514455838,
          0.7548361805423449,
          0.7571440532321744,
          0.7569372173577897,
          0.7562828881618131,
          0.7561054626760191
         ],
         "yaxis": "y"
        },
        {
         "hovertemplate": "Max_features=8000<br>K_best=%{x}<br>F1_macro=%{y}<extra></extra>",
         "legendgroup": "8000",
         "marker": {
          "color": "#B6E880",
          "symbol": "circle"
         },
         "mode": "markers",
         "name": "8000",
         "orientation": "v",
         "showlegend": true,
         "type": "scatter",
         "x": [
          "900",
          "7000",
          "7100",
          "7200",
          "7300",
          "7400",
          "7500",
          "7600",
          "7700",
          "7800",
          "7900",
          "1000",
          "2000",
          "3000",
          "4000",
          "5000",
          "6000",
          "7000"
         ],
         "xaxis": "x",
         "y": [
          0.715823821490382,
          0.7577698905442368,
          0.7587328970057032,
          0.7578140904053624,
          0.7583078329589497,
          0.7554297364617651,
          0.7594764764819643,
          0.7589889461668565,
          0.7554041870178578,
          0.7576618651457893,
          0.7585882536567163,
          0.7208063617642092,
          0.7373448600300826,
          0.7471721242945454,
          0.7522572237723452,
          0.7546466596521682,
          0.7584924286697131,
          0.7577698905442368
         ],
         "yaxis": "y"
        },
        {
         "hovertemplate": "Max_features=9000<br>K_best=%{x}<br>F1_macro=%{y}<extra></extra>",
         "legendgroup": "9000",
         "marker": {
          "color": "#FF97FF",
          "symbol": "circle"
         },
         "mode": "markers",
         "name": "9000",
         "orientation": "v",
         "showlegend": true,
         "type": "scatter",
         "x": [
          "900",
          "8000",
          "8100",
          "8200",
          "8300",
          "8400",
          "8500",
          "8600",
          "8700",
          "8800",
          "8900",
          "1000",
          "2000",
          "3000",
          "4000",
          "5000",
          "6000",
          "7000"
         ],
         "xaxis": "x",
         "y": [
          0.7148260102052577,
          0.7616637313259055,
          0.7587421856242,
          0.7616054469453649,
          0.7619797646018853,
          0.762649153909496,
          0.759399572498586,
          0.7637992057175802,
          0.7607515234872223,
          0.7612472548469198,
          0.7618668794780862,
          0.7173647845558294,
          0.7387057469151893,
          0.748339046240841,
          0.7529825064253717,
          0.7561305893673423,
          0.7623377164774063,
          0.7607332418646136
         ],
         "yaxis": "y"
        },
        {
         "hovertemplate": "Max_features=10000<br>K_best=%{x}<br>F1_macro=%{y}<extra></extra>",
         "legendgroup": "10000",
         "marker": {
          "color": "#FECB52",
          "symbol": "circle"
         },
         "mode": "markers",
         "name": "10000",
         "orientation": "v",
         "showlegend": true,
         "type": "scatter",
         "x": [
          "900"
         ],
         "xaxis": "x",
         "y": [
          0.7145764834817275
         ],
         "yaxis": "y"
        }
       ],
       "layout": {
        "legend": {
         "title": {
          "text": "Max_features"
         },
         "tracegroupgap": 0
        },
        "margin": {
         "t": 60
        },
        "template": {
         "data": {
          "bar": [
           {
            "error_x": {
             "color": "#2a3f5f"
            },
            "error_y": {
             "color": "#2a3f5f"
            },
            "marker": {
             "line": {
              "color": "#E5ECF6",
              "width": 0.5
             },
             "pattern": {
              "fillmode": "overlay",
              "size": 10,
              "solidity": 0.2
             }
            },
            "type": "bar"
           }
          ],
          "barpolar": [
           {
            "marker": {
             "line": {
              "color": "#E5ECF6",
              "width": 0.5
             },
             "pattern": {
              "fillmode": "overlay",
              "size": 10,
              "solidity": 0.2
             }
            },
            "type": "barpolar"
           }
          ],
          "carpet": [
           {
            "aaxis": {
             "endlinecolor": "#2a3f5f",
             "gridcolor": "white",
             "linecolor": "white",
             "minorgridcolor": "white",
             "startlinecolor": "#2a3f5f"
            },
            "baxis": {
             "endlinecolor": "#2a3f5f",
             "gridcolor": "white",
             "linecolor": "white",
             "minorgridcolor": "white",
             "startlinecolor": "#2a3f5f"
            },
            "type": "carpet"
           }
          ],
          "choropleth": [
           {
            "colorbar": {
             "outlinewidth": 0,
             "ticks": ""
            },
            "type": "choropleth"
           }
          ],
          "contour": [
           {
            "colorbar": {
             "outlinewidth": 0,
             "ticks": ""
            },
            "colorscale": [
             [
              0,
              "#0d0887"
             ],
             [
              0.1111111111111111,
              "#46039f"
             ],
             [
              0.2222222222222222,
              "#7201a8"
             ],
             [
              0.3333333333333333,
              "#9c179e"
             ],
             [
              0.4444444444444444,
              "#bd3786"
             ],
             [
              0.5555555555555556,
              "#d8576b"
             ],
             [
              0.6666666666666666,
              "#ed7953"
             ],
             [
              0.7777777777777778,
              "#fb9f3a"
             ],
             [
              0.8888888888888888,
              "#fdca26"
             ],
             [
              1,
              "#f0f921"
             ]
            ],
            "type": "contour"
           }
          ],
          "contourcarpet": [
           {
            "colorbar": {
             "outlinewidth": 0,
             "ticks": ""
            },
            "type": "contourcarpet"
           }
          ],
          "heatmap": [
           {
            "colorbar": {
             "outlinewidth": 0,
             "ticks": ""
            },
            "colorscale": [
             [
              0,
              "#0d0887"
             ],
             [
              0.1111111111111111,
              "#46039f"
             ],
             [
              0.2222222222222222,
              "#7201a8"
             ],
             [
              0.3333333333333333,
              "#9c179e"
             ],
             [
              0.4444444444444444,
              "#bd3786"
             ],
             [
              0.5555555555555556,
              "#d8576b"
             ],
             [
              0.6666666666666666,
              "#ed7953"
             ],
             [
              0.7777777777777778,
              "#fb9f3a"
             ],
             [
              0.8888888888888888,
              "#fdca26"
             ],
             [
              1,
              "#f0f921"
             ]
            ],
            "type": "heatmap"
           }
          ],
          "heatmapgl": [
           {
            "colorbar": {
             "outlinewidth": 0,
             "ticks": ""
            },
            "colorscale": [
             [
              0,
              "#0d0887"
             ],
             [
              0.1111111111111111,
              "#46039f"
             ],
             [
              0.2222222222222222,
              "#7201a8"
             ],
             [
              0.3333333333333333,
              "#9c179e"
             ],
             [
              0.4444444444444444,
              "#bd3786"
             ],
             [
              0.5555555555555556,
              "#d8576b"
             ],
             [
              0.6666666666666666,
              "#ed7953"
             ],
             [
              0.7777777777777778,
              "#fb9f3a"
             ],
             [
              0.8888888888888888,
              "#fdca26"
             ],
             [
              1,
              "#f0f921"
             ]
            ],
            "type": "heatmapgl"
           }
          ],
          "histogram": [
           {
            "marker": {
             "pattern": {
              "fillmode": "overlay",
              "size": 10,
              "solidity": 0.2
             }
            },
            "type": "histogram"
           }
          ],
          "histogram2d": [
           {
            "colorbar": {
             "outlinewidth": 0,
             "ticks": ""
            },
            "colorscale": [
             [
              0,
              "#0d0887"
             ],
             [
              0.1111111111111111,
              "#46039f"
             ],
             [
              0.2222222222222222,
              "#7201a8"
             ],
             [
              0.3333333333333333,
              "#9c179e"
             ],
             [
              0.4444444444444444,
              "#bd3786"
             ],
             [
              0.5555555555555556,
              "#d8576b"
             ],
             [
              0.6666666666666666,
              "#ed7953"
             ],
             [
              0.7777777777777778,
              "#fb9f3a"
             ],
             [
              0.8888888888888888,
              "#fdca26"
             ],
             [
              1,
              "#f0f921"
             ]
            ],
            "type": "histogram2d"
           }
          ],
          "histogram2dcontour": [
           {
            "colorbar": {
             "outlinewidth": 0,
             "ticks": ""
            },
            "colorscale": [
             [
              0,
              "#0d0887"
             ],
             [
              0.1111111111111111,
              "#46039f"
             ],
             [
              0.2222222222222222,
              "#7201a8"
             ],
             [
              0.3333333333333333,
              "#9c179e"
             ],
             [
              0.4444444444444444,
              "#bd3786"
             ],
             [
              0.5555555555555556,
              "#d8576b"
             ],
             [
              0.6666666666666666,
              "#ed7953"
             ],
             [
              0.7777777777777778,
              "#fb9f3a"
             ],
             [
              0.8888888888888888,
              "#fdca26"
             ],
             [
              1,
              "#f0f921"
             ]
            ],
            "type": "histogram2dcontour"
           }
          ],
          "mesh3d": [
           {
            "colorbar": {
             "outlinewidth": 0,
             "ticks": ""
            },
            "type": "mesh3d"
           }
          ],
          "parcoords": [
           {
            "line": {
             "colorbar": {
              "outlinewidth": 0,
              "ticks": ""
             }
            },
            "type": "parcoords"
           }
          ],
          "pie": [
           {
            "automargin": true,
            "type": "pie"
           }
          ],
          "scatter": [
           {
            "fillpattern": {
             "fillmode": "overlay",
             "size": 10,
             "solidity": 0.2
            },
            "type": "scatter"
           }
          ],
          "scatter3d": [
           {
            "line": {
             "colorbar": {
              "outlinewidth": 0,
              "ticks": ""
             }
            },
            "marker": {
             "colorbar": {
              "outlinewidth": 0,
              "ticks": ""
             }
            },
            "type": "scatter3d"
           }
          ],
          "scattercarpet": [
           {
            "marker": {
             "colorbar": {
              "outlinewidth": 0,
              "ticks": ""
             }
            },
            "type": "scattercarpet"
           }
          ],
          "scattergeo": [
           {
            "marker": {
             "colorbar": {
              "outlinewidth": 0,
              "ticks": ""
             }
            },
            "type": "scattergeo"
           }
          ],
          "scattergl": [
           {
            "marker": {
             "colorbar": {
              "outlinewidth": 0,
              "ticks": ""
             }
            },
            "type": "scattergl"
           }
          ],
          "scattermapbox": [
           {
            "marker": {
             "colorbar": {
              "outlinewidth": 0,
              "ticks": ""
             }
            },
            "type": "scattermapbox"
           }
          ],
          "scatterpolar": [
           {
            "marker": {
             "colorbar": {
              "outlinewidth": 0,
              "ticks": ""
             }
            },
            "type": "scatterpolar"
           }
          ],
          "scatterpolargl": [
           {
            "marker": {
             "colorbar": {
              "outlinewidth": 0,
              "ticks": ""
             }
            },
            "type": "scatterpolargl"
           }
          ],
          "scatterternary": [
           {
            "marker": {
             "colorbar": {
              "outlinewidth": 0,
              "ticks": ""
             }
            },
            "type": "scatterternary"
           }
          ],
          "surface": [
           {
            "colorbar": {
             "outlinewidth": 0,
             "ticks": ""
            },
            "colorscale": [
             [
              0,
              "#0d0887"
             ],
             [
              0.1111111111111111,
              "#46039f"
             ],
             [
              0.2222222222222222,
              "#7201a8"
             ],
             [
              0.3333333333333333,
              "#9c179e"
             ],
             [
              0.4444444444444444,
              "#bd3786"
             ],
             [
              0.5555555555555556,
              "#d8576b"
             ],
             [
              0.6666666666666666,
              "#ed7953"
             ],
             [
              0.7777777777777778,
              "#fb9f3a"
             ],
             [
              0.8888888888888888,
              "#fdca26"
             ],
             [
              1,
              "#f0f921"
             ]
            ],
            "type": "surface"
           }
          ],
          "table": [
           {
            "cells": {
             "fill": {
              "color": "#EBF0F8"
             },
             "line": {
              "color": "white"
             }
            },
            "header": {
             "fill": {
              "color": "#C8D4E3"
             },
             "line": {
              "color": "white"
             }
            },
            "type": "table"
           }
          ]
         },
         "layout": {
          "annotationdefaults": {
           "arrowcolor": "#2a3f5f",
           "arrowhead": 0,
           "arrowwidth": 1
          },
          "autotypenumbers": "strict",
          "coloraxis": {
           "colorbar": {
            "outlinewidth": 0,
            "ticks": ""
           }
          },
          "colorscale": {
           "diverging": [
            [
             0,
             "#8e0152"
            ],
            [
             0.1,
             "#c51b7d"
            ],
            [
             0.2,
             "#de77ae"
            ],
            [
             0.3,
             "#f1b6da"
            ],
            [
             0.4,
             "#fde0ef"
            ],
            [
             0.5,
             "#f7f7f7"
            ],
            [
             0.6,
             "#e6f5d0"
            ],
            [
             0.7,
             "#b8e186"
            ],
            [
             0.8,
             "#7fbc41"
            ],
            [
             0.9,
             "#4d9221"
            ],
            [
             1,
             "#276419"
            ]
           ],
           "sequential": [
            [
             0,
             "#0d0887"
            ],
            [
             0.1111111111111111,
             "#46039f"
            ],
            [
             0.2222222222222222,
             "#7201a8"
            ],
            [
             0.3333333333333333,
             "#9c179e"
            ],
            [
             0.4444444444444444,
             "#bd3786"
            ],
            [
             0.5555555555555556,
             "#d8576b"
            ],
            [
             0.6666666666666666,
             "#ed7953"
            ],
            [
             0.7777777777777778,
             "#fb9f3a"
            ],
            [
             0.8888888888888888,
             "#fdca26"
            ],
            [
             1,
             "#f0f921"
            ]
           ],
           "sequentialminus": [
            [
             0,
             "#0d0887"
            ],
            [
             0.1111111111111111,
             "#46039f"
            ],
            [
             0.2222222222222222,
             "#7201a8"
            ],
            [
             0.3333333333333333,
             "#9c179e"
            ],
            [
             0.4444444444444444,
             "#bd3786"
            ],
            [
             0.5555555555555556,
             "#d8576b"
            ],
            [
             0.6666666666666666,
             "#ed7953"
            ],
            [
             0.7777777777777778,
             "#fb9f3a"
            ],
            [
             0.8888888888888888,
             "#fdca26"
            ],
            [
             1,
             "#f0f921"
            ]
           ]
          },
          "colorway": [
           "#636efa",
           "#EF553B",
           "#00cc96",
           "#ab63fa",
           "#FFA15A",
           "#19d3f3",
           "#FF6692",
           "#B6E880",
           "#FF97FF",
           "#FECB52"
          ],
          "font": {
           "color": "#2a3f5f"
          },
          "geo": {
           "bgcolor": "white",
           "lakecolor": "white",
           "landcolor": "#E5ECF6",
           "showlakes": true,
           "showland": true,
           "subunitcolor": "white"
          },
          "hoverlabel": {
           "align": "left"
          },
          "hovermode": "closest",
          "mapbox": {
           "style": "light"
          },
          "paper_bgcolor": "white",
          "plot_bgcolor": "#E5ECF6",
          "polar": {
           "angularaxis": {
            "gridcolor": "white",
            "linecolor": "white",
            "ticks": ""
           },
           "bgcolor": "#E5ECF6",
           "radialaxis": {
            "gridcolor": "white",
            "linecolor": "white",
            "ticks": ""
           }
          },
          "scene": {
           "xaxis": {
            "backgroundcolor": "#E5ECF6",
            "gridcolor": "white",
            "gridwidth": 2,
            "linecolor": "white",
            "showbackground": true,
            "ticks": "",
            "zerolinecolor": "white"
           },
           "yaxis": {
            "backgroundcolor": "#E5ECF6",
            "gridcolor": "white",
            "gridwidth": 2,
            "linecolor": "white",
            "showbackground": true,
            "ticks": "",
            "zerolinecolor": "white"
           },
           "zaxis": {
            "backgroundcolor": "#E5ECF6",
            "gridcolor": "white",
            "gridwidth": 2,
            "linecolor": "white",
            "showbackground": true,
            "ticks": "",
            "zerolinecolor": "white"
           }
          },
          "shapedefaults": {
           "line": {
            "color": "#2a3f5f"
           }
          },
          "ternary": {
           "aaxis": {
            "gridcolor": "white",
            "linecolor": "white",
            "ticks": ""
           },
           "baxis": {
            "gridcolor": "white",
            "linecolor": "white",
            "ticks": ""
           },
           "bgcolor": "#E5ECF6",
           "caxis": {
            "gridcolor": "white",
            "linecolor": "white",
            "ticks": ""
           }
          },
          "title": {
           "x": 0.05
          },
          "xaxis": {
           "automargin": true,
           "gridcolor": "white",
           "linecolor": "white",
           "ticks": "",
           "title": {
            "standoff": 15
           },
           "zerolinecolor": "white",
           "zerolinewidth": 2
          },
          "yaxis": {
           "automargin": true,
           "gridcolor": "white",
           "linecolor": "white",
           "ticks": "",
           "title": {
            "standoff": 15
           },
           "zerolinecolor": "white",
           "zerolinewidth": 2
          }
         }
        },
        "xaxis": {
         "anchor": "y",
         "domain": [
          0,
          1
         ],
         "title": {
          "text": "K_best"
         }
        },
        "yaxis": {
         "anchor": "x",
         "domain": [
          0,
          1
         ],
         "title": {
          "text": "F1_macro"
         }
        }
       }
      },
      "text/html": [
       "<div>                            <div id=\"23e466a1-9f94-46e7-8376-1e363be69cfa\" class=\"plotly-graph-div\" style=\"height:525px; width:100%;\"></div>            <script type=\"text/javascript\">                require([\"plotly\"], function(Plotly) {                    window.PLOTLYENV=window.PLOTLYENV || {};                                    if (document.getElementById(\"23e466a1-9f94-46e7-8376-1e363be69cfa\")) {                    Plotly.newPlot(                        \"23e466a1-9f94-46e7-8376-1e363be69cfa\",                        [{\"hovertemplate\":\"Max_features=1000<br>K_best=%{x}<br>F1_macro=%{y}<extra></extra>\",\"legendgroup\":\"1000\",\"marker\":{\"color\":\"#636efa\",\"symbol\":\"circle\"},\"mode\":\"markers\",\"name\":\"1000\",\"orientation\":\"v\",\"showlegend\":true,\"x\":[\"100\",\"200\",\"300\",\"400\",\"500\",\"600\",\"700\",\"800\",\"900\"],\"xaxis\":\"x\",\"y\":[0.5481100356378191,0.6138056944942349,0.6453965169641653,0.657954093400985,0.663419348575016,0.6692122580686726,0.6804555059518306,0.6813562227386113,0.6875864521587155],\"yaxis\":\"y\",\"type\":\"scatter\"},{\"hovertemplate\":\"Max_features=2000<br>K_best=%{x}<br>F1_macro=%{y}<extra></extra>\",\"legendgroup\":\"2000\",\"marker\":{\"color\":\"#EF553B\",\"symbol\":\"circle\"},\"mode\":\"markers\",\"name\":\"2000\",\"orientation\":\"v\",\"showlegend\":true,\"x\":[\"100\",\"200\",\"300\",\"400\",\"500\",\"600\",\"700\",\"800\",\"900\",\"1000\",\"1100\",\"1200\",\"1300\",\"1400\",\"1500\",\"1600\",\"1700\",\"1800\",\"1900\"],\"xaxis\":\"x\",\"y\":[0.4884555867649365,0.6279749593107814,0.657282472824771,0.6745916800918217,0.6853827997701981,0.695732276960801,0.7015967431223485,0.7071532843995544,0.7126894676725576,0.7174764658837728,0.7164002196896462,0.7215504177943378,0.7232015508508445,0.724831035627367,0.7267847610937466,0.7313849979874177,0.7312316445928088,0.7318585191759778,0.7330075412747723],\"yaxis\":\"y\",\"type\":\"scatter\"},{\"hovertemplate\":\"Max_features=3000<br>K_best=%{x}<br>F1_macro=%{y}<extra></extra>\",\"legendgroup\":\"3000\",\"marker\":{\"color\":\"#00cc96\",\"symbol\":\"circle\"},\"mode\":\"markers\",\"name\":\"3000\",\"orientation\":\"v\",\"showlegend\":true,\"x\":[\"100\",\"200\",\"300\",\"400\",\"500\",\"600\",\"700\",\"800\",\"900\",\"1000\",\"1100\",\"1200\",\"1300\",\"1400\",\"1500\",\"1600\",\"1700\",\"1800\",\"1900\",\"2000\",\"2100\",\"2200\",\"2300\",\"2400\",\"2500\",\"2600\",\"2700\",\"2800\",\"2900\"],\"xaxis\":\"x\",\"y\":[0.47167121907655934,0.6256015986298683,0.6529863599179949,0.6756828250314605,0.6847266422014812,0.6993170335355733,0.704504690532826,0.7049599474842352,0.7130074450477083,0.7153309935095911,0.7205329344400853,0.7223414983926517,0.7237364905304295,0.7255773417242163,0.7270378093036276,0.7293766827889266,0.7329017884798276,0.7357199647704898,0.7379127592007452,0.7391744777007396,0.7401282036435272,0.7398347432283758,0.7405774156929984,0.7420623443246188,0.7374215190297748,0.7388283732258073,0.7427952597733134,0.7413668489135264,0.7393399791271983],\"yaxis\":\"y\",\"type\":\"scatter\"},{\"hovertemplate\":\"Max_features=4000<br>K_best=%{x}<br>F1_macro=%{y}<extra></extra>\",\"legendgroup\":\"4000\",\"marker\":{\"color\":\"#ab63fa\",\"symbol\":\"circle\"},\"mode\":\"markers\",\"name\":\"4000\",\"orientation\":\"v\",\"showlegend\":true,\"x\":[\"100\",\"200\",\"300\",\"400\",\"500\",\"600\",\"700\",\"800\",\"900\",\"1000\",\"1100\",\"1200\",\"1300\",\"1400\",\"1500\",\"1600\",\"1700\",\"1800\",\"1900\",\"3000\",\"3100\",\"3200\",\"3300\",\"3400\",\"3500\",\"3600\",\"3700\",\"3800\",\"3900\"],\"xaxis\":\"x\",\"y\":[0.4728526761069092,0.6195978736235448,0.6491212825301341,0.6773739749019562,0.6820322052863307,0.6938327022776162,0.7043432821488119,0.7117594521159082,0.7134862584793432,0.715566590599231,0.7218048462644222,0.7245419516241848,0.7251936328332027,0.7277163712322823,0.7297656056892685,0.7288997903061971,0.7339697369479151,0.7341548291494537,0.7379876407260878,0.7507191836415371,0.7491742553012649,0.7469527767391648,0.749507999171707,0.7505642161727827,0.7507274662911224,0.7496278842512497,0.7499843455186801,0.7503126101097952,0.7518354109051327],\"yaxis\":\"y\",\"type\":\"scatter\"},{\"hovertemplate\":\"Max_features=5000<br>K_best=%{x}<br>F1_macro=%{y}<extra></extra>\",\"legendgroup\":\"5000\",\"marker\":{\"color\":\"#FFA15A\",\"symbol\":\"circle\"},\"mode\":\"markers\",\"name\":\"5000\",\"orientation\":\"v\",\"showlegend\":true,\"x\":[\"900\",\"4000\",\"4100\",\"4200\",\"4300\",\"4400\",\"4500\",\"4600\",\"4700\",\"4800\",\"4900\"],\"xaxis\":\"x\",\"y\":[0.7076899554596394,0.7543203375184303,0.7536244038984519,0.7534540320882058,0.7523305664025544,0.7525797166475499,0.7550414918237512,0.7541801694254985,0.7536121383786373,0.7530779358417922,0.7543684692138279],\"yaxis\":\"y\",\"type\":\"scatter\"},{\"hovertemplate\":\"Max_features=6000<br>K_best=%{x}<br>F1_macro=%{y}<extra></extra>\",\"legendgroup\":\"6000\",\"marker\":{\"color\":\"#19d3f3\",\"symbol\":\"circle\"},\"mode\":\"markers\",\"name\":\"6000\",\"orientation\":\"v\",\"showlegend\":true,\"x\":[\"900\",\"5000\",\"5100\",\"5200\",\"5300\",\"5400\",\"5500\",\"5600\",\"5700\",\"5800\",\"5900\"],\"xaxis\":\"x\",\"y\":[0.7108089966599763,0.7550797456899312,0.755714262854009,0.7555621433721941,0.7548419994999337,0.7526075263164009,0.7563808325300673,0.7575361917776765,0.7581631142818749,0.7556715826711028,0.7575029669929391],\"yaxis\":\"y\",\"type\":\"scatter\"},{\"hovertemplate\":\"Max_features=7000<br>K_best=%{x}<br>F1_macro=%{y}<extra></extra>\",\"legendgroup\":\"7000\",\"marker\":{\"color\":\"#FF6692\",\"symbol\":\"circle\"},\"mode\":\"markers\",\"name\":\"7000\",\"orientation\":\"v\",\"showlegend\":true,\"x\":[\"900\",\"6000\",\"6100\",\"6200\",\"6300\",\"6400\",\"6500\",\"6600\",\"6700\",\"6800\",\"6900\"],\"xaxis\":\"x\",\"y\":[0.7125008604501987,0.7540851474516087,0.7576751634078304,0.7532830286776226,0.7580276219551394,0.7576925514455838,0.7548361805423449,0.7571440532321744,0.7569372173577897,0.7562828881618131,0.7561054626760191],\"yaxis\":\"y\",\"type\":\"scatter\"},{\"hovertemplate\":\"Max_features=8000<br>K_best=%{x}<br>F1_macro=%{y}<extra></extra>\",\"legendgroup\":\"8000\",\"marker\":{\"color\":\"#B6E880\",\"symbol\":\"circle\"},\"mode\":\"markers\",\"name\":\"8000\",\"orientation\":\"v\",\"showlegend\":true,\"x\":[\"900\",\"7000\",\"7100\",\"7200\",\"7300\",\"7400\",\"7500\",\"7600\",\"7700\",\"7800\",\"7900\",\"1000\",\"2000\",\"3000\",\"4000\",\"5000\",\"6000\",\"7000\"],\"xaxis\":\"x\",\"y\":[0.715823821490382,0.7577698905442368,0.7587328970057032,0.7578140904053624,0.7583078329589497,0.7554297364617651,0.7594764764819643,0.7589889461668565,0.7554041870178578,0.7576618651457893,0.7585882536567163,0.7208063617642092,0.7373448600300826,0.7471721242945454,0.7522572237723452,0.7546466596521682,0.7584924286697131,0.7577698905442368],\"yaxis\":\"y\",\"type\":\"scatter\"},{\"hovertemplate\":\"Max_features=9000<br>K_best=%{x}<br>F1_macro=%{y}<extra></extra>\",\"legendgroup\":\"9000\",\"marker\":{\"color\":\"#FF97FF\",\"symbol\":\"circle\"},\"mode\":\"markers\",\"name\":\"9000\",\"orientation\":\"v\",\"showlegend\":true,\"x\":[\"900\",\"8000\",\"8100\",\"8200\",\"8300\",\"8400\",\"8500\",\"8600\",\"8700\",\"8800\",\"8900\",\"1000\",\"2000\",\"3000\",\"4000\",\"5000\",\"6000\",\"7000\"],\"xaxis\":\"x\",\"y\":[0.7148260102052577,0.7616637313259055,0.7587421856242,0.7616054469453649,0.7619797646018853,0.762649153909496,0.759399572498586,0.7637992057175802,0.7607515234872223,0.7612472548469198,0.7618668794780862,0.7173647845558294,0.7387057469151893,0.748339046240841,0.7529825064253717,0.7561305893673423,0.7623377164774063,0.7607332418646136],\"yaxis\":\"y\",\"type\":\"scatter\"},{\"hovertemplate\":\"Max_features=10000<br>K_best=%{x}<br>F1_macro=%{y}<extra></extra>\",\"legendgroup\":\"10000\",\"marker\":{\"color\":\"#FECB52\",\"symbol\":\"circle\"},\"mode\":\"markers\",\"name\":\"10000\",\"orientation\":\"v\",\"showlegend\":true,\"x\":[\"900\"],\"xaxis\":\"x\",\"y\":[0.7145764834817275],\"yaxis\":\"y\",\"type\":\"scatter\"}],                        {\"template\":{\"data\":{\"histogram2dcontour\":[{\"type\":\"histogram2dcontour\",\"colorbar\":{\"outlinewidth\":0,\"ticks\":\"\"},\"colorscale\":[[0.0,\"#0d0887\"],[0.1111111111111111,\"#46039f\"],[0.2222222222222222,\"#7201a8\"],[0.3333333333333333,\"#9c179e\"],[0.4444444444444444,\"#bd3786\"],[0.5555555555555556,\"#d8576b\"],[0.6666666666666666,\"#ed7953\"],[0.7777777777777778,\"#fb9f3a\"],[0.8888888888888888,\"#fdca26\"],[1.0,\"#f0f921\"]]}],\"choropleth\":[{\"type\":\"choropleth\",\"colorbar\":{\"outlinewidth\":0,\"ticks\":\"\"}}],\"histogram2d\":[{\"type\":\"histogram2d\",\"colorbar\":{\"outlinewidth\":0,\"ticks\":\"\"},\"colorscale\":[[0.0,\"#0d0887\"],[0.1111111111111111,\"#46039f\"],[0.2222222222222222,\"#7201a8\"],[0.3333333333333333,\"#9c179e\"],[0.4444444444444444,\"#bd3786\"],[0.5555555555555556,\"#d8576b\"],[0.6666666666666666,\"#ed7953\"],[0.7777777777777778,\"#fb9f3a\"],[0.8888888888888888,\"#fdca26\"],[1.0,\"#f0f921\"]]}],\"heatmap\":[{\"type\":\"heatmap\",\"colorbar\":{\"outlinewidth\":0,\"ticks\":\"\"},\"colorscale\":[[0.0,\"#0d0887\"],[0.1111111111111111,\"#46039f\"],[0.2222222222222222,\"#7201a8\"],[0.3333333333333333,\"#9c179e\"],[0.4444444444444444,\"#bd3786\"],[0.5555555555555556,\"#d8576b\"],[0.6666666666666666,\"#ed7953\"],[0.7777777777777778,\"#fb9f3a\"],[0.8888888888888888,\"#fdca26\"],[1.0,\"#f0f921\"]]}],\"heatmapgl\":[{\"type\":\"heatmapgl\",\"colorbar\":{\"outlinewidth\":0,\"ticks\":\"\"},\"colorscale\":[[0.0,\"#0d0887\"],[0.1111111111111111,\"#46039f\"],[0.2222222222222222,\"#7201a8\"],[0.3333333333333333,\"#9c179e\"],[0.4444444444444444,\"#bd3786\"],[0.5555555555555556,\"#d8576b\"],[0.6666666666666666,\"#ed7953\"],[0.7777777777777778,\"#fb9f3a\"],[0.8888888888888888,\"#fdca26\"],[1.0,\"#f0f921\"]]}],\"contourcarpet\":[{\"type\":\"contourcarpet\",\"colorbar\":{\"outlinewidth\":0,\"ticks\":\"\"}}],\"contour\":[{\"type\":\"contour\",\"colorbar\":{\"outlinewidth\":0,\"ticks\":\"\"},\"colorscale\":[[0.0,\"#0d0887\"],[0.1111111111111111,\"#46039f\"],[0.2222222222222222,\"#7201a8\"],[0.3333333333333333,\"#9c179e\"],[0.4444444444444444,\"#bd3786\"],[0.5555555555555556,\"#d8576b\"],[0.6666666666666666,\"#ed7953\"],[0.7777777777777778,\"#fb9f3a\"],[0.8888888888888888,\"#fdca26\"],[1.0,\"#f0f921\"]]}],\"surface\":[{\"type\":\"surface\",\"colorbar\":{\"outlinewidth\":0,\"ticks\":\"\"},\"colorscale\":[[0.0,\"#0d0887\"],[0.1111111111111111,\"#46039f\"],[0.2222222222222222,\"#7201a8\"],[0.3333333333333333,\"#9c179e\"],[0.4444444444444444,\"#bd3786\"],[0.5555555555555556,\"#d8576b\"],[0.6666666666666666,\"#ed7953\"],[0.7777777777777778,\"#fb9f3a\"],[0.8888888888888888,\"#fdca26\"],[1.0,\"#f0f921\"]]}],\"mesh3d\":[{\"type\":\"mesh3d\",\"colorbar\":{\"outlinewidth\":0,\"ticks\":\"\"}}],\"scatter\":[{\"fillpattern\":{\"fillmode\":\"overlay\",\"size\":10,\"solidity\":0.2},\"type\":\"scatter\"}],\"parcoords\":[{\"type\":\"parcoords\",\"line\":{\"colorbar\":{\"outlinewidth\":0,\"ticks\":\"\"}}}],\"scatterpolargl\":[{\"type\":\"scatterpolargl\",\"marker\":{\"colorbar\":{\"outlinewidth\":0,\"ticks\":\"\"}}}],\"bar\":[{\"error_x\":{\"color\":\"#2a3f5f\"},\"error_y\":{\"color\":\"#2a3f5f\"},\"marker\":{\"line\":{\"color\":\"#E5ECF6\",\"width\":0.5},\"pattern\":{\"fillmode\":\"overlay\",\"size\":10,\"solidity\":0.2}},\"type\":\"bar\"}],\"scattergeo\":[{\"type\":\"scattergeo\",\"marker\":{\"colorbar\":{\"outlinewidth\":0,\"ticks\":\"\"}}}],\"scatterpolar\":[{\"type\":\"scatterpolar\",\"marker\":{\"colorbar\":{\"outlinewidth\":0,\"ticks\":\"\"}}}],\"histogram\":[{\"marker\":{\"pattern\":{\"fillmode\":\"overlay\",\"size\":10,\"solidity\":0.2}},\"type\":\"histogram\"}],\"scattergl\":[{\"type\":\"scattergl\",\"marker\":{\"colorbar\":{\"outlinewidth\":0,\"ticks\":\"\"}}}],\"scatter3d\":[{\"type\":\"scatter3d\",\"line\":{\"colorbar\":{\"outlinewidth\":0,\"ticks\":\"\"}},\"marker\":{\"colorbar\":{\"outlinewidth\":0,\"ticks\":\"\"}}}],\"scattermapbox\":[{\"type\":\"scattermapbox\",\"marker\":{\"colorbar\":{\"outlinewidth\":0,\"ticks\":\"\"}}}],\"scatterternary\":[{\"type\":\"scatterternary\",\"marker\":{\"colorbar\":{\"outlinewidth\":0,\"ticks\":\"\"}}}],\"scattercarpet\":[{\"type\":\"scattercarpet\",\"marker\":{\"colorbar\":{\"outlinewidth\":0,\"ticks\":\"\"}}}],\"carpet\":[{\"aaxis\":{\"endlinecolor\":\"#2a3f5f\",\"gridcolor\":\"white\",\"linecolor\":\"white\",\"minorgridcolor\":\"white\",\"startlinecolor\":\"#2a3f5f\"},\"baxis\":{\"endlinecolor\":\"#2a3f5f\",\"gridcolor\":\"white\",\"linecolor\":\"white\",\"minorgridcolor\":\"white\",\"startlinecolor\":\"#2a3f5f\"},\"type\":\"carpet\"}],\"table\":[{\"cells\":{\"fill\":{\"color\":\"#EBF0F8\"},\"line\":{\"color\":\"white\"}},\"header\":{\"fill\":{\"color\":\"#C8D4E3\"},\"line\":{\"color\":\"white\"}},\"type\":\"table\"}],\"barpolar\":[{\"marker\":{\"line\":{\"color\":\"#E5ECF6\",\"width\":0.5},\"pattern\":{\"fillmode\":\"overlay\",\"size\":10,\"solidity\":0.2}},\"type\":\"barpolar\"}],\"pie\":[{\"automargin\":true,\"type\":\"pie\"}]},\"layout\":{\"autotypenumbers\":\"strict\",\"colorway\":[\"#636efa\",\"#EF553B\",\"#00cc96\",\"#ab63fa\",\"#FFA15A\",\"#19d3f3\",\"#FF6692\",\"#B6E880\",\"#FF97FF\",\"#FECB52\"],\"font\":{\"color\":\"#2a3f5f\"},\"hovermode\":\"closest\",\"hoverlabel\":{\"align\":\"left\"},\"paper_bgcolor\":\"white\",\"plot_bgcolor\":\"#E5ECF6\",\"polar\":{\"bgcolor\":\"#E5ECF6\",\"angularaxis\":{\"gridcolor\":\"white\",\"linecolor\":\"white\",\"ticks\":\"\"},\"radialaxis\":{\"gridcolor\":\"white\",\"linecolor\":\"white\",\"ticks\":\"\"}},\"ternary\":{\"bgcolor\":\"#E5ECF6\",\"aaxis\":{\"gridcolor\":\"white\",\"linecolor\":\"white\",\"ticks\":\"\"},\"baxis\":{\"gridcolor\":\"white\",\"linecolor\":\"white\",\"ticks\":\"\"},\"caxis\":{\"gridcolor\":\"white\",\"linecolor\":\"white\",\"ticks\":\"\"}},\"coloraxis\":{\"colorbar\":{\"outlinewidth\":0,\"ticks\":\"\"}},\"colorscale\":{\"sequential\":[[0.0,\"#0d0887\"],[0.1111111111111111,\"#46039f\"],[0.2222222222222222,\"#7201a8\"],[0.3333333333333333,\"#9c179e\"],[0.4444444444444444,\"#bd3786\"],[0.5555555555555556,\"#d8576b\"],[0.6666666666666666,\"#ed7953\"],[0.7777777777777778,\"#fb9f3a\"],[0.8888888888888888,\"#fdca26\"],[1.0,\"#f0f921\"]],\"sequentialminus\":[[0.0,\"#0d0887\"],[0.1111111111111111,\"#46039f\"],[0.2222222222222222,\"#7201a8\"],[0.3333333333333333,\"#9c179e\"],[0.4444444444444444,\"#bd3786\"],[0.5555555555555556,\"#d8576b\"],[0.6666666666666666,\"#ed7953\"],[0.7777777777777778,\"#fb9f3a\"],[0.8888888888888888,\"#fdca26\"],[1.0,\"#f0f921\"]],\"diverging\":[[0,\"#8e0152\"],[0.1,\"#c51b7d\"],[0.2,\"#de77ae\"],[0.3,\"#f1b6da\"],[0.4,\"#fde0ef\"],[0.5,\"#f7f7f7\"],[0.6,\"#e6f5d0\"],[0.7,\"#b8e186\"],[0.8,\"#7fbc41\"],[0.9,\"#4d9221\"],[1,\"#276419\"]]},\"xaxis\":{\"gridcolor\":\"white\",\"linecolor\":\"white\",\"ticks\":\"\",\"title\":{\"standoff\":15},\"zerolinecolor\":\"white\",\"automargin\":true,\"zerolinewidth\":2},\"yaxis\":{\"gridcolor\":\"white\",\"linecolor\":\"white\",\"ticks\":\"\",\"title\":{\"standoff\":15},\"zerolinecolor\":\"white\",\"automargin\":true,\"zerolinewidth\":2},\"scene\":{\"xaxis\":{\"backgroundcolor\":\"#E5ECF6\",\"gridcolor\":\"white\",\"linecolor\":\"white\",\"showbackground\":true,\"ticks\":\"\",\"zerolinecolor\":\"white\",\"gridwidth\":2},\"yaxis\":{\"backgroundcolor\":\"#E5ECF6\",\"gridcolor\":\"white\",\"linecolor\":\"white\",\"showbackground\":true,\"ticks\":\"\",\"zerolinecolor\":\"white\",\"gridwidth\":2},\"zaxis\":{\"backgroundcolor\":\"#E5ECF6\",\"gridcolor\":\"white\",\"linecolor\":\"white\",\"showbackground\":true,\"ticks\":\"\",\"zerolinecolor\":\"white\",\"gridwidth\":2}},\"shapedefaults\":{\"line\":{\"color\":\"#2a3f5f\"}},\"annotationdefaults\":{\"arrowcolor\":\"#2a3f5f\",\"arrowhead\":0,\"arrowwidth\":1},\"geo\":{\"bgcolor\":\"white\",\"landcolor\":\"#E5ECF6\",\"subunitcolor\":\"white\",\"showland\":true,\"showlakes\":true,\"lakecolor\":\"white\"},\"title\":{\"x\":0.05},\"mapbox\":{\"style\":\"light\"}}},\"xaxis\":{\"anchor\":\"y\",\"domain\":[0.0,1.0],\"title\":{\"text\":\"K_best\"}},\"yaxis\":{\"anchor\":\"x\",\"domain\":[0.0,1.0],\"title\":{\"text\":\"F1_macro\"}},\"legend\":{\"title\":{\"text\":\"Max_features\"},\"tracegroupgap\":0},\"margin\":{\"t\":60}},                        {\"responsive\": true}                    ).then(function(){\n",
       "                            \n",
       "var gd = document.getElementById('23e466a1-9f94-46e7-8376-1e363be69cfa');\n",
       "var x = new MutationObserver(function (mutations, observer) {{\n",
       "        var display = window.getComputedStyle(gd).display;\n",
       "        if (!display || display === 'none') {{\n",
       "            console.log([gd, 'removed!']);\n",
       "            Plotly.purge(gd);\n",
       "            observer.disconnect();\n",
       "        }}\n",
       "}});\n",
       "\n",
       "// Listen for the removal of the full notebook cells\n",
       "var notebookContainer = gd.closest('#notebook-container');\n",
       "if (notebookContainer) {{\n",
       "    x.observe(notebookContainer, {childList: true});\n",
       "}}\n",
       "\n",
       "// Listen for the clearing of the current output cell\n",
       "var outputEl = gd.closest('.output');\n",
       "if (outputEl) {{\n",
       "    x.observe(outputEl, {childList: true});\n",
       "}}\n",
       "\n",
       "                        })                };                });            </script>        </div>"
      ]
     },
     "metadata": {},
     "output_type": "display_data"
    }
   ],
   "source": [
    "fig = px.scatter(df_maxfeatures_kbest, x=\"K_best\", y=\"F1_macro\", color='Max_features')\n",
    "fig.show()"
   ]
  },
  {
   "cell_type": "code",
   "execution_count": 21,
   "id": "a009c806",
   "metadata": {},
   "outputs": [
    {
     "data": {
      "application/vnd.plotly.v1+json": {
       "config": {
        "plotlyServerURL": "https://plot.ly"
       },
       "data": [
        {
         "hovertemplate": "Max_features=1000<br>K_best=%{x}<br>F1_weighted=%{y}<extra></extra>",
         "legendgroup": "1000",
         "marker": {
          "color": "#636efa",
          "symbol": "circle"
         },
         "mode": "markers",
         "name": "1000",
         "orientation": "v",
         "showlegend": true,
         "type": "scatter",
         "x": [
          "100",
          "200",
          "300",
          "400",
          "500",
          "600",
          "700",
          "800",
          "900"
         ],
         "xaxis": "x",
         "y": [
          0.5962469609620753,
          0.6554850328752523,
          0.6895184092902104,
          0.7028721554916166,
          0.7078451173167353,
          0.7131708401261743,
          0.7223749245792015,
          0.7235002915791994,
          0.7283435302495623
         ],
         "yaxis": "y"
        },
        {
         "hovertemplate": "Max_features=2000<br>K_best=%{x}<br>F1_weighted=%{y}<extra></extra>",
         "legendgroup": "2000",
         "marker": {
          "color": "#EF553B",
          "symbol": "circle"
         },
         "mode": "markers",
         "name": "2000",
         "orientation": "v",
         "showlegend": true,
         "type": "scatter",
         "x": [
          "100",
          "200",
          "300",
          "400",
          "500",
          "600",
          "700",
          "800",
          "900",
          "1000",
          "1100",
          "1200",
          "1300",
          "1400",
          "1500",
          "1600",
          "1700",
          "1800",
          "1900"
         ],
         "xaxis": "x",
         "y": [
          0.5352185814023753,
          0.6606921946188709,
          0.6988621798247919,
          0.7139246694904613,
          0.7224668121905253,
          0.7321953675874651,
          0.7373840357758104,
          0.7426751800483861,
          0.7479289675803168,
          0.751925163608734,
          0.7494034666904686,
          0.7534027000262257,
          0.755250350349306,
          0.7574459866124855,
          0.7571954686119811,
          0.7602097243445072,
          0.7594809462843128,
          0.7610523749885683,
          0.7610865465771358
         ],
         "yaxis": "y"
        },
        {
         "hovertemplate": "Max_features=3000<br>K_best=%{x}<br>F1_weighted=%{y}<extra></extra>",
         "legendgroup": "3000",
         "marker": {
          "color": "#00cc96",
          "symbol": "circle"
         },
         "mode": "markers",
         "name": "3000",
         "orientation": "v",
         "showlegend": true,
         "type": "scatter",
         "x": [
          "100",
          "200",
          "300",
          "400",
          "500",
          "600",
          "700",
          "800",
          "900",
          "1000",
          "1100",
          "1200",
          "1300",
          "1400",
          "1500",
          "1600",
          "1700",
          "1800",
          "1900",
          "2000",
          "2100",
          "2200",
          "2300",
          "2400",
          "2500",
          "2600",
          "2700",
          "2800",
          "2900"
         ],
         "xaxis": "x",
         "y": [
          0.5238280061801119,
          0.6569325160001384,
          0.6864855394406688,
          0.7117838957859629,
          0.7194290936026743,
          0.7322161457667213,
          0.7381111592724043,
          0.7390581604462085,
          0.7452513908176995,
          0.7478690921898202,
          0.7530723958097819,
          0.7557213479099323,
          0.7558153213409123,
          0.757947609905622,
          0.7579167727124819,
          0.7597180208526644,
          0.7629375646781996,
          0.7630229951233888,
          0.7642861287674794,
          0.7646951554146247,
          0.7651300685481591,
          0.7640691046817628,
          0.7634556762950694,
          0.7666519522438892,
          0.7631040446609875,
          0.7642484411518937,
          0.7664184359004327,
          0.7651991890808573,
          0.7642636229687173
         ],
         "yaxis": "y"
        },
        {
         "hovertemplate": "Max_features=4000<br>K_best=%{x}<br>F1_weighted=%{y}<extra></extra>",
         "legendgroup": "4000",
         "marker": {
          "color": "#ab63fa",
          "symbol": "circle"
         },
         "mode": "markers",
         "name": "4000",
         "orientation": "v",
         "showlegend": true,
         "type": "scatter",
         "x": [
          "100",
          "200",
          "300",
          "400",
          "500",
          "600",
          "700",
          "800",
          "900",
          "1000",
          "1100",
          "1200",
          "1300",
          "1400",
          "1500",
          "1600",
          "1700",
          "1800",
          "1900",
          "3000",
          "3100",
          "3200",
          "3300",
          "3400",
          "3500",
          "3600",
          "3700",
          "3800",
          "3900"
         ],
         "xaxis": "x",
         "y": [
          0.525611270501051,
          0.6523064991425345,
          0.6831972917186045,
          0.7102907868886922,
          0.7179658099403794,
          0.7271387081787213,
          0.7373464737786196,
          0.7439159360939066,
          0.7441329028444449,
          0.7469534161983458,
          0.7518660652728655,
          0.7536216185456777,
          0.7564115281703409,
          0.7579340927467338,
          0.7588692661132674,
          0.7589303335690394,
          0.7621529074327533,
          0.761736295565009,
          0.7641936973945894,
          0.7728115870171661,
          0.7710447520840598,
          0.7720737710613247,
          0.771917879523896,
          0.7727128025624389,
          0.7718867655026286,
          0.7714045532779048,
          0.7710154320164699,
          0.7707421340520973,
          0.7710801846129408
         ],
         "yaxis": "y"
        },
        {
         "hovertemplate": "Max_features=5000<br>K_best=%{x}<br>F1_weighted=%{y}<extra></extra>",
         "legendgroup": "5000",
         "marker": {
          "color": "#FFA15A",
          "symbol": "circle"
         },
         "mode": "markers",
         "name": "5000",
         "orientation": "v",
         "showlegend": true,
         "type": "scatter",
         "x": [
          "900",
          "4000",
          "4100",
          "4200",
          "4300",
          "4400",
          "4500",
          "4600",
          "4700",
          "4800",
          "4900"
         ],
         "xaxis": "x",
         "y": [
          0.7403591830513436,
          0.7763722024915706,
          0.773487878505366,
          0.7733270451734074,
          0.7727044758218207,
          0.7726685034142909,
          0.7750870092095711,
          0.7745230895039079,
          0.7729952909485924,
          0.7732507918801486,
          0.7754910650428899
         ],
         "yaxis": "y"
        },
        {
         "hovertemplate": "Max_features=6000<br>K_best=%{x}<br>F1_weighted=%{y}<extra></extra>",
         "legendgroup": "6000",
         "marker": {
          "color": "#19d3f3",
          "symbol": "circle"
         },
         "mode": "markers",
         "name": "6000",
         "orientation": "v",
         "showlegend": true,
         "type": "scatter",
         "x": [
          "900",
          "5000",
          "5100",
          "5200",
          "5300",
          "5400",
          "5500",
          "5600",
          "5700",
          "5800",
          "5900"
         ],
         "xaxis": "x",
         "y": [
          0.7415826888271047,
          0.7735927556073424,
          0.7739971564028976,
          0.774057716337475,
          0.7748472094139834,
          0.772483092708822,
          0.7752252315763173,
          0.7761397823642022,
          0.7755909585664864,
          0.773733439080513,
          0.775961775394873
         ],
         "yaxis": "y"
        },
        {
         "hovertemplate": "Max_features=7000<br>K_best=%{x}<br>F1_weighted=%{y}<extra></extra>",
         "legendgroup": "7000",
         "marker": {
          "color": "#FF6692",
          "symbol": "circle"
         },
         "mode": "markers",
         "name": "7000",
         "orientation": "v",
         "showlegend": true,
         "type": "scatter",
         "x": [
          "900",
          "6000",
          "6100",
          "6200",
          "6300",
          "6400",
          "6500",
          "6600",
          "6700",
          "6800",
          "6900"
         ],
         "xaxis": "x",
         "y": [
          0.7427891330727175,
          0.7739809387841236,
          0.7767924601384872,
          0.7730544570996518,
          0.7757299557656234,
          0.7759152083826405,
          0.7728919542834652,
          0.7755918020744035,
          0.7738508008829696,
          0.7743529962055682,
          0.7745905813796582
         ],
         "yaxis": "y"
        },
        {
         "hovertemplate": "Max_features=8000<br>K_best=%{x}<br>F1_weighted=%{y}<extra></extra>",
         "legendgroup": "8000",
         "marker": {
          "color": "#B6E880",
          "symbol": "circle"
         },
         "mode": "markers",
         "name": "8000",
         "orientation": "v",
         "showlegend": true,
         "type": "scatter",
         "x": [
          "900",
          "7000",
          "7100",
          "7200",
          "7300",
          "7400",
          "7500",
          "7600",
          "7700",
          "7800",
          "7900",
          "1000",
          "2000",
          "3000",
          "4000",
          "5000",
          "6000",
          "7000"
         ],
         "xaxis": "x",
         "y": [
          0.7444950653447898,
          0.7748432333860433,
          0.7758752098367897,
          0.7753334424478261,
          0.7754490986759723,
          0.7720022873442216,
          0.776278824858956,
          0.7744852178123116,
          0.7720571197765372,
          0.775222748752963,
          0.7740779205865668,
          0.7479953418054673,
          0.7631820909220889,
          0.7686469801379018,
          0.7719424773260299,
          0.7740604183647923,
          0.7767056325428527,
          0.7748432333860433
         ],
         "yaxis": "y"
        },
        {
         "hovertemplate": "Max_features=9000<br>K_best=%{x}<br>F1_weighted=%{y}<extra></extra>",
         "legendgroup": "9000",
         "marker": {
          "color": "#FF97FF",
          "symbol": "circle"
         },
         "mode": "markers",
         "name": "9000",
         "orientation": "v",
         "showlegend": true,
         "type": "scatter",
         "x": [
          "900",
          "8000",
          "8100",
          "8200",
          "8300",
          "8400",
          "8500",
          "8600",
          "8700",
          "8800",
          "8900",
          "1000",
          "2000",
          "3000",
          "4000",
          "5000",
          "6000",
          "7000"
         ],
         "xaxis": "x",
         "y": [
          0.7433948269373322,
          0.7763457491286679,
          0.7754280030104601,
          0.7764936560925467,
          0.7766266084420309,
          0.7776717521335479,
          0.7749386835501847,
          0.7770545652316435,
          0.7755966155465953,
          0.7750644314440746,
          0.7753357224208052,
          0.7462053090615149,
          0.763124913596692,
          0.7695964127448904,
          0.7721026077807676,
          0.7756500196299446,
          0.7786520846123803,
          0.7762357832183145
         ],
         "yaxis": "y"
        },
        {
         "hovertemplate": "Max_features=10000<br>K_best=%{x}<br>F1_weighted=%{y}<extra></extra>",
         "legendgroup": "10000",
         "marker": {
          "color": "#FECB52",
          "symbol": "circle"
         },
         "mode": "markers",
         "name": "10000",
         "orientation": "v",
         "showlegend": true,
         "type": "scatter",
         "x": [
          "900"
         ],
         "xaxis": "x",
         "y": [
          0.7426839756929168
         ],
         "yaxis": "y"
        }
       ],
       "layout": {
        "legend": {
         "title": {
          "text": "Max_features"
         },
         "tracegroupgap": 0
        },
        "margin": {
         "t": 60
        },
        "template": {
         "data": {
          "bar": [
           {
            "error_x": {
             "color": "#2a3f5f"
            },
            "error_y": {
             "color": "#2a3f5f"
            },
            "marker": {
             "line": {
              "color": "#E5ECF6",
              "width": 0.5
             },
             "pattern": {
              "fillmode": "overlay",
              "size": 10,
              "solidity": 0.2
             }
            },
            "type": "bar"
           }
          ],
          "barpolar": [
           {
            "marker": {
             "line": {
              "color": "#E5ECF6",
              "width": 0.5
             },
             "pattern": {
              "fillmode": "overlay",
              "size": 10,
              "solidity": 0.2
             }
            },
            "type": "barpolar"
           }
          ],
          "carpet": [
           {
            "aaxis": {
             "endlinecolor": "#2a3f5f",
             "gridcolor": "white",
             "linecolor": "white",
             "minorgridcolor": "white",
             "startlinecolor": "#2a3f5f"
            },
            "baxis": {
             "endlinecolor": "#2a3f5f",
             "gridcolor": "white",
             "linecolor": "white",
             "minorgridcolor": "white",
             "startlinecolor": "#2a3f5f"
            },
            "type": "carpet"
           }
          ],
          "choropleth": [
           {
            "colorbar": {
             "outlinewidth": 0,
             "ticks": ""
            },
            "type": "choropleth"
           }
          ],
          "contour": [
           {
            "colorbar": {
             "outlinewidth": 0,
             "ticks": ""
            },
            "colorscale": [
             [
              0,
              "#0d0887"
             ],
             [
              0.1111111111111111,
              "#46039f"
             ],
             [
              0.2222222222222222,
              "#7201a8"
             ],
             [
              0.3333333333333333,
              "#9c179e"
             ],
             [
              0.4444444444444444,
              "#bd3786"
             ],
             [
              0.5555555555555556,
              "#d8576b"
             ],
             [
              0.6666666666666666,
              "#ed7953"
             ],
             [
              0.7777777777777778,
              "#fb9f3a"
             ],
             [
              0.8888888888888888,
              "#fdca26"
             ],
             [
              1,
              "#f0f921"
             ]
            ],
            "type": "contour"
           }
          ],
          "contourcarpet": [
           {
            "colorbar": {
             "outlinewidth": 0,
             "ticks": ""
            },
            "type": "contourcarpet"
           }
          ],
          "heatmap": [
           {
            "colorbar": {
             "outlinewidth": 0,
             "ticks": ""
            },
            "colorscale": [
             [
              0,
              "#0d0887"
             ],
             [
              0.1111111111111111,
              "#46039f"
             ],
             [
              0.2222222222222222,
              "#7201a8"
             ],
             [
              0.3333333333333333,
              "#9c179e"
             ],
             [
              0.4444444444444444,
              "#bd3786"
             ],
             [
              0.5555555555555556,
              "#d8576b"
             ],
             [
              0.6666666666666666,
              "#ed7953"
             ],
             [
              0.7777777777777778,
              "#fb9f3a"
             ],
             [
              0.8888888888888888,
              "#fdca26"
             ],
             [
              1,
              "#f0f921"
             ]
            ],
            "type": "heatmap"
           }
          ],
          "heatmapgl": [
           {
            "colorbar": {
             "outlinewidth": 0,
             "ticks": ""
            },
            "colorscale": [
             [
              0,
              "#0d0887"
             ],
             [
              0.1111111111111111,
              "#46039f"
             ],
             [
              0.2222222222222222,
              "#7201a8"
             ],
             [
              0.3333333333333333,
              "#9c179e"
             ],
             [
              0.4444444444444444,
              "#bd3786"
             ],
             [
              0.5555555555555556,
              "#d8576b"
             ],
             [
              0.6666666666666666,
              "#ed7953"
             ],
             [
              0.7777777777777778,
              "#fb9f3a"
             ],
             [
              0.8888888888888888,
              "#fdca26"
             ],
             [
              1,
              "#f0f921"
             ]
            ],
            "type": "heatmapgl"
           }
          ],
          "histogram": [
           {
            "marker": {
             "pattern": {
              "fillmode": "overlay",
              "size": 10,
              "solidity": 0.2
             }
            },
            "type": "histogram"
           }
          ],
          "histogram2d": [
           {
            "colorbar": {
             "outlinewidth": 0,
             "ticks": ""
            },
            "colorscale": [
             [
              0,
              "#0d0887"
             ],
             [
              0.1111111111111111,
              "#46039f"
             ],
             [
              0.2222222222222222,
              "#7201a8"
             ],
             [
              0.3333333333333333,
              "#9c179e"
             ],
             [
              0.4444444444444444,
              "#bd3786"
             ],
             [
              0.5555555555555556,
              "#d8576b"
             ],
             [
              0.6666666666666666,
              "#ed7953"
             ],
             [
              0.7777777777777778,
              "#fb9f3a"
             ],
             [
              0.8888888888888888,
              "#fdca26"
             ],
             [
              1,
              "#f0f921"
             ]
            ],
            "type": "histogram2d"
           }
          ],
          "histogram2dcontour": [
           {
            "colorbar": {
             "outlinewidth": 0,
             "ticks": ""
            },
            "colorscale": [
             [
              0,
              "#0d0887"
             ],
             [
              0.1111111111111111,
              "#46039f"
             ],
             [
              0.2222222222222222,
              "#7201a8"
             ],
             [
              0.3333333333333333,
              "#9c179e"
             ],
             [
              0.4444444444444444,
              "#bd3786"
             ],
             [
              0.5555555555555556,
              "#d8576b"
             ],
             [
              0.6666666666666666,
              "#ed7953"
             ],
             [
              0.7777777777777778,
              "#fb9f3a"
             ],
             [
              0.8888888888888888,
              "#fdca26"
             ],
             [
              1,
              "#f0f921"
             ]
            ],
            "type": "histogram2dcontour"
           }
          ],
          "mesh3d": [
           {
            "colorbar": {
             "outlinewidth": 0,
             "ticks": ""
            },
            "type": "mesh3d"
           }
          ],
          "parcoords": [
           {
            "line": {
             "colorbar": {
              "outlinewidth": 0,
              "ticks": ""
             }
            },
            "type": "parcoords"
           }
          ],
          "pie": [
           {
            "automargin": true,
            "type": "pie"
           }
          ],
          "scatter": [
           {
            "fillpattern": {
             "fillmode": "overlay",
             "size": 10,
             "solidity": 0.2
            },
            "type": "scatter"
           }
          ],
          "scatter3d": [
           {
            "line": {
             "colorbar": {
              "outlinewidth": 0,
              "ticks": ""
             }
            },
            "marker": {
             "colorbar": {
              "outlinewidth": 0,
              "ticks": ""
             }
            },
            "type": "scatter3d"
           }
          ],
          "scattercarpet": [
           {
            "marker": {
             "colorbar": {
              "outlinewidth": 0,
              "ticks": ""
             }
            },
            "type": "scattercarpet"
           }
          ],
          "scattergeo": [
           {
            "marker": {
             "colorbar": {
              "outlinewidth": 0,
              "ticks": ""
             }
            },
            "type": "scattergeo"
           }
          ],
          "scattergl": [
           {
            "marker": {
             "colorbar": {
              "outlinewidth": 0,
              "ticks": ""
             }
            },
            "type": "scattergl"
           }
          ],
          "scattermapbox": [
           {
            "marker": {
             "colorbar": {
              "outlinewidth": 0,
              "ticks": ""
             }
            },
            "type": "scattermapbox"
           }
          ],
          "scatterpolar": [
           {
            "marker": {
             "colorbar": {
              "outlinewidth": 0,
              "ticks": ""
             }
            },
            "type": "scatterpolar"
           }
          ],
          "scatterpolargl": [
           {
            "marker": {
             "colorbar": {
              "outlinewidth": 0,
              "ticks": ""
             }
            },
            "type": "scatterpolargl"
           }
          ],
          "scatterternary": [
           {
            "marker": {
             "colorbar": {
              "outlinewidth": 0,
              "ticks": ""
             }
            },
            "type": "scatterternary"
           }
          ],
          "surface": [
           {
            "colorbar": {
             "outlinewidth": 0,
             "ticks": ""
            },
            "colorscale": [
             [
              0,
              "#0d0887"
             ],
             [
              0.1111111111111111,
              "#46039f"
             ],
             [
              0.2222222222222222,
              "#7201a8"
             ],
             [
              0.3333333333333333,
              "#9c179e"
             ],
             [
              0.4444444444444444,
              "#bd3786"
             ],
             [
              0.5555555555555556,
              "#d8576b"
             ],
             [
              0.6666666666666666,
              "#ed7953"
             ],
             [
              0.7777777777777778,
              "#fb9f3a"
             ],
             [
              0.8888888888888888,
              "#fdca26"
             ],
             [
              1,
              "#f0f921"
             ]
            ],
            "type": "surface"
           }
          ],
          "table": [
           {
            "cells": {
             "fill": {
              "color": "#EBF0F8"
             },
             "line": {
              "color": "white"
             }
            },
            "header": {
             "fill": {
              "color": "#C8D4E3"
             },
             "line": {
              "color": "white"
             }
            },
            "type": "table"
           }
          ]
         },
         "layout": {
          "annotationdefaults": {
           "arrowcolor": "#2a3f5f",
           "arrowhead": 0,
           "arrowwidth": 1
          },
          "autotypenumbers": "strict",
          "coloraxis": {
           "colorbar": {
            "outlinewidth": 0,
            "ticks": ""
           }
          },
          "colorscale": {
           "diverging": [
            [
             0,
             "#8e0152"
            ],
            [
             0.1,
             "#c51b7d"
            ],
            [
             0.2,
             "#de77ae"
            ],
            [
             0.3,
             "#f1b6da"
            ],
            [
             0.4,
             "#fde0ef"
            ],
            [
             0.5,
             "#f7f7f7"
            ],
            [
             0.6,
             "#e6f5d0"
            ],
            [
             0.7,
             "#b8e186"
            ],
            [
             0.8,
             "#7fbc41"
            ],
            [
             0.9,
             "#4d9221"
            ],
            [
             1,
             "#276419"
            ]
           ],
           "sequential": [
            [
             0,
             "#0d0887"
            ],
            [
             0.1111111111111111,
             "#46039f"
            ],
            [
             0.2222222222222222,
             "#7201a8"
            ],
            [
             0.3333333333333333,
             "#9c179e"
            ],
            [
             0.4444444444444444,
             "#bd3786"
            ],
            [
             0.5555555555555556,
             "#d8576b"
            ],
            [
             0.6666666666666666,
             "#ed7953"
            ],
            [
             0.7777777777777778,
             "#fb9f3a"
            ],
            [
             0.8888888888888888,
             "#fdca26"
            ],
            [
             1,
             "#f0f921"
            ]
           ],
           "sequentialminus": [
            [
             0,
             "#0d0887"
            ],
            [
             0.1111111111111111,
             "#46039f"
            ],
            [
             0.2222222222222222,
             "#7201a8"
            ],
            [
             0.3333333333333333,
             "#9c179e"
            ],
            [
             0.4444444444444444,
             "#bd3786"
            ],
            [
             0.5555555555555556,
             "#d8576b"
            ],
            [
             0.6666666666666666,
             "#ed7953"
            ],
            [
             0.7777777777777778,
             "#fb9f3a"
            ],
            [
             0.8888888888888888,
             "#fdca26"
            ],
            [
             1,
             "#f0f921"
            ]
           ]
          },
          "colorway": [
           "#636efa",
           "#EF553B",
           "#00cc96",
           "#ab63fa",
           "#FFA15A",
           "#19d3f3",
           "#FF6692",
           "#B6E880",
           "#FF97FF",
           "#FECB52"
          ],
          "font": {
           "color": "#2a3f5f"
          },
          "geo": {
           "bgcolor": "white",
           "lakecolor": "white",
           "landcolor": "#E5ECF6",
           "showlakes": true,
           "showland": true,
           "subunitcolor": "white"
          },
          "hoverlabel": {
           "align": "left"
          },
          "hovermode": "closest",
          "mapbox": {
           "style": "light"
          },
          "paper_bgcolor": "white",
          "plot_bgcolor": "#E5ECF6",
          "polar": {
           "angularaxis": {
            "gridcolor": "white",
            "linecolor": "white",
            "ticks": ""
           },
           "bgcolor": "#E5ECF6",
           "radialaxis": {
            "gridcolor": "white",
            "linecolor": "white",
            "ticks": ""
           }
          },
          "scene": {
           "xaxis": {
            "backgroundcolor": "#E5ECF6",
            "gridcolor": "white",
            "gridwidth": 2,
            "linecolor": "white",
            "showbackground": true,
            "ticks": "",
            "zerolinecolor": "white"
           },
           "yaxis": {
            "backgroundcolor": "#E5ECF6",
            "gridcolor": "white",
            "gridwidth": 2,
            "linecolor": "white",
            "showbackground": true,
            "ticks": "",
            "zerolinecolor": "white"
           },
           "zaxis": {
            "backgroundcolor": "#E5ECF6",
            "gridcolor": "white",
            "gridwidth": 2,
            "linecolor": "white",
            "showbackground": true,
            "ticks": "",
            "zerolinecolor": "white"
           }
          },
          "shapedefaults": {
           "line": {
            "color": "#2a3f5f"
           }
          },
          "ternary": {
           "aaxis": {
            "gridcolor": "white",
            "linecolor": "white",
            "ticks": ""
           },
           "baxis": {
            "gridcolor": "white",
            "linecolor": "white",
            "ticks": ""
           },
           "bgcolor": "#E5ECF6",
           "caxis": {
            "gridcolor": "white",
            "linecolor": "white",
            "ticks": ""
           }
          },
          "title": {
           "x": 0.05
          },
          "xaxis": {
           "automargin": true,
           "gridcolor": "white",
           "linecolor": "white",
           "ticks": "",
           "title": {
            "standoff": 15
           },
           "zerolinecolor": "white",
           "zerolinewidth": 2
          },
          "yaxis": {
           "automargin": true,
           "gridcolor": "white",
           "linecolor": "white",
           "ticks": "",
           "title": {
            "standoff": 15
           },
           "zerolinecolor": "white",
           "zerolinewidth": 2
          }
         }
        },
        "title": {
         "text": "Influence de k et Max_features sur f1_weight",
         "x": 0.5,
         "xanchor": "center",
         "y": 0.95,
         "yanchor": "top"
        },
        "xaxis": {
         "anchor": "y",
         "domain": [
          0,
          1
         ],
         "title": {
          "text": "K_best"
         }
        },
        "yaxis": {
         "anchor": "x",
         "domain": [
          0,
          1
         ],
         "title": {
          "text": "F1_weighted"
         }
        }
       }
      },
      "text/html": [
       "<div>                            <div id=\"dfef5dad-21df-4d0d-803b-f931b4df135d\" class=\"plotly-graph-div\" style=\"height:525px; width:100%;\"></div>            <script type=\"text/javascript\">                require([\"plotly\"], function(Plotly) {                    window.PLOTLYENV=window.PLOTLYENV || {};                                    if (document.getElementById(\"dfef5dad-21df-4d0d-803b-f931b4df135d\")) {                    Plotly.newPlot(                        \"dfef5dad-21df-4d0d-803b-f931b4df135d\",                        [{\"hovertemplate\":\"Max_features=1000<br>K_best=%{x}<br>F1_weighted=%{y}<extra></extra>\",\"legendgroup\":\"1000\",\"marker\":{\"color\":\"#636efa\",\"symbol\":\"circle\"},\"mode\":\"markers\",\"name\":\"1000\",\"orientation\":\"v\",\"showlegend\":true,\"x\":[\"100\",\"200\",\"300\",\"400\",\"500\",\"600\",\"700\",\"800\",\"900\"],\"xaxis\":\"x\",\"y\":[0.5962469609620753,0.6554850328752523,0.6895184092902104,0.7028721554916166,0.7078451173167353,0.7131708401261743,0.7223749245792015,0.7235002915791994,0.7283435302495623],\"yaxis\":\"y\",\"type\":\"scatter\"},{\"hovertemplate\":\"Max_features=2000<br>K_best=%{x}<br>F1_weighted=%{y}<extra></extra>\",\"legendgroup\":\"2000\",\"marker\":{\"color\":\"#EF553B\",\"symbol\":\"circle\"},\"mode\":\"markers\",\"name\":\"2000\",\"orientation\":\"v\",\"showlegend\":true,\"x\":[\"100\",\"200\",\"300\",\"400\",\"500\",\"600\",\"700\",\"800\",\"900\",\"1000\",\"1100\",\"1200\",\"1300\",\"1400\",\"1500\",\"1600\",\"1700\",\"1800\",\"1900\"],\"xaxis\":\"x\",\"y\":[0.5352185814023753,0.6606921946188709,0.6988621798247919,0.7139246694904613,0.7224668121905253,0.7321953675874651,0.7373840357758104,0.7426751800483861,0.7479289675803168,0.751925163608734,0.7494034666904686,0.7534027000262257,0.755250350349306,0.7574459866124855,0.7571954686119811,0.7602097243445072,0.7594809462843128,0.7610523749885683,0.7610865465771358],\"yaxis\":\"y\",\"type\":\"scatter\"},{\"hovertemplate\":\"Max_features=3000<br>K_best=%{x}<br>F1_weighted=%{y}<extra></extra>\",\"legendgroup\":\"3000\",\"marker\":{\"color\":\"#00cc96\",\"symbol\":\"circle\"},\"mode\":\"markers\",\"name\":\"3000\",\"orientation\":\"v\",\"showlegend\":true,\"x\":[\"100\",\"200\",\"300\",\"400\",\"500\",\"600\",\"700\",\"800\",\"900\",\"1000\",\"1100\",\"1200\",\"1300\",\"1400\",\"1500\",\"1600\",\"1700\",\"1800\",\"1900\",\"2000\",\"2100\",\"2200\",\"2300\",\"2400\",\"2500\",\"2600\",\"2700\",\"2800\",\"2900\"],\"xaxis\":\"x\",\"y\":[0.5238280061801119,0.6569325160001384,0.6864855394406688,0.7117838957859629,0.7194290936026743,0.7322161457667213,0.7381111592724043,0.7390581604462085,0.7452513908176995,0.7478690921898202,0.7530723958097819,0.7557213479099323,0.7558153213409123,0.757947609905622,0.7579167727124819,0.7597180208526644,0.7629375646781996,0.7630229951233888,0.7642861287674794,0.7646951554146247,0.7651300685481591,0.7640691046817628,0.7634556762950694,0.7666519522438892,0.7631040446609875,0.7642484411518937,0.7664184359004327,0.7651991890808573,0.7642636229687173],\"yaxis\":\"y\",\"type\":\"scatter\"},{\"hovertemplate\":\"Max_features=4000<br>K_best=%{x}<br>F1_weighted=%{y}<extra></extra>\",\"legendgroup\":\"4000\",\"marker\":{\"color\":\"#ab63fa\",\"symbol\":\"circle\"},\"mode\":\"markers\",\"name\":\"4000\",\"orientation\":\"v\",\"showlegend\":true,\"x\":[\"100\",\"200\",\"300\",\"400\",\"500\",\"600\",\"700\",\"800\",\"900\",\"1000\",\"1100\",\"1200\",\"1300\",\"1400\",\"1500\",\"1600\",\"1700\",\"1800\",\"1900\",\"3000\",\"3100\",\"3200\",\"3300\",\"3400\",\"3500\",\"3600\",\"3700\",\"3800\",\"3900\"],\"xaxis\":\"x\",\"y\":[0.525611270501051,0.6523064991425345,0.6831972917186045,0.7102907868886922,0.7179658099403794,0.7271387081787213,0.7373464737786196,0.7439159360939066,0.7441329028444449,0.7469534161983458,0.7518660652728655,0.7536216185456777,0.7564115281703409,0.7579340927467338,0.7588692661132674,0.7589303335690394,0.7621529074327533,0.761736295565009,0.7641936973945894,0.7728115870171661,0.7710447520840598,0.7720737710613247,0.771917879523896,0.7727128025624389,0.7718867655026286,0.7714045532779048,0.7710154320164699,0.7707421340520973,0.7710801846129408],\"yaxis\":\"y\",\"type\":\"scatter\"},{\"hovertemplate\":\"Max_features=5000<br>K_best=%{x}<br>F1_weighted=%{y}<extra></extra>\",\"legendgroup\":\"5000\",\"marker\":{\"color\":\"#FFA15A\",\"symbol\":\"circle\"},\"mode\":\"markers\",\"name\":\"5000\",\"orientation\":\"v\",\"showlegend\":true,\"x\":[\"900\",\"4000\",\"4100\",\"4200\",\"4300\",\"4400\",\"4500\",\"4600\",\"4700\",\"4800\",\"4900\"],\"xaxis\":\"x\",\"y\":[0.7403591830513436,0.7763722024915706,0.773487878505366,0.7733270451734074,0.7727044758218207,0.7726685034142909,0.7750870092095711,0.7745230895039079,0.7729952909485924,0.7732507918801486,0.7754910650428899],\"yaxis\":\"y\",\"type\":\"scatter\"},{\"hovertemplate\":\"Max_features=6000<br>K_best=%{x}<br>F1_weighted=%{y}<extra></extra>\",\"legendgroup\":\"6000\",\"marker\":{\"color\":\"#19d3f3\",\"symbol\":\"circle\"},\"mode\":\"markers\",\"name\":\"6000\",\"orientation\":\"v\",\"showlegend\":true,\"x\":[\"900\",\"5000\",\"5100\",\"5200\",\"5300\",\"5400\",\"5500\",\"5600\",\"5700\",\"5800\",\"5900\"],\"xaxis\":\"x\",\"y\":[0.7415826888271047,0.7735927556073424,0.7739971564028976,0.774057716337475,0.7748472094139834,0.772483092708822,0.7752252315763173,0.7761397823642022,0.7755909585664864,0.773733439080513,0.775961775394873],\"yaxis\":\"y\",\"type\":\"scatter\"},{\"hovertemplate\":\"Max_features=7000<br>K_best=%{x}<br>F1_weighted=%{y}<extra></extra>\",\"legendgroup\":\"7000\",\"marker\":{\"color\":\"#FF6692\",\"symbol\":\"circle\"},\"mode\":\"markers\",\"name\":\"7000\",\"orientation\":\"v\",\"showlegend\":true,\"x\":[\"900\",\"6000\",\"6100\",\"6200\",\"6300\",\"6400\",\"6500\",\"6600\",\"6700\",\"6800\",\"6900\"],\"xaxis\":\"x\",\"y\":[0.7427891330727175,0.7739809387841236,0.7767924601384872,0.7730544570996518,0.7757299557656234,0.7759152083826405,0.7728919542834652,0.7755918020744035,0.7738508008829696,0.7743529962055682,0.7745905813796582],\"yaxis\":\"y\",\"type\":\"scatter\"},{\"hovertemplate\":\"Max_features=8000<br>K_best=%{x}<br>F1_weighted=%{y}<extra></extra>\",\"legendgroup\":\"8000\",\"marker\":{\"color\":\"#B6E880\",\"symbol\":\"circle\"},\"mode\":\"markers\",\"name\":\"8000\",\"orientation\":\"v\",\"showlegend\":true,\"x\":[\"900\",\"7000\",\"7100\",\"7200\",\"7300\",\"7400\",\"7500\",\"7600\",\"7700\",\"7800\",\"7900\",\"1000\",\"2000\",\"3000\",\"4000\",\"5000\",\"6000\",\"7000\"],\"xaxis\":\"x\",\"y\":[0.7444950653447898,0.7748432333860433,0.7758752098367897,0.7753334424478261,0.7754490986759723,0.7720022873442216,0.776278824858956,0.7744852178123116,0.7720571197765372,0.775222748752963,0.7740779205865668,0.7479953418054673,0.7631820909220889,0.7686469801379018,0.7719424773260299,0.7740604183647923,0.7767056325428527,0.7748432333860433],\"yaxis\":\"y\",\"type\":\"scatter\"},{\"hovertemplate\":\"Max_features=9000<br>K_best=%{x}<br>F1_weighted=%{y}<extra></extra>\",\"legendgroup\":\"9000\",\"marker\":{\"color\":\"#FF97FF\",\"symbol\":\"circle\"},\"mode\":\"markers\",\"name\":\"9000\",\"orientation\":\"v\",\"showlegend\":true,\"x\":[\"900\",\"8000\",\"8100\",\"8200\",\"8300\",\"8400\",\"8500\",\"8600\",\"8700\",\"8800\",\"8900\",\"1000\",\"2000\",\"3000\",\"4000\",\"5000\",\"6000\",\"7000\"],\"xaxis\":\"x\",\"y\":[0.7433948269373322,0.7763457491286679,0.7754280030104601,0.7764936560925467,0.7766266084420309,0.7776717521335479,0.7749386835501847,0.7770545652316435,0.7755966155465953,0.7750644314440746,0.7753357224208052,0.7462053090615149,0.763124913596692,0.7695964127448904,0.7721026077807676,0.7756500196299446,0.7786520846123803,0.7762357832183145],\"yaxis\":\"y\",\"type\":\"scatter\"},{\"hovertemplate\":\"Max_features=10000<br>K_best=%{x}<br>F1_weighted=%{y}<extra></extra>\",\"legendgroup\":\"10000\",\"marker\":{\"color\":\"#FECB52\",\"symbol\":\"circle\"},\"mode\":\"markers\",\"name\":\"10000\",\"orientation\":\"v\",\"showlegend\":true,\"x\":[\"900\"],\"xaxis\":\"x\",\"y\":[0.7426839756929168],\"yaxis\":\"y\",\"type\":\"scatter\"}],                        {\"template\":{\"data\":{\"histogram2dcontour\":[{\"type\":\"histogram2dcontour\",\"colorbar\":{\"outlinewidth\":0,\"ticks\":\"\"},\"colorscale\":[[0.0,\"#0d0887\"],[0.1111111111111111,\"#46039f\"],[0.2222222222222222,\"#7201a8\"],[0.3333333333333333,\"#9c179e\"],[0.4444444444444444,\"#bd3786\"],[0.5555555555555556,\"#d8576b\"],[0.6666666666666666,\"#ed7953\"],[0.7777777777777778,\"#fb9f3a\"],[0.8888888888888888,\"#fdca26\"],[1.0,\"#f0f921\"]]}],\"choropleth\":[{\"type\":\"choropleth\",\"colorbar\":{\"outlinewidth\":0,\"ticks\":\"\"}}],\"histogram2d\":[{\"type\":\"histogram2d\",\"colorbar\":{\"outlinewidth\":0,\"ticks\":\"\"},\"colorscale\":[[0.0,\"#0d0887\"],[0.1111111111111111,\"#46039f\"],[0.2222222222222222,\"#7201a8\"],[0.3333333333333333,\"#9c179e\"],[0.4444444444444444,\"#bd3786\"],[0.5555555555555556,\"#d8576b\"],[0.6666666666666666,\"#ed7953\"],[0.7777777777777778,\"#fb9f3a\"],[0.8888888888888888,\"#fdca26\"],[1.0,\"#f0f921\"]]}],\"heatmap\":[{\"type\":\"heatmap\",\"colorbar\":{\"outlinewidth\":0,\"ticks\":\"\"},\"colorscale\":[[0.0,\"#0d0887\"],[0.1111111111111111,\"#46039f\"],[0.2222222222222222,\"#7201a8\"],[0.3333333333333333,\"#9c179e\"],[0.4444444444444444,\"#bd3786\"],[0.5555555555555556,\"#d8576b\"],[0.6666666666666666,\"#ed7953\"],[0.7777777777777778,\"#fb9f3a\"],[0.8888888888888888,\"#fdca26\"],[1.0,\"#f0f921\"]]}],\"heatmapgl\":[{\"type\":\"heatmapgl\",\"colorbar\":{\"outlinewidth\":0,\"ticks\":\"\"},\"colorscale\":[[0.0,\"#0d0887\"],[0.1111111111111111,\"#46039f\"],[0.2222222222222222,\"#7201a8\"],[0.3333333333333333,\"#9c179e\"],[0.4444444444444444,\"#bd3786\"],[0.5555555555555556,\"#d8576b\"],[0.6666666666666666,\"#ed7953\"],[0.7777777777777778,\"#fb9f3a\"],[0.8888888888888888,\"#fdca26\"],[1.0,\"#f0f921\"]]}],\"contourcarpet\":[{\"type\":\"contourcarpet\",\"colorbar\":{\"outlinewidth\":0,\"ticks\":\"\"}}],\"contour\":[{\"type\":\"contour\",\"colorbar\":{\"outlinewidth\":0,\"ticks\":\"\"},\"colorscale\":[[0.0,\"#0d0887\"],[0.1111111111111111,\"#46039f\"],[0.2222222222222222,\"#7201a8\"],[0.3333333333333333,\"#9c179e\"],[0.4444444444444444,\"#bd3786\"],[0.5555555555555556,\"#d8576b\"],[0.6666666666666666,\"#ed7953\"],[0.7777777777777778,\"#fb9f3a\"],[0.8888888888888888,\"#fdca26\"],[1.0,\"#f0f921\"]]}],\"surface\":[{\"type\":\"surface\",\"colorbar\":{\"outlinewidth\":0,\"ticks\":\"\"},\"colorscale\":[[0.0,\"#0d0887\"],[0.1111111111111111,\"#46039f\"],[0.2222222222222222,\"#7201a8\"],[0.3333333333333333,\"#9c179e\"],[0.4444444444444444,\"#bd3786\"],[0.5555555555555556,\"#d8576b\"],[0.6666666666666666,\"#ed7953\"],[0.7777777777777778,\"#fb9f3a\"],[0.8888888888888888,\"#fdca26\"],[1.0,\"#f0f921\"]]}],\"mesh3d\":[{\"type\":\"mesh3d\",\"colorbar\":{\"outlinewidth\":0,\"ticks\":\"\"}}],\"scatter\":[{\"fillpattern\":{\"fillmode\":\"overlay\",\"size\":10,\"solidity\":0.2},\"type\":\"scatter\"}],\"parcoords\":[{\"type\":\"parcoords\",\"line\":{\"colorbar\":{\"outlinewidth\":0,\"ticks\":\"\"}}}],\"scatterpolargl\":[{\"type\":\"scatterpolargl\",\"marker\":{\"colorbar\":{\"outlinewidth\":0,\"ticks\":\"\"}}}],\"bar\":[{\"error_x\":{\"color\":\"#2a3f5f\"},\"error_y\":{\"color\":\"#2a3f5f\"},\"marker\":{\"line\":{\"color\":\"#E5ECF6\",\"width\":0.5},\"pattern\":{\"fillmode\":\"overlay\",\"size\":10,\"solidity\":0.2}},\"type\":\"bar\"}],\"scattergeo\":[{\"type\":\"scattergeo\",\"marker\":{\"colorbar\":{\"outlinewidth\":0,\"ticks\":\"\"}}}],\"scatterpolar\":[{\"type\":\"scatterpolar\",\"marker\":{\"colorbar\":{\"outlinewidth\":0,\"ticks\":\"\"}}}],\"histogram\":[{\"marker\":{\"pattern\":{\"fillmode\":\"overlay\",\"size\":10,\"solidity\":0.2}},\"type\":\"histogram\"}],\"scattergl\":[{\"type\":\"scattergl\",\"marker\":{\"colorbar\":{\"outlinewidth\":0,\"ticks\":\"\"}}}],\"scatter3d\":[{\"type\":\"scatter3d\",\"line\":{\"colorbar\":{\"outlinewidth\":0,\"ticks\":\"\"}},\"marker\":{\"colorbar\":{\"outlinewidth\":0,\"ticks\":\"\"}}}],\"scattermapbox\":[{\"type\":\"scattermapbox\",\"marker\":{\"colorbar\":{\"outlinewidth\":0,\"ticks\":\"\"}}}],\"scatterternary\":[{\"type\":\"scatterternary\",\"marker\":{\"colorbar\":{\"outlinewidth\":0,\"ticks\":\"\"}}}],\"scattercarpet\":[{\"type\":\"scattercarpet\",\"marker\":{\"colorbar\":{\"outlinewidth\":0,\"ticks\":\"\"}}}],\"carpet\":[{\"aaxis\":{\"endlinecolor\":\"#2a3f5f\",\"gridcolor\":\"white\",\"linecolor\":\"white\",\"minorgridcolor\":\"white\",\"startlinecolor\":\"#2a3f5f\"},\"baxis\":{\"endlinecolor\":\"#2a3f5f\",\"gridcolor\":\"white\",\"linecolor\":\"white\",\"minorgridcolor\":\"white\",\"startlinecolor\":\"#2a3f5f\"},\"type\":\"carpet\"}],\"table\":[{\"cells\":{\"fill\":{\"color\":\"#EBF0F8\"},\"line\":{\"color\":\"white\"}},\"header\":{\"fill\":{\"color\":\"#C8D4E3\"},\"line\":{\"color\":\"white\"}},\"type\":\"table\"}],\"barpolar\":[{\"marker\":{\"line\":{\"color\":\"#E5ECF6\",\"width\":0.5},\"pattern\":{\"fillmode\":\"overlay\",\"size\":10,\"solidity\":0.2}},\"type\":\"barpolar\"}],\"pie\":[{\"automargin\":true,\"type\":\"pie\"}]},\"layout\":{\"autotypenumbers\":\"strict\",\"colorway\":[\"#636efa\",\"#EF553B\",\"#00cc96\",\"#ab63fa\",\"#FFA15A\",\"#19d3f3\",\"#FF6692\",\"#B6E880\",\"#FF97FF\",\"#FECB52\"],\"font\":{\"color\":\"#2a3f5f\"},\"hovermode\":\"closest\",\"hoverlabel\":{\"align\":\"left\"},\"paper_bgcolor\":\"white\",\"plot_bgcolor\":\"#E5ECF6\",\"polar\":{\"bgcolor\":\"#E5ECF6\",\"angularaxis\":{\"gridcolor\":\"white\",\"linecolor\":\"white\",\"ticks\":\"\"},\"radialaxis\":{\"gridcolor\":\"white\",\"linecolor\":\"white\",\"ticks\":\"\"}},\"ternary\":{\"bgcolor\":\"#E5ECF6\",\"aaxis\":{\"gridcolor\":\"white\",\"linecolor\":\"white\",\"ticks\":\"\"},\"baxis\":{\"gridcolor\":\"white\",\"linecolor\":\"white\",\"ticks\":\"\"},\"caxis\":{\"gridcolor\":\"white\",\"linecolor\":\"white\",\"ticks\":\"\"}},\"coloraxis\":{\"colorbar\":{\"outlinewidth\":0,\"ticks\":\"\"}},\"colorscale\":{\"sequential\":[[0.0,\"#0d0887\"],[0.1111111111111111,\"#46039f\"],[0.2222222222222222,\"#7201a8\"],[0.3333333333333333,\"#9c179e\"],[0.4444444444444444,\"#bd3786\"],[0.5555555555555556,\"#d8576b\"],[0.6666666666666666,\"#ed7953\"],[0.7777777777777778,\"#fb9f3a\"],[0.8888888888888888,\"#fdca26\"],[1.0,\"#f0f921\"]],\"sequentialminus\":[[0.0,\"#0d0887\"],[0.1111111111111111,\"#46039f\"],[0.2222222222222222,\"#7201a8\"],[0.3333333333333333,\"#9c179e\"],[0.4444444444444444,\"#bd3786\"],[0.5555555555555556,\"#d8576b\"],[0.6666666666666666,\"#ed7953\"],[0.7777777777777778,\"#fb9f3a\"],[0.8888888888888888,\"#fdca26\"],[1.0,\"#f0f921\"]],\"diverging\":[[0,\"#8e0152\"],[0.1,\"#c51b7d\"],[0.2,\"#de77ae\"],[0.3,\"#f1b6da\"],[0.4,\"#fde0ef\"],[0.5,\"#f7f7f7\"],[0.6,\"#e6f5d0\"],[0.7,\"#b8e186\"],[0.8,\"#7fbc41\"],[0.9,\"#4d9221\"],[1,\"#276419\"]]},\"xaxis\":{\"gridcolor\":\"white\",\"linecolor\":\"white\",\"ticks\":\"\",\"title\":{\"standoff\":15},\"zerolinecolor\":\"white\",\"automargin\":true,\"zerolinewidth\":2},\"yaxis\":{\"gridcolor\":\"white\",\"linecolor\":\"white\",\"ticks\":\"\",\"title\":{\"standoff\":15},\"zerolinecolor\":\"white\",\"automargin\":true,\"zerolinewidth\":2},\"scene\":{\"xaxis\":{\"backgroundcolor\":\"#E5ECF6\",\"gridcolor\":\"white\",\"linecolor\":\"white\",\"showbackground\":true,\"ticks\":\"\",\"zerolinecolor\":\"white\",\"gridwidth\":2},\"yaxis\":{\"backgroundcolor\":\"#E5ECF6\",\"gridcolor\":\"white\",\"linecolor\":\"white\",\"showbackground\":true,\"ticks\":\"\",\"zerolinecolor\":\"white\",\"gridwidth\":2},\"zaxis\":{\"backgroundcolor\":\"#E5ECF6\",\"gridcolor\":\"white\",\"linecolor\":\"white\",\"showbackground\":true,\"ticks\":\"\",\"zerolinecolor\":\"white\",\"gridwidth\":2}},\"shapedefaults\":{\"line\":{\"color\":\"#2a3f5f\"}},\"annotationdefaults\":{\"arrowcolor\":\"#2a3f5f\",\"arrowhead\":0,\"arrowwidth\":1},\"geo\":{\"bgcolor\":\"white\",\"landcolor\":\"#E5ECF6\",\"subunitcolor\":\"white\",\"showland\":true,\"showlakes\":true,\"lakecolor\":\"white\"},\"title\":{\"x\":0.05},\"mapbox\":{\"style\":\"light\"}}},\"xaxis\":{\"anchor\":\"y\",\"domain\":[0.0,1.0],\"title\":{\"text\":\"K_best\"}},\"yaxis\":{\"anchor\":\"x\",\"domain\":[0.0,1.0],\"title\":{\"text\":\"F1_weighted\"}},\"legend\":{\"title\":{\"text\":\"Max_features\"},\"tracegroupgap\":0},\"margin\":{\"t\":60},\"title\":{\"text\":\"Influence de k et Max_features sur f1_weight\",\"y\":0.95,\"x\":0.5,\"xanchor\":\"center\",\"yanchor\":\"top\"}},                        {\"responsive\": true}                    ).then(function(){\n",
       "                            \n",
       "var gd = document.getElementById('dfef5dad-21df-4d0d-803b-f931b4df135d');\n",
       "var x = new MutationObserver(function (mutations, observer) {{\n",
       "        var display = window.getComputedStyle(gd).display;\n",
       "        if (!display || display === 'none') {{\n",
       "            console.log([gd, 'removed!']);\n",
       "            Plotly.purge(gd);\n",
       "            observer.disconnect();\n",
       "        }}\n",
       "}});\n",
       "\n",
       "// Listen for the removal of the full notebook cells\n",
       "var notebookContainer = gd.closest('#notebook-container');\n",
       "if (notebookContainer) {{\n",
       "    x.observe(notebookContainer, {childList: true});\n",
       "}}\n",
       "\n",
       "// Listen for the clearing of the current output cell\n",
       "var outputEl = gd.closest('.output');\n",
       "if (outputEl) {{\n",
       "    x.observe(outputEl, {childList: true});\n",
       "}}\n",
       "\n",
       "                        })                };                });            </script>        </div>"
      ]
     },
     "metadata": {},
     "output_type": "display_data"
    }
   ],
   "source": [
    "fig = px.scatter(df_maxfeatures_kbest, x=\"K_best\", y=\"F1_weighted\", \n",
    "                 color='Max_features')\n",
    "fig.update_layout(\n",
    "    title={\n",
    "        'text': \"Influence de k et Max_features sur f1_weight\",\n",
    "        'y':0.95,\n",
    "        'x':0.5,\n",
    "        'xanchor': 'center',\n",
    "        'yanchor': 'top'})\n",
    "fig.show()"
   ]
  },
  {
   "cell_type": "code",
   "execution_count": 7,
   "id": "a9b6d4cd",
   "metadata": {},
   "outputs": [
    {
     "data": {
      "application/vnd.plotly.v1+json": {
       "config": {
        "plotlyServerURL": "https://plot.ly"
       },
       "data": [
        {
         "hovertemplate": "K_best=100<br>Max_features=%{x}<br>F1_weighted=%{y}<extra></extra>",
         "legendgroup": "100",
         "marker": {
          "color": "#636efa",
          "symbol": "circle"
         },
         "mode": "markers",
         "name": "100",
         "orientation": "v",
         "showlegend": true,
         "type": "scatter",
         "x": [
          "1000",
          "2000",
          "3000",
          "4000"
         ],
         "xaxis": "x",
         "y": [
          0.5962469609620753,
          0.5352185814023753,
          0.5238280061801119,
          0.525611270501051
         ],
         "yaxis": "y"
        },
        {
         "hovertemplate": "K_best=200<br>Max_features=%{x}<br>F1_weighted=%{y}<extra></extra>",
         "legendgroup": "200",
         "marker": {
          "color": "#EF553B",
          "symbol": "circle"
         },
         "mode": "markers",
         "name": "200",
         "orientation": "v",
         "showlegend": true,
         "type": "scatter",
         "x": [
          "1000",
          "2000",
          "3000",
          "4000"
         ],
         "xaxis": "x",
         "y": [
          0.6554850328752523,
          0.6606921946188709,
          0.6569325160001384,
          0.6523064991425345
         ],
         "yaxis": "y"
        },
        {
         "hovertemplate": "K_best=300<br>Max_features=%{x}<br>F1_weighted=%{y}<extra></extra>",
         "legendgroup": "300",
         "marker": {
          "color": "#00cc96",
          "symbol": "circle"
         },
         "mode": "markers",
         "name": "300",
         "orientation": "v",
         "showlegend": true,
         "type": "scatter",
         "x": [
          "1000",
          "2000",
          "3000",
          "4000"
         ],
         "xaxis": "x",
         "y": [
          0.6895184092902104,
          0.6988621798247919,
          0.6864855394406688,
          0.6831972917186045
         ],
         "yaxis": "y"
        },
        {
         "hovertemplate": "K_best=400<br>Max_features=%{x}<br>F1_weighted=%{y}<extra></extra>",
         "legendgroup": "400",
         "marker": {
          "color": "#ab63fa",
          "symbol": "circle"
         },
         "mode": "markers",
         "name": "400",
         "orientation": "v",
         "showlegend": true,
         "type": "scatter",
         "x": [
          "1000",
          "2000",
          "3000",
          "4000"
         ],
         "xaxis": "x",
         "y": [
          0.7028721554916166,
          0.7139246694904613,
          0.7117838957859629,
          0.7102907868886922
         ],
         "yaxis": "y"
        },
        {
         "hovertemplate": "K_best=500<br>Max_features=%{x}<br>F1_weighted=%{y}<extra></extra>",
         "legendgroup": "500",
         "marker": {
          "color": "#FFA15A",
          "symbol": "circle"
         },
         "mode": "markers",
         "name": "500",
         "orientation": "v",
         "showlegend": true,
         "type": "scatter",
         "x": [
          "1000",
          "2000",
          "3000",
          "4000"
         ],
         "xaxis": "x",
         "y": [
          0.7078451173167353,
          0.7224668121905253,
          0.7194290936026743,
          0.7179658099403794
         ],
         "yaxis": "y"
        },
        {
         "hovertemplate": "K_best=600<br>Max_features=%{x}<br>F1_weighted=%{y}<extra></extra>",
         "legendgroup": "600",
         "marker": {
          "color": "#19d3f3",
          "symbol": "circle"
         },
         "mode": "markers",
         "name": "600",
         "orientation": "v",
         "showlegend": true,
         "type": "scatter",
         "x": [
          "1000",
          "2000",
          "3000",
          "4000"
         ],
         "xaxis": "x",
         "y": [
          0.7131708401261743,
          0.7321953675874651,
          0.7322161457667213,
          0.7271387081787213
         ],
         "yaxis": "y"
        },
        {
         "hovertemplate": "K_best=700<br>Max_features=%{x}<br>F1_weighted=%{y}<extra></extra>",
         "legendgroup": "700",
         "marker": {
          "color": "#FF6692",
          "symbol": "circle"
         },
         "mode": "markers",
         "name": "700",
         "orientation": "v",
         "showlegend": true,
         "type": "scatter",
         "x": [
          "1000",
          "2000",
          "3000",
          "4000"
         ],
         "xaxis": "x",
         "y": [
          0.7223749245792015,
          0.7373840357758104,
          0.7381111592724043,
          0.7373464737786196
         ],
         "yaxis": "y"
        },
        {
         "hovertemplate": "K_best=800<br>Max_features=%{x}<br>F1_weighted=%{y}<extra></extra>",
         "legendgroup": "800",
         "marker": {
          "color": "#B6E880",
          "symbol": "circle"
         },
         "mode": "markers",
         "name": "800",
         "orientation": "v",
         "showlegend": true,
         "type": "scatter",
         "x": [
          "1000",
          "2000",
          "3000",
          "4000"
         ],
         "xaxis": "x",
         "y": [
          0.7235002915791994,
          0.7426751800483861,
          0.7390581604462085,
          0.7439159360939066
         ],
         "yaxis": "y"
        },
        {
         "hovertemplate": "K_best=900<br>Max_features=%{x}<br>F1_weighted=%{y}<extra></extra>",
         "legendgroup": "900",
         "marker": {
          "color": "#FF97FF",
          "symbol": "circle"
         },
         "mode": "markers",
         "name": "900",
         "orientation": "v",
         "showlegend": true,
         "type": "scatter",
         "x": [
          "1000",
          "2000",
          "3000",
          "4000",
          "5000",
          "6000",
          "7000",
          "8000",
          "9000",
          "10000"
         ],
         "xaxis": "x",
         "y": [
          0.7283435302495623,
          0.7479289675803168,
          0.7452513908176995,
          0.7441329028444449,
          0.7403591830513436,
          0.7415826888271047,
          0.7427891330727175,
          0.7444950653447898,
          0.7433948269373322,
          0.7426839756929168
         ],
         "yaxis": "y"
        },
        {
         "hovertemplate": "K_best=1000<br>Max_features=%{x}<br>F1_weighted=%{y}<extra></extra>",
         "legendgroup": "1000",
         "marker": {
          "color": "#FECB52",
          "symbol": "circle"
         },
         "mode": "markers",
         "name": "1000",
         "orientation": "v",
         "showlegend": true,
         "type": "scatter",
         "x": [
          "2000",
          "3000",
          "4000",
          "9000",
          "8000"
         ],
         "xaxis": "x",
         "y": [
          0.751925163608734,
          0.7478690921898202,
          0.7469534161983458,
          0.7462053090615149,
          0.7479953418054673
         ],
         "yaxis": "y"
        },
        {
         "hovertemplate": "K_best=1100<br>Max_features=%{x}<br>F1_weighted=%{y}<extra></extra>",
         "legendgroup": "1100",
         "marker": {
          "color": "#636efa",
          "symbol": "circle"
         },
         "mode": "markers",
         "name": "1100",
         "orientation": "v",
         "showlegend": true,
         "type": "scatter",
         "x": [
          "2000",
          "3000",
          "4000"
         ],
         "xaxis": "x",
         "y": [
          0.7494034666904686,
          0.7530723958097819,
          0.7518660652728655
         ],
         "yaxis": "y"
        },
        {
         "hovertemplate": "K_best=1200<br>Max_features=%{x}<br>F1_weighted=%{y}<extra></extra>",
         "legendgroup": "1200",
         "marker": {
          "color": "#EF553B",
          "symbol": "circle"
         },
         "mode": "markers",
         "name": "1200",
         "orientation": "v",
         "showlegend": true,
         "type": "scatter",
         "x": [
          "2000",
          "3000",
          "4000"
         ],
         "xaxis": "x",
         "y": [
          0.7534027000262257,
          0.7557213479099323,
          0.7536216185456777
         ],
         "yaxis": "y"
        },
        {
         "hovertemplate": "K_best=1300<br>Max_features=%{x}<br>F1_weighted=%{y}<extra></extra>",
         "legendgroup": "1300",
         "marker": {
          "color": "#00cc96",
          "symbol": "circle"
         },
         "mode": "markers",
         "name": "1300",
         "orientation": "v",
         "showlegend": true,
         "type": "scatter",
         "x": [
          "2000",
          "3000",
          "4000"
         ],
         "xaxis": "x",
         "y": [
          0.755250350349306,
          0.7558153213409123,
          0.7564115281703409
         ],
         "yaxis": "y"
        },
        {
         "hovertemplate": "K_best=1400<br>Max_features=%{x}<br>F1_weighted=%{y}<extra></extra>",
         "legendgroup": "1400",
         "marker": {
          "color": "#ab63fa",
          "symbol": "circle"
         },
         "mode": "markers",
         "name": "1400",
         "orientation": "v",
         "showlegend": true,
         "type": "scatter",
         "x": [
          "2000",
          "3000",
          "4000"
         ],
         "xaxis": "x",
         "y": [
          0.7574459866124855,
          0.757947609905622,
          0.7579340927467338
         ],
         "yaxis": "y"
        },
        {
         "hovertemplate": "K_best=1500<br>Max_features=%{x}<br>F1_weighted=%{y}<extra></extra>",
         "legendgroup": "1500",
         "marker": {
          "color": "#FFA15A",
          "symbol": "circle"
         },
         "mode": "markers",
         "name": "1500",
         "orientation": "v",
         "showlegend": true,
         "type": "scatter",
         "x": [
          "2000",
          "3000",
          "4000"
         ],
         "xaxis": "x",
         "y": [
          0.7571954686119811,
          0.7579167727124819,
          0.7588692661132674
         ],
         "yaxis": "y"
        },
        {
         "hovertemplate": "K_best=1600<br>Max_features=%{x}<br>F1_weighted=%{y}<extra></extra>",
         "legendgroup": "1600",
         "marker": {
          "color": "#19d3f3",
          "symbol": "circle"
         },
         "mode": "markers",
         "name": "1600",
         "orientation": "v",
         "showlegend": true,
         "type": "scatter",
         "x": [
          "2000",
          "3000",
          "4000"
         ],
         "xaxis": "x",
         "y": [
          0.7602097243445072,
          0.7597180208526644,
          0.7589303335690394
         ],
         "yaxis": "y"
        },
        {
         "hovertemplate": "K_best=1700<br>Max_features=%{x}<br>F1_weighted=%{y}<extra></extra>",
         "legendgroup": "1700",
         "marker": {
          "color": "#FF6692",
          "symbol": "circle"
         },
         "mode": "markers",
         "name": "1700",
         "orientation": "v",
         "showlegend": true,
         "type": "scatter",
         "x": [
          "2000",
          "3000",
          "4000"
         ],
         "xaxis": "x",
         "y": [
          0.7594809462843128,
          0.7629375646781996,
          0.7621529074327533
         ],
         "yaxis": "y"
        },
        {
         "hovertemplate": "K_best=1800<br>Max_features=%{x}<br>F1_weighted=%{y}<extra></extra>",
         "legendgroup": "1800",
         "marker": {
          "color": "#B6E880",
          "symbol": "circle"
         },
         "mode": "markers",
         "name": "1800",
         "orientation": "v",
         "showlegend": true,
         "type": "scatter",
         "x": [
          "2000",
          "3000",
          "4000"
         ],
         "xaxis": "x",
         "y": [
          0.7610523749885683,
          0.7630229951233888,
          0.761736295565009
         ],
         "yaxis": "y"
        },
        {
         "hovertemplate": "K_best=1900<br>Max_features=%{x}<br>F1_weighted=%{y}<extra></extra>",
         "legendgroup": "1900",
         "marker": {
          "color": "#FF97FF",
          "symbol": "circle"
         },
         "mode": "markers",
         "name": "1900",
         "orientation": "v",
         "showlegend": true,
         "type": "scatter",
         "x": [
          "2000",
          "3000",
          "4000"
         ],
         "xaxis": "x",
         "y": [
          0.7610865465771358,
          0.7642861287674794,
          0.7641936973945894
         ],
         "yaxis": "y"
        },
        {
         "hovertemplate": "K_best=2000<br>Max_features=%{x}<br>F1_weighted=%{y}<extra></extra>",
         "legendgroup": "2000",
         "marker": {
          "color": "#FECB52",
          "symbol": "circle"
         },
         "mode": "markers",
         "name": "2000",
         "orientation": "v",
         "showlegend": true,
         "type": "scatter",
         "x": [
          "3000",
          "9000",
          "8000"
         ],
         "xaxis": "x",
         "y": [
          0.7646951554146247,
          0.763124913596692,
          0.7631820909220889
         ],
         "yaxis": "y"
        },
        {
         "hovertemplate": "K_best=2100<br>Max_features=%{x}<br>F1_weighted=%{y}<extra></extra>",
         "legendgroup": "2100",
         "marker": {
          "color": "#636efa",
          "symbol": "circle"
         },
         "mode": "markers",
         "name": "2100",
         "orientation": "v",
         "showlegend": true,
         "type": "scatter",
         "x": [
          "3000"
         ],
         "xaxis": "x",
         "y": [
          0.7651300685481591
         ],
         "yaxis": "y"
        },
        {
         "hovertemplate": "K_best=2200<br>Max_features=%{x}<br>F1_weighted=%{y}<extra></extra>",
         "legendgroup": "2200",
         "marker": {
          "color": "#EF553B",
          "symbol": "circle"
         },
         "mode": "markers",
         "name": "2200",
         "orientation": "v",
         "showlegend": true,
         "type": "scatter",
         "x": [
          "3000"
         ],
         "xaxis": "x",
         "y": [
          0.7640691046817628
         ],
         "yaxis": "y"
        },
        {
         "hovertemplate": "K_best=2300<br>Max_features=%{x}<br>F1_weighted=%{y}<extra></extra>",
         "legendgroup": "2300",
         "marker": {
          "color": "#00cc96",
          "symbol": "circle"
         },
         "mode": "markers",
         "name": "2300",
         "orientation": "v",
         "showlegend": true,
         "type": "scatter",
         "x": [
          "3000"
         ],
         "xaxis": "x",
         "y": [
          0.7634556762950694
         ],
         "yaxis": "y"
        },
        {
         "hovertemplate": "K_best=2400<br>Max_features=%{x}<br>F1_weighted=%{y}<extra></extra>",
         "legendgroup": "2400",
         "marker": {
          "color": "#ab63fa",
          "symbol": "circle"
         },
         "mode": "markers",
         "name": "2400",
         "orientation": "v",
         "showlegend": true,
         "type": "scatter",
         "x": [
          "3000"
         ],
         "xaxis": "x",
         "y": [
          0.7666519522438892
         ],
         "yaxis": "y"
        },
        {
         "hovertemplate": "K_best=2500<br>Max_features=%{x}<br>F1_weighted=%{y}<extra></extra>",
         "legendgroup": "2500",
         "marker": {
          "color": "#FFA15A",
          "symbol": "circle"
         },
         "mode": "markers",
         "name": "2500",
         "orientation": "v",
         "showlegend": true,
         "type": "scatter",
         "x": [
          "3000"
         ],
         "xaxis": "x",
         "y": [
          0.7631040446609875
         ],
         "yaxis": "y"
        },
        {
         "hovertemplate": "K_best=2600<br>Max_features=%{x}<br>F1_weighted=%{y}<extra></extra>",
         "legendgroup": "2600",
         "marker": {
          "color": "#19d3f3",
          "symbol": "circle"
         },
         "mode": "markers",
         "name": "2600",
         "orientation": "v",
         "showlegend": true,
         "type": "scatter",
         "x": [
          "3000"
         ],
         "xaxis": "x",
         "y": [
          0.7642484411518937
         ],
         "yaxis": "y"
        },
        {
         "hovertemplate": "K_best=2700<br>Max_features=%{x}<br>F1_weighted=%{y}<extra></extra>",
         "legendgroup": "2700",
         "marker": {
          "color": "#FF6692",
          "symbol": "circle"
         },
         "mode": "markers",
         "name": "2700",
         "orientation": "v",
         "showlegend": true,
         "type": "scatter",
         "x": [
          "3000"
         ],
         "xaxis": "x",
         "y": [
          0.7664184359004327
         ],
         "yaxis": "y"
        },
        {
         "hovertemplate": "K_best=2800<br>Max_features=%{x}<br>F1_weighted=%{y}<extra></extra>",
         "legendgroup": "2800",
         "marker": {
          "color": "#B6E880",
          "symbol": "circle"
         },
         "mode": "markers",
         "name": "2800",
         "orientation": "v",
         "showlegend": true,
         "type": "scatter",
         "x": [
          "3000"
         ],
         "xaxis": "x",
         "y": [
          0.7651991890808573
         ],
         "yaxis": "y"
        },
        {
         "hovertemplate": "K_best=2900<br>Max_features=%{x}<br>F1_weighted=%{y}<extra></extra>",
         "legendgroup": "2900",
         "marker": {
          "color": "#FF97FF",
          "symbol": "circle"
         },
         "mode": "markers",
         "name": "2900",
         "orientation": "v",
         "showlegend": true,
         "type": "scatter",
         "x": [
          "3000"
         ],
         "xaxis": "x",
         "y": [
          0.7642636229687173
         ],
         "yaxis": "y"
        },
        {
         "hovertemplate": "K_best=3000<br>Max_features=%{x}<br>F1_weighted=%{y}<extra></extra>",
         "legendgroup": "3000",
         "marker": {
          "color": "#FECB52",
          "symbol": "circle"
         },
         "mode": "markers",
         "name": "3000",
         "orientation": "v",
         "showlegend": true,
         "type": "scatter",
         "x": [
          "4000",
          "9000",
          "8000"
         ],
         "xaxis": "x",
         "y": [
          0.7728115870171661,
          0.7695964127448904,
          0.7686469801379018
         ],
         "yaxis": "y"
        },
        {
         "hovertemplate": "K_best=3100<br>Max_features=%{x}<br>F1_weighted=%{y}<extra></extra>",
         "legendgroup": "3100",
         "marker": {
          "color": "#636efa",
          "symbol": "circle"
         },
         "mode": "markers",
         "name": "3100",
         "orientation": "v",
         "showlegend": true,
         "type": "scatter",
         "x": [
          "4000"
         ],
         "xaxis": "x",
         "y": [
          0.7710447520840598
         ],
         "yaxis": "y"
        },
        {
         "hovertemplate": "K_best=3200<br>Max_features=%{x}<br>F1_weighted=%{y}<extra></extra>",
         "legendgroup": "3200",
         "marker": {
          "color": "#EF553B",
          "symbol": "circle"
         },
         "mode": "markers",
         "name": "3200",
         "orientation": "v",
         "showlegend": true,
         "type": "scatter",
         "x": [
          "4000"
         ],
         "xaxis": "x",
         "y": [
          0.7720737710613247
         ],
         "yaxis": "y"
        },
        {
         "hovertemplate": "K_best=3300<br>Max_features=%{x}<br>F1_weighted=%{y}<extra></extra>",
         "legendgroup": "3300",
         "marker": {
          "color": "#00cc96",
          "symbol": "circle"
         },
         "mode": "markers",
         "name": "3300",
         "orientation": "v",
         "showlegend": true,
         "type": "scatter",
         "x": [
          "4000"
         ],
         "xaxis": "x",
         "y": [
          0.771917879523896
         ],
         "yaxis": "y"
        },
        {
         "hovertemplate": "K_best=3400<br>Max_features=%{x}<br>F1_weighted=%{y}<extra></extra>",
         "legendgroup": "3400",
         "marker": {
          "color": "#ab63fa",
          "symbol": "circle"
         },
         "mode": "markers",
         "name": "3400",
         "orientation": "v",
         "showlegend": true,
         "type": "scatter",
         "x": [
          "4000"
         ],
         "xaxis": "x",
         "y": [
          0.7727128025624389
         ],
         "yaxis": "y"
        },
        {
         "hovertemplate": "K_best=3500<br>Max_features=%{x}<br>F1_weighted=%{y}<extra></extra>",
         "legendgroup": "3500",
         "marker": {
          "color": "#FFA15A",
          "symbol": "circle"
         },
         "mode": "markers",
         "name": "3500",
         "orientation": "v",
         "showlegend": true,
         "type": "scatter",
         "x": [
          "4000"
         ],
         "xaxis": "x",
         "y": [
          0.7718867655026286
         ],
         "yaxis": "y"
        },
        {
         "hovertemplate": "K_best=3600<br>Max_features=%{x}<br>F1_weighted=%{y}<extra></extra>",
         "legendgroup": "3600",
         "marker": {
          "color": "#19d3f3",
          "symbol": "circle"
         },
         "mode": "markers",
         "name": "3600",
         "orientation": "v",
         "showlegend": true,
         "type": "scatter",
         "x": [
          "4000"
         ],
         "xaxis": "x",
         "y": [
          0.7714045532779048
         ],
         "yaxis": "y"
        },
        {
         "hovertemplate": "K_best=3700<br>Max_features=%{x}<br>F1_weighted=%{y}<extra></extra>",
         "legendgroup": "3700",
         "marker": {
          "color": "#FF6692",
          "symbol": "circle"
         },
         "mode": "markers",
         "name": "3700",
         "orientation": "v",
         "showlegend": true,
         "type": "scatter",
         "x": [
          "4000"
         ],
         "xaxis": "x",
         "y": [
          0.7710154320164699
         ],
         "yaxis": "y"
        },
        {
         "hovertemplate": "K_best=3800<br>Max_features=%{x}<br>F1_weighted=%{y}<extra></extra>",
         "legendgroup": "3800",
         "marker": {
          "color": "#B6E880",
          "symbol": "circle"
         },
         "mode": "markers",
         "name": "3800",
         "orientation": "v",
         "showlegend": true,
         "type": "scatter",
         "x": [
          "4000"
         ],
         "xaxis": "x",
         "y": [
          0.7707421340520973
         ],
         "yaxis": "y"
        },
        {
         "hovertemplate": "K_best=3900<br>Max_features=%{x}<br>F1_weighted=%{y}<extra></extra>",
         "legendgroup": "3900",
         "marker": {
          "color": "#FF97FF",
          "symbol": "circle"
         },
         "mode": "markers",
         "name": "3900",
         "orientation": "v",
         "showlegend": true,
         "type": "scatter",
         "x": [
          "4000"
         ],
         "xaxis": "x",
         "y": [
          0.7710801846129408
         ],
         "yaxis": "y"
        },
        {
         "hovertemplate": "K_best=4000<br>Max_features=%{x}<br>F1_weighted=%{y}<extra></extra>",
         "legendgroup": "4000",
         "marker": {
          "color": "#FECB52",
          "symbol": "circle"
         },
         "mode": "markers",
         "name": "4000",
         "orientation": "v",
         "showlegend": true,
         "type": "scatter",
         "x": [
          "5000",
          "9000",
          "8000"
         ],
         "xaxis": "x",
         "y": [
          0.7763722024915706,
          0.7721026077807676,
          0.7719424773260299
         ],
         "yaxis": "y"
        },
        {
         "hovertemplate": "K_best=4100<br>Max_features=%{x}<br>F1_weighted=%{y}<extra></extra>",
         "legendgroup": "4100",
         "marker": {
          "color": "#636efa",
          "symbol": "circle"
         },
         "mode": "markers",
         "name": "4100",
         "orientation": "v",
         "showlegend": true,
         "type": "scatter",
         "x": [
          "5000"
         ],
         "xaxis": "x",
         "y": [
          0.773487878505366
         ],
         "yaxis": "y"
        },
        {
         "hovertemplate": "K_best=4200<br>Max_features=%{x}<br>F1_weighted=%{y}<extra></extra>",
         "legendgroup": "4200",
         "marker": {
          "color": "#EF553B",
          "symbol": "circle"
         },
         "mode": "markers",
         "name": "4200",
         "orientation": "v",
         "showlegend": true,
         "type": "scatter",
         "x": [
          "5000"
         ],
         "xaxis": "x",
         "y": [
          0.7733270451734074
         ],
         "yaxis": "y"
        },
        {
         "hovertemplate": "K_best=4300<br>Max_features=%{x}<br>F1_weighted=%{y}<extra></extra>",
         "legendgroup": "4300",
         "marker": {
          "color": "#00cc96",
          "symbol": "circle"
         },
         "mode": "markers",
         "name": "4300",
         "orientation": "v",
         "showlegend": true,
         "type": "scatter",
         "x": [
          "5000"
         ],
         "xaxis": "x",
         "y": [
          0.7727044758218207
         ],
         "yaxis": "y"
        },
        {
         "hovertemplate": "K_best=4400<br>Max_features=%{x}<br>F1_weighted=%{y}<extra></extra>",
         "legendgroup": "4400",
         "marker": {
          "color": "#ab63fa",
          "symbol": "circle"
         },
         "mode": "markers",
         "name": "4400",
         "orientation": "v",
         "showlegend": true,
         "type": "scatter",
         "x": [
          "5000"
         ],
         "xaxis": "x",
         "y": [
          0.7726685034142909
         ],
         "yaxis": "y"
        },
        {
         "hovertemplate": "K_best=4500<br>Max_features=%{x}<br>F1_weighted=%{y}<extra></extra>",
         "legendgroup": "4500",
         "marker": {
          "color": "#FFA15A",
          "symbol": "circle"
         },
         "mode": "markers",
         "name": "4500",
         "orientation": "v",
         "showlegend": true,
         "type": "scatter",
         "x": [
          "5000"
         ],
         "xaxis": "x",
         "y": [
          0.7750870092095711
         ],
         "yaxis": "y"
        },
        {
         "hovertemplate": "K_best=4600<br>Max_features=%{x}<br>F1_weighted=%{y}<extra></extra>",
         "legendgroup": "4600",
         "marker": {
          "color": "#19d3f3",
          "symbol": "circle"
         },
         "mode": "markers",
         "name": "4600",
         "orientation": "v",
         "showlegend": true,
         "type": "scatter",
         "x": [
          "5000"
         ],
         "xaxis": "x",
         "y": [
          0.7745230895039079
         ],
         "yaxis": "y"
        },
        {
         "hovertemplate": "K_best=4700<br>Max_features=%{x}<br>F1_weighted=%{y}<extra></extra>",
         "legendgroup": "4700",
         "marker": {
          "color": "#FF6692",
          "symbol": "circle"
         },
         "mode": "markers",
         "name": "4700",
         "orientation": "v",
         "showlegend": true,
         "type": "scatter",
         "x": [
          "5000"
         ],
         "xaxis": "x",
         "y": [
          0.7729952909485924
         ],
         "yaxis": "y"
        },
        {
         "hovertemplate": "K_best=4800<br>Max_features=%{x}<br>F1_weighted=%{y}<extra></extra>",
         "legendgroup": "4800",
         "marker": {
          "color": "#B6E880",
          "symbol": "circle"
         },
         "mode": "markers",
         "name": "4800",
         "orientation": "v",
         "showlegend": true,
         "type": "scatter",
         "x": [
          "5000"
         ],
         "xaxis": "x",
         "y": [
          0.7732507918801486
         ],
         "yaxis": "y"
        },
        {
         "hovertemplate": "K_best=4900<br>Max_features=%{x}<br>F1_weighted=%{y}<extra></extra>",
         "legendgroup": "4900",
         "marker": {
          "color": "#FF97FF",
          "symbol": "circle"
         },
         "mode": "markers",
         "name": "4900",
         "orientation": "v",
         "showlegend": true,
         "type": "scatter",
         "x": [
          "5000"
         ],
         "xaxis": "x",
         "y": [
          0.7754910650428899
         ],
         "yaxis": "y"
        },
        {
         "hovertemplate": "K_best=5000<br>Max_features=%{x}<br>F1_weighted=%{y}<extra></extra>",
         "legendgroup": "5000",
         "marker": {
          "color": "#FECB52",
          "symbol": "circle"
         },
         "mode": "markers",
         "name": "5000",
         "orientation": "v",
         "showlegend": true,
         "type": "scatter",
         "x": [
          "6000",
          "9000",
          "8000"
         ],
         "xaxis": "x",
         "y": [
          0.7735927556073424,
          0.7756500196299446,
          0.7740604183647923
         ],
         "yaxis": "y"
        },
        {
         "hovertemplate": "K_best=5100<br>Max_features=%{x}<br>F1_weighted=%{y}<extra></extra>",
         "legendgroup": "5100",
         "marker": {
          "color": "#636efa",
          "symbol": "circle"
         },
         "mode": "markers",
         "name": "5100",
         "orientation": "v",
         "showlegend": true,
         "type": "scatter",
         "x": [
          "6000"
         ],
         "xaxis": "x",
         "y": [
          0.7739971564028976
         ],
         "yaxis": "y"
        },
        {
         "hovertemplate": "K_best=5200<br>Max_features=%{x}<br>F1_weighted=%{y}<extra></extra>",
         "legendgroup": "5200",
         "marker": {
          "color": "#EF553B",
          "symbol": "circle"
         },
         "mode": "markers",
         "name": "5200",
         "orientation": "v",
         "showlegend": true,
         "type": "scatter",
         "x": [
          "6000"
         ],
         "xaxis": "x",
         "y": [
          0.774057716337475
         ],
         "yaxis": "y"
        },
        {
         "hovertemplate": "K_best=5300<br>Max_features=%{x}<br>F1_weighted=%{y}<extra></extra>",
         "legendgroup": "5300",
         "marker": {
          "color": "#00cc96",
          "symbol": "circle"
         },
         "mode": "markers",
         "name": "5300",
         "orientation": "v",
         "showlegend": true,
         "type": "scatter",
         "x": [
          "6000"
         ],
         "xaxis": "x",
         "y": [
          0.7748472094139834
         ],
         "yaxis": "y"
        },
        {
         "hovertemplate": "K_best=5400<br>Max_features=%{x}<br>F1_weighted=%{y}<extra></extra>",
         "legendgroup": "5400",
         "marker": {
          "color": "#ab63fa",
          "symbol": "circle"
         },
         "mode": "markers",
         "name": "5400",
         "orientation": "v",
         "showlegend": true,
         "type": "scatter",
         "x": [
          "6000"
         ],
         "xaxis": "x",
         "y": [
          0.772483092708822
         ],
         "yaxis": "y"
        },
        {
         "hovertemplate": "K_best=5500<br>Max_features=%{x}<br>F1_weighted=%{y}<extra></extra>",
         "legendgroup": "5500",
         "marker": {
          "color": "#FFA15A",
          "symbol": "circle"
         },
         "mode": "markers",
         "name": "5500",
         "orientation": "v",
         "showlegend": true,
         "type": "scatter",
         "x": [
          "6000"
         ],
         "xaxis": "x",
         "y": [
          0.7752252315763173
         ],
         "yaxis": "y"
        },
        {
         "hovertemplate": "K_best=5600<br>Max_features=%{x}<br>F1_weighted=%{y}<extra></extra>",
         "legendgroup": "5600",
         "marker": {
          "color": "#19d3f3",
          "symbol": "circle"
         },
         "mode": "markers",
         "name": "5600",
         "orientation": "v",
         "showlegend": true,
         "type": "scatter",
         "x": [
          "6000"
         ],
         "xaxis": "x",
         "y": [
          0.7761397823642022
         ],
         "yaxis": "y"
        },
        {
         "hovertemplate": "K_best=5700<br>Max_features=%{x}<br>F1_weighted=%{y}<extra></extra>",
         "legendgroup": "5700",
         "marker": {
          "color": "#FF6692",
          "symbol": "circle"
         },
         "mode": "markers",
         "name": "5700",
         "orientation": "v",
         "showlegend": true,
         "type": "scatter",
         "x": [
          "6000"
         ],
         "xaxis": "x",
         "y": [
          0.7755909585664864
         ],
         "yaxis": "y"
        },
        {
         "hovertemplate": "K_best=5800<br>Max_features=%{x}<br>F1_weighted=%{y}<extra></extra>",
         "legendgroup": "5800",
         "marker": {
          "color": "#B6E880",
          "symbol": "circle"
         },
         "mode": "markers",
         "name": "5800",
         "orientation": "v",
         "showlegend": true,
         "type": "scatter",
         "x": [
          "6000"
         ],
         "xaxis": "x",
         "y": [
          0.773733439080513
         ],
         "yaxis": "y"
        },
        {
         "hovertemplate": "K_best=5900<br>Max_features=%{x}<br>F1_weighted=%{y}<extra></extra>",
         "legendgroup": "5900",
         "marker": {
          "color": "#FF97FF",
          "symbol": "circle"
         },
         "mode": "markers",
         "name": "5900",
         "orientation": "v",
         "showlegend": true,
         "type": "scatter",
         "x": [
          "6000"
         ],
         "xaxis": "x",
         "y": [
          0.775961775394873
         ],
         "yaxis": "y"
        },
        {
         "hovertemplate": "K_best=6000<br>Max_features=%{x}<br>F1_weighted=%{y}<extra></extra>",
         "legendgroup": "6000",
         "marker": {
          "color": "#FECB52",
          "symbol": "circle"
         },
         "mode": "markers",
         "name": "6000",
         "orientation": "v",
         "showlegend": true,
         "type": "scatter",
         "x": [
          "7000",
          "9000",
          "8000"
         ],
         "xaxis": "x",
         "y": [
          0.7739809387841236,
          0.7786520846123803,
          0.7767056325428527
         ],
         "yaxis": "y"
        },
        {
         "hovertemplate": "K_best=6100<br>Max_features=%{x}<br>F1_weighted=%{y}<extra></extra>",
         "legendgroup": "6100",
         "marker": {
          "color": "#636efa",
          "symbol": "circle"
         },
         "mode": "markers",
         "name": "6100",
         "orientation": "v",
         "showlegend": true,
         "type": "scatter",
         "x": [
          "7000"
         ],
         "xaxis": "x",
         "y": [
          0.7767924601384872
         ],
         "yaxis": "y"
        },
        {
         "hovertemplate": "K_best=6200<br>Max_features=%{x}<br>F1_weighted=%{y}<extra></extra>",
         "legendgroup": "6200",
         "marker": {
          "color": "#EF553B",
          "symbol": "circle"
         },
         "mode": "markers",
         "name": "6200",
         "orientation": "v",
         "showlegend": true,
         "type": "scatter",
         "x": [
          "7000"
         ],
         "xaxis": "x",
         "y": [
          0.7730544570996518
         ],
         "yaxis": "y"
        },
        {
         "hovertemplate": "K_best=6300<br>Max_features=%{x}<br>F1_weighted=%{y}<extra></extra>",
         "legendgroup": "6300",
         "marker": {
          "color": "#00cc96",
          "symbol": "circle"
         },
         "mode": "markers",
         "name": "6300",
         "orientation": "v",
         "showlegend": true,
         "type": "scatter",
         "x": [
          "7000"
         ],
         "xaxis": "x",
         "y": [
          0.7757299557656234
         ],
         "yaxis": "y"
        },
        {
         "hovertemplate": "K_best=6400<br>Max_features=%{x}<br>F1_weighted=%{y}<extra></extra>",
         "legendgroup": "6400",
         "marker": {
          "color": "#ab63fa",
          "symbol": "circle"
         },
         "mode": "markers",
         "name": "6400",
         "orientation": "v",
         "showlegend": true,
         "type": "scatter",
         "x": [
          "7000"
         ],
         "xaxis": "x",
         "y": [
          0.7759152083826405
         ],
         "yaxis": "y"
        },
        {
         "hovertemplate": "K_best=6500<br>Max_features=%{x}<br>F1_weighted=%{y}<extra></extra>",
         "legendgroup": "6500",
         "marker": {
          "color": "#FFA15A",
          "symbol": "circle"
         },
         "mode": "markers",
         "name": "6500",
         "orientation": "v",
         "showlegend": true,
         "type": "scatter",
         "x": [
          "7000"
         ],
         "xaxis": "x",
         "y": [
          0.7728919542834652
         ],
         "yaxis": "y"
        },
        {
         "hovertemplate": "K_best=6600<br>Max_features=%{x}<br>F1_weighted=%{y}<extra></extra>",
         "legendgroup": "6600",
         "marker": {
          "color": "#19d3f3",
          "symbol": "circle"
         },
         "mode": "markers",
         "name": "6600",
         "orientation": "v",
         "showlegend": true,
         "type": "scatter",
         "x": [
          "7000"
         ],
         "xaxis": "x",
         "y": [
          0.7755918020744035
         ],
         "yaxis": "y"
        },
        {
         "hovertemplate": "K_best=6700<br>Max_features=%{x}<br>F1_weighted=%{y}<extra></extra>",
         "legendgroup": "6700",
         "marker": {
          "color": "#FF6692",
          "symbol": "circle"
         },
         "mode": "markers",
         "name": "6700",
         "orientation": "v",
         "showlegend": true,
         "type": "scatter",
         "x": [
          "7000"
         ],
         "xaxis": "x",
         "y": [
          0.7738508008829696
         ],
         "yaxis": "y"
        },
        {
         "hovertemplate": "K_best=6800<br>Max_features=%{x}<br>F1_weighted=%{y}<extra></extra>",
         "legendgroup": "6800",
         "marker": {
          "color": "#B6E880",
          "symbol": "circle"
         },
         "mode": "markers",
         "name": "6800",
         "orientation": "v",
         "showlegend": true,
         "type": "scatter",
         "x": [
          "7000"
         ],
         "xaxis": "x",
         "y": [
          0.7743529962055682
         ],
         "yaxis": "y"
        },
        {
         "hovertemplate": "K_best=6900<br>Max_features=%{x}<br>F1_weighted=%{y}<extra></extra>",
         "legendgroup": "6900",
         "marker": {
          "color": "#FF97FF",
          "symbol": "circle"
         },
         "mode": "markers",
         "name": "6900",
         "orientation": "v",
         "showlegend": true,
         "type": "scatter",
         "x": [
          "7000"
         ],
         "xaxis": "x",
         "y": [
          0.7745905813796582
         ],
         "yaxis": "y"
        },
        {
         "hovertemplate": "K_best=7000<br>Max_features=%{x}<br>F1_weighted=%{y}<extra></extra>",
         "legendgroup": "7000",
         "marker": {
          "color": "#FECB52",
          "symbol": "circle"
         },
         "mode": "markers",
         "name": "7000",
         "orientation": "v",
         "showlegend": true,
         "type": "scatter",
         "x": [
          "8000",
          "9000",
          "8000"
         ],
         "xaxis": "x",
         "y": [
          0.7748432333860433,
          0.7762357832183145,
          0.7748432333860433
         ],
         "yaxis": "y"
        },
        {
         "hovertemplate": "K_best=7100<br>Max_features=%{x}<br>F1_weighted=%{y}<extra></extra>",
         "legendgroup": "7100",
         "marker": {
          "color": "#636efa",
          "symbol": "circle"
         },
         "mode": "markers",
         "name": "7100",
         "orientation": "v",
         "showlegend": true,
         "type": "scatter",
         "x": [
          "8000"
         ],
         "xaxis": "x",
         "y": [
          0.7758752098367897
         ],
         "yaxis": "y"
        },
        {
         "hovertemplate": "K_best=7200<br>Max_features=%{x}<br>F1_weighted=%{y}<extra></extra>",
         "legendgroup": "7200",
         "marker": {
          "color": "#EF553B",
          "symbol": "circle"
         },
         "mode": "markers",
         "name": "7200",
         "orientation": "v",
         "showlegend": true,
         "type": "scatter",
         "x": [
          "8000"
         ],
         "xaxis": "x",
         "y": [
          0.7753334424478261
         ],
         "yaxis": "y"
        },
        {
         "hovertemplate": "K_best=7300<br>Max_features=%{x}<br>F1_weighted=%{y}<extra></extra>",
         "legendgroup": "7300",
         "marker": {
          "color": "#00cc96",
          "symbol": "circle"
         },
         "mode": "markers",
         "name": "7300",
         "orientation": "v",
         "showlegend": true,
         "type": "scatter",
         "x": [
          "8000"
         ],
         "xaxis": "x",
         "y": [
          0.7754490986759723
         ],
         "yaxis": "y"
        },
        {
         "hovertemplate": "K_best=7400<br>Max_features=%{x}<br>F1_weighted=%{y}<extra></extra>",
         "legendgroup": "7400",
         "marker": {
          "color": "#ab63fa",
          "symbol": "circle"
         },
         "mode": "markers",
         "name": "7400",
         "orientation": "v",
         "showlegend": true,
         "type": "scatter",
         "x": [
          "8000"
         ],
         "xaxis": "x",
         "y": [
          0.7720022873442216
         ],
         "yaxis": "y"
        },
        {
         "hovertemplate": "K_best=7500<br>Max_features=%{x}<br>F1_weighted=%{y}<extra></extra>",
         "legendgroup": "7500",
         "marker": {
          "color": "#FFA15A",
          "symbol": "circle"
         },
         "mode": "markers",
         "name": "7500",
         "orientation": "v",
         "showlegend": true,
         "type": "scatter",
         "x": [
          "8000"
         ],
         "xaxis": "x",
         "y": [
          0.776278824858956
         ],
         "yaxis": "y"
        },
        {
         "hovertemplate": "K_best=7600<br>Max_features=%{x}<br>F1_weighted=%{y}<extra></extra>",
         "legendgroup": "7600",
         "marker": {
          "color": "#19d3f3",
          "symbol": "circle"
         },
         "mode": "markers",
         "name": "7600",
         "orientation": "v",
         "showlegend": true,
         "type": "scatter",
         "x": [
          "8000"
         ],
         "xaxis": "x",
         "y": [
          0.7744852178123116
         ],
         "yaxis": "y"
        },
        {
         "hovertemplate": "K_best=7700<br>Max_features=%{x}<br>F1_weighted=%{y}<extra></extra>",
         "legendgroup": "7700",
         "marker": {
          "color": "#FF6692",
          "symbol": "circle"
         },
         "mode": "markers",
         "name": "7700",
         "orientation": "v",
         "showlegend": true,
         "type": "scatter",
         "x": [
          "8000"
         ],
         "xaxis": "x",
         "y": [
          0.7720571197765372
         ],
         "yaxis": "y"
        },
        {
         "hovertemplate": "K_best=7800<br>Max_features=%{x}<br>F1_weighted=%{y}<extra></extra>",
         "legendgroup": "7800",
         "marker": {
          "color": "#B6E880",
          "symbol": "circle"
         },
         "mode": "markers",
         "name": "7800",
         "orientation": "v",
         "showlegend": true,
         "type": "scatter",
         "x": [
          "8000"
         ],
         "xaxis": "x",
         "y": [
          0.775222748752963
         ],
         "yaxis": "y"
        },
        {
         "hovertemplate": "K_best=7900<br>Max_features=%{x}<br>F1_weighted=%{y}<extra></extra>",
         "legendgroup": "7900",
         "marker": {
          "color": "#FF97FF",
          "symbol": "circle"
         },
         "mode": "markers",
         "name": "7900",
         "orientation": "v",
         "showlegend": true,
         "type": "scatter",
         "x": [
          "8000"
         ],
         "xaxis": "x",
         "y": [
          0.7740779205865668
         ],
         "yaxis": "y"
        },
        {
         "hovertemplate": "K_best=8000<br>Max_features=%{x}<br>F1_weighted=%{y}<extra></extra>",
         "legendgroup": "8000",
         "marker": {
          "color": "#FECB52",
          "symbol": "circle"
         },
         "mode": "markers",
         "name": "8000",
         "orientation": "v",
         "showlegend": true,
         "type": "scatter",
         "x": [
          "9000"
         ],
         "xaxis": "x",
         "y": [
          0.7763457491286679
         ],
         "yaxis": "y"
        },
        {
         "hovertemplate": "K_best=8100<br>Max_features=%{x}<br>F1_weighted=%{y}<extra></extra>",
         "legendgroup": "8100",
         "marker": {
          "color": "#636efa",
          "symbol": "circle"
         },
         "mode": "markers",
         "name": "8100",
         "orientation": "v",
         "showlegend": true,
         "type": "scatter",
         "x": [
          "9000"
         ],
         "xaxis": "x",
         "y": [
          0.7754280030104601
         ],
         "yaxis": "y"
        },
        {
         "hovertemplate": "K_best=8200<br>Max_features=%{x}<br>F1_weighted=%{y}<extra></extra>",
         "legendgroup": "8200",
         "marker": {
          "color": "#EF553B",
          "symbol": "circle"
         },
         "mode": "markers",
         "name": "8200",
         "orientation": "v",
         "showlegend": true,
         "type": "scatter",
         "x": [
          "9000"
         ],
         "xaxis": "x",
         "y": [
          0.7764936560925467
         ],
         "yaxis": "y"
        },
        {
         "hovertemplate": "K_best=8300<br>Max_features=%{x}<br>F1_weighted=%{y}<extra></extra>",
         "legendgroup": "8300",
         "marker": {
          "color": "#00cc96",
          "symbol": "circle"
         },
         "mode": "markers",
         "name": "8300",
         "orientation": "v",
         "showlegend": true,
         "type": "scatter",
         "x": [
          "9000"
         ],
         "xaxis": "x",
         "y": [
          0.7766266084420309
         ],
         "yaxis": "y"
        },
        {
         "hovertemplate": "K_best=8400<br>Max_features=%{x}<br>F1_weighted=%{y}<extra></extra>",
         "legendgroup": "8400",
         "marker": {
          "color": "#ab63fa",
          "symbol": "circle"
         },
         "mode": "markers",
         "name": "8400",
         "orientation": "v",
         "showlegend": true,
         "type": "scatter",
         "x": [
          "9000"
         ],
         "xaxis": "x",
         "y": [
          0.7776717521335479
         ],
         "yaxis": "y"
        },
        {
         "hovertemplate": "K_best=8500<br>Max_features=%{x}<br>F1_weighted=%{y}<extra></extra>",
         "legendgroup": "8500",
         "marker": {
          "color": "#FFA15A",
          "symbol": "circle"
         },
         "mode": "markers",
         "name": "8500",
         "orientation": "v",
         "showlegend": true,
         "type": "scatter",
         "x": [
          "9000"
         ],
         "xaxis": "x",
         "y": [
          0.7749386835501847
         ],
         "yaxis": "y"
        },
        {
         "hovertemplate": "K_best=8600<br>Max_features=%{x}<br>F1_weighted=%{y}<extra></extra>",
         "legendgroup": "8600",
         "marker": {
          "color": "#19d3f3",
          "symbol": "circle"
         },
         "mode": "markers",
         "name": "8600",
         "orientation": "v",
         "showlegend": true,
         "type": "scatter",
         "x": [
          "9000"
         ],
         "xaxis": "x",
         "y": [
          0.7770545652316435
         ],
         "yaxis": "y"
        },
        {
         "hovertemplate": "K_best=8700<br>Max_features=%{x}<br>F1_weighted=%{y}<extra></extra>",
         "legendgroup": "8700",
         "marker": {
          "color": "#FF6692",
          "symbol": "circle"
         },
         "mode": "markers",
         "name": "8700",
         "orientation": "v",
         "showlegend": true,
         "type": "scatter",
         "x": [
          "9000"
         ],
         "xaxis": "x",
         "y": [
          0.7755966155465953
         ],
         "yaxis": "y"
        },
        {
         "hovertemplate": "K_best=8800<br>Max_features=%{x}<br>F1_weighted=%{y}<extra></extra>",
         "legendgroup": "8800",
         "marker": {
          "color": "#B6E880",
          "symbol": "circle"
         },
         "mode": "markers",
         "name": "8800",
         "orientation": "v",
         "showlegend": true,
         "type": "scatter",
         "x": [
          "9000"
         ],
         "xaxis": "x",
         "y": [
          0.7750644314440746
         ],
         "yaxis": "y"
        },
        {
         "hovertemplate": "K_best=8900<br>Max_features=%{x}<br>F1_weighted=%{y}<extra></extra>",
         "legendgroup": "8900",
         "marker": {
          "color": "#FF97FF",
          "symbol": "circle"
         },
         "mode": "markers",
         "name": "8900",
         "orientation": "v",
         "showlegend": true,
         "type": "scatter",
         "x": [
          "9000"
         ],
         "xaxis": "x",
         "y": [
          0.7753357224208052
         ],
         "yaxis": "y"
        }
       ],
       "layout": {
        "legend": {
         "title": {
          "text": "K_best"
         },
         "tracegroupgap": 0
        },
        "margin": {
         "t": 60
        },
        "template": {
         "data": {
          "bar": [
           {
            "error_x": {
             "color": "#2a3f5f"
            },
            "error_y": {
             "color": "#2a3f5f"
            },
            "marker": {
             "line": {
              "color": "#E5ECF6",
              "width": 0.5
             },
             "pattern": {
              "fillmode": "overlay",
              "size": 10,
              "solidity": 0.2
             }
            },
            "type": "bar"
           }
          ],
          "barpolar": [
           {
            "marker": {
             "line": {
              "color": "#E5ECF6",
              "width": 0.5
             },
             "pattern": {
              "fillmode": "overlay",
              "size": 10,
              "solidity": 0.2
             }
            },
            "type": "barpolar"
           }
          ],
          "carpet": [
           {
            "aaxis": {
             "endlinecolor": "#2a3f5f",
             "gridcolor": "white",
             "linecolor": "white",
             "minorgridcolor": "white",
             "startlinecolor": "#2a3f5f"
            },
            "baxis": {
             "endlinecolor": "#2a3f5f",
             "gridcolor": "white",
             "linecolor": "white",
             "minorgridcolor": "white",
             "startlinecolor": "#2a3f5f"
            },
            "type": "carpet"
           }
          ],
          "choropleth": [
           {
            "colorbar": {
             "outlinewidth": 0,
             "ticks": ""
            },
            "type": "choropleth"
           }
          ],
          "contour": [
           {
            "colorbar": {
             "outlinewidth": 0,
             "ticks": ""
            },
            "colorscale": [
             [
              0,
              "#0d0887"
             ],
             [
              0.1111111111111111,
              "#46039f"
             ],
             [
              0.2222222222222222,
              "#7201a8"
             ],
             [
              0.3333333333333333,
              "#9c179e"
             ],
             [
              0.4444444444444444,
              "#bd3786"
             ],
             [
              0.5555555555555556,
              "#d8576b"
             ],
             [
              0.6666666666666666,
              "#ed7953"
             ],
             [
              0.7777777777777778,
              "#fb9f3a"
             ],
             [
              0.8888888888888888,
              "#fdca26"
             ],
             [
              1,
              "#f0f921"
             ]
            ],
            "type": "contour"
           }
          ],
          "contourcarpet": [
           {
            "colorbar": {
             "outlinewidth": 0,
             "ticks": ""
            },
            "type": "contourcarpet"
           }
          ],
          "heatmap": [
           {
            "colorbar": {
             "outlinewidth": 0,
             "ticks": ""
            },
            "colorscale": [
             [
              0,
              "#0d0887"
             ],
             [
              0.1111111111111111,
              "#46039f"
             ],
             [
              0.2222222222222222,
              "#7201a8"
             ],
             [
              0.3333333333333333,
              "#9c179e"
             ],
             [
              0.4444444444444444,
              "#bd3786"
             ],
             [
              0.5555555555555556,
              "#d8576b"
             ],
             [
              0.6666666666666666,
              "#ed7953"
             ],
             [
              0.7777777777777778,
              "#fb9f3a"
             ],
             [
              0.8888888888888888,
              "#fdca26"
             ],
             [
              1,
              "#f0f921"
             ]
            ],
            "type": "heatmap"
           }
          ],
          "heatmapgl": [
           {
            "colorbar": {
             "outlinewidth": 0,
             "ticks": ""
            },
            "colorscale": [
             [
              0,
              "#0d0887"
             ],
             [
              0.1111111111111111,
              "#46039f"
             ],
             [
              0.2222222222222222,
              "#7201a8"
             ],
             [
              0.3333333333333333,
              "#9c179e"
             ],
             [
              0.4444444444444444,
              "#bd3786"
             ],
             [
              0.5555555555555556,
              "#d8576b"
             ],
             [
              0.6666666666666666,
              "#ed7953"
             ],
             [
              0.7777777777777778,
              "#fb9f3a"
             ],
             [
              0.8888888888888888,
              "#fdca26"
             ],
             [
              1,
              "#f0f921"
             ]
            ],
            "type": "heatmapgl"
           }
          ],
          "histogram": [
           {
            "marker": {
             "pattern": {
              "fillmode": "overlay",
              "size": 10,
              "solidity": 0.2
             }
            },
            "type": "histogram"
           }
          ],
          "histogram2d": [
           {
            "colorbar": {
             "outlinewidth": 0,
             "ticks": ""
            },
            "colorscale": [
             [
              0,
              "#0d0887"
             ],
             [
              0.1111111111111111,
              "#46039f"
             ],
             [
              0.2222222222222222,
              "#7201a8"
             ],
             [
              0.3333333333333333,
              "#9c179e"
             ],
             [
              0.4444444444444444,
              "#bd3786"
             ],
             [
              0.5555555555555556,
              "#d8576b"
             ],
             [
              0.6666666666666666,
              "#ed7953"
             ],
             [
              0.7777777777777778,
              "#fb9f3a"
             ],
             [
              0.8888888888888888,
              "#fdca26"
             ],
             [
              1,
              "#f0f921"
             ]
            ],
            "type": "histogram2d"
           }
          ],
          "histogram2dcontour": [
           {
            "colorbar": {
             "outlinewidth": 0,
             "ticks": ""
            },
            "colorscale": [
             [
              0,
              "#0d0887"
             ],
             [
              0.1111111111111111,
              "#46039f"
             ],
             [
              0.2222222222222222,
              "#7201a8"
             ],
             [
              0.3333333333333333,
              "#9c179e"
             ],
             [
              0.4444444444444444,
              "#bd3786"
             ],
             [
              0.5555555555555556,
              "#d8576b"
             ],
             [
              0.6666666666666666,
              "#ed7953"
             ],
             [
              0.7777777777777778,
              "#fb9f3a"
             ],
             [
              0.8888888888888888,
              "#fdca26"
             ],
             [
              1,
              "#f0f921"
             ]
            ],
            "type": "histogram2dcontour"
           }
          ],
          "mesh3d": [
           {
            "colorbar": {
             "outlinewidth": 0,
             "ticks": ""
            },
            "type": "mesh3d"
           }
          ],
          "parcoords": [
           {
            "line": {
             "colorbar": {
              "outlinewidth": 0,
              "ticks": ""
             }
            },
            "type": "parcoords"
           }
          ],
          "pie": [
           {
            "automargin": true,
            "type": "pie"
           }
          ],
          "scatter": [
           {
            "fillpattern": {
             "fillmode": "overlay",
             "size": 10,
             "solidity": 0.2
            },
            "type": "scatter"
           }
          ],
          "scatter3d": [
           {
            "line": {
             "colorbar": {
              "outlinewidth": 0,
              "ticks": ""
             }
            },
            "marker": {
             "colorbar": {
              "outlinewidth": 0,
              "ticks": ""
             }
            },
            "type": "scatter3d"
           }
          ],
          "scattercarpet": [
           {
            "marker": {
             "colorbar": {
              "outlinewidth": 0,
              "ticks": ""
             }
            },
            "type": "scattercarpet"
           }
          ],
          "scattergeo": [
           {
            "marker": {
             "colorbar": {
              "outlinewidth": 0,
              "ticks": ""
             }
            },
            "type": "scattergeo"
           }
          ],
          "scattergl": [
           {
            "marker": {
             "colorbar": {
              "outlinewidth": 0,
              "ticks": ""
             }
            },
            "type": "scattergl"
           }
          ],
          "scattermapbox": [
           {
            "marker": {
             "colorbar": {
              "outlinewidth": 0,
              "ticks": ""
             }
            },
            "type": "scattermapbox"
           }
          ],
          "scatterpolar": [
           {
            "marker": {
             "colorbar": {
              "outlinewidth": 0,
              "ticks": ""
             }
            },
            "type": "scatterpolar"
           }
          ],
          "scatterpolargl": [
           {
            "marker": {
             "colorbar": {
              "outlinewidth": 0,
              "ticks": ""
             }
            },
            "type": "scatterpolargl"
           }
          ],
          "scatterternary": [
           {
            "marker": {
             "colorbar": {
              "outlinewidth": 0,
              "ticks": ""
             }
            },
            "type": "scatterternary"
           }
          ],
          "surface": [
           {
            "colorbar": {
             "outlinewidth": 0,
             "ticks": ""
            },
            "colorscale": [
             [
              0,
              "#0d0887"
             ],
             [
              0.1111111111111111,
              "#46039f"
             ],
             [
              0.2222222222222222,
              "#7201a8"
             ],
             [
              0.3333333333333333,
              "#9c179e"
             ],
             [
              0.4444444444444444,
              "#bd3786"
             ],
             [
              0.5555555555555556,
              "#d8576b"
             ],
             [
              0.6666666666666666,
              "#ed7953"
             ],
             [
              0.7777777777777778,
              "#fb9f3a"
             ],
             [
              0.8888888888888888,
              "#fdca26"
             ],
             [
              1,
              "#f0f921"
             ]
            ],
            "type": "surface"
           }
          ],
          "table": [
           {
            "cells": {
             "fill": {
              "color": "#EBF0F8"
             },
             "line": {
              "color": "white"
             }
            },
            "header": {
             "fill": {
              "color": "#C8D4E3"
             },
             "line": {
              "color": "white"
             }
            },
            "type": "table"
           }
          ]
         },
         "layout": {
          "annotationdefaults": {
           "arrowcolor": "#2a3f5f",
           "arrowhead": 0,
           "arrowwidth": 1
          },
          "autotypenumbers": "strict",
          "coloraxis": {
           "colorbar": {
            "outlinewidth": 0,
            "ticks": ""
           }
          },
          "colorscale": {
           "diverging": [
            [
             0,
             "#8e0152"
            ],
            [
             0.1,
             "#c51b7d"
            ],
            [
             0.2,
             "#de77ae"
            ],
            [
             0.3,
             "#f1b6da"
            ],
            [
             0.4,
             "#fde0ef"
            ],
            [
             0.5,
             "#f7f7f7"
            ],
            [
             0.6,
             "#e6f5d0"
            ],
            [
             0.7,
             "#b8e186"
            ],
            [
             0.8,
             "#7fbc41"
            ],
            [
             0.9,
             "#4d9221"
            ],
            [
             1,
             "#276419"
            ]
           ],
           "sequential": [
            [
             0,
             "#0d0887"
            ],
            [
             0.1111111111111111,
             "#46039f"
            ],
            [
             0.2222222222222222,
             "#7201a8"
            ],
            [
             0.3333333333333333,
             "#9c179e"
            ],
            [
             0.4444444444444444,
             "#bd3786"
            ],
            [
             0.5555555555555556,
             "#d8576b"
            ],
            [
             0.6666666666666666,
             "#ed7953"
            ],
            [
             0.7777777777777778,
             "#fb9f3a"
            ],
            [
             0.8888888888888888,
             "#fdca26"
            ],
            [
             1,
             "#f0f921"
            ]
           ],
           "sequentialminus": [
            [
             0,
             "#0d0887"
            ],
            [
             0.1111111111111111,
             "#46039f"
            ],
            [
             0.2222222222222222,
             "#7201a8"
            ],
            [
             0.3333333333333333,
             "#9c179e"
            ],
            [
             0.4444444444444444,
             "#bd3786"
            ],
            [
             0.5555555555555556,
             "#d8576b"
            ],
            [
             0.6666666666666666,
             "#ed7953"
            ],
            [
             0.7777777777777778,
             "#fb9f3a"
            ],
            [
             0.8888888888888888,
             "#fdca26"
            ],
            [
             1,
             "#f0f921"
            ]
           ]
          },
          "colorway": [
           "#636efa",
           "#EF553B",
           "#00cc96",
           "#ab63fa",
           "#FFA15A",
           "#19d3f3",
           "#FF6692",
           "#B6E880",
           "#FF97FF",
           "#FECB52"
          ],
          "font": {
           "color": "#2a3f5f"
          },
          "geo": {
           "bgcolor": "white",
           "lakecolor": "white",
           "landcolor": "#E5ECF6",
           "showlakes": true,
           "showland": true,
           "subunitcolor": "white"
          },
          "hoverlabel": {
           "align": "left"
          },
          "hovermode": "closest",
          "mapbox": {
           "style": "light"
          },
          "paper_bgcolor": "white",
          "plot_bgcolor": "#E5ECF6",
          "polar": {
           "angularaxis": {
            "gridcolor": "white",
            "linecolor": "white",
            "ticks": ""
           },
           "bgcolor": "#E5ECF6",
           "radialaxis": {
            "gridcolor": "white",
            "linecolor": "white",
            "ticks": ""
           }
          },
          "scene": {
           "xaxis": {
            "backgroundcolor": "#E5ECF6",
            "gridcolor": "white",
            "gridwidth": 2,
            "linecolor": "white",
            "showbackground": true,
            "ticks": "",
            "zerolinecolor": "white"
           },
           "yaxis": {
            "backgroundcolor": "#E5ECF6",
            "gridcolor": "white",
            "gridwidth": 2,
            "linecolor": "white",
            "showbackground": true,
            "ticks": "",
            "zerolinecolor": "white"
           },
           "zaxis": {
            "backgroundcolor": "#E5ECF6",
            "gridcolor": "white",
            "gridwidth": 2,
            "linecolor": "white",
            "showbackground": true,
            "ticks": "",
            "zerolinecolor": "white"
           }
          },
          "shapedefaults": {
           "line": {
            "color": "#2a3f5f"
           }
          },
          "ternary": {
           "aaxis": {
            "gridcolor": "white",
            "linecolor": "white",
            "ticks": ""
           },
           "baxis": {
            "gridcolor": "white",
            "linecolor": "white",
            "ticks": ""
           },
           "bgcolor": "#E5ECF6",
           "caxis": {
            "gridcolor": "white",
            "linecolor": "white",
            "ticks": ""
           }
          },
          "title": {
           "x": 0.05
          },
          "xaxis": {
           "automargin": true,
           "gridcolor": "white",
           "linecolor": "white",
           "ticks": "",
           "title": {
            "standoff": 15
           },
           "zerolinecolor": "white",
           "zerolinewidth": 2
          },
          "yaxis": {
           "automargin": true,
           "gridcolor": "white",
           "linecolor": "white",
           "ticks": "",
           "title": {
            "standoff": 15
           },
           "zerolinecolor": "white",
           "zerolinewidth": 2
          }
         }
        },
        "xaxis": {
         "anchor": "y",
         "domain": [
          0,
          1
         ],
         "title": {
          "text": "Max_features"
         }
        },
        "yaxis": {
         "anchor": "x",
         "domain": [
          0,
          1
         ],
         "title": {
          "text": "F1_weighted"
         }
        }
       }
      },
      "text/html": [
       "<div>                            <div id=\"ee7b7a67-e078-4732-9c5c-7e1d9faf2eb6\" class=\"plotly-graph-div\" style=\"height:525px; width:100%;\"></div>            <script type=\"text/javascript\">                require([\"plotly\"], function(Plotly) {                    window.PLOTLYENV=window.PLOTLYENV || {};                                    if (document.getElementById(\"ee7b7a67-e078-4732-9c5c-7e1d9faf2eb6\")) {                    Plotly.newPlot(                        \"ee7b7a67-e078-4732-9c5c-7e1d9faf2eb6\",                        [{\"hovertemplate\":\"K_best=100<br>Max_features=%{x}<br>F1_weighted=%{y}<extra></extra>\",\"legendgroup\":\"100\",\"marker\":{\"color\":\"#636efa\",\"symbol\":\"circle\"},\"mode\":\"markers\",\"name\":\"100\",\"orientation\":\"v\",\"showlegend\":true,\"x\":[\"1000\",\"2000\",\"3000\",\"4000\"],\"xaxis\":\"x\",\"y\":[0.5962469609620753,0.5352185814023753,0.5238280061801119,0.525611270501051],\"yaxis\":\"y\",\"type\":\"scatter\"},{\"hovertemplate\":\"K_best=200<br>Max_features=%{x}<br>F1_weighted=%{y}<extra></extra>\",\"legendgroup\":\"200\",\"marker\":{\"color\":\"#EF553B\",\"symbol\":\"circle\"},\"mode\":\"markers\",\"name\":\"200\",\"orientation\":\"v\",\"showlegend\":true,\"x\":[\"1000\",\"2000\",\"3000\",\"4000\"],\"xaxis\":\"x\",\"y\":[0.6554850328752523,0.6606921946188709,0.6569325160001384,0.6523064991425345],\"yaxis\":\"y\",\"type\":\"scatter\"},{\"hovertemplate\":\"K_best=300<br>Max_features=%{x}<br>F1_weighted=%{y}<extra></extra>\",\"legendgroup\":\"300\",\"marker\":{\"color\":\"#00cc96\",\"symbol\":\"circle\"},\"mode\":\"markers\",\"name\":\"300\",\"orientation\":\"v\",\"showlegend\":true,\"x\":[\"1000\",\"2000\",\"3000\",\"4000\"],\"xaxis\":\"x\",\"y\":[0.6895184092902104,0.6988621798247919,0.6864855394406688,0.6831972917186045],\"yaxis\":\"y\",\"type\":\"scatter\"},{\"hovertemplate\":\"K_best=400<br>Max_features=%{x}<br>F1_weighted=%{y}<extra></extra>\",\"legendgroup\":\"400\",\"marker\":{\"color\":\"#ab63fa\",\"symbol\":\"circle\"},\"mode\":\"markers\",\"name\":\"400\",\"orientation\":\"v\",\"showlegend\":true,\"x\":[\"1000\",\"2000\",\"3000\",\"4000\"],\"xaxis\":\"x\",\"y\":[0.7028721554916166,0.7139246694904613,0.7117838957859629,0.7102907868886922],\"yaxis\":\"y\",\"type\":\"scatter\"},{\"hovertemplate\":\"K_best=500<br>Max_features=%{x}<br>F1_weighted=%{y}<extra></extra>\",\"legendgroup\":\"500\",\"marker\":{\"color\":\"#FFA15A\",\"symbol\":\"circle\"},\"mode\":\"markers\",\"name\":\"500\",\"orientation\":\"v\",\"showlegend\":true,\"x\":[\"1000\",\"2000\",\"3000\",\"4000\"],\"xaxis\":\"x\",\"y\":[0.7078451173167353,0.7224668121905253,0.7194290936026743,0.7179658099403794],\"yaxis\":\"y\",\"type\":\"scatter\"},{\"hovertemplate\":\"K_best=600<br>Max_features=%{x}<br>F1_weighted=%{y}<extra></extra>\",\"legendgroup\":\"600\",\"marker\":{\"color\":\"#19d3f3\",\"symbol\":\"circle\"},\"mode\":\"markers\",\"name\":\"600\",\"orientation\":\"v\",\"showlegend\":true,\"x\":[\"1000\",\"2000\",\"3000\",\"4000\"],\"xaxis\":\"x\",\"y\":[0.7131708401261743,0.7321953675874651,0.7322161457667213,0.7271387081787213],\"yaxis\":\"y\",\"type\":\"scatter\"},{\"hovertemplate\":\"K_best=700<br>Max_features=%{x}<br>F1_weighted=%{y}<extra></extra>\",\"legendgroup\":\"700\",\"marker\":{\"color\":\"#FF6692\",\"symbol\":\"circle\"},\"mode\":\"markers\",\"name\":\"700\",\"orientation\":\"v\",\"showlegend\":true,\"x\":[\"1000\",\"2000\",\"3000\",\"4000\"],\"xaxis\":\"x\",\"y\":[0.7223749245792015,0.7373840357758104,0.7381111592724043,0.7373464737786196],\"yaxis\":\"y\",\"type\":\"scatter\"},{\"hovertemplate\":\"K_best=800<br>Max_features=%{x}<br>F1_weighted=%{y}<extra></extra>\",\"legendgroup\":\"800\",\"marker\":{\"color\":\"#B6E880\",\"symbol\":\"circle\"},\"mode\":\"markers\",\"name\":\"800\",\"orientation\":\"v\",\"showlegend\":true,\"x\":[\"1000\",\"2000\",\"3000\",\"4000\"],\"xaxis\":\"x\",\"y\":[0.7235002915791994,0.7426751800483861,0.7390581604462085,0.7439159360939066],\"yaxis\":\"y\",\"type\":\"scatter\"},{\"hovertemplate\":\"K_best=900<br>Max_features=%{x}<br>F1_weighted=%{y}<extra></extra>\",\"legendgroup\":\"900\",\"marker\":{\"color\":\"#FF97FF\",\"symbol\":\"circle\"},\"mode\":\"markers\",\"name\":\"900\",\"orientation\":\"v\",\"showlegend\":true,\"x\":[\"1000\",\"2000\",\"3000\",\"4000\",\"5000\",\"6000\",\"7000\",\"8000\",\"9000\",\"10000\"],\"xaxis\":\"x\",\"y\":[0.7283435302495623,0.7479289675803168,0.7452513908176995,0.7441329028444449,0.7403591830513436,0.7415826888271047,0.7427891330727175,0.7444950653447898,0.7433948269373322,0.7426839756929168],\"yaxis\":\"y\",\"type\":\"scatter\"},{\"hovertemplate\":\"K_best=1000<br>Max_features=%{x}<br>F1_weighted=%{y}<extra></extra>\",\"legendgroup\":\"1000\",\"marker\":{\"color\":\"#FECB52\",\"symbol\":\"circle\"},\"mode\":\"markers\",\"name\":\"1000\",\"orientation\":\"v\",\"showlegend\":true,\"x\":[\"2000\",\"3000\",\"4000\",\"9000\",\"8000\"],\"xaxis\":\"x\",\"y\":[0.751925163608734,0.7478690921898202,0.7469534161983458,0.7462053090615149,0.7479953418054673],\"yaxis\":\"y\",\"type\":\"scatter\"},{\"hovertemplate\":\"K_best=1100<br>Max_features=%{x}<br>F1_weighted=%{y}<extra></extra>\",\"legendgroup\":\"1100\",\"marker\":{\"color\":\"#636efa\",\"symbol\":\"circle\"},\"mode\":\"markers\",\"name\":\"1100\",\"orientation\":\"v\",\"showlegend\":true,\"x\":[\"2000\",\"3000\",\"4000\"],\"xaxis\":\"x\",\"y\":[0.7494034666904686,0.7530723958097819,0.7518660652728655],\"yaxis\":\"y\",\"type\":\"scatter\"},{\"hovertemplate\":\"K_best=1200<br>Max_features=%{x}<br>F1_weighted=%{y}<extra></extra>\",\"legendgroup\":\"1200\",\"marker\":{\"color\":\"#EF553B\",\"symbol\":\"circle\"},\"mode\":\"markers\",\"name\":\"1200\",\"orientation\":\"v\",\"showlegend\":true,\"x\":[\"2000\",\"3000\",\"4000\"],\"xaxis\":\"x\",\"y\":[0.7534027000262257,0.7557213479099323,0.7536216185456777],\"yaxis\":\"y\",\"type\":\"scatter\"},{\"hovertemplate\":\"K_best=1300<br>Max_features=%{x}<br>F1_weighted=%{y}<extra></extra>\",\"legendgroup\":\"1300\",\"marker\":{\"color\":\"#00cc96\",\"symbol\":\"circle\"},\"mode\":\"markers\",\"name\":\"1300\",\"orientation\":\"v\",\"showlegend\":true,\"x\":[\"2000\",\"3000\",\"4000\"],\"xaxis\":\"x\",\"y\":[0.755250350349306,0.7558153213409123,0.7564115281703409],\"yaxis\":\"y\",\"type\":\"scatter\"},{\"hovertemplate\":\"K_best=1400<br>Max_features=%{x}<br>F1_weighted=%{y}<extra></extra>\",\"legendgroup\":\"1400\",\"marker\":{\"color\":\"#ab63fa\",\"symbol\":\"circle\"},\"mode\":\"markers\",\"name\":\"1400\",\"orientation\":\"v\",\"showlegend\":true,\"x\":[\"2000\",\"3000\",\"4000\"],\"xaxis\":\"x\",\"y\":[0.7574459866124855,0.757947609905622,0.7579340927467338],\"yaxis\":\"y\",\"type\":\"scatter\"},{\"hovertemplate\":\"K_best=1500<br>Max_features=%{x}<br>F1_weighted=%{y}<extra></extra>\",\"legendgroup\":\"1500\",\"marker\":{\"color\":\"#FFA15A\",\"symbol\":\"circle\"},\"mode\":\"markers\",\"name\":\"1500\",\"orientation\":\"v\",\"showlegend\":true,\"x\":[\"2000\",\"3000\",\"4000\"],\"xaxis\":\"x\",\"y\":[0.7571954686119811,0.7579167727124819,0.7588692661132674],\"yaxis\":\"y\",\"type\":\"scatter\"},{\"hovertemplate\":\"K_best=1600<br>Max_features=%{x}<br>F1_weighted=%{y}<extra></extra>\",\"legendgroup\":\"1600\",\"marker\":{\"color\":\"#19d3f3\",\"symbol\":\"circle\"},\"mode\":\"markers\",\"name\":\"1600\",\"orientation\":\"v\",\"showlegend\":true,\"x\":[\"2000\",\"3000\",\"4000\"],\"xaxis\":\"x\",\"y\":[0.7602097243445072,0.7597180208526644,0.7589303335690394],\"yaxis\":\"y\",\"type\":\"scatter\"},{\"hovertemplate\":\"K_best=1700<br>Max_features=%{x}<br>F1_weighted=%{y}<extra></extra>\",\"legendgroup\":\"1700\",\"marker\":{\"color\":\"#FF6692\",\"symbol\":\"circle\"},\"mode\":\"markers\",\"name\":\"1700\",\"orientation\":\"v\",\"showlegend\":true,\"x\":[\"2000\",\"3000\",\"4000\"],\"xaxis\":\"x\",\"y\":[0.7594809462843128,0.7629375646781996,0.7621529074327533],\"yaxis\":\"y\",\"type\":\"scatter\"},{\"hovertemplate\":\"K_best=1800<br>Max_features=%{x}<br>F1_weighted=%{y}<extra></extra>\",\"legendgroup\":\"1800\",\"marker\":{\"color\":\"#B6E880\",\"symbol\":\"circle\"},\"mode\":\"markers\",\"name\":\"1800\",\"orientation\":\"v\",\"showlegend\":true,\"x\":[\"2000\",\"3000\",\"4000\"],\"xaxis\":\"x\",\"y\":[0.7610523749885683,0.7630229951233888,0.761736295565009],\"yaxis\":\"y\",\"type\":\"scatter\"},{\"hovertemplate\":\"K_best=1900<br>Max_features=%{x}<br>F1_weighted=%{y}<extra></extra>\",\"legendgroup\":\"1900\",\"marker\":{\"color\":\"#FF97FF\",\"symbol\":\"circle\"},\"mode\":\"markers\",\"name\":\"1900\",\"orientation\":\"v\",\"showlegend\":true,\"x\":[\"2000\",\"3000\",\"4000\"],\"xaxis\":\"x\",\"y\":[0.7610865465771358,0.7642861287674794,0.7641936973945894],\"yaxis\":\"y\",\"type\":\"scatter\"},{\"hovertemplate\":\"K_best=2000<br>Max_features=%{x}<br>F1_weighted=%{y}<extra></extra>\",\"legendgroup\":\"2000\",\"marker\":{\"color\":\"#FECB52\",\"symbol\":\"circle\"},\"mode\":\"markers\",\"name\":\"2000\",\"orientation\":\"v\",\"showlegend\":true,\"x\":[\"3000\",\"9000\",\"8000\"],\"xaxis\":\"x\",\"y\":[0.7646951554146247,0.763124913596692,0.7631820909220889],\"yaxis\":\"y\",\"type\":\"scatter\"},{\"hovertemplate\":\"K_best=2100<br>Max_features=%{x}<br>F1_weighted=%{y}<extra></extra>\",\"legendgroup\":\"2100\",\"marker\":{\"color\":\"#636efa\",\"symbol\":\"circle\"},\"mode\":\"markers\",\"name\":\"2100\",\"orientation\":\"v\",\"showlegend\":true,\"x\":[\"3000\"],\"xaxis\":\"x\",\"y\":[0.7651300685481591],\"yaxis\":\"y\",\"type\":\"scatter\"},{\"hovertemplate\":\"K_best=2200<br>Max_features=%{x}<br>F1_weighted=%{y}<extra></extra>\",\"legendgroup\":\"2200\",\"marker\":{\"color\":\"#EF553B\",\"symbol\":\"circle\"},\"mode\":\"markers\",\"name\":\"2200\",\"orientation\":\"v\",\"showlegend\":true,\"x\":[\"3000\"],\"xaxis\":\"x\",\"y\":[0.7640691046817628],\"yaxis\":\"y\",\"type\":\"scatter\"},{\"hovertemplate\":\"K_best=2300<br>Max_features=%{x}<br>F1_weighted=%{y}<extra></extra>\",\"legendgroup\":\"2300\",\"marker\":{\"color\":\"#00cc96\",\"symbol\":\"circle\"},\"mode\":\"markers\",\"name\":\"2300\",\"orientation\":\"v\",\"showlegend\":true,\"x\":[\"3000\"],\"xaxis\":\"x\",\"y\":[0.7634556762950694],\"yaxis\":\"y\",\"type\":\"scatter\"},{\"hovertemplate\":\"K_best=2400<br>Max_features=%{x}<br>F1_weighted=%{y}<extra></extra>\",\"legendgroup\":\"2400\",\"marker\":{\"color\":\"#ab63fa\",\"symbol\":\"circle\"},\"mode\":\"markers\",\"name\":\"2400\",\"orientation\":\"v\",\"showlegend\":true,\"x\":[\"3000\"],\"xaxis\":\"x\",\"y\":[0.7666519522438892],\"yaxis\":\"y\",\"type\":\"scatter\"},{\"hovertemplate\":\"K_best=2500<br>Max_features=%{x}<br>F1_weighted=%{y}<extra></extra>\",\"legendgroup\":\"2500\",\"marker\":{\"color\":\"#FFA15A\",\"symbol\":\"circle\"},\"mode\":\"markers\",\"name\":\"2500\",\"orientation\":\"v\",\"showlegend\":true,\"x\":[\"3000\"],\"xaxis\":\"x\",\"y\":[0.7631040446609875],\"yaxis\":\"y\",\"type\":\"scatter\"},{\"hovertemplate\":\"K_best=2600<br>Max_features=%{x}<br>F1_weighted=%{y}<extra></extra>\",\"legendgroup\":\"2600\",\"marker\":{\"color\":\"#19d3f3\",\"symbol\":\"circle\"},\"mode\":\"markers\",\"name\":\"2600\",\"orientation\":\"v\",\"showlegend\":true,\"x\":[\"3000\"],\"xaxis\":\"x\",\"y\":[0.7642484411518937],\"yaxis\":\"y\",\"type\":\"scatter\"},{\"hovertemplate\":\"K_best=2700<br>Max_features=%{x}<br>F1_weighted=%{y}<extra></extra>\",\"legendgroup\":\"2700\",\"marker\":{\"color\":\"#FF6692\",\"symbol\":\"circle\"},\"mode\":\"markers\",\"name\":\"2700\",\"orientation\":\"v\",\"showlegend\":true,\"x\":[\"3000\"],\"xaxis\":\"x\",\"y\":[0.7664184359004327],\"yaxis\":\"y\",\"type\":\"scatter\"},{\"hovertemplate\":\"K_best=2800<br>Max_features=%{x}<br>F1_weighted=%{y}<extra></extra>\",\"legendgroup\":\"2800\",\"marker\":{\"color\":\"#B6E880\",\"symbol\":\"circle\"},\"mode\":\"markers\",\"name\":\"2800\",\"orientation\":\"v\",\"showlegend\":true,\"x\":[\"3000\"],\"xaxis\":\"x\",\"y\":[0.7651991890808573],\"yaxis\":\"y\",\"type\":\"scatter\"},{\"hovertemplate\":\"K_best=2900<br>Max_features=%{x}<br>F1_weighted=%{y}<extra></extra>\",\"legendgroup\":\"2900\",\"marker\":{\"color\":\"#FF97FF\",\"symbol\":\"circle\"},\"mode\":\"markers\",\"name\":\"2900\",\"orientation\":\"v\",\"showlegend\":true,\"x\":[\"3000\"],\"xaxis\":\"x\",\"y\":[0.7642636229687173],\"yaxis\":\"y\",\"type\":\"scatter\"},{\"hovertemplate\":\"K_best=3000<br>Max_features=%{x}<br>F1_weighted=%{y}<extra></extra>\",\"legendgroup\":\"3000\",\"marker\":{\"color\":\"#FECB52\",\"symbol\":\"circle\"},\"mode\":\"markers\",\"name\":\"3000\",\"orientation\":\"v\",\"showlegend\":true,\"x\":[\"4000\",\"9000\",\"8000\"],\"xaxis\":\"x\",\"y\":[0.7728115870171661,0.7695964127448904,0.7686469801379018],\"yaxis\":\"y\",\"type\":\"scatter\"},{\"hovertemplate\":\"K_best=3100<br>Max_features=%{x}<br>F1_weighted=%{y}<extra></extra>\",\"legendgroup\":\"3100\",\"marker\":{\"color\":\"#636efa\",\"symbol\":\"circle\"},\"mode\":\"markers\",\"name\":\"3100\",\"orientation\":\"v\",\"showlegend\":true,\"x\":[\"4000\"],\"xaxis\":\"x\",\"y\":[0.7710447520840598],\"yaxis\":\"y\",\"type\":\"scatter\"},{\"hovertemplate\":\"K_best=3200<br>Max_features=%{x}<br>F1_weighted=%{y}<extra></extra>\",\"legendgroup\":\"3200\",\"marker\":{\"color\":\"#EF553B\",\"symbol\":\"circle\"},\"mode\":\"markers\",\"name\":\"3200\",\"orientation\":\"v\",\"showlegend\":true,\"x\":[\"4000\"],\"xaxis\":\"x\",\"y\":[0.7720737710613247],\"yaxis\":\"y\",\"type\":\"scatter\"},{\"hovertemplate\":\"K_best=3300<br>Max_features=%{x}<br>F1_weighted=%{y}<extra></extra>\",\"legendgroup\":\"3300\",\"marker\":{\"color\":\"#00cc96\",\"symbol\":\"circle\"},\"mode\":\"markers\",\"name\":\"3300\",\"orientation\":\"v\",\"showlegend\":true,\"x\":[\"4000\"],\"xaxis\":\"x\",\"y\":[0.771917879523896],\"yaxis\":\"y\",\"type\":\"scatter\"},{\"hovertemplate\":\"K_best=3400<br>Max_features=%{x}<br>F1_weighted=%{y}<extra></extra>\",\"legendgroup\":\"3400\",\"marker\":{\"color\":\"#ab63fa\",\"symbol\":\"circle\"},\"mode\":\"markers\",\"name\":\"3400\",\"orientation\":\"v\",\"showlegend\":true,\"x\":[\"4000\"],\"xaxis\":\"x\",\"y\":[0.7727128025624389],\"yaxis\":\"y\",\"type\":\"scatter\"},{\"hovertemplate\":\"K_best=3500<br>Max_features=%{x}<br>F1_weighted=%{y}<extra></extra>\",\"legendgroup\":\"3500\",\"marker\":{\"color\":\"#FFA15A\",\"symbol\":\"circle\"},\"mode\":\"markers\",\"name\":\"3500\",\"orientation\":\"v\",\"showlegend\":true,\"x\":[\"4000\"],\"xaxis\":\"x\",\"y\":[0.7718867655026286],\"yaxis\":\"y\",\"type\":\"scatter\"},{\"hovertemplate\":\"K_best=3600<br>Max_features=%{x}<br>F1_weighted=%{y}<extra></extra>\",\"legendgroup\":\"3600\",\"marker\":{\"color\":\"#19d3f3\",\"symbol\":\"circle\"},\"mode\":\"markers\",\"name\":\"3600\",\"orientation\":\"v\",\"showlegend\":true,\"x\":[\"4000\"],\"xaxis\":\"x\",\"y\":[0.7714045532779048],\"yaxis\":\"y\",\"type\":\"scatter\"},{\"hovertemplate\":\"K_best=3700<br>Max_features=%{x}<br>F1_weighted=%{y}<extra></extra>\",\"legendgroup\":\"3700\",\"marker\":{\"color\":\"#FF6692\",\"symbol\":\"circle\"},\"mode\":\"markers\",\"name\":\"3700\",\"orientation\":\"v\",\"showlegend\":true,\"x\":[\"4000\"],\"xaxis\":\"x\",\"y\":[0.7710154320164699],\"yaxis\":\"y\",\"type\":\"scatter\"},{\"hovertemplate\":\"K_best=3800<br>Max_features=%{x}<br>F1_weighted=%{y}<extra></extra>\",\"legendgroup\":\"3800\",\"marker\":{\"color\":\"#B6E880\",\"symbol\":\"circle\"},\"mode\":\"markers\",\"name\":\"3800\",\"orientation\":\"v\",\"showlegend\":true,\"x\":[\"4000\"],\"xaxis\":\"x\",\"y\":[0.7707421340520973],\"yaxis\":\"y\",\"type\":\"scatter\"},{\"hovertemplate\":\"K_best=3900<br>Max_features=%{x}<br>F1_weighted=%{y}<extra></extra>\",\"legendgroup\":\"3900\",\"marker\":{\"color\":\"#FF97FF\",\"symbol\":\"circle\"},\"mode\":\"markers\",\"name\":\"3900\",\"orientation\":\"v\",\"showlegend\":true,\"x\":[\"4000\"],\"xaxis\":\"x\",\"y\":[0.7710801846129408],\"yaxis\":\"y\",\"type\":\"scatter\"},{\"hovertemplate\":\"K_best=4000<br>Max_features=%{x}<br>F1_weighted=%{y}<extra></extra>\",\"legendgroup\":\"4000\",\"marker\":{\"color\":\"#FECB52\",\"symbol\":\"circle\"},\"mode\":\"markers\",\"name\":\"4000\",\"orientation\":\"v\",\"showlegend\":true,\"x\":[\"5000\",\"9000\",\"8000\"],\"xaxis\":\"x\",\"y\":[0.7763722024915706,0.7721026077807676,0.7719424773260299],\"yaxis\":\"y\",\"type\":\"scatter\"},{\"hovertemplate\":\"K_best=4100<br>Max_features=%{x}<br>F1_weighted=%{y}<extra></extra>\",\"legendgroup\":\"4100\",\"marker\":{\"color\":\"#636efa\",\"symbol\":\"circle\"},\"mode\":\"markers\",\"name\":\"4100\",\"orientation\":\"v\",\"showlegend\":true,\"x\":[\"5000\"],\"xaxis\":\"x\",\"y\":[0.773487878505366],\"yaxis\":\"y\",\"type\":\"scatter\"},{\"hovertemplate\":\"K_best=4200<br>Max_features=%{x}<br>F1_weighted=%{y}<extra></extra>\",\"legendgroup\":\"4200\",\"marker\":{\"color\":\"#EF553B\",\"symbol\":\"circle\"},\"mode\":\"markers\",\"name\":\"4200\",\"orientation\":\"v\",\"showlegend\":true,\"x\":[\"5000\"],\"xaxis\":\"x\",\"y\":[0.7733270451734074],\"yaxis\":\"y\",\"type\":\"scatter\"},{\"hovertemplate\":\"K_best=4300<br>Max_features=%{x}<br>F1_weighted=%{y}<extra></extra>\",\"legendgroup\":\"4300\",\"marker\":{\"color\":\"#00cc96\",\"symbol\":\"circle\"},\"mode\":\"markers\",\"name\":\"4300\",\"orientation\":\"v\",\"showlegend\":true,\"x\":[\"5000\"],\"xaxis\":\"x\",\"y\":[0.7727044758218207],\"yaxis\":\"y\",\"type\":\"scatter\"},{\"hovertemplate\":\"K_best=4400<br>Max_features=%{x}<br>F1_weighted=%{y}<extra></extra>\",\"legendgroup\":\"4400\",\"marker\":{\"color\":\"#ab63fa\",\"symbol\":\"circle\"},\"mode\":\"markers\",\"name\":\"4400\",\"orientation\":\"v\",\"showlegend\":true,\"x\":[\"5000\"],\"xaxis\":\"x\",\"y\":[0.7726685034142909],\"yaxis\":\"y\",\"type\":\"scatter\"},{\"hovertemplate\":\"K_best=4500<br>Max_features=%{x}<br>F1_weighted=%{y}<extra></extra>\",\"legendgroup\":\"4500\",\"marker\":{\"color\":\"#FFA15A\",\"symbol\":\"circle\"},\"mode\":\"markers\",\"name\":\"4500\",\"orientation\":\"v\",\"showlegend\":true,\"x\":[\"5000\"],\"xaxis\":\"x\",\"y\":[0.7750870092095711],\"yaxis\":\"y\",\"type\":\"scatter\"},{\"hovertemplate\":\"K_best=4600<br>Max_features=%{x}<br>F1_weighted=%{y}<extra></extra>\",\"legendgroup\":\"4600\",\"marker\":{\"color\":\"#19d3f3\",\"symbol\":\"circle\"},\"mode\":\"markers\",\"name\":\"4600\",\"orientation\":\"v\",\"showlegend\":true,\"x\":[\"5000\"],\"xaxis\":\"x\",\"y\":[0.7745230895039079],\"yaxis\":\"y\",\"type\":\"scatter\"},{\"hovertemplate\":\"K_best=4700<br>Max_features=%{x}<br>F1_weighted=%{y}<extra></extra>\",\"legendgroup\":\"4700\",\"marker\":{\"color\":\"#FF6692\",\"symbol\":\"circle\"},\"mode\":\"markers\",\"name\":\"4700\",\"orientation\":\"v\",\"showlegend\":true,\"x\":[\"5000\"],\"xaxis\":\"x\",\"y\":[0.7729952909485924],\"yaxis\":\"y\",\"type\":\"scatter\"},{\"hovertemplate\":\"K_best=4800<br>Max_features=%{x}<br>F1_weighted=%{y}<extra></extra>\",\"legendgroup\":\"4800\",\"marker\":{\"color\":\"#B6E880\",\"symbol\":\"circle\"},\"mode\":\"markers\",\"name\":\"4800\",\"orientation\":\"v\",\"showlegend\":true,\"x\":[\"5000\"],\"xaxis\":\"x\",\"y\":[0.7732507918801486],\"yaxis\":\"y\",\"type\":\"scatter\"},{\"hovertemplate\":\"K_best=4900<br>Max_features=%{x}<br>F1_weighted=%{y}<extra></extra>\",\"legendgroup\":\"4900\",\"marker\":{\"color\":\"#FF97FF\",\"symbol\":\"circle\"},\"mode\":\"markers\",\"name\":\"4900\",\"orientation\":\"v\",\"showlegend\":true,\"x\":[\"5000\"],\"xaxis\":\"x\",\"y\":[0.7754910650428899],\"yaxis\":\"y\",\"type\":\"scatter\"},{\"hovertemplate\":\"K_best=5000<br>Max_features=%{x}<br>F1_weighted=%{y}<extra></extra>\",\"legendgroup\":\"5000\",\"marker\":{\"color\":\"#FECB52\",\"symbol\":\"circle\"},\"mode\":\"markers\",\"name\":\"5000\",\"orientation\":\"v\",\"showlegend\":true,\"x\":[\"6000\",\"9000\",\"8000\"],\"xaxis\":\"x\",\"y\":[0.7735927556073424,0.7756500196299446,0.7740604183647923],\"yaxis\":\"y\",\"type\":\"scatter\"},{\"hovertemplate\":\"K_best=5100<br>Max_features=%{x}<br>F1_weighted=%{y}<extra></extra>\",\"legendgroup\":\"5100\",\"marker\":{\"color\":\"#636efa\",\"symbol\":\"circle\"},\"mode\":\"markers\",\"name\":\"5100\",\"orientation\":\"v\",\"showlegend\":true,\"x\":[\"6000\"],\"xaxis\":\"x\",\"y\":[0.7739971564028976],\"yaxis\":\"y\",\"type\":\"scatter\"},{\"hovertemplate\":\"K_best=5200<br>Max_features=%{x}<br>F1_weighted=%{y}<extra></extra>\",\"legendgroup\":\"5200\",\"marker\":{\"color\":\"#EF553B\",\"symbol\":\"circle\"},\"mode\":\"markers\",\"name\":\"5200\",\"orientation\":\"v\",\"showlegend\":true,\"x\":[\"6000\"],\"xaxis\":\"x\",\"y\":[0.774057716337475],\"yaxis\":\"y\",\"type\":\"scatter\"},{\"hovertemplate\":\"K_best=5300<br>Max_features=%{x}<br>F1_weighted=%{y}<extra></extra>\",\"legendgroup\":\"5300\",\"marker\":{\"color\":\"#00cc96\",\"symbol\":\"circle\"},\"mode\":\"markers\",\"name\":\"5300\",\"orientation\":\"v\",\"showlegend\":true,\"x\":[\"6000\"],\"xaxis\":\"x\",\"y\":[0.7748472094139834],\"yaxis\":\"y\",\"type\":\"scatter\"},{\"hovertemplate\":\"K_best=5400<br>Max_features=%{x}<br>F1_weighted=%{y}<extra></extra>\",\"legendgroup\":\"5400\",\"marker\":{\"color\":\"#ab63fa\",\"symbol\":\"circle\"},\"mode\":\"markers\",\"name\":\"5400\",\"orientation\":\"v\",\"showlegend\":true,\"x\":[\"6000\"],\"xaxis\":\"x\",\"y\":[0.772483092708822],\"yaxis\":\"y\",\"type\":\"scatter\"},{\"hovertemplate\":\"K_best=5500<br>Max_features=%{x}<br>F1_weighted=%{y}<extra></extra>\",\"legendgroup\":\"5500\",\"marker\":{\"color\":\"#FFA15A\",\"symbol\":\"circle\"},\"mode\":\"markers\",\"name\":\"5500\",\"orientation\":\"v\",\"showlegend\":true,\"x\":[\"6000\"],\"xaxis\":\"x\",\"y\":[0.7752252315763173],\"yaxis\":\"y\",\"type\":\"scatter\"},{\"hovertemplate\":\"K_best=5600<br>Max_features=%{x}<br>F1_weighted=%{y}<extra></extra>\",\"legendgroup\":\"5600\",\"marker\":{\"color\":\"#19d3f3\",\"symbol\":\"circle\"},\"mode\":\"markers\",\"name\":\"5600\",\"orientation\":\"v\",\"showlegend\":true,\"x\":[\"6000\"],\"xaxis\":\"x\",\"y\":[0.7761397823642022],\"yaxis\":\"y\",\"type\":\"scatter\"},{\"hovertemplate\":\"K_best=5700<br>Max_features=%{x}<br>F1_weighted=%{y}<extra></extra>\",\"legendgroup\":\"5700\",\"marker\":{\"color\":\"#FF6692\",\"symbol\":\"circle\"},\"mode\":\"markers\",\"name\":\"5700\",\"orientation\":\"v\",\"showlegend\":true,\"x\":[\"6000\"],\"xaxis\":\"x\",\"y\":[0.7755909585664864],\"yaxis\":\"y\",\"type\":\"scatter\"},{\"hovertemplate\":\"K_best=5800<br>Max_features=%{x}<br>F1_weighted=%{y}<extra></extra>\",\"legendgroup\":\"5800\",\"marker\":{\"color\":\"#B6E880\",\"symbol\":\"circle\"},\"mode\":\"markers\",\"name\":\"5800\",\"orientation\":\"v\",\"showlegend\":true,\"x\":[\"6000\"],\"xaxis\":\"x\",\"y\":[0.773733439080513],\"yaxis\":\"y\",\"type\":\"scatter\"},{\"hovertemplate\":\"K_best=5900<br>Max_features=%{x}<br>F1_weighted=%{y}<extra></extra>\",\"legendgroup\":\"5900\",\"marker\":{\"color\":\"#FF97FF\",\"symbol\":\"circle\"},\"mode\":\"markers\",\"name\":\"5900\",\"orientation\":\"v\",\"showlegend\":true,\"x\":[\"6000\"],\"xaxis\":\"x\",\"y\":[0.775961775394873],\"yaxis\":\"y\",\"type\":\"scatter\"},{\"hovertemplate\":\"K_best=6000<br>Max_features=%{x}<br>F1_weighted=%{y}<extra></extra>\",\"legendgroup\":\"6000\",\"marker\":{\"color\":\"#FECB52\",\"symbol\":\"circle\"},\"mode\":\"markers\",\"name\":\"6000\",\"orientation\":\"v\",\"showlegend\":true,\"x\":[\"7000\",\"9000\",\"8000\"],\"xaxis\":\"x\",\"y\":[0.7739809387841236,0.7786520846123803,0.7767056325428527],\"yaxis\":\"y\",\"type\":\"scatter\"},{\"hovertemplate\":\"K_best=6100<br>Max_features=%{x}<br>F1_weighted=%{y}<extra></extra>\",\"legendgroup\":\"6100\",\"marker\":{\"color\":\"#636efa\",\"symbol\":\"circle\"},\"mode\":\"markers\",\"name\":\"6100\",\"orientation\":\"v\",\"showlegend\":true,\"x\":[\"7000\"],\"xaxis\":\"x\",\"y\":[0.7767924601384872],\"yaxis\":\"y\",\"type\":\"scatter\"},{\"hovertemplate\":\"K_best=6200<br>Max_features=%{x}<br>F1_weighted=%{y}<extra></extra>\",\"legendgroup\":\"6200\",\"marker\":{\"color\":\"#EF553B\",\"symbol\":\"circle\"},\"mode\":\"markers\",\"name\":\"6200\",\"orientation\":\"v\",\"showlegend\":true,\"x\":[\"7000\"],\"xaxis\":\"x\",\"y\":[0.7730544570996518],\"yaxis\":\"y\",\"type\":\"scatter\"},{\"hovertemplate\":\"K_best=6300<br>Max_features=%{x}<br>F1_weighted=%{y}<extra></extra>\",\"legendgroup\":\"6300\",\"marker\":{\"color\":\"#00cc96\",\"symbol\":\"circle\"},\"mode\":\"markers\",\"name\":\"6300\",\"orientation\":\"v\",\"showlegend\":true,\"x\":[\"7000\"],\"xaxis\":\"x\",\"y\":[0.7757299557656234],\"yaxis\":\"y\",\"type\":\"scatter\"},{\"hovertemplate\":\"K_best=6400<br>Max_features=%{x}<br>F1_weighted=%{y}<extra></extra>\",\"legendgroup\":\"6400\",\"marker\":{\"color\":\"#ab63fa\",\"symbol\":\"circle\"},\"mode\":\"markers\",\"name\":\"6400\",\"orientation\":\"v\",\"showlegend\":true,\"x\":[\"7000\"],\"xaxis\":\"x\",\"y\":[0.7759152083826405],\"yaxis\":\"y\",\"type\":\"scatter\"},{\"hovertemplate\":\"K_best=6500<br>Max_features=%{x}<br>F1_weighted=%{y}<extra></extra>\",\"legendgroup\":\"6500\",\"marker\":{\"color\":\"#FFA15A\",\"symbol\":\"circle\"},\"mode\":\"markers\",\"name\":\"6500\",\"orientation\":\"v\",\"showlegend\":true,\"x\":[\"7000\"],\"xaxis\":\"x\",\"y\":[0.7728919542834652],\"yaxis\":\"y\",\"type\":\"scatter\"},{\"hovertemplate\":\"K_best=6600<br>Max_features=%{x}<br>F1_weighted=%{y}<extra></extra>\",\"legendgroup\":\"6600\",\"marker\":{\"color\":\"#19d3f3\",\"symbol\":\"circle\"},\"mode\":\"markers\",\"name\":\"6600\",\"orientation\":\"v\",\"showlegend\":true,\"x\":[\"7000\"],\"xaxis\":\"x\",\"y\":[0.7755918020744035],\"yaxis\":\"y\",\"type\":\"scatter\"},{\"hovertemplate\":\"K_best=6700<br>Max_features=%{x}<br>F1_weighted=%{y}<extra></extra>\",\"legendgroup\":\"6700\",\"marker\":{\"color\":\"#FF6692\",\"symbol\":\"circle\"},\"mode\":\"markers\",\"name\":\"6700\",\"orientation\":\"v\",\"showlegend\":true,\"x\":[\"7000\"],\"xaxis\":\"x\",\"y\":[0.7738508008829696],\"yaxis\":\"y\",\"type\":\"scatter\"},{\"hovertemplate\":\"K_best=6800<br>Max_features=%{x}<br>F1_weighted=%{y}<extra></extra>\",\"legendgroup\":\"6800\",\"marker\":{\"color\":\"#B6E880\",\"symbol\":\"circle\"},\"mode\":\"markers\",\"name\":\"6800\",\"orientation\":\"v\",\"showlegend\":true,\"x\":[\"7000\"],\"xaxis\":\"x\",\"y\":[0.7743529962055682],\"yaxis\":\"y\",\"type\":\"scatter\"},{\"hovertemplate\":\"K_best=6900<br>Max_features=%{x}<br>F1_weighted=%{y}<extra></extra>\",\"legendgroup\":\"6900\",\"marker\":{\"color\":\"#FF97FF\",\"symbol\":\"circle\"},\"mode\":\"markers\",\"name\":\"6900\",\"orientation\":\"v\",\"showlegend\":true,\"x\":[\"7000\"],\"xaxis\":\"x\",\"y\":[0.7745905813796582],\"yaxis\":\"y\",\"type\":\"scatter\"},{\"hovertemplate\":\"K_best=7000<br>Max_features=%{x}<br>F1_weighted=%{y}<extra></extra>\",\"legendgroup\":\"7000\",\"marker\":{\"color\":\"#FECB52\",\"symbol\":\"circle\"},\"mode\":\"markers\",\"name\":\"7000\",\"orientation\":\"v\",\"showlegend\":true,\"x\":[\"8000\",\"9000\",\"8000\"],\"xaxis\":\"x\",\"y\":[0.7748432333860433,0.7762357832183145,0.7748432333860433],\"yaxis\":\"y\",\"type\":\"scatter\"},{\"hovertemplate\":\"K_best=7100<br>Max_features=%{x}<br>F1_weighted=%{y}<extra></extra>\",\"legendgroup\":\"7100\",\"marker\":{\"color\":\"#636efa\",\"symbol\":\"circle\"},\"mode\":\"markers\",\"name\":\"7100\",\"orientation\":\"v\",\"showlegend\":true,\"x\":[\"8000\"],\"xaxis\":\"x\",\"y\":[0.7758752098367897],\"yaxis\":\"y\",\"type\":\"scatter\"},{\"hovertemplate\":\"K_best=7200<br>Max_features=%{x}<br>F1_weighted=%{y}<extra></extra>\",\"legendgroup\":\"7200\",\"marker\":{\"color\":\"#EF553B\",\"symbol\":\"circle\"},\"mode\":\"markers\",\"name\":\"7200\",\"orientation\":\"v\",\"showlegend\":true,\"x\":[\"8000\"],\"xaxis\":\"x\",\"y\":[0.7753334424478261],\"yaxis\":\"y\",\"type\":\"scatter\"},{\"hovertemplate\":\"K_best=7300<br>Max_features=%{x}<br>F1_weighted=%{y}<extra></extra>\",\"legendgroup\":\"7300\",\"marker\":{\"color\":\"#00cc96\",\"symbol\":\"circle\"},\"mode\":\"markers\",\"name\":\"7300\",\"orientation\":\"v\",\"showlegend\":true,\"x\":[\"8000\"],\"xaxis\":\"x\",\"y\":[0.7754490986759723],\"yaxis\":\"y\",\"type\":\"scatter\"},{\"hovertemplate\":\"K_best=7400<br>Max_features=%{x}<br>F1_weighted=%{y}<extra></extra>\",\"legendgroup\":\"7400\",\"marker\":{\"color\":\"#ab63fa\",\"symbol\":\"circle\"},\"mode\":\"markers\",\"name\":\"7400\",\"orientation\":\"v\",\"showlegend\":true,\"x\":[\"8000\"],\"xaxis\":\"x\",\"y\":[0.7720022873442216],\"yaxis\":\"y\",\"type\":\"scatter\"},{\"hovertemplate\":\"K_best=7500<br>Max_features=%{x}<br>F1_weighted=%{y}<extra></extra>\",\"legendgroup\":\"7500\",\"marker\":{\"color\":\"#FFA15A\",\"symbol\":\"circle\"},\"mode\":\"markers\",\"name\":\"7500\",\"orientation\":\"v\",\"showlegend\":true,\"x\":[\"8000\"],\"xaxis\":\"x\",\"y\":[0.776278824858956],\"yaxis\":\"y\",\"type\":\"scatter\"},{\"hovertemplate\":\"K_best=7600<br>Max_features=%{x}<br>F1_weighted=%{y}<extra></extra>\",\"legendgroup\":\"7600\",\"marker\":{\"color\":\"#19d3f3\",\"symbol\":\"circle\"},\"mode\":\"markers\",\"name\":\"7600\",\"orientation\":\"v\",\"showlegend\":true,\"x\":[\"8000\"],\"xaxis\":\"x\",\"y\":[0.7744852178123116],\"yaxis\":\"y\",\"type\":\"scatter\"},{\"hovertemplate\":\"K_best=7700<br>Max_features=%{x}<br>F1_weighted=%{y}<extra></extra>\",\"legendgroup\":\"7700\",\"marker\":{\"color\":\"#FF6692\",\"symbol\":\"circle\"},\"mode\":\"markers\",\"name\":\"7700\",\"orientation\":\"v\",\"showlegend\":true,\"x\":[\"8000\"],\"xaxis\":\"x\",\"y\":[0.7720571197765372],\"yaxis\":\"y\",\"type\":\"scatter\"},{\"hovertemplate\":\"K_best=7800<br>Max_features=%{x}<br>F1_weighted=%{y}<extra></extra>\",\"legendgroup\":\"7800\",\"marker\":{\"color\":\"#B6E880\",\"symbol\":\"circle\"},\"mode\":\"markers\",\"name\":\"7800\",\"orientation\":\"v\",\"showlegend\":true,\"x\":[\"8000\"],\"xaxis\":\"x\",\"y\":[0.775222748752963],\"yaxis\":\"y\",\"type\":\"scatter\"},{\"hovertemplate\":\"K_best=7900<br>Max_features=%{x}<br>F1_weighted=%{y}<extra></extra>\",\"legendgroup\":\"7900\",\"marker\":{\"color\":\"#FF97FF\",\"symbol\":\"circle\"},\"mode\":\"markers\",\"name\":\"7900\",\"orientation\":\"v\",\"showlegend\":true,\"x\":[\"8000\"],\"xaxis\":\"x\",\"y\":[0.7740779205865668],\"yaxis\":\"y\",\"type\":\"scatter\"},{\"hovertemplate\":\"K_best=8000<br>Max_features=%{x}<br>F1_weighted=%{y}<extra></extra>\",\"legendgroup\":\"8000\",\"marker\":{\"color\":\"#FECB52\",\"symbol\":\"circle\"},\"mode\":\"markers\",\"name\":\"8000\",\"orientation\":\"v\",\"showlegend\":true,\"x\":[\"9000\"],\"xaxis\":\"x\",\"y\":[0.7763457491286679],\"yaxis\":\"y\",\"type\":\"scatter\"},{\"hovertemplate\":\"K_best=8100<br>Max_features=%{x}<br>F1_weighted=%{y}<extra></extra>\",\"legendgroup\":\"8100\",\"marker\":{\"color\":\"#636efa\",\"symbol\":\"circle\"},\"mode\":\"markers\",\"name\":\"8100\",\"orientation\":\"v\",\"showlegend\":true,\"x\":[\"9000\"],\"xaxis\":\"x\",\"y\":[0.7754280030104601],\"yaxis\":\"y\",\"type\":\"scatter\"},{\"hovertemplate\":\"K_best=8200<br>Max_features=%{x}<br>F1_weighted=%{y}<extra></extra>\",\"legendgroup\":\"8200\",\"marker\":{\"color\":\"#EF553B\",\"symbol\":\"circle\"},\"mode\":\"markers\",\"name\":\"8200\",\"orientation\":\"v\",\"showlegend\":true,\"x\":[\"9000\"],\"xaxis\":\"x\",\"y\":[0.7764936560925467],\"yaxis\":\"y\",\"type\":\"scatter\"},{\"hovertemplate\":\"K_best=8300<br>Max_features=%{x}<br>F1_weighted=%{y}<extra></extra>\",\"legendgroup\":\"8300\",\"marker\":{\"color\":\"#00cc96\",\"symbol\":\"circle\"},\"mode\":\"markers\",\"name\":\"8300\",\"orientation\":\"v\",\"showlegend\":true,\"x\":[\"9000\"],\"xaxis\":\"x\",\"y\":[0.7766266084420309],\"yaxis\":\"y\",\"type\":\"scatter\"},{\"hovertemplate\":\"K_best=8400<br>Max_features=%{x}<br>F1_weighted=%{y}<extra></extra>\",\"legendgroup\":\"8400\",\"marker\":{\"color\":\"#ab63fa\",\"symbol\":\"circle\"},\"mode\":\"markers\",\"name\":\"8400\",\"orientation\":\"v\",\"showlegend\":true,\"x\":[\"9000\"],\"xaxis\":\"x\",\"y\":[0.7776717521335479],\"yaxis\":\"y\",\"type\":\"scatter\"},{\"hovertemplate\":\"K_best=8500<br>Max_features=%{x}<br>F1_weighted=%{y}<extra></extra>\",\"legendgroup\":\"8500\",\"marker\":{\"color\":\"#FFA15A\",\"symbol\":\"circle\"},\"mode\":\"markers\",\"name\":\"8500\",\"orientation\":\"v\",\"showlegend\":true,\"x\":[\"9000\"],\"xaxis\":\"x\",\"y\":[0.7749386835501847],\"yaxis\":\"y\",\"type\":\"scatter\"},{\"hovertemplate\":\"K_best=8600<br>Max_features=%{x}<br>F1_weighted=%{y}<extra></extra>\",\"legendgroup\":\"8600\",\"marker\":{\"color\":\"#19d3f3\",\"symbol\":\"circle\"},\"mode\":\"markers\",\"name\":\"8600\",\"orientation\":\"v\",\"showlegend\":true,\"x\":[\"9000\"],\"xaxis\":\"x\",\"y\":[0.7770545652316435],\"yaxis\":\"y\",\"type\":\"scatter\"},{\"hovertemplate\":\"K_best=8700<br>Max_features=%{x}<br>F1_weighted=%{y}<extra></extra>\",\"legendgroup\":\"8700\",\"marker\":{\"color\":\"#FF6692\",\"symbol\":\"circle\"},\"mode\":\"markers\",\"name\":\"8700\",\"orientation\":\"v\",\"showlegend\":true,\"x\":[\"9000\"],\"xaxis\":\"x\",\"y\":[0.7755966155465953],\"yaxis\":\"y\",\"type\":\"scatter\"},{\"hovertemplate\":\"K_best=8800<br>Max_features=%{x}<br>F1_weighted=%{y}<extra></extra>\",\"legendgroup\":\"8800\",\"marker\":{\"color\":\"#B6E880\",\"symbol\":\"circle\"},\"mode\":\"markers\",\"name\":\"8800\",\"orientation\":\"v\",\"showlegend\":true,\"x\":[\"9000\"],\"xaxis\":\"x\",\"y\":[0.7750644314440746],\"yaxis\":\"y\",\"type\":\"scatter\"},{\"hovertemplate\":\"K_best=8900<br>Max_features=%{x}<br>F1_weighted=%{y}<extra></extra>\",\"legendgroup\":\"8900\",\"marker\":{\"color\":\"#FF97FF\",\"symbol\":\"circle\"},\"mode\":\"markers\",\"name\":\"8900\",\"orientation\":\"v\",\"showlegend\":true,\"x\":[\"9000\"],\"xaxis\":\"x\",\"y\":[0.7753357224208052],\"yaxis\":\"y\",\"type\":\"scatter\"}],                        {\"template\":{\"data\":{\"histogram2dcontour\":[{\"type\":\"histogram2dcontour\",\"colorbar\":{\"outlinewidth\":0,\"ticks\":\"\"},\"colorscale\":[[0.0,\"#0d0887\"],[0.1111111111111111,\"#46039f\"],[0.2222222222222222,\"#7201a8\"],[0.3333333333333333,\"#9c179e\"],[0.4444444444444444,\"#bd3786\"],[0.5555555555555556,\"#d8576b\"],[0.6666666666666666,\"#ed7953\"],[0.7777777777777778,\"#fb9f3a\"],[0.8888888888888888,\"#fdca26\"],[1.0,\"#f0f921\"]]}],\"choropleth\":[{\"type\":\"choropleth\",\"colorbar\":{\"outlinewidth\":0,\"ticks\":\"\"}}],\"histogram2d\":[{\"type\":\"histogram2d\",\"colorbar\":{\"outlinewidth\":0,\"ticks\":\"\"},\"colorscale\":[[0.0,\"#0d0887\"],[0.1111111111111111,\"#46039f\"],[0.2222222222222222,\"#7201a8\"],[0.3333333333333333,\"#9c179e\"],[0.4444444444444444,\"#bd3786\"],[0.5555555555555556,\"#d8576b\"],[0.6666666666666666,\"#ed7953\"],[0.7777777777777778,\"#fb9f3a\"],[0.8888888888888888,\"#fdca26\"],[1.0,\"#f0f921\"]]}],\"heatmap\":[{\"type\":\"heatmap\",\"colorbar\":{\"outlinewidth\":0,\"ticks\":\"\"},\"colorscale\":[[0.0,\"#0d0887\"],[0.1111111111111111,\"#46039f\"],[0.2222222222222222,\"#7201a8\"],[0.3333333333333333,\"#9c179e\"],[0.4444444444444444,\"#bd3786\"],[0.5555555555555556,\"#d8576b\"],[0.6666666666666666,\"#ed7953\"],[0.7777777777777778,\"#fb9f3a\"],[0.8888888888888888,\"#fdca26\"],[1.0,\"#f0f921\"]]}],\"heatmapgl\":[{\"type\":\"heatmapgl\",\"colorbar\":{\"outlinewidth\":0,\"ticks\":\"\"},\"colorscale\":[[0.0,\"#0d0887\"],[0.1111111111111111,\"#46039f\"],[0.2222222222222222,\"#7201a8\"],[0.3333333333333333,\"#9c179e\"],[0.4444444444444444,\"#bd3786\"],[0.5555555555555556,\"#d8576b\"],[0.6666666666666666,\"#ed7953\"],[0.7777777777777778,\"#fb9f3a\"],[0.8888888888888888,\"#fdca26\"],[1.0,\"#f0f921\"]]}],\"contourcarpet\":[{\"type\":\"contourcarpet\",\"colorbar\":{\"outlinewidth\":0,\"ticks\":\"\"}}],\"contour\":[{\"type\":\"contour\",\"colorbar\":{\"outlinewidth\":0,\"ticks\":\"\"},\"colorscale\":[[0.0,\"#0d0887\"],[0.1111111111111111,\"#46039f\"],[0.2222222222222222,\"#7201a8\"],[0.3333333333333333,\"#9c179e\"],[0.4444444444444444,\"#bd3786\"],[0.5555555555555556,\"#d8576b\"],[0.6666666666666666,\"#ed7953\"],[0.7777777777777778,\"#fb9f3a\"],[0.8888888888888888,\"#fdca26\"],[1.0,\"#f0f921\"]]}],\"surface\":[{\"type\":\"surface\",\"colorbar\":{\"outlinewidth\":0,\"ticks\":\"\"},\"colorscale\":[[0.0,\"#0d0887\"],[0.1111111111111111,\"#46039f\"],[0.2222222222222222,\"#7201a8\"],[0.3333333333333333,\"#9c179e\"],[0.4444444444444444,\"#bd3786\"],[0.5555555555555556,\"#d8576b\"],[0.6666666666666666,\"#ed7953\"],[0.7777777777777778,\"#fb9f3a\"],[0.8888888888888888,\"#fdca26\"],[1.0,\"#f0f921\"]]}],\"mesh3d\":[{\"type\":\"mesh3d\",\"colorbar\":{\"outlinewidth\":0,\"ticks\":\"\"}}],\"scatter\":[{\"fillpattern\":{\"fillmode\":\"overlay\",\"size\":10,\"solidity\":0.2},\"type\":\"scatter\"}],\"parcoords\":[{\"type\":\"parcoords\",\"line\":{\"colorbar\":{\"outlinewidth\":0,\"ticks\":\"\"}}}],\"scatterpolargl\":[{\"type\":\"scatterpolargl\",\"marker\":{\"colorbar\":{\"outlinewidth\":0,\"ticks\":\"\"}}}],\"bar\":[{\"error_x\":{\"color\":\"#2a3f5f\"},\"error_y\":{\"color\":\"#2a3f5f\"},\"marker\":{\"line\":{\"color\":\"#E5ECF6\",\"width\":0.5},\"pattern\":{\"fillmode\":\"overlay\",\"size\":10,\"solidity\":0.2}},\"type\":\"bar\"}],\"scattergeo\":[{\"type\":\"scattergeo\",\"marker\":{\"colorbar\":{\"outlinewidth\":0,\"ticks\":\"\"}}}],\"scatterpolar\":[{\"type\":\"scatterpolar\",\"marker\":{\"colorbar\":{\"outlinewidth\":0,\"ticks\":\"\"}}}],\"histogram\":[{\"marker\":{\"pattern\":{\"fillmode\":\"overlay\",\"size\":10,\"solidity\":0.2}},\"type\":\"histogram\"}],\"scattergl\":[{\"type\":\"scattergl\",\"marker\":{\"colorbar\":{\"outlinewidth\":0,\"ticks\":\"\"}}}],\"scatter3d\":[{\"type\":\"scatter3d\",\"line\":{\"colorbar\":{\"outlinewidth\":0,\"ticks\":\"\"}},\"marker\":{\"colorbar\":{\"outlinewidth\":0,\"ticks\":\"\"}}}],\"scattermapbox\":[{\"type\":\"scattermapbox\",\"marker\":{\"colorbar\":{\"outlinewidth\":0,\"ticks\":\"\"}}}],\"scatterternary\":[{\"type\":\"scatterternary\",\"marker\":{\"colorbar\":{\"outlinewidth\":0,\"ticks\":\"\"}}}],\"scattercarpet\":[{\"type\":\"scattercarpet\",\"marker\":{\"colorbar\":{\"outlinewidth\":0,\"ticks\":\"\"}}}],\"carpet\":[{\"aaxis\":{\"endlinecolor\":\"#2a3f5f\",\"gridcolor\":\"white\",\"linecolor\":\"white\",\"minorgridcolor\":\"white\",\"startlinecolor\":\"#2a3f5f\"},\"baxis\":{\"endlinecolor\":\"#2a3f5f\",\"gridcolor\":\"white\",\"linecolor\":\"white\",\"minorgridcolor\":\"white\",\"startlinecolor\":\"#2a3f5f\"},\"type\":\"carpet\"}],\"table\":[{\"cells\":{\"fill\":{\"color\":\"#EBF0F8\"},\"line\":{\"color\":\"white\"}},\"header\":{\"fill\":{\"color\":\"#C8D4E3\"},\"line\":{\"color\":\"white\"}},\"type\":\"table\"}],\"barpolar\":[{\"marker\":{\"line\":{\"color\":\"#E5ECF6\",\"width\":0.5},\"pattern\":{\"fillmode\":\"overlay\",\"size\":10,\"solidity\":0.2}},\"type\":\"barpolar\"}],\"pie\":[{\"automargin\":true,\"type\":\"pie\"}]},\"layout\":{\"autotypenumbers\":\"strict\",\"colorway\":[\"#636efa\",\"#EF553B\",\"#00cc96\",\"#ab63fa\",\"#FFA15A\",\"#19d3f3\",\"#FF6692\",\"#B6E880\",\"#FF97FF\",\"#FECB52\"],\"font\":{\"color\":\"#2a3f5f\"},\"hovermode\":\"closest\",\"hoverlabel\":{\"align\":\"left\"},\"paper_bgcolor\":\"white\",\"plot_bgcolor\":\"#E5ECF6\",\"polar\":{\"bgcolor\":\"#E5ECF6\",\"angularaxis\":{\"gridcolor\":\"white\",\"linecolor\":\"white\",\"ticks\":\"\"},\"radialaxis\":{\"gridcolor\":\"white\",\"linecolor\":\"white\",\"ticks\":\"\"}},\"ternary\":{\"bgcolor\":\"#E5ECF6\",\"aaxis\":{\"gridcolor\":\"white\",\"linecolor\":\"white\",\"ticks\":\"\"},\"baxis\":{\"gridcolor\":\"white\",\"linecolor\":\"white\",\"ticks\":\"\"},\"caxis\":{\"gridcolor\":\"white\",\"linecolor\":\"white\",\"ticks\":\"\"}},\"coloraxis\":{\"colorbar\":{\"outlinewidth\":0,\"ticks\":\"\"}},\"colorscale\":{\"sequential\":[[0.0,\"#0d0887\"],[0.1111111111111111,\"#46039f\"],[0.2222222222222222,\"#7201a8\"],[0.3333333333333333,\"#9c179e\"],[0.4444444444444444,\"#bd3786\"],[0.5555555555555556,\"#d8576b\"],[0.6666666666666666,\"#ed7953\"],[0.7777777777777778,\"#fb9f3a\"],[0.8888888888888888,\"#fdca26\"],[1.0,\"#f0f921\"]],\"sequentialminus\":[[0.0,\"#0d0887\"],[0.1111111111111111,\"#46039f\"],[0.2222222222222222,\"#7201a8\"],[0.3333333333333333,\"#9c179e\"],[0.4444444444444444,\"#bd3786\"],[0.5555555555555556,\"#d8576b\"],[0.6666666666666666,\"#ed7953\"],[0.7777777777777778,\"#fb9f3a\"],[0.8888888888888888,\"#fdca26\"],[1.0,\"#f0f921\"]],\"diverging\":[[0,\"#8e0152\"],[0.1,\"#c51b7d\"],[0.2,\"#de77ae\"],[0.3,\"#f1b6da\"],[0.4,\"#fde0ef\"],[0.5,\"#f7f7f7\"],[0.6,\"#e6f5d0\"],[0.7,\"#b8e186\"],[0.8,\"#7fbc41\"],[0.9,\"#4d9221\"],[1,\"#276419\"]]},\"xaxis\":{\"gridcolor\":\"white\",\"linecolor\":\"white\",\"ticks\":\"\",\"title\":{\"standoff\":15},\"zerolinecolor\":\"white\",\"automargin\":true,\"zerolinewidth\":2},\"yaxis\":{\"gridcolor\":\"white\",\"linecolor\":\"white\",\"ticks\":\"\",\"title\":{\"standoff\":15},\"zerolinecolor\":\"white\",\"automargin\":true,\"zerolinewidth\":2},\"scene\":{\"xaxis\":{\"backgroundcolor\":\"#E5ECF6\",\"gridcolor\":\"white\",\"linecolor\":\"white\",\"showbackground\":true,\"ticks\":\"\",\"zerolinecolor\":\"white\",\"gridwidth\":2},\"yaxis\":{\"backgroundcolor\":\"#E5ECF6\",\"gridcolor\":\"white\",\"linecolor\":\"white\",\"showbackground\":true,\"ticks\":\"\",\"zerolinecolor\":\"white\",\"gridwidth\":2},\"zaxis\":{\"backgroundcolor\":\"#E5ECF6\",\"gridcolor\":\"white\",\"linecolor\":\"white\",\"showbackground\":true,\"ticks\":\"\",\"zerolinecolor\":\"white\",\"gridwidth\":2}},\"shapedefaults\":{\"line\":{\"color\":\"#2a3f5f\"}},\"annotationdefaults\":{\"arrowcolor\":\"#2a3f5f\",\"arrowhead\":0,\"arrowwidth\":1},\"geo\":{\"bgcolor\":\"white\",\"landcolor\":\"#E5ECF6\",\"subunitcolor\":\"white\",\"showland\":true,\"showlakes\":true,\"lakecolor\":\"white\"},\"title\":{\"x\":0.05},\"mapbox\":{\"style\":\"light\"}}},\"xaxis\":{\"anchor\":\"y\",\"domain\":[0.0,1.0],\"title\":{\"text\":\"Max_features\"}},\"yaxis\":{\"anchor\":\"x\",\"domain\":[0.0,1.0],\"title\":{\"text\":\"F1_weighted\"}},\"legend\":{\"title\":{\"text\":\"K_best\"},\"tracegroupgap\":0},\"margin\":{\"t\":60}},                        {\"responsive\": true}                    ).then(function(){\n",
       "                            \n",
       "var gd = document.getElementById('ee7b7a67-e078-4732-9c5c-7e1d9faf2eb6');\n",
       "var x = new MutationObserver(function (mutations, observer) {{\n",
       "        var display = window.getComputedStyle(gd).display;\n",
       "        if (!display || display === 'none') {{\n",
       "            console.log([gd, 'removed!']);\n",
       "            Plotly.purge(gd);\n",
       "            observer.disconnect();\n",
       "        }}\n",
       "}});\n",
       "\n",
       "// Listen for the removal of the full notebook cells\n",
       "var notebookContainer = gd.closest('#notebook-container');\n",
       "if (notebookContainer) {{\n",
       "    x.observe(notebookContainer, {childList: true});\n",
       "}}\n",
       "\n",
       "// Listen for the clearing of the current output cell\n",
       "var outputEl = gd.closest('.output');\n",
       "if (outputEl) {{\n",
       "    x.observe(outputEl, {childList: true});\n",
       "}}\n",
       "\n",
       "                        })                };                });            </script>        </div>"
      ]
     },
     "metadata": {},
     "output_type": "display_data"
    }
   ],
   "source": [
    "fig = px.scatter(df_maxfeatures_kbest, x=\"Max_features\", y=\"F1_weighted\", color='K_best')\n",
    "fig.show()"
   ]
  },
  {
   "cell_type": "code",
   "execution_count": 14,
   "id": "abb70415",
   "metadata": {},
   "outputs": [],
   "source": [
    "df_maxfeatures_kbest[\"Max_features\"]=df_maxfeatures_kbest[\"Max_features\"].astype(\"int\")"
   ]
  },
  {
   "cell_type": "code",
   "execution_count": 16,
   "id": "5c84b65b",
   "metadata": {},
   "outputs": [
    {
     "data": {
      "text/html": [
       "<div>\n",
       "<style scoped>\n",
       "    .dataframe tbody tr th:only-of-type {\n",
       "        vertical-align: middle;\n",
       "    }\n",
       "\n",
       "    .dataframe tbody tr th {\n",
       "        vertical-align: top;\n",
       "    }\n",
       "\n",
       "    .dataframe thead th {\n",
       "        text-align: right;\n",
       "    }\n",
       "</style>\n",
       "<table border=\"1\" class=\"dataframe\">\n",
       "  <thead>\n",
       "    <tr style=\"text-align: right;\">\n",
       "      <th></th>\n",
       "      <th>Max_features</th>\n",
       "      <th>K_best</th>\n",
       "      <th>Accuracy</th>\n",
       "      <th>F1_weighted</th>\n",
       "      <th>F1_macro</th>\n",
       "      <th>Duree en sec</th>\n",
       "    </tr>\n",
       "  </thead>\n",
       "  <tbody>\n",
       "    <tr>\n",
       "      <th>82</th>\n",
       "      <td>4000</td>\n",
       "      <td>3000</td>\n",
       "      <td>0.772136</td>\n",
       "      <td>0.772812</td>\n",
       "      <td>0.750719</td>\n",
       "      <td>84.059209</td>\n",
       "    </tr>\n",
       "    <tr>\n",
       "      <th>83</th>\n",
       "      <td>4000</td>\n",
       "      <td>3100</td>\n",
       "      <td>0.770294</td>\n",
       "      <td>0.771045</td>\n",
       "      <td>0.749174</td>\n",
       "      <td>85.371924</td>\n",
       "    </tr>\n",
       "    <tr>\n",
       "      <th>84</th>\n",
       "      <td>4000</td>\n",
       "      <td>3200</td>\n",
       "      <td>0.771153</td>\n",
       "      <td>0.772074</td>\n",
       "      <td>0.746953</td>\n",
       "      <td>93.747764</td>\n",
       "    </tr>\n",
       "    <tr>\n",
       "      <th>85</th>\n",
       "      <td>4000</td>\n",
       "      <td>3300</td>\n",
       "      <td>0.771153</td>\n",
       "      <td>0.771918</td>\n",
       "      <td>0.749508</td>\n",
       "      <td>90.349205</td>\n",
       "    </tr>\n",
       "    <tr>\n",
       "      <th>86</th>\n",
       "      <td>4000</td>\n",
       "      <td>3400</td>\n",
       "      <td>0.772136</td>\n",
       "      <td>0.772713</td>\n",
       "      <td>0.750564</td>\n",
       "      <td>97.123296</td>\n",
       "    </tr>\n",
       "    <tr>\n",
       "      <th>87</th>\n",
       "      <td>4000</td>\n",
       "      <td>3500</td>\n",
       "      <td>0.771337</td>\n",
       "      <td>0.771887</td>\n",
       "      <td>0.750727</td>\n",
       "      <td>98.807059</td>\n",
       "    </tr>\n",
       "    <tr>\n",
       "      <th>88</th>\n",
       "      <td>4000</td>\n",
       "      <td>3600</td>\n",
       "      <td>0.770969</td>\n",
       "      <td>0.771405</td>\n",
       "      <td>0.749628</td>\n",
       "      <td>105.975672</td>\n",
       "    </tr>\n",
       "    <tr>\n",
       "      <th>89</th>\n",
       "      <td>4000</td>\n",
       "      <td>3700</td>\n",
       "      <td>0.771215</td>\n",
       "      <td>0.771015</td>\n",
       "      <td>0.749984</td>\n",
       "      <td>101.388523</td>\n",
       "    </tr>\n",
       "    <tr>\n",
       "      <th>90</th>\n",
       "      <td>4000</td>\n",
       "      <td>3800</td>\n",
       "      <td>0.770723</td>\n",
       "      <td>0.770742</td>\n",
       "      <td>0.750313</td>\n",
       "      <td>99.500410</td>\n",
       "    </tr>\n",
       "    <tr>\n",
       "      <th>91</th>\n",
       "      <td>4000</td>\n",
       "      <td>3900</td>\n",
       "      <td>0.771276</td>\n",
       "      <td>0.771080</td>\n",
       "      <td>0.751835</td>\n",
       "      <td>100.763795</td>\n",
       "    </tr>\n",
       "  </tbody>\n",
       "</table>\n",
       "</div>"
      ],
      "text/plain": [
       "    Max_features K_best  Accuracy  F1_weighted  F1_macro  Duree en sec\n",
       "82          4000   3000  0.772136     0.772812  0.750719     84.059209\n",
       "83          4000   3100  0.770294     0.771045  0.749174     85.371924\n",
       "84          4000   3200  0.771153     0.772074  0.746953     93.747764\n",
       "85          4000   3300  0.771153     0.771918  0.749508     90.349205\n",
       "86          4000   3400  0.772136     0.772713  0.750564     97.123296\n",
       "87          4000   3500  0.771337     0.771887  0.750727     98.807059\n",
       "88          4000   3600  0.770969     0.771405  0.749628    105.975672\n",
       "89          4000   3700  0.771215     0.771015  0.749984    101.388523\n",
       "90          4000   3800  0.770723     0.770742  0.750313     99.500410\n",
       "91          4000   3900  0.771276     0.771080  0.751835    100.763795"
      ]
     },
     "execution_count": 16,
     "metadata": {},
     "output_type": "execute_result"
    }
   ],
   "source": [
    "df_maxfeatures_kbest.loc[(df_maxfeatures_kbest[\"F1_weighted\"]>0.77)&(df_maxfeatures_kbest[\"Max_features\"]<=4000)]"
   ]
  }
 ],
 "metadata": {
  "kernelspec": {
   "display_name": "Python 3 (ipykernel)",
   "language": "python",
   "name": "python3"
  },
  "language_info": {
   "codemirror_mode": {
    "name": "ipython",
    "version": 3
   },
   "file_extension": ".py",
   "mimetype": "text/x-python",
   "name": "python",
   "nbconvert_exporter": "python",
   "pygments_lexer": "ipython3",
   "version": "3.11.4"
  }
 },
 "nbformat": 4,
 "nbformat_minor": 5
}
