{
 "cells": [
  {
   "cell_type": "code",
   "execution_count": 7,
   "id": "3c45c3cb",
   "metadata": {},
   "outputs": [],
   "source": [
    "%run 4.2_AutoDL.ipynb"
   ]
  },
  {
   "cell_type": "code",
   "execution_count": 4,
   "id": "8b1cfb5e",
   "metadata": {},
   "outputs": [
    {
     "data": {
      "text/plain": [
       "['df_score_DL.joblib']"
      ]
     },
     "execution_count": 4,
     "metadata": {},
     "output_type": "execute_result"
    }
   ],
   "source": [
    "\"\"\"df_import = pd.DataFrame(columns=[\"image_size\",\"batch_size\",\"epochs\",\"DataGenerator\", \"optimizer\",\"fonction loss\",\n",
    "                                  \"loss\",\"acc\", \"val_loss\",\"val_acc\", \"Duree_entrainement en sec\"])\n",
    "import joblib\n",
    "from joblib import dump, load\n",
    "dump(df_import,\"df_score_DL.joblib\")\"\"\""
   ]
  },
  {
   "cell_type": "markdown",
   "id": "1a65c938",
   "metadata": {},
   "source": [
    "## Application de la fonction principale de test_DL"
   ]
  },
  {
   "cell_type": "code",
   "execution_count": 9,
   "id": "5873d627",
   "metadata": {},
   "outputs": [
    {
     "name": "stdout",
     "output_type": "stream",
     "text": [
      "Found 67931 files belonging to 27 classes.\n",
      "Using 54345 files for training.\n",
      "Found 67931 files belonging to 27 classes.\n",
      "Using 13586 files for validation.\n",
      "Found 16983 files belonging to 27 classes.\n",
      "récupération du df existant\n",
      "debut de l'entrainement du modèle 0\n",
      "Epoch 1/10\n",
      "60/60 [==============================] - ETA: 0s - loss: 3.0655 - acc: 0.1333\n",
      "Epoch 1: saving model to C:\\Users\\franc\\AVR23_CDS_Rakuten\\notebooks\\Fichiers_points_de_controles\n",
      "INFO:tensorflow:Assets written to: C:\\Users\\franc\\AVR23_CDS_Rakuten\\notebooks\\Fichiers_points_de_controles\\assets\n"
     ]
    },
    {
     "name": "stderr",
     "output_type": "stream",
     "text": [
      "INFO:tensorflow:Assets written to: C:\\Users\\franc\\AVR23_CDS_Rakuten\\notebooks\\Fichiers_points_de_controles\\assets\n"
     ]
    },
    {
     "name": "stdout",
     "output_type": "stream",
     "text": [
      "60/60 [==============================] - 245s 4s/step - loss: 3.0655 - acc: 0.1333 - val_loss: 2.8834 - val_acc: 0.1800 - lr: 0.0010\n",
      "Epoch 2/10\n",
      "60/60 [==============================] - ETA: 0s - loss: 2.7751 - acc: 0.1983\n",
      "Epoch 2: saving model to C:\\Users\\franc\\AVR23_CDS_Rakuten\\notebooks\\Fichiers_points_de_controles\n",
      "INFO:tensorflow:Assets written to: C:\\Users\\franc\\AVR23_CDS_Rakuten\\notebooks\\Fichiers_points_de_controles\\assets\n"
     ]
    },
    {
     "name": "stderr",
     "output_type": "stream",
     "text": [
      "INFO:tensorflow:Assets written to: C:\\Users\\franc\\AVR23_CDS_Rakuten\\notebooks\\Fichiers_points_de_controles\\assets\n"
     ]
    },
    {
     "name": "stdout",
     "output_type": "stream",
     "text": [
      "60/60 [==============================] - 246s 4s/step - loss: 2.7751 - acc: 0.1983 - val_loss: 2.6673 - val_acc: 0.2644 - lr: 0.0010\n",
      "Epoch 3/10\n",
      "60/60 [==============================] - ETA: 0s - loss: 2.6804 - acc: 0.2194\n",
      "Epoch 3: saving model to C:\\Users\\franc\\AVR23_CDS_Rakuten\\notebooks\\Fichiers_points_de_controles\n",
      "INFO:tensorflow:Assets written to: C:\\Users\\franc\\AVR23_CDS_Rakuten\\notebooks\\Fichiers_points_de_controles\\assets\n"
     ]
    },
    {
     "name": "stderr",
     "output_type": "stream",
     "text": [
      "INFO:tensorflow:Assets written to: C:\\Users\\franc\\AVR23_CDS_Rakuten\\notebooks\\Fichiers_points_de_controles\\assets\n"
     ]
    },
    {
     "name": "stdout",
     "output_type": "stream",
     "text": [
      "60/60 [==============================] - 242s 4s/step - loss: 2.6804 - acc: 0.2194 - val_loss: 2.5500 - val_acc: 0.2400 - lr: 0.0010\n",
      "Epoch 4/10\n",
      "60/60 [==============================] - ETA: 0s - loss: 2.6145 - acc: 0.2394\n",
      "Epoch 4: saving model to C:\\Users\\franc\\AVR23_CDS_Rakuten\\notebooks\\Fichiers_points_de_controles\n",
      "INFO:tensorflow:Assets written to: C:\\Users\\franc\\AVR23_CDS_Rakuten\\notebooks\\Fichiers_points_de_controles\\assets\n"
     ]
    },
    {
     "name": "stderr",
     "output_type": "stream",
     "text": [
      "INFO:tensorflow:Assets written to: C:\\Users\\franc\\AVR23_CDS_Rakuten\\notebooks\\Fichiers_points_de_controles\\assets\n"
     ]
    },
    {
     "name": "stdout",
     "output_type": "stream",
     "text": [
      "60/60 [==============================] - 264s 4s/step - loss: 2.6145 - acc: 0.2394 - val_loss: 2.4847 - val_acc: 0.2778 - lr: 0.0010\n",
      "Epoch 5/10\n",
      "60/60 [==============================] - ETA: 0s - loss: 2.5588 - acc: 0.2578\n",
      "Epoch 5: saving model to C:\\Users\\franc\\AVR23_CDS_Rakuten\\notebooks\\Fichiers_points_de_controles\n",
      "INFO:tensorflow:Assets written to: C:\\Users\\franc\\AVR23_CDS_Rakuten\\notebooks\\Fichiers_points_de_controles\\assets\n"
     ]
    },
    {
     "name": "stderr",
     "output_type": "stream",
     "text": [
      "INFO:tensorflow:Assets written to: C:\\Users\\franc\\AVR23_CDS_Rakuten\\notebooks\\Fichiers_points_de_controles\\assets\n"
     ]
    },
    {
     "name": "stdout",
     "output_type": "stream",
     "text": [
      "60/60 [==============================] - 298s 5s/step - loss: 2.5588 - acc: 0.2578 - val_loss: 2.4786 - val_acc: 0.2711 - lr: 0.0010\n",
      "Epoch 6/10\n",
      "60/60 [==============================] - ETA: 0s - loss: 2.5167 - acc: 0.2644\n",
      "Epoch 6: saving model to C:\\Users\\franc\\AVR23_CDS_Rakuten\\notebooks\\Fichiers_points_de_controles\n",
      "INFO:tensorflow:Assets written to: C:\\Users\\franc\\AVR23_CDS_Rakuten\\notebooks\\Fichiers_points_de_controles\\assets\n"
     ]
    },
    {
     "name": "stderr",
     "output_type": "stream",
     "text": [
      "INFO:tensorflow:Assets written to: C:\\Users\\franc\\AVR23_CDS_Rakuten\\notebooks\\Fichiers_points_de_controles\\assets\n"
     ]
    },
    {
     "name": "stdout",
     "output_type": "stream",
     "text": [
      "60/60 [==============================] - 297s 5s/step - loss: 2.5167 - acc: 0.2644 - val_loss: 2.4359 - val_acc: 0.2933 - lr: 0.0010\n",
      "Epoch 7/10\n",
      "60/60 [==============================] - ETA: 0s - loss: 2.4969 - acc: 0.2683\n",
      "Epoch 7: saving model to C:\\Users\\franc\\AVR23_CDS_Rakuten\\notebooks\\Fichiers_points_de_controles\n",
      "INFO:tensorflow:Assets written to: C:\\Users\\franc\\AVR23_CDS_Rakuten\\notebooks\\Fichiers_points_de_controles\\assets\n"
     ]
    },
    {
     "name": "stderr",
     "output_type": "stream",
     "text": [
      "INFO:tensorflow:Assets written to: C:\\Users\\franc\\AVR23_CDS_Rakuten\\notebooks\\Fichiers_points_de_controles\\assets\n"
     ]
    },
    {
     "name": "stdout",
     "output_type": "stream",
     "text": [
      "60/60 [==============================] - 300s 5s/step - loss: 2.4969 - acc: 0.2683 - val_loss: 2.4022 - val_acc: 0.2956 - lr: 0.0010\n",
      "Epoch 8/10\n",
      "60/60 [==============================] - ETA: 0s - loss: 2.4917 - acc: 0.2644\n",
      "Epoch 8: saving model to C:\\Users\\franc\\AVR23_CDS_Rakuten\\notebooks\\Fichiers_points_de_controles\n",
      "INFO:tensorflow:Assets written to: C:\\Users\\franc\\AVR23_CDS_Rakuten\\notebooks\\Fichiers_points_de_controles\\assets\n"
     ]
    },
    {
     "name": "stderr",
     "output_type": "stream",
     "text": [
      "INFO:tensorflow:Assets written to: C:\\Users\\franc\\AVR23_CDS_Rakuten\\notebooks\\Fichiers_points_de_controles\\assets\n"
     ]
    },
    {
     "name": "stdout",
     "output_type": "stream",
     "text": [
      "60/60 [==============================] - 295s 5s/step - loss: 2.4917 - acc: 0.2644 - val_loss: 2.5286 - val_acc: 0.2711 - lr: 0.0010\n",
      "Epoch 9/10\n",
      "60/60 [==============================] - ETA: 0s - loss: 2.4822 - acc: 0.2778\n",
      "Epoch 9: saving model to C:\\Users\\franc\\AVR23_CDS_Rakuten\\notebooks\\Fichiers_points_de_controles\n",
      "INFO:tensorflow:Assets written to: C:\\Users\\franc\\AVR23_CDS_Rakuten\\notebooks\\Fichiers_points_de_controles\\assets\n"
     ]
    },
    {
     "name": "stderr",
     "output_type": "stream",
     "text": [
      "INFO:tensorflow:Assets written to: C:\\Users\\franc\\AVR23_CDS_Rakuten\\notebooks\\Fichiers_points_de_controles\\assets\n"
     ]
    },
    {
     "name": "stdout",
     "output_type": "stream",
     "text": [
      "60/60 [==============================] - 285s 5s/step - loss: 2.4822 - acc: 0.2778 - val_loss: 2.4011 - val_acc: 0.3022 - lr: 0.0010\n",
      "Epoch 10/10\n",
      "60/60 [==============================] - ETA: 0s - loss: 2.4203 - acc: 0.2839Restoring model weights from the end of the best epoch: 7.\n",
      "\n",
      "Epoch 10: saving model to C:\\Users\\franc\\AVR23_CDS_Rakuten\\notebooks\\Fichiers_points_de_controles\n",
      "INFO:tensorflow:Assets written to: C:\\Users\\franc\\AVR23_CDS_Rakuten\\notebooks\\Fichiers_points_de_controles\\assets\n"
     ]
    },
    {
     "name": "stderr",
     "output_type": "stream",
     "text": [
      "INFO:tensorflow:Assets written to: C:\\Users\\franc\\AVR23_CDS_Rakuten\\notebooks\\Fichiers_points_de_controles\\assets\n"
     ]
    },
    {
     "name": "stdout",
     "output_type": "stream",
     "text": [
      "60/60 [==============================] - 273s 5s/step - loss: 2.4203 - acc: 0.2839 - val_loss: 2.4620 - val_acc: 0.3133 - lr: 0.0010\n",
      "Epoch 10: early stopping\n",
      "fin de l'entrainement du modèle 0\n",
      "le score de test n'a pas été calculé car le score d'entrainement est trop faible\n"
     ]
    },
    {
     "name": "stderr",
     "output_type": "stream",
     "text": [
      "C:\\Users\\franc\\anaconda3\\lib\\site-packages\\keras\\src\\engine\\training.py:3079: UserWarning: You are saving your model as an HDF5 file via `model.save()`. This file format is considered legacy. We recommend using instead the native Keras format, e.g. `model.save('my_model.keras')`.\n",
      "  saving_api.save_model(\n"
     ]
    },
    {
     "data": {
      "text/plain": [
       "['C:\\\\Users\\\\franc\\\\AVR23_CDS_Rakuten\\\\notebooks\\\\df_score_DL.joblib']"
      ]
     },
     "execution_count": 9,
     "metadata": {},
     "output_type": "execute_result"
    }
   ],
   "source": [
    "#Choix des différentes variables de notre fonction test_DL\n",
    "nom_fichier_controle = 'VGG16_1'\n",
    "#chemin où sont stockées les images d'entrainement classées \n",
    "repertoire_train = get_output_path_folder(\"images_traitees_classe_train\")\n",
    "repertoire_test = get_output_path_folder(\"images_traitees_classe_test\")\n",
    "\n",
    "#chemin où est stocké le dataFrame de suivi\n",
    "chemin_df_score_DL = get_output_path_file(\"df_score_DL.joblib\")\n",
    "\n",
    "#Nos variables\n",
    "image_size = (224,224)\n",
    "batch_size = 30\n",
    "epochs = 10\n",
    "validation_split = 0.2\n",
    "seed = 123  \n",
    "\n",
    "from tensorflow.keras.layers.experimental.preprocessing import RandomFlip,RandomZoom,RandomWidth,Rescaling,RandomRotation\n",
    "from tensorflow.keras.layers import RandomBrightness\n",
    "#DataAugmentation\n",
    "data_augmentation = keras.Sequential([\n",
    "   RandomFlip(\"horizontal\",seed=123),     #Inversion horizontale aléatoire des images\n",
    "   RandomZoom(height_factor=(-0.05, -0.15),width_factor=(-0.05, -0.15),seed=123), #Zoom aléatoire des images jusqu'à 15%\n",
    "   RandomWidth(factor=(0.2, 0.3), interpolation='bilinear', seed=123), #ajustement aléatoire de la largeur d'un batch d'images par un facteur aléatoire\n",
    "   RandomBrightness(factor =(0.1, 0.3), value_range=(0, 255), seed=123),#ajustement aléatoire de la luminosité d'images d'entrée RGB, différents facteurs par images d'un même batch\n",
    "   RandomRotation(0.2)\n",
    "])\n",
    "\n",
    "#Notre modèle à tester, éventuellement une liste de modèles\n",
    "base_model = VGG16(weights='imagenet', include_top=False)\n",
    "for layer in base_model.layers:\n",
    "    layer.trainable = False    \n",
    "model = Sequential()\n",
    "model.add(data_augmentation)\n",
    "model.add(Rescaling(1./255))\n",
    "model.add(base_model)\n",
    "model.add(GlobalAveragePooling2D()) \n",
    "model.add(Dense(1024,activation='relu'))\n",
    "model.add(Dropout(rate=0.2))\n",
    "model.add(Dense(512, activation='relu'))\n",
    "model.add(Dropout(rate=0.2))\n",
    "model.add(Dense(27, activation='softmax'))\n",
    "liste_modele=[model]\n",
    "\n",
    "#les varaibles lors du .compile\n",
    "optimizer='adam'\n",
    "loss='categorical_crossentropy'\n",
    "metrics=['acc']\n",
    "\n",
    "#lancement de la fonction test_DL\n",
    "df_score_DL = test_DL_predict(repertoire_train,repertoire_test,image_size,batch_size,validation_split,liste_modele,optimizer,loss,\n",
    "                    metrics,epochs,chemin_df_score_DL,nom_fichier_controle)\n",
    "dump(df_score_DL,get_output_path_file(\"df_score_DL.joblib\"))"
   ]
  },
  {
   "cell_type": "code",
   "execution_count": 10,
   "id": "3fa7b935",
   "metadata": {},
   "outputs": [
    {
     "data": {
      "text/html": [
       "<div>\n",
       "<style scoped>\n",
       "    .dataframe tbody tr th:only-of-type {\n",
       "        vertical-align: middle;\n",
       "    }\n",
       "\n",
       "    .dataframe tbody tr th {\n",
       "        vertical-align: top;\n",
       "    }\n",
       "\n",
       "    .dataframe thead th {\n",
       "        text-align: right;\n",
       "    }\n",
       "</style>\n",
       "<table border=\"1\" class=\"dataframe\">\n",
       "  <thead>\n",
       "    <tr style=\"text-align: right;\">\n",
       "      <th></th>\n",
       "      <th>image_size</th>\n",
       "      <th>batch_size</th>\n",
       "      <th>epochs</th>\n",
       "      <th>optimizer</th>\n",
       "      <th>fonction loss</th>\n",
       "      <th>loss</th>\n",
       "      <th>acc</th>\n",
       "      <th>val_loss</th>\n",
       "      <th>val_acc</th>\n",
       "      <th>Duree_entrainement en sec</th>\n",
       "      <th>model</th>\n",
       "      <th>DataGenerator</th>\n",
       "      <th>test_acc</th>\n",
       "      <th>Nom_fichier_contrôle</th>\n",
       "    </tr>\n",
       "  </thead>\n",
       "  <tbody>\n",
       "    <tr>\n",
       "      <th>0</th>\n",
       "      <td>(200, 200)</td>\n",
       "      <td>50</td>\n",
       "      <td>10</td>\n",
       "      <td>adam</td>\n",
       "      <td>categorical_crossentropy</td>\n",
       "      <td>[5.441790580749512, 2.7625186443328857, 2.4680...</td>\n",
       "      <td>[0.16952380537986755, 0.28285714983940125, 0.3...</td>\n",
       "      <td>[2.7525076866149902, 2.3772521018981934, 2.250...</td>\n",
       "      <td>[0.2919999957084656, 0.3479999899864197, 0.360...</td>\n",
       "      <td>680.438432</td>\n",
       "      <td>[{'Layer Name': 'vgg16', 'Output Shape': (None...</td>\n",
       "      <td>False</td>\n",
       "      <td>NaN</td>\n",
       "      <td>NaN</td>\n",
       "    </tr>\n",
       "    <tr>\n",
       "      <th>1</th>\n",
       "      <td>(224, 224)</td>\n",
       "      <td>50</td>\n",
       "      <td>10</td>\n",
       "      <td>adam</td>\n",
       "      <td>categorical_crossentropy</td>\n",
       "      <td>[4.807488918304443, 2.724853038787842, 2.47779...</td>\n",
       "      <td>[0.19238094985485077, 0.2904762029647827, 0.32...</td>\n",
       "      <td>[2.650963068008423, 2.3417115211486816, 2.3388...</td>\n",
       "      <td>[0.3240000009536743, 0.3720000088214874, 0.356...</td>\n",
       "      <td>446.973389</td>\n",
       "      <td>[{'Layer Name': 'vgg16', 'Output Shape': (None...</td>\n",
       "      <td>False</td>\n",
       "      <td>NaN</td>\n",
       "      <td>NaN</td>\n",
       "    </tr>\n",
       "    <tr>\n",
       "      <th>2</th>\n",
       "      <td>(224, 224)</td>\n",
       "      <td>25</td>\n",
       "      <td>10</td>\n",
       "      <td>adam</td>\n",
       "      <td>categorical_crossentropy</td>\n",
       "      <td>[3.6242103576660156, 2.447580575942993, 2.2302...</td>\n",
       "      <td>[0.23255814611911774, 0.3241860568523407, 0.35...</td>\n",
       "      <td>[2.5152347087860107, 2.2049500942230225, 2.117...</td>\n",
       "      <td>[0.28761905431747437, 0.380952388048172, 0.400...</td>\n",
       "      <td>1396.983790</td>\n",
       "      <td>[{'Layer Name': 'vgg16', 'Output Shape': (None...</td>\n",
       "      <td>False</td>\n",
       "      <td>NaN</td>\n",
       "      <td>NaN</td>\n",
       "    </tr>\n",
       "    <tr>\n",
       "      <th>3</th>\n",
       "      <td>(250, 250)</td>\n",
       "      <td>25</td>\n",
       "      <td>10</td>\n",
       "      <td>adam</td>\n",
       "      <td>categorical_crossentropy</td>\n",
       "      <td>[3.4005963802337646, 2.4055991172790527, 2.237...</td>\n",
       "      <td>[0.25302326679229736, 0.32744187116622925, 0.3...</td>\n",
       "      <td>[2.402733564376831, 2.1710216999053955, 2.1736...</td>\n",
       "      <td>[0.3161904811859131, 0.4057142734527588, 0.392...</td>\n",
       "      <td>1710.653842</td>\n",
       "      <td>[{'Layer Name': 'vgg16', 'Output Shape': (None...</td>\n",
       "      <td>False</td>\n",
       "      <td>NaN</td>\n",
       "      <td>NaN</td>\n",
       "    </tr>\n",
       "    <tr>\n",
       "      <th>4</th>\n",
       "      <td>(224, 224)</td>\n",
       "      <td>15</td>\n",
       "      <td>10</td>\n",
       "      <td>adam</td>\n",
       "      <td>categorical_crossentropy</td>\n",
       "      <td>[3.173119306564331, 2.3150925636291504, 2.1566...</td>\n",
       "      <td>[0.27302905917167664, 0.3579529821872711, 0.37...</td>\n",
       "      <td>[2.2183678150177, 2.1087968349456787, 2.026694...</td>\n",
       "      <td>[0.38555556535720825, 0.3977777659893036, 0.41...</td>\n",
       "      <td>2424.531884</td>\n",
       "      <td>[{'Layer Name': 'vgg16', 'Output Shape': (None...</td>\n",
       "      <td>False</td>\n",
       "      <td>NaN</td>\n",
       "      <td>NaN</td>\n",
       "    </tr>\n",
       "    <tr>\n",
       "      <th>5</th>\n",
       "      <td>(250, 250)</td>\n",
       "      <td>15</td>\n",
       "      <td>10</td>\n",
       "      <td>adam</td>\n",
       "      <td>categorical_crossentropy</td>\n",
       "      <td>[3.0182101726531982, 2.29129958152771, 2.18338...</td>\n",
       "      <td>[0.2782849371433258, 0.3488243520259857, 0.381...</td>\n",
       "      <td>[2.20224666595459, 2.117244243621826, 2.061810...</td>\n",
       "      <td>[0.36666667461395264, 0.3911111056804657, 0.42...</td>\n",
       "      <td>2227.105716</td>\n",
       "      <td>[{'Layer Name': 'vgg16', 'Output Shape': (None...</td>\n",
       "      <td>False</td>\n",
       "      <td>NaN</td>\n",
       "      <td>NaN</td>\n",
       "    </tr>\n",
       "    <tr>\n",
       "      <th>6</th>\n",
       "      <td>(300, 300)</td>\n",
       "      <td>30</td>\n",
       "      <td>10</td>\n",
       "      <td>adam</td>\n",
       "      <td>categorical_crossentropy</td>\n",
       "      <td>[3.3284459114074707, 2.455451726913452, 2.2740...</td>\n",
       "      <td>[0.24500000476837158, 0.3199999928474426, 0.35...</td>\n",
       "      <td>[2.4557855129241943, 2.2888100147247314, 2.140...</td>\n",
       "      <td>[0.2888889014720917, 0.3311111032962799, 0.371...</td>\n",
       "      <td>2231.963330</td>\n",
       "      <td>[{'Layer Name': 'vgg16', 'Output Shape': (None...</td>\n",
       "      <td>False</td>\n",
       "      <td>NaN</td>\n",
       "      <td>NaN</td>\n",
       "    </tr>\n",
       "    <tr>\n",
       "      <th>7</th>\n",
       "      <td>(224, 224)</td>\n",
       "      <td>64</td>\n",
       "      <td>10</td>\n",
       "      <td>adam</td>\n",
       "      <td>categorical_crossentropy</td>\n",
       "      <td>[3.2148096561431885, 2.905585765838623, 2.8089...</td>\n",
       "      <td>[0.12259615212678909, 0.1850961595773697, 0.19...</td>\n",
       "      <td>[2.9184703826904297, 2.8729121685028076, 2.703...</td>\n",
       "      <td>[0.203125, 0.171875, 0.2395833283662796, 0.244...</td>\n",
       "      <td>108.889659</td>\n",
       "      <td>[{'Layer Name': 'mobilenetv2_1.00_224', 'Outpu...</td>\n",
       "      <td>False</td>\n",
       "      <td>NaN</td>\n",
       "      <td>NaN</td>\n",
       "    </tr>\n",
       "    <tr>\n",
       "      <th>8</th>\n",
       "      <td>(224, 224)</td>\n",
       "      <td>32</td>\n",
       "      <td>10</td>\n",
       "      <td>adam</td>\n",
       "      <td>categorical_crossentropy</td>\n",
       "      <td>[3.0305984020233154, 2.7385735511779785, 2.662...</td>\n",
       "      <td>[0.17216980457305908, 0.2075471729040146, 0.22...</td>\n",
       "      <td>[2.685763359069824, 2.6016526222229004, 2.6102...</td>\n",
       "      <td>[0.24278846383094788, 0.2740384638309479, 0.27...</td>\n",
       "      <td>111.045343</td>\n",
       "      <td>[{'Layer Name': 'mobilenetv2_1.00_224', 'Outpu...</td>\n",
       "      <td>False</td>\n",
       "      <td>NaN</td>\n",
       "      <td>NaN</td>\n",
       "    </tr>\n",
       "    <tr>\n",
       "      <th>9</th>\n",
       "      <td>(224, 224)</td>\n",
       "      <td>32</td>\n",
       "      <td>10</td>\n",
       "      <td>adam</td>\n",
       "      <td>categorical_crossentropy</td>\n",
       "      <td>[3.016146659851074, 2.759537696838379, 2.68767...</td>\n",
       "      <td>[0.1674528270959854, 0.19929245114326477, 0.22...</td>\n",
       "      <td>[2.638014793395996, 2.584764242172241, 2.62135...</td>\n",
       "      <td>[0.29086539149284363, 0.2788461446762085, 0.25...</td>\n",
       "      <td>110.821132</td>\n",
       "      <td>[{'Layer Name': 'mobilenetv2_1.00_224', 'Outpu...</td>\n",
       "      <td>False</td>\n",
       "      <td>NaN</td>\n",
       "      <td>NaN</td>\n",
       "    </tr>\n",
       "    <tr>\n",
       "      <th>10</th>\n",
       "      <td>(224, 224)</td>\n",
       "      <td>32</td>\n",
       "      <td>10</td>\n",
       "      <td>adam</td>\n",
       "      <td>categorical_crossentropy</td>\n",
       "      <td>[2.801988363265991, 2.264817476272583, 2.20205...</td>\n",
       "      <td>[0.2517688572406769, 0.3455188572406769, 0.354...</td>\n",
       "      <td>[2.1449599266052246, 2.1062493324279785, 2.033...</td>\n",
       "      <td>[0.3774038553237915, 0.3774038553237915, 0.444...</td>\n",
       "      <td>549.076924</td>\n",
       "      <td>[{'Layer Name': 'resnet50', 'Output Shape': (N...</td>\n",
       "      <td>False</td>\n",
       "      <td>NaN</td>\n",
       "      <td>NaN</td>\n",
       "    </tr>\n",
       "    <tr>\n",
       "      <th>11</th>\n",
       "      <td>(224, 224)</td>\n",
       "      <td>32</td>\n",
       "      <td>10</td>\n",
       "      <td>adam</td>\n",
       "      <td>categorical_crossentropy</td>\n",
       "      <td>[4.090240955352783, 2.4698305130004883, 2.3476...</td>\n",
       "      <td>[0.22228772938251495, 0.31308960914611816, 0.3...</td>\n",
       "      <td>[2.286426544189453, 2.2170250415802, 2.1905488...</td>\n",
       "      <td>[0.34375, 0.36538460850715637, 0.3846153914928...</td>\n",
       "      <td>659.980685</td>\n",
       "      <td>[{'Layer Name': 'vgg16', 'Output Shape': (None...</td>\n",
       "      <td>False</td>\n",
       "      <td>NaN</td>\n",
       "      <td>NaN</td>\n",
       "    </tr>\n",
       "    <tr>\n",
       "      <th>12</th>\n",
       "      <td>(224, 224)</td>\n",
       "      <td>32</td>\n",
       "      <td>10</td>\n",
       "      <td>adam</td>\n",
       "      <td>categorical_crossentropy</td>\n",
       "      <td>[3.4679274559020996, 3.113896608352661, 3.0940...</td>\n",
       "      <td>[0.11143867671489716, 0.12971697747707367, 0.1...</td>\n",
       "      <td>[3.160999059677124, 3.1044931411743164, 3.0877...</td>\n",
       "      <td>[0.12259615212678909, 0.125, 0.11778846383094788]</td>\n",
       "      <td>82.691616</td>\n",
       "      <td>[{'Layer Name': 'conv2d', 'Output Shape': (Non...</td>\n",
       "      <td>False</td>\n",
       "      <td>NaN</td>\n",
       "      <td>NaN</td>\n",
       "    </tr>\n",
       "    <tr>\n",
       "      <th>13</th>\n",
       "      <td>(224, 224)</td>\n",
       "      <td>30</td>\n",
       "      <td>10</td>\n",
       "      <td>adam</td>\n",
       "      <td>categorical_crossentropy</td>\n",
       "      <td>[3.065530776977539, 2.7751359939575195, 2.6803...</td>\n",
       "      <td>[0.13333334028720856, 0.19833333790302277, 0.2...</td>\n",
       "      <td>[2.8834352493286133, 2.667325019836426, 2.5499...</td>\n",
       "      <td>[0.18000000715255737, 0.2644444406032562, 0.23...</td>\n",
       "      <td>2745.614079</td>\n",
       "      <td>[{'Layer Name': 'sequential_4'}, {'Layer Name'...</td>\n",
       "      <td>NaN</td>\n",
       "      <td>Non calculé</td>\n",
       "      <td>VGG16_1.h5</td>\n",
       "    </tr>\n",
       "  </tbody>\n",
       "</table>\n",
       "</div>"
      ],
      "text/plain": [
       "    image_size batch_size epochs optimizer             fonction loss  \\\n",
       "0   (200, 200)         50     10      adam  categorical_crossentropy   \n",
       "1   (224, 224)         50     10      adam  categorical_crossentropy   \n",
       "2   (224, 224)         25     10      adam  categorical_crossentropy   \n",
       "3   (250, 250)         25     10      adam  categorical_crossentropy   \n",
       "4   (224, 224)         15     10      adam  categorical_crossentropy   \n",
       "5   (250, 250)         15     10      adam  categorical_crossentropy   \n",
       "6   (300, 300)         30     10      adam  categorical_crossentropy   \n",
       "7   (224, 224)         64     10      adam  categorical_crossentropy   \n",
       "8   (224, 224)         32     10      adam  categorical_crossentropy   \n",
       "9   (224, 224)         32     10      adam  categorical_crossentropy   \n",
       "10  (224, 224)         32     10      adam  categorical_crossentropy   \n",
       "11  (224, 224)         32     10      adam  categorical_crossentropy   \n",
       "12  (224, 224)         32     10      adam  categorical_crossentropy   \n",
       "13  (224, 224)         30     10      adam  categorical_crossentropy   \n",
       "\n",
       "                                                 loss  \\\n",
       "0   [5.441790580749512, 2.7625186443328857, 2.4680...   \n",
       "1   [4.807488918304443, 2.724853038787842, 2.47779...   \n",
       "2   [3.6242103576660156, 2.447580575942993, 2.2302...   \n",
       "3   [3.4005963802337646, 2.4055991172790527, 2.237...   \n",
       "4   [3.173119306564331, 2.3150925636291504, 2.1566...   \n",
       "5   [3.0182101726531982, 2.29129958152771, 2.18338...   \n",
       "6   [3.3284459114074707, 2.455451726913452, 2.2740...   \n",
       "7   [3.2148096561431885, 2.905585765838623, 2.8089...   \n",
       "8   [3.0305984020233154, 2.7385735511779785, 2.662...   \n",
       "9   [3.016146659851074, 2.759537696838379, 2.68767...   \n",
       "10  [2.801988363265991, 2.264817476272583, 2.20205...   \n",
       "11  [4.090240955352783, 2.4698305130004883, 2.3476...   \n",
       "12  [3.4679274559020996, 3.113896608352661, 3.0940...   \n",
       "13  [3.065530776977539, 2.7751359939575195, 2.6803...   \n",
       "\n",
       "                                                  acc  \\\n",
       "0   [0.16952380537986755, 0.28285714983940125, 0.3...   \n",
       "1   [0.19238094985485077, 0.2904762029647827, 0.32...   \n",
       "2   [0.23255814611911774, 0.3241860568523407, 0.35...   \n",
       "3   [0.25302326679229736, 0.32744187116622925, 0.3...   \n",
       "4   [0.27302905917167664, 0.3579529821872711, 0.37...   \n",
       "5   [0.2782849371433258, 0.3488243520259857, 0.381...   \n",
       "6   [0.24500000476837158, 0.3199999928474426, 0.35...   \n",
       "7   [0.12259615212678909, 0.1850961595773697, 0.19...   \n",
       "8   [0.17216980457305908, 0.2075471729040146, 0.22...   \n",
       "9   [0.1674528270959854, 0.19929245114326477, 0.22...   \n",
       "10  [0.2517688572406769, 0.3455188572406769, 0.354...   \n",
       "11  [0.22228772938251495, 0.31308960914611816, 0.3...   \n",
       "12  [0.11143867671489716, 0.12971697747707367, 0.1...   \n",
       "13  [0.13333334028720856, 0.19833333790302277, 0.2...   \n",
       "\n",
       "                                             val_loss  \\\n",
       "0   [2.7525076866149902, 2.3772521018981934, 2.250...   \n",
       "1   [2.650963068008423, 2.3417115211486816, 2.3388...   \n",
       "2   [2.5152347087860107, 2.2049500942230225, 2.117...   \n",
       "3   [2.402733564376831, 2.1710216999053955, 2.1736...   \n",
       "4   [2.2183678150177, 2.1087968349456787, 2.026694...   \n",
       "5   [2.20224666595459, 2.117244243621826, 2.061810...   \n",
       "6   [2.4557855129241943, 2.2888100147247314, 2.140...   \n",
       "7   [2.9184703826904297, 2.8729121685028076, 2.703...   \n",
       "8   [2.685763359069824, 2.6016526222229004, 2.6102...   \n",
       "9   [2.638014793395996, 2.584764242172241, 2.62135...   \n",
       "10  [2.1449599266052246, 2.1062493324279785, 2.033...   \n",
       "11  [2.286426544189453, 2.2170250415802, 2.1905488...   \n",
       "12  [3.160999059677124, 3.1044931411743164, 3.0877...   \n",
       "13  [2.8834352493286133, 2.667325019836426, 2.5499...   \n",
       "\n",
       "                                              val_acc  \\\n",
       "0   [0.2919999957084656, 0.3479999899864197, 0.360...   \n",
       "1   [0.3240000009536743, 0.3720000088214874, 0.356...   \n",
       "2   [0.28761905431747437, 0.380952388048172, 0.400...   \n",
       "3   [0.3161904811859131, 0.4057142734527588, 0.392...   \n",
       "4   [0.38555556535720825, 0.3977777659893036, 0.41...   \n",
       "5   [0.36666667461395264, 0.3911111056804657, 0.42...   \n",
       "6   [0.2888889014720917, 0.3311111032962799, 0.371...   \n",
       "7   [0.203125, 0.171875, 0.2395833283662796, 0.244...   \n",
       "8   [0.24278846383094788, 0.2740384638309479, 0.27...   \n",
       "9   [0.29086539149284363, 0.2788461446762085, 0.25...   \n",
       "10  [0.3774038553237915, 0.3774038553237915, 0.444...   \n",
       "11  [0.34375, 0.36538460850715637, 0.3846153914928...   \n",
       "12  [0.12259615212678909, 0.125, 0.11778846383094788]   \n",
       "13  [0.18000000715255737, 0.2644444406032562, 0.23...   \n",
       "\n",
       "    Duree_entrainement en sec  \\\n",
       "0                  680.438432   \n",
       "1                  446.973389   \n",
       "2                 1396.983790   \n",
       "3                 1710.653842   \n",
       "4                 2424.531884   \n",
       "5                 2227.105716   \n",
       "6                 2231.963330   \n",
       "7                  108.889659   \n",
       "8                  111.045343   \n",
       "9                  110.821132   \n",
       "10                 549.076924   \n",
       "11                 659.980685   \n",
       "12                  82.691616   \n",
       "13                2745.614079   \n",
       "\n",
       "                                                model DataGenerator  \\\n",
       "0   [{'Layer Name': 'vgg16', 'Output Shape': (None...         False   \n",
       "1   [{'Layer Name': 'vgg16', 'Output Shape': (None...         False   \n",
       "2   [{'Layer Name': 'vgg16', 'Output Shape': (None...         False   \n",
       "3   [{'Layer Name': 'vgg16', 'Output Shape': (None...         False   \n",
       "4   [{'Layer Name': 'vgg16', 'Output Shape': (None...         False   \n",
       "5   [{'Layer Name': 'vgg16', 'Output Shape': (None...         False   \n",
       "6   [{'Layer Name': 'vgg16', 'Output Shape': (None...         False   \n",
       "7   [{'Layer Name': 'mobilenetv2_1.00_224', 'Outpu...         False   \n",
       "8   [{'Layer Name': 'mobilenetv2_1.00_224', 'Outpu...         False   \n",
       "9   [{'Layer Name': 'mobilenetv2_1.00_224', 'Outpu...         False   \n",
       "10  [{'Layer Name': 'resnet50', 'Output Shape': (N...         False   \n",
       "11  [{'Layer Name': 'vgg16', 'Output Shape': (None...         False   \n",
       "12  [{'Layer Name': 'conv2d', 'Output Shape': (Non...         False   \n",
       "13  [{'Layer Name': 'sequential_4'}, {'Layer Name'...           NaN   \n",
       "\n",
       "       test_acc Nom_fichier_contrôle  \n",
       "0           NaN                  NaN  \n",
       "1           NaN                  NaN  \n",
       "2           NaN                  NaN  \n",
       "3           NaN                  NaN  \n",
       "4           NaN                  NaN  \n",
       "5           NaN                  NaN  \n",
       "6           NaN                  NaN  \n",
       "7           NaN                  NaN  \n",
       "8           NaN                  NaN  \n",
       "9           NaN                  NaN  \n",
       "10          NaN                  NaN  \n",
       "11          NaN                  NaN  \n",
       "12          NaN                  NaN  \n",
       "13  Non calculé           VGG16_1.h5  "
      ]
     },
     "execution_count": 10,
     "metadata": {},
     "output_type": "execute_result"
    }
   ],
   "source": [
    "#import pour vérification des résultats\n",
    "df_score_DL = load(get_output_path_file(\"df_score_DL.joblib\"))\n",
    "df_score_DL"
   ]
  },
  {
   "cell_type": "code",
   "execution_count": 12,
   "id": "20750b8f",
   "metadata": {},
   "outputs": [
    {
     "data": {
      "image/png": "[encoded data removed]",
      "text/plain": [
       "<Figure size 800x800 with 2 Axes>"
      ]
     },
     "metadata": {},
     "output_type": "display_data"
    }
   ],
   "source": [
    "#application de la fonction de tracé\n",
    "tracer_courbe_suivi(\"df_score_DL.joblib\",13)"
   ]
  }
 ],
 "metadata": {
  "kernelspec": {
   "display_name": "Python 3 (ipykernel)",
   "language": "python",
   "name": "python3"
  },
  "language_info": {
   "codemirror_mode": {
    "name": "ipython",
    "version": 3
   },
   "file_extension": ".py",
   "mimetype": "text/x-python",
   "name": "python",
   "nbconvert_exporter": "python",
   "pygments_lexer": "ipython3",
   "version": "3.9.13"
  }
 },
 "nbformat": 4,
 "nbformat_minor": 5
}
