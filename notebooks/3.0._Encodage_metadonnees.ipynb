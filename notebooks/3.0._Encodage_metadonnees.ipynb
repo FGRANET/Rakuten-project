{
 "cells": [
  {
   "cell_type": "markdown",
   "id": "b04b828f",
   "metadata": {},
   "source": [
    "# Import package"
   ]
  },
  {
   "cell_type": "code",
   "execution_count": 2,
   "id": "acec7586",
   "metadata": {
    "collapsed": true
   },
   "outputs": [
    {
     "name": "stdout",
     "output_type": "stream",
     "text": [
      "Requirement already satisfied: category_encoders in c:\\users\\frederic\\conda3\\lib\\site-packages (2.6.2)\n",
      "Requirement already satisfied: numpy>=1.14.0 in c:\\users\\frederic\\conda3\\lib\\site-packages (from category_encoders) (1.24.3)\n",
      "Requirement already satisfied: scikit-learn>=0.20.0 in c:\\users\\frederic\\conda3\\lib\\site-packages (from category_encoders) (1.3.0)\n",
      "Requirement already satisfied: scipy>=1.0.0 in c:\\users\\frederic\\conda3\\lib\\site-packages (from category_encoders) (1.10.1)\n",
      "Requirement already satisfied: statsmodels>=0.9.0 in c:\\users\\frederic\\conda3\\lib\\site-packages (from category_encoders) (0.14.0)\n",
      "Requirement already satisfied: pandas>=1.0.5 in c:\\users\\frederic\\conda3\\lib\\site-packages (from category_encoders) (1.5.3)\n",
      "Requirement already satisfied: patsy>=0.5.1 in c:\\users\\frederic\\conda3\\lib\\site-packages (from category_encoders) (0.5.3)\n",
      "Requirement already satisfied: python-dateutil>=2.8.1 in c:\\users\\frederic\\conda3\\lib\\site-packages (from pandas>=1.0.5->category_encoders) (2.8.2)\n",
      "Requirement already satisfied: pytz>=2020.1 in c:\\users\\frederic\\conda3\\lib\\site-packages (from pandas>=1.0.5->category_encoders) (2022.7)\n",
      "Requirement already satisfied: six in c:\\users\\frederic\\conda3\\lib\\site-packages (from patsy>=0.5.1->category_encoders) (1.16.0)\n",
      "Requirement already satisfied: joblib>=1.1.1 in c:\\users\\frederic\\conda3\\lib\\site-packages (from scikit-learn>=0.20.0->category_encoders) (1.2.0)\n",
      "Requirement already satisfied: threadpoolctl>=2.0.0 in c:\\users\\frederic\\conda3\\lib\\site-packages (from scikit-learn>=0.20.0->category_encoders) (2.2.0)\n",
      "Requirement already satisfied: packaging>=21.3 in c:\\users\\frederic\\conda3\\lib\\site-packages (from statsmodels>=0.9.0->category_encoders) (23.0)\n",
      "Requirement already satisfied: pandas in c:\\users\\frederic\\conda3\\lib\\site-packages (1.5.3)\n",
      "Collecting pandas\n",
      "  Obtaining dependency information for pandas from https://files.pythonhosted.org/packages/b7/f8/32d6b5aa4c4bc045fa2c4c58f88c325facc54721956c6313f0afea8ea853/pandas-2.1.0-cp311-cp311-win_amd64.whl.metadata\n",
      "  Using cached pandas-2.1.0-cp311-cp311-win_amd64.whl.metadata (18 kB)\n",
      "Requirement already satisfied: numpy>=1.23.2 in c:\\users\\frederic\\conda3\\lib\\site-packages (from pandas) (1.24.3)\n",
      "Requirement already satisfied: python-dateutil>=2.8.2 in c:\\users\\frederic\\conda3\\lib\\site-packages (from pandas) (2.8.2)\n",
      "Requirement already satisfied: pytz>=2020.1 in c:\\users\\frederic\\conda3\\lib\\site-packages (from pandas) (2022.7)\n",
      "Requirement already satisfied: tzdata>=2022.1 in c:\\users\\frederic\\conda3\\lib\\site-packages (from pandas) (2023.3)\n",
      "Requirement already satisfied: six>=1.5 in c:\\users\\frederic\\conda3\\lib\\site-packages (from python-dateutil>=2.8.2->pandas) (1.16.0)\n",
      "Using cached pandas-2.1.0-cp311-cp311-win_amd64.whl (11.0 MB)\n",
      "Installing collected packages: pandas\n",
      "  Attempting uninstall: pandas\n",
      "    Found existing installation: pandas 1.5.3\n",
      "    Uninstalling pandas-1.5.3:\n",
      "      Successfully uninstalled pandas-1.5.3\n"
     ]
    },
    {
     "name": "stderr",
     "output_type": "stream",
     "text": [
      "ERROR: Could not install packages due to an OSError: [WinError 5] Accès refusé: 'C:\\\\Users\\\\Frederic\\\\conda3\\\\Lib\\\\site-packages\\\\~7ndas\\\\_libs\\\\algos.cp311-win_amd64.pyd'\n",
      "Consider using the `--user` option or check the permissions.\n",
      "\n"
     ]
    },
    {
     "name": "stdout",
     "output_type": "stream",
     "text": [
      "Collecting pandas<2.0.0\n",
      "  Using cached pandas-1.5.3-cp311-cp311-win_amd64.whl (10.3 MB)\n",
      "Requirement already satisfied: python-dateutil>=2.8.1 in c:\\users\\frederic\\conda3\\lib\\site-packages (from pandas<2.0.0) (2.8.2)\n",
      "Requirement already satisfied: pytz>=2020.1 in c:\\users\\frederic\\conda3\\lib\\site-packages (from pandas<2.0.0) (2022.7)\n",
      "Requirement already satisfied: numpy>=1.21.0 in c:\\users\\frederic\\conda3\\lib\\site-packages (from pandas<2.0.0) (1.24.3)\n",
      "Requirement already satisfied: six>=1.5 in c:\\users\\frederic\\conda3\\lib\\site-packages (from python-dateutil>=2.8.1->pandas<2.0.0) (1.16.0)\n",
      "Installing collected packages: pandas\n",
      "  Attempting uninstall: pandas\n",
      "    Found existing installation: pandas 2.1.0\n",
      "    Uninstalling pandas-2.1.0:\n",
      "      Successfully uninstalled pandas-2.1.0\n",
      "Successfully installed pandas-1.5.3\n"
     ]
    }
   ],
   "source": [
    "#Import des packages généraux et utilitaires\n",
    "import numpy as np\n",
    "import pandas as pd\n",
    "\n",
    "#Textmining\n",
    "import re\n",
    "\n",
    "#joblib\n",
    "from joblib import dump,load\n",
    "\n",
    "# Encodage html\n",
    "import html\n",
    "from bs4 import BeautifulSoup\n",
    "\n",
    "# encodage des regex\n",
    "#!pip install category_encoders\n",
    "import category_encoders as ce\n",
    "from category_encoders.helmert import HelmertEncoder\n",
    "\n",
    "#!python -m pip install --upgrade pandas\n",
    "#!pip install \"pandas<2.0.0\""
   ]
  },
  {
   "cell_type": "markdown",
   "id": "da6f5b95",
   "metadata": {},
   "source": [
    "# Fonctions"
   ]
  },
  {
   "cell_type": "markdown",
   "id": "96b1adb8",
   "metadata": {},
   "source": [
    "## Ajouter les colonnes contenant le nombre d'occurrence des regex et les catégoriser"
   ]
  },
  {
   "cell_type": "code",
   "execution_count": null,
   "id": "d40a3a38",
   "metadata": {},
   "outputs": [],
   "source": [
    "#Fonction pour créer les colonnes contenant le nombre d'occurrence des regex à partir du  Dataframe\n",
    "def add_regex_columns(df, dic_regex):\n",
    "    df['mots_concat'] = df['mots'].apply(' '.join)\n",
    "    for name_regex, regex in dic_regex.items():\n",
    "        print(\"Création de la colonne pour le regex :\", regex)\n",
    "        def find_matching_units(text):\n",
    "            return re.findall(regex, text, re.IGNORECASE)\n",
    "        \n",
    "        column_name_regex = f'{name_regex}'\n",
    "        column_name_len = f'Nb_REGEX_{name_regex}'\n",
    "        \n",
    "        df[column_name_len] = df['mots_concat'].apply(find_matching_units).apply(lambda x: len(x))    \n",
    "    return df"
   ]
  },
  {
   "cell_type": "code",
   "execution_count": null,
   "id": "b9017a63",
   "metadata": {},
   "outputs": [],
   "source": [
    "# Fonction de catégorisation du nombre de REGEX\n",
    "# 2 catégories (présence /absence)\n",
    "def categorisation_2(x):\n",
    "    if x>= 0 and x <= 1:\n",
    "        x = 0\n",
    "    if x>=2:\n",
    "        x = 1\n",
    "    return x\n",
    "\n",
    "# variante\n",
    "def categorisation_2_variante(x):\n",
    "    if x>=1:\n",
    "        x = 1\n",
    "    return x\n",
    "\n",
    "# 6 catégories (présence /absence)\n",
    "def categorisation_6(x):\n",
    "    if x >= 3 and x <= 4:\n",
    "        x = 3\n",
    "    if x >4 and x<=6:\n",
    "        x = 4\n",
    "    if x > 7:\n",
    "        x = 5\n",
    "    return x"
   ]
  },
  {
   "cell_type": "code",
   "execution_count": null,
   "id": "39401f45",
   "metadata": {},
   "outputs": [],
   "source": [
    "# A voir \n",
    "#colonnes à supprimer\n",
    "liste_suppression = ['productid', 'imageid', 'prdtypecode', 'langue_texte', 'mots_stem', 'mots_stem_sans_chiffres',\n",
    "       'mots_lem', 'mots_lem_sans_chiffres', 'mots_lem_stem','mots_lem_stem_sans_chiffres']\n"
   ]
  },
  {
   "cell_type": "markdown",
   "id": "8bec9136",
   "metadata": {},
   "source": [
    "## Ajouter les colonnes encodées par REGEX, selon différentes variantes"
   ]
  },
  {
   "cell_type": "code",
   "execution_count": 4,
   "id": "1b5bb09d",
   "metadata": {},
   "outputs": [],
   "source": [
    "# Fonctions pour ajouter les colonnes de REGEX encodés à l'issue du frequency encoding \n",
    "# sans catégorisation\n",
    "def ajouter_colonnes_regex_frequency_encoding_brut(df):\n",
    "    print(\"début du frequency encoding brut\")\n",
    "    for name_regex, regex in dic_regex.items():\n",
    "        column_name_len = f'Nb_REGEX_{name_regex}'\n",
    "        encoder = (df.groupby(column_name_len).size()) / len(df)\n",
    "        nom_encod = f\"{name_regex}_encod_freq\"\n",
    "        df.loc[:, nom_encod] = df[column_name_len].map(encoder)\n",
    "        if column_name_len in df.columns:\n",
    "            df = df.drop(column_name_len,axis=1)\n",
    "    df = df.drop(liste_suppression, axis=1)                  \n",
    "    return df\n",
    "\n",
    "#En créant au préalable deux catégories 0 et 1 (absence/présence)\n",
    "def ajouter_colonnes_regex_frequency_encoding_2categories(df):\n",
    "    print(\"début du frequency encoding 2 catégories\")\n",
    "    for name_regex, regex in dic_regex.items():\n",
    "        column_name_len = f'Nb_REGEX_{name_regex}'\n",
    "        unite_cat = f\"{name_regex}_cat\"\n",
    "        df[unite_cat] = df[column_name_len].apply(lambda x : categorisation_2(x)) # appliquer la catégorisation à deux niveaux\n",
    "        encoder = (df.groupby(unite_cat).size()) / len(df)\n",
    "        nom_encod = f\"{name_regex}_encod_freq_2cat\"\n",
    "        df.loc[:, nom_encod] = df[unite_cat].map(encoder)   \n",
    "        if column_name_len in df.columns:\n",
    "            df = df.drop(column_name_len,axis=1)\n",
    "        if unite_cat in df.columns:\n",
    "            df = df.drop(unite_cat,axis=1)  \n",
    "    df = df.drop(liste_suppression , axis=1) \n",
    "    return df      \n",
    "\n",
    "#En créant au préalable deux catégories 0 et 1 (absence/présence) (variante)\n",
    "def ajouter_colonnes_regex_frequency_encoding_2categories_variante(df):\n",
    "    print(\"début du frequency encoding 2 catégories\")\n",
    "    for name_regex, regex in dic_regex.items():\n",
    "        column_name_len = f'Nb_REGEX_{name_regex}'\n",
    "        unite_cat = f\"{name_regex}_cat\"\n",
    "        df[unite_cat] = df[column_name_len].apply(lambda x : categorisation_2_variante(x)) # appliquer la catégorisation à deux niveaux\n",
    "        encoder = (df.groupby(unite_cat).size()) / len(df)\n",
    "        nom_encod = f\"{name_regex}_encod_freq_2cat_variante\"\n",
    "        df.loc[:, nom_encod] = df[unite_cat].map(encoder)   \n",
    "        if column_name_len in df.columns:\n",
    "            df = df.drop(column_name_len,axis=1)\n",
    "        if unite_cat in df.columns:\n",
    "            df = df.drop(unite_cat,axis=1)  \n",
    "    df = df.drop(liste_suppression , axis=1) \n",
    "    return df      \n",
    "         \n",
    "    \n",
    "# En créant au préalable des catégories selon les quartiles\n",
    "def ajouter_colonnes_regex_frequency_encoding_quartiles_categories(df):\n",
    "    print(\"début du frequency encoding catégories par quartiles\")\n",
    "    for name_regex, regex in dic_regex.items():\n",
    "        column_name_len = f'Nb_REGEX_{name_regex}'\n",
    "        unite_cat = f\"{name_regex}_cat\"\n",
    "        def categorisation_REGEX_quartiles(x,df):\n",
    "            premier_quartile = df[column_name_len].quantile(q=0.25)\n",
    "            second_quartile = df[column_name_len].quantile(q=0.5)\n",
    "            troisieme_quartile = df[column_name_len].quantile(q=0.75)\n",
    "            if x>= 0 and x < premier_quartile:\n",
    "                x = 0\n",
    "            if x >= premier_quartile and x < second_quartile:\n",
    "                x=1\n",
    "            if x >= second_quartile and x < troisieme_quartile:\n",
    "                x=2\n",
    "            if x >= troisieme_quartile:\n",
    "                x=3\n",
    "            return x         \n",
    "        df[unite_cat] = df[column_name_len].apply(lambda x : categorisation_REGEX_quartiles(x,df)) # appliquer la catégorisation par quartiles à deux niveaux\n",
    "        encoder = (df.groupby(unite_cat).size()) / len(df)\n",
    "        nom_encod = f\"{name_regex}_encod_freq_quartiles\"\n",
    "        df.loc[:, nom_encod] = df[unite_cat].map(encoder)\n",
    "        if column_name_len in df.columns:\n",
    "            df = df.drop(column_name_len,axis=1)\n",
    "        if unite_cat in df.columns:\n",
    "            df = df.drop(unite_cat,axis=1)        \n",
    "    df = df.drop(liste_suppression, axis=1) \n",
    "    return df\n",
    "\n",
    "         \n",
    "# Fonction pour ajouter les colonnes de REGEX encodés à l'issue du Helmert encoding\n",
    "# Ce type de codage peut être utile dans certaines situations où les niveaux de la variable catégorielle sont ordonnés,\n",
    "# par exemple, du plus bas au plus haut ou du plus petit au plus grand. Il compare la moyenne d'un niveau à celle des autres niveaux\n",
    "\n",
    "#Avec deux catégories\n",
    "def ajouter_colonnes_regex_helmert_encoding_2categories(df):\n",
    "    print(\"début du Helmert encoding catégories par quartiles\")\n",
    "    for name_regex, regex in dic_regex.items():\n",
    "        column_name_len = f'Nb_REGEX_{name_regex}'\n",
    "        unite_cat = f\"{name_regex}_cat\"\n",
    "        df[unite_cat] = df[column_name_len].apply(lambda x : categorisation_2(x)) # appliquer la catégorisation à 6 niveaux\n",
    "        obj_df = df.copy() # Préparer un tout nouveau df\n",
    "        encoder = ce.HelmertEncoder(cols=[unite_cat]) #objet Helmert encoder\n",
    "        df_he = encoder.fit_transform(obj_df[unite_cat])\n",
    "        df = pd.concat([df,df_he],axis='columns') # concatener les dfs\n",
    "        if column_name_len in df.columns:\n",
    "            df = df.drop(column_name_len,axis=1)\n",
    "        if unite_cat in df.columns:\n",
    "            df = df.drop(unite_cat,axis=1)\n",
    "        if 'intercept'in df.columns:\n",
    "            df = df.drop('intercept',axis=1) \n",
    "    df = df.drop(liste_suppression, axis=1) \n",
    "    return df         \n",
    "   \n",
    "         \n",
    "#Avec 6 catégories\n",
    "def ajouter_colonnes_regex_helmert_encoding_6cat(df):\n",
    "    print(\"début du Helmert encoding catégories 6 catégories\")\n",
    "    for name_regex, regex in dic_regex.items():\n",
    "        column_name_len = f'Nb_REGEX_{name_regex}'\n",
    "        unite_cat = f\"{name_regex}_cat\"\n",
    "        df[unite_cat] = df[column_name_len].apply(lambda x : categorisation_6(x)) # appliquer la catégorisation à 6 niveaux\n",
    "        obj_df = df.copy() # Préparer un tout nouveau df\n",
    "        encoder = ce.HelmertEncoder(cols=[unite_cat]) #objet Helmert encoder\n",
    "        df_he = encoder.fit_transform(obj_df[unite_cat])\n",
    "        df = pd.concat([df,df_he],axis='columns') # concatener les dfs \n",
    "        if column_name_len in df.columns:\n",
    "            df = df.drop(column_name_len,axis=1)\n",
    "        if unite_cat in df.columns:\n",
    "            df = df.drop(unite_cat,axis=1)\n",
    "        if 'intercept'in df.columns:\n",
    "            df = df.drop('intercept',axis=1)          \n",
    "    df = df.drop(liste_suppression, axis=1)\n",
    "    return df  \n",
    "\n",
    "# Fonction pour ajouter les colonnes de REGEX encodés à l'issue du BackwardDifference encoding\n",
    "# En créant au préalable 2 catégories \n",
    "def ajouter_colonnes_BackwardDifference_encoding_2cat(df):\n",
    "    print(\"début du BackwardDifference encoding catégories par quartiles\")\n",
    "    for name_regex, regex in dic_regex.items():\n",
    "        column_name_len = f'Nb_REGEX_{name_regex}'\n",
    "        unite_cat = f\"{name_regex}_cat\"\n",
    "        df[unite_cat] = df[column_name_len].apply(lambda x : categorisation_2(x)) # appliquer la catégorisation à 6 niveaux\n",
    "        obj_df = df.copy() # Préparer un tout nouveau df\n",
    "        encoder = ce.BackwardDifferenceEncoder(cols=[unite_cat]) #object Helmert encoder\n",
    "        df_bd = encoder.fit_transform(obj_df[unite_cat])\n",
    "        df = pd.concat([df,df_bd],axis=1) # concatener les dfs\n",
    "        return df\n"
   ]
  },
  {
   "cell_type": "markdown",
   "id": "49a2bdb2",
   "metadata": {},
   "source": [
    "## Encodage des autres métadonnées"
   ]
  },
  {
   "cell_type": "code",
   "execution_count": null,
   "id": "17b40208",
   "metadata": {},
   "outputs": [],
   "source": [
    "def ajouter_colonne_encodage_description_vide(df):\n",
    "    encoder = (df.groupby('description_vide').size()) / len(df)\n",
    "    nom_encod = \"description_vide_encod_freq\"\n",
    "    df.loc[:, nom_encod] = df['description_vide'].map(encoder)\n",
    "    df =  df.drop('description_vide',axis=1)\n",
    "    return df\n",
    "\n",
    "def ajouter_colonne_encodage_nb_mots(df):\n",
    "    nb_mots = \"Nb_mots\"\n",
    "    df.loc[:, nb_mots] = df['mots'].apply(lambda x : len(x))\n",
    "    def categorisation_quartiles(x,df):\n",
    "        premier_quartile = df[nb_mots].quantile(q=0.25)\n",
    "        second_quartile = df[nb_mots].quantile(q=0.5)\n",
    "        troisieme_quartile = df[nb_mots].quantile(q=0.75)\n",
    "        if x>= 0 and x< premier_quartile:\n",
    "            x = 0\n",
    "        if x >= premier_quartile and x < second_quartile:\n",
    "            x=1\n",
    "        if x >= second_quartile and x <  troisieme_quartile:\n",
    "            x=2\n",
    "        if x >= troisieme_quartile:\n",
    "            x=3\n",
    "        return x\n",
    "    df['Nb_mots_cat'] = df[nb_mots].apply(lambda x : categorisation_quartiles(x,df))\n",
    "    encoder = (df.groupby('Nb_mots_cat').size()) / len(df)\n",
    "    nom_encod = \"Nb_mots_cat_encod_freq\"\n",
    "    df.loc[:, nom_encod] = df['Nb_mots_cat'].map(encoder)   \n",
    "    df=df.drop(['Nb_mots','Nb_mots_cat'],axis=1)\n",
    "    return df"
   ]
  },
  {
   "cell_type": "markdown",
   "id": "aadb15d0",
   "metadata": {},
   "source": [
    "# Liste des Regex"
   ]
  },
  {
   "cell_type": "code",
   "execution_count": 5,
   "id": "5b81dce1",
   "metadata": {},
   "outputs": [],
   "source": [
    "densite = r\"(?i)\\d*\\s*\\b(kg\\/m³|kg\\/m3|g\\/m³|g\\/m3|\\d+kg\\/m³|\\d+kg\\/m3|\\d+g\\/m³|\\d+g\\/m3)s?\\b\"\n",
    "\n",
    "masse =r\"(?i)\\d*\\s*\\b(kg|g|gr|t|mg|tonnes?|kilos?|microgrammes?|grammes?|milligrammes?|µg|lbs?|pounds?|\\d+g|\\d+kg|\\d+gr|\\d+mg|\\d+t|\\d+tonnes?|\\d+kilos?|\\d+microgrammes?|\\d+grammes?|\\d+milligrammes?|\\d+µg|\\d+lbs?|\\d+pounds?)\\b\"\n",
    "\n",
    "surface = r\"(?i)\\d*s*\\b(m²|m2|metres?2|cm²|centimetres?2|cm2|km²|kilometres?2|km2|ft²|ft2|in²|in2|ha|ac|\\d+m²|\\d+m2|\\d+metres?2|\\d+cm²|\\d+centimetres?2|\\d+cm2|\\d+km²|\\d+kilometres?2|\\d+km2|\\d+ft²|\\d+ft2|\\d+in²|d+in2|\\d+ha|\\d+ac)\\b\"\n",
    "\n",
    "vitesse = r\"(?i)\\d*\\s*\\b(m\\/s|km\\/h|mph|m.s-1|\\d+m\\/s|\\d+km\\/h|\\d+mph|\\d+m.s-1)\\b\"\n",
    "\n",
    "pression = r\"(?i)\\d*\\s*\\b(Pa|Pascal|bar|atm|mmHg|\\d+Pa|\\d+bar|\\d+Pascal|\\d+atm|\\d+mmHg)\\b\"\n",
    "\n",
    "energie_alim = r\"\\d*\\s*\\b(J|kJ|cal|kcal|CAL|KCAL|joules?|Joules?|kilojoules?|Calories?|calories?|kilocalories?|\\d+J|\\d+kJ|\\d+cal|\\d+kcal|\\d+kCAL|\\d+KCAL|\\d+Joules?|\\d+Calories?|\\d+joules?|d+kilojoules?|d+calories?|d+kilocalories?)\\b\"\n",
    "\n",
    "energie_elec = r\"(?i)\\d*\\s*\\b(kW|W|Watts?|kWh|\\d+kWh|kiloWatts?|\\d+kW|\\d+W|\\d+Watts?|\\d+kiloWatts?)\\b\"\n",
    "\n",
    "longueur = r\"(?i)\\d*\\s*\\b(centimètres?|centimetres?|cm|foot|ft|inch|kilomètres?|kilometres?|km|m|micromètres?|micrometres?|μm|millimètres?|millimetres?|mm|nanomètres?|nanometres?|nm|pouce|yard|yd|d+centimètres?|d+centimetres?|d+cm|d+foot|\\d+ft|\\d+inch|\\d+kilomètres?|\\d+kilometres?|\\d+km|\\d+m|micromètres?|\\d+micrometres?|\\d+μm|millimètres?|millimetres?|\\d+mm|\\d+nanomètres?|\\d+nanometres?|\\d+nm|\\d+pouce|\\d+yard|\\d+yd)s?\\b\"\n",
    "\n",
    "volume = r\"(?i)\\d*\\s*\\b(litre|l|millilitres?|ml|centilitres?|cl|mètre cube|metre cube|m3|m 3|centimètres?cube|centimetres? cube|cm3|cm 3|pied cube|ft 3|ft3|pouce cube|in3|in 3|gallon|gal|once liquide|fl oz|\\d+litre|\\d+l|\\d+millilitres?|\\d+ml|\\d+centilitres?|\\d+cl|\\d+mètre cube|\\d+metre cube|\\d+m3|\\d+m 3|\\d+centimètres? cube|\\d+centimetres? cube|\\d+cm3|\\d+cm 3|\\d+pied cube|\\d+ft 3|\\d+ft3|\\d+pouce cube|\\d+in3|\\d+in 3|\\d+gallon|\\d+gal|\\d+once liquide|\\d+fl oz)s?\\b\"\n",
    "\n",
    "memoire = r\"(?i)\\d*\\s*\\b(hertz|hz|kilohertz|khz|megahertz|mhz|gigahertz|ghz|terahertz|thz|petahertz|phz|exahertz|ehz|zettahertz|zhz|yottahertz|yhz|bits?|bytes?|kilobits?|kb|kilobytes?|kb|ko|mmegabits?|mb|megabytes?|mb|gigabits?|gb|gigabytes?|gb|terabits?|tb|terabytes?|tb|petabits?|pb|petabytes?|pb|exabits?|eb|exabytes?|eb|zettabits?|zb|zettabytes?|zb|yottabits?|yb|yottabytes?|yb|octets?|mégaoctets?|megaoctets?|mega octets?|mo|giga-octets?|giga octets?|go|téraoctets?|teraoctets?|tera octets?|to|\\d+hertz|\\d+hz|\\d+kilohertz|\\d+khz|\\d+megahertz|\\d+mhz|\\d+gigahertz|\\d+ghz|\\d+terahertz|\\d+thz|\\d+petahertz|\\d+phz|\\d+exahertz|\\d+ehz|\\d+zettahertz|\\d+zhz| \\d+yottahertz|\\d+yhz|\\d+bits?|\\d+bytes?|\\d+kilobits?|\\d+kb|\\d+kilobytes?|\\d+kb|\\d+megabits?|\\d+mb| \\d+octets?|\\d+megabytes?|\\d+mb|\\d+gigabits?|\\d+gb|\\d+ko|\\d+gigabytes?|\\d+gb|\\d+terabits?|\\d+tb|\\d+terabytes?|\\d+tb| \\d+petabits?|\\d+pb|petabytes?|\\d+pb|\\d+exabits?|\\d+eb|\\d+exabytes?|\\d+eb|\\d+zettabits?|\\d+zb|\\d+zettabytes?|\\d+zb|\\d+yottabits?|\\d+yb|\\d+yottabytes?|\\d+yb|\\d+mégaoctets?|\\d+megaoctets?|\\d+mega octets?|\\d+mo|\\d+giga-octets?|\\d+giga octets?|\\d+go|\\d+téraoctets?|\\d+teraoctets?|\\d+tera octets?|\\d+to)s?\\b\"\n",
    "\n",
    "temps = r\"(?i)\\d*\\s*\\b(secondes?|s|millisecondes?|ms|microsecondes?|μs|nanosecondes?|ns|picosecondes?|ps|minutes?|min|heures?|h|jours?|j|semaines?|sem|mois|années?|ans?|décennies?|siècles?|siè|millénaires?|\\d+secondes?|\\d+s|\\d+millisecondes?|\\d+ms|\\d+microsecondes?|\\d+μs|\\d+nanosecondes?|\\d+ns|\\d+picosecondes?|\\d+ps|\\d+minutes?|\\d+min|heures?|\\d+h|\\d+jours?|\\d+j|\\d+semaines?|\\d+sem|\\d+mois|\\d+années?|\\d+ans?|\\d+décennies?|\\d+siècles?|\\d+siè|\\d+millénaires?)s?\\b\"\n",
    "\n",
    "chiffres = r\"[0-9]+\"\n",
    "\n",
    "dic_regex = {'densite' : densite ,'masse': masse,'surface' : surface,'vitesse' : vitesse,'pression' : pression,'energie_alim' : energie_alim,'energie_elec': energie_elec,'longueur' : longueur,'volume' : volume,'memoire': memoire,'temps' : temps, 'chiffres':chiffres}"
   ]
  },
  {
   "cell_type": "markdown",
   "id": "77082c0f",
   "metadata": {},
   "source": [
    "# Fonctions pour créer les colonnes d'encodage à partir du df initial"
   ]
  },
  {
   "cell_type": "code",
   "execution_count": 6,
   "id": "abf84f30",
   "metadata": {},
   "outputs": [],
   "source": [
    "# Création des différents df avec variations d'encodage à l'aide de fonctions\n",
    "\n",
    "# Frequency Encodage simple\n",
    "def creation_frequency_encodage_REGEX(df):\n",
    "    df=add_regex_columns(df,dic_regex)\n",
    "    df = ajouter_colonnes_regex_frequency_encoding_brut(df)\n",
    "    df = ajouter_colonne_encodage_description_vide(df)\n",
    "    df = ajouter_colonne_encodage_nb_mots(df)\n",
    "    return df\n",
    "\n",
    "# Frequency Encodage 2 catégories\n",
    "def creation_frequency_encodage_REGEX_2cat(df):\n",
    "    df=add_regex_columns(df,dic_regex)\n",
    "    df = ajouter_colonnes_regex_frequency_encoding_2categories(df)\n",
    "    df = ajouter_colonne_encodage_description_vide(df)\n",
    "    df = ajouter_colonne_encodage_nb_mots(df)\n",
    "    return df\n",
    "\n",
    "# Frequency Encodage 2 catégories (variante)\n",
    "def creation_frequency_encodage_REGEX_2cat_variante(df):\n",
    "    df=add_regex_columns(df,dic_regex)\n",
    "    df = ajouter_colonnes_regex_frequency_encoding_2categories_variante(df)\n",
    "    df = ajouter_colonne_encodage_description_vide(df)\n",
    "    df = ajouter_colonne_encodage_nb_mots(df)\n",
    "    return df\n",
    "\n",
    "# Frequency Encodage selon les quartiles\n",
    "def creation_frequency_encodage_REGEX_quartiles(df):\n",
    "    df=add_regex_columns(df,dic_regex)\n",
    "    df = ajouter_colonnes_regex_frequency_encoding_quartiles_categories(df)\n",
    "    df = ajouter_colonne_encodage_description_vide(df)\n",
    "    df = ajouter_colonne_encodage_nb_mots(df)\n",
    "    return df\n",
    "\n",
    "# Helmert Encodage 2 catégories\n",
    "def creation_Helmert_encodage_REGEX_cat2(df):\n",
    "    df= add_regex_columns(df,dic_regex)\n",
    "    df = ajouter_colonnes_regex_helmert_encoding_2categories(df)\n",
    "    df = ajouter_colonne_encodage_description_vide(df)\n",
    "    df = ajouter_colonne_encodage_nb_mots(df)\n",
    "    dict = {'masse_cat_0':'masse_encod_Helmert_2cat_0', 'surface_cat_0':'surface_encod_Helmert_2cat_0',\n",
    "       'vitesse_cat_0':'vitesse_encod_Helmert_2cat_0', 'pression_cat_0':'pression_encod_Helmert_2cat_0', 'energie_alim_cat_0':'energie_alim_encod_Helmert_2cat_0',\n",
    "       'energie_elec_cat_0':'masse_encod_Helmert_2cat_0', 'longueur_cat_0':'longueur_encod_Helmert_2cat_0', 'volume_cat_0':'volume_encod_Helmert_2cat_0', 'memoire_cat_0':'memoire_encod_Helmert_2cat_0',\n",
    "       'temps_cat_0':'temps_encod_Helmert_2cat_0', 'chiffres_cat_0':'chiffres_encod_Helmert_2cat_0'}\n",
    "    df=df.rename(columns=dict)\n",
    "    return df\n",
    "\n",
    "\n",
    "# Helmert Encodage 6 catégories\n",
    "def creation_Helmert_encodage_REGEX_6cat(df):\n",
    "    df= add_regex_columns(df,dic_regex)\n",
    "    df = ajouter_colonnes_regex_helmert_encoding_6cat(df)\n",
    "    df = ajouter_colonne_encodage_description_vide(df)\n",
    "    df = ajouter_colonne_encodage_nb_mots(df)\n",
    "    dict2 = {'masse_cat_0':'masse_encod_Helmert_6cat_0', 'surface_cat_0':'surface_encod_Helmert_6cat_0', 'vitesse_cat_0':'vitesse_encod_Helmert_6cat_0', 'pression_cat_0':'pression_encod_Helmert_6cat_0', 'energie_alim_cat_0':'energie_alim_encod_Helmert_6cat_0',\n",
    "       'energie_elec_cat_0':'energie_encod_Helmert_6cat_0', 'longueur_cat_0':'longueur_encod_Helmert_6cat_0', 'volume_cat_0':'volume_encod_Helmert_6cat_0', 'memoire_cat_0':'memoire_encod_Helmert_6cat_0',\n",
    "       'temps_cat_0':'temps_encod_Helmert_6cat_0', 'chiffres_cat_0':'chiffres_encod_Helmert_6cat_0','masse_cat_1':'masse_encod_Helmert_6cat_1', 'surface_cat_1':'surface_masse_encod_Helmert_6cat_1',\n",
    "       'vitesse_cat_1':'vitesse_encod_Helmert_6cat_1', 'pression_cat_1':'pression_encod_Helmert_6cat_1', 'energie_alim_cat_1':'energie_alim_encod_Helmert_6cat_1',\n",
    "       'energie_elec_cat_1':'energie_encod_Helmert_6cat_1', 'longueur_cat_1':'longueur_encod_Helmert_6cat_1', 'volume_cat_1':'volume_encod_Helmert_6cat_1', 'memoire_cat_1':'memoire_encod_Helmert_6cat_1',\n",
    "       'temps_cat_1':'temps_encod_Helmert_6cat_1', 'chiffres_cat_1':'chiffres_encod_Helmert_6cat_1','masse_cat_2':'masse_encod_Helmert_6cat_2', 'surface_cat_2':'surface_encod_Helmert_6cat_2',\n",
    "       'vitesse_cat_2':'vitesse_encod_Helmert_6cat_2', 'pression_cat_2':'pression_encod_Helmert_6cat_2', 'energie_alim_cat_2':'energie_alim_encod_Helmert_6cat_2',\n",
    "       'energie_elec_cat_2':'energie_encod_Helmert_6cat_2', 'longueur_cat_2':'longueur_encod_Helmert_6cat_2', 'volume_cat_2':'volume_encod_Helmert_6cat_2', 'memoire_cat_2':'memoire_encod_Helmert_6cat_2',\n",
    "       'temps_cat_2':'temps_encod_Helmert_6cat_2', 'chiffres_cat_2':'chiffres_encod_Helmert_6cat_2','masse_cat_3':'masse_encod_Helmert_6cat_3', 'surface_cat_13':'surface_masse_encod_Helmert_6cat_3',\n",
    "       'vitesse_cat_3':'vitesse_encod_Helmert_6cat_3', 'pression_cat_3':'pression_encod_Helmert_6cat_3', 'energie_alim_cat_3':'energie_alim_encod_Helmert_6cat_3',\n",
    "       'energie_elec_cat_3':'energie_encod_Helmert_6cat_3', 'longueur_cat_3':'longueur_encod_Helmert_6cat_3', 'volume_cat_3':'volume_encod_Helmert_6cat_3', 'memoire_cat_3':'memoire_encod_Helmert_6cat_3',\n",
    "       'temps_cat_3':'temps_encod_Helmert_6cat_3', 'chiffres_cat_3':'chiffres_encod_Helmert_6cat_3','masse_cat_4':'masse_encod_Helmert_6cat_4', 'surface_cat_4':'surface_masse_encod_Helmert_6cat_4','vitesse_cat_4':'vitesse_encod_Helmert_6cat_4', 'pression_cat_4':'pression_encod_Helmert_6cat_4', 'energie_alim_cat_4':'energie_alim_encod_Helmert_6cat_4',\n",
    "       'energie_elec_cat_4':'energie_encod_Helmert_6cat_4', 'longueur_cat_4':'longueur_encod_Helmert_6cat_4', 'volume_cat_4':'volume_encod_Helmert_6cat_4', 'memoire_cat_4':'memoire_encod_Helmert_6cat_4',\n",
    "       'temps_cat_4':'temps_encod_Helmert_6cat_4', 'chiffres_cat_4':'chiffres_encod_Helmert_6cat_4','masse_cat_5':'masse_encod_Helmert_6cat_5', 'surface_cat_5':'surface_masse_encod_Helmert_6cat_5','vitesse_cat_5':'vitesse_encod_Helmert_6cat_5', 'pression_cat_5':'pression_encod_Helmert_6cat_5', 'energie_alim_cat_5':'energie_alim_encod_Helmert_6cat_5',\n",
    "       'energie_elec_cat_5':'energie_encod_Helmert_6cat_5', 'longueur_cat_5':'longueur_encod_Helmert_6cat_5', 'volume_cat_5':'volume_encod_Helmert_6cat_5', 'memoire_cat_5':'memoire_encod_Helmert_6cat_5',\n",
    "       'temps_cat_5':'temps_encod_Helmert_6cat_5', 'chiffres_cat_5':'chiffres_encod_Helmert_6cat_5'}        \n",
    "    df=df.rename(columns=dict2)\n",
    "    return df       \n",
    "    "
   ]
  },
  {
   "cell_type": "code",
   "execution_count": 7,
   "id": "d639012f",
   "metadata": {},
   "outputs": [],
   "source": [
    "\n",
    "df = load('df_train_post_trad.joblib')"
   ]
  },
  {
   "cell_type": "markdown",
   "id": "b05a2acc",
   "metadata": {},
   "source": [
    "## Creation des colonnes d'encodage à partir des fonctions"
   ]
  },
  {
   "cell_type": "code",
   "execution_count": 21,
   "id": "a4099d84",
   "metadata": {
    "collapsed": true
   },
   "outputs": [
    {
     "name": "stdout",
     "output_type": "stream",
     "text": [
      "(?i)\\d*\\s*\\b(kg\\/m³|kg\\/m3|g\\/m³|g\\/m3|\\d+kg\\/m³|\\d+kg\\/m3|\\d+g\\/m³|\\d+g\\/m3)s?\\b\n",
      "(?i)\\d*\\s*\\b(kg|g|gr|t|mg|tonnes?|kilos?|microgrammes?|grammes?|milligrammes?|µg|lbs?|pounds?|\\d+g|\\d+kg|\\d+gr|\\d+mg|\\d+t|\\d+tonnes?|\\d+kilos?|\\d+microgrammes?|\\d+grammes?|\\d+milligrammes?|\\d+µg|\\d+lbs?|\\d+pounds?)\\b\n",
      "(?i)\\d*s*\\b(m²|m2|metres?2|cm²|centimetres?2|cm2|km²|kilometres?2|km2|ft²|ft2|in²|in2|ha|ac|\\d+m²|\\d+m2|\\d+metres?2|\\d+cm²|\\d+centimetres?2|\\d+cm2|\\d+km²|\\d+kilometres?2|\\d+km2|\\d+ft²|\\d+ft2|\\d+in²|d+in2|\\d+ha|\\d+ac)\\b\n",
      "(?i)\\d*\\s*\\b(m\\/s|km\\/h|mph|m.s-1|\\d+m\\/s|\\d+km\\/h|\\d+mph|\\d+m.s-1)\\b\n",
      "(?i)\\d*\\s*\\b(Pa|Pascal|bar|atm|mmHg|\\d+Pa|\\d+bar|\\d+Pascal|\\d+atm|\\d+mmHg)\\b\n",
      "\\d*\\s*\\b(J|kJ|cal|kcal|CAL|KCAL|joules?|Joules?|kilojoules?|Calories?|calories?|kilocalories?|\\d+J|\\d+kJ|\\d+cal|\\d+kcal|\\d+kCAL|\\d+KCAL|\\d+Joules?|\\d+Calories?|\\d+joules?|d+kilojoules?|d+calories?|d+kilocalories?)\\b\n",
      "(?i)\\d*\\s*\\b(kW|W|Watts?|kWh|\\d+kWh|kiloWatts?|\\d+kW|\\d+W|\\d+Watts?|\\d+kiloWatts?)\\b\n",
      "(?i)\\d*\\s*\\b(centimètres?|centimetres?|cm|foot|ft|inch|kilomètres?|kilometres?|km|m|micromètres?|micrometres?|μm|millimètres?|millimetres?|mm|nanomètres?|nanometres?|nm|pouce|yard|yd|d+centimètres?|d+centimetres?|d+cm|d+foot|\\d+ft|\\d+inch|\\d+kilomètres?|\\d+kilometres?|\\d+km|\\d+m|micromètres?|\\d+micrometres?|\\d+μm|millimètres?|millimetres?|\\d+mm|\\d+nanomètres?|\\d+nanometres?|\\d+nm|\\d+pouce|\\d+yard|\\d+yd)s?\\b\n",
      "(?i)\\d*\\s*\\b(litre|l|millilitres?|ml|centilitres?|cl|mètre cube|metre cube|m3|m 3|centimètres?cube|centimetres? cube|cm3|cm 3|pied cube|ft 3|ft3|pouce cube|in3|in 3|gallon|gal|once liquide|fl oz|\\d+litre|\\d+l|\\d+millilitres?|\\d+ml|\\d+centilitres?|\\d+cl|\\d+mètre cube|\\d+metre cube|\\d+m3|\\d+m 3|\\d+centimètres? cube|\\d+centimetres? cube|\\d+cm3|\\d+cm 3|\\d+pied cube|\\d+ft 3|\\d+ft3|\\d+pouce cube|\\d+in3|\\d+in 3|\\d+gallon|\\d+gal|\\d+once liquide|\\d+fl oz)s?\\b\n",
      "(?i)\\d*\\s*\\b(hertz|hz|kilohertz|khz|megahertz|mhz|gigahertz|ghz|terahertz|thz|petahertz|phz|exahertz|ehz|zettahertz|zhz|yottahertz|yhz|bits?|bytes?|kilobits?|kb|kilobytes?|kb|ko|mmegabits?|mb|megabytes?|mb|gigabits?|gb|gigabytes?|gb|terabits?|tb|terabytes?|tb|petabits?|pb|petabytes?|pb|exabits?|eb|exabytes?|eb|zettabits?|zb|zettabytes?|zb|yottabits?|yb|yottabytes?|yb|octets?|mégaoctets?|megaoctets?|mega octets?|mo|giga-octets?|giga octets?|go|téraoctets?|teraoctets?|tera octets?|to|\\d+hertz|\\d+hz|\\d+kilohertz|\\d+khz|\\d+megahertz|\\d+mhz|\\d+gigahertz|\\d+ghz|\\d+terahertz|\\d+thz|\\d+petahertz|\\d+phz|\\d+exahertz|\\d+ehz|\\d+zettahertz|\\d+zhz| \\d+yottahertz|\\d+yhz|\\d+bits?|\\d+bytes?|\\d+kilobits?|\\d+kb|\\d+kilobytes?|\\d+kb|\\d+megabits?|\\d+mb| \\d+octets?|\\d+megabytes?|\\d+mb|\\d+gigabits?|\\d+gb|\\d+ko|\\d+gigabytes?|\\d+gb|\\d+terabits?|\\d+tb|\\d+terabytes?|\\d+tb| \\d+petabits?|\\d+pb|petabytes?|\\d+pb|\\d+exabits?|\\d+eb|\\d+exabytes?|\\d+eb|\\d+zettabits?|\\d+zb|\\d+zettabytes?|\\d+zb|\\d+yottabits?|\\d+yb|\\d+yottabytes?|\\d+yb|\\d+mégaoctets?|\\d+megaoctets?|\\d+mega octets?|\\d+mo|\\d+giga-octets?|\\d+giga octets?|\\d+go|\\d+téraoctets?|\\d+teraoctets?|\\d+tera octets?|\\d+to)s?\\b\n",
      "(?i)\\d*\\s*\\b(secondes?|s|millisecondes?|ms|microsecondes?|μs|nanosecondes?|ns|picosecondes?|ps|minutes?|min|heures?|h|jours?|j|semaines?|sem|mois|années?|ans?|décennies?|siècles?|siè|millénaires?|\\d+secondes?|\\d+s|\\d+millisecondes?|\\d+ms|\\d+microsecondes?|\\d+μs|\\d+nanosecondes?|\\d+ns|\\d+picosecondes?|\\d+ps|\\d+minutes?|\\d+min|heures?|\\d+h|\\d+jours?|\\d+j|\\d+semaines?|\\d+sem|\\d+mois|\\d+années?|\\d+ans?|\\d+décennies?|\\d+siècles?|\\d+siè|\\d+millénaires?)s?\\b\n",
      "[0-9]+\n",
      "début du frequency encoding brut\n",
      "(?i)\\d*\\s*\\b(kg\\/m³|kg\\/m3|g\\/m³|g\\/m3|\\d+kg\\/m³|\\d+kg\\/m3|\\d+g\\/m³|\\d+g\\/m3)s?\\b\n",
      "(?i)\\d*\\s*\\b(kg|g|gr|t|mg|tonnes?|kilos?|microgrammes?|grammes?|milligrammes?|µg|lbs?|pounds?|\\d+g|\\d+kg|\\d+gr|\\d+mg|\\d+t|\\d+tonnes?|\\d+kilos?|\\d+microgrammes?|\\d+grammes?|\\d+milligrammes?|\\d+µg|\\d+lbs?|\\d+pounds?)\\b\n",
      "(?i)\\d*s*\\b(m²|m2|metres?2|cm²|centimetres?2|cm2|km²|kilometres?2|km2|ft²|ft2|in²|in2|ha|ac|\\d+m²|\\d+m2|\\d+metres?2|\\d+cm²|\\d+centimetres?2|\\d+cm2|\\d+km²|\\d+kilometres?2|\\d+km2|\\d+ft²|\\d+ft2|\\d+in²|d+in2|\\d+ha|\\d+ac)\\b\n",
      "(?i)\\d*\\s*\\b(m\\/s|km\\/h|mph|m.s-1|\\d+m\\/s|\\d+km\\/h|\\d+mph|\\d+m.s-1)\\b\n",
      "(?i)\\d*\\s*\\b(Pa|Pascal|bar|atm|mmHg|\\d+Pa|\\d+bar|\\d+Pascal|\\d+atm|\\d+mmHg)\\b\n",
      "\\d*\\s*\\b(J|kJ|cal|kcal|CAL|KCAL|joules?|Joules?|kilojoules?|Calories?|calories?|kilocalories?|\\d+J|\\d+kJ|\\d+cal|\\d+kcal|\\d+kCAL|\\d+KCAL|\\d+Joules?|\\d+Calories?|\\d+joules?|d+kilojoules?|d+calories?|d+kilocalories?)\\b\n",
      "(?i)\\d*\\s*\\b(kW|W|Watts?|kWh|\\d+kWh|kiloWatts?|\\d+kW|\\d+W|\\d+Watts?|\\d+kiloWatts?)\\b\n",
      "(?i)\\d*\\s*\\b(centimètres?|centimetres?|cm|foot|ft|inch|kilomètres?|kilometres?|km|m|micromètres?|micrometres?|μm|millimètres?|millimetres?|mm|nanomètres?|nanometres?|nm|pouce|yard|yd|d+centimètres?|d+centimetres?|d+cm|d+foot|\\d+ft|\\d+inch|\\d+kilomètres?|\\d+kilometres?|\\d+km|\\d+m|micromètres?|\\d+micrometres?|\\d+μm|millimètres?|millimetres?|\\d+mm|\\d+nanomètres?|\\d+nanometres?|\\d+nm|\\d+pouce|\\d+yard|\\d+yd)s?\\b\n",
      "(?i)\\d*\\s*\\b(litre|l|millilitres?|ml|centilitres?|cl|mètre cube|metre cube|m3|m 3|centimètres?cube|centimetres? cube|cm3|cm 3|pied cube|ft 3|ft3|pouce cube|in3|in 3|gallon|gal|once liquide|fl oz|\\d+litre|\\d+l|\\d+millilitres?|\\d+ml|\\d+centilitres?|\\d+cl|\\d+mètre cube|\\d+metre cube|\\d+m3|\\d+m 3|\\d+centimètres? cube|\\d+centimetres? cube|\\d+cm3|\\d+cm 3|\\d+pied cube|\\d+ft 3|\\d+ft3|\\d+pouce cube|\\d+in3|\\d+in 3|\\d+gallon|\\d+gal|\\d+once liquide|\\d+fl oz)s?\\b\n",
      "(?i)\\d*\\s*\\b(hertz|hz|kilohertz|khz|megahertz|mhz|gigahertz|ghz|terahertz|thz|petahertz|phz|exahertz|ehz|zettahertz|zhz|yottahertz|yhz|bits?|bytes?|kilobits?|kb|kilobytes?|kb|ko|mmegabits?|mb|megabytes?|mb|gigabits?|gb|gigabytes?|gb|terabits?|tb|terabytes?|tb|petabits?|pb|petabytes?|pb|exabits?|eb|exabytes?|eb|zettabits?|zb|zettabytes?|zb|yottabits?|yb|yottabytes?|yb|octets?|mégaoctets?|megaoctets?|mega octets?|mo|giga-octets?|giga octets?|go|téraoctets?|teraoctets?|tera octets?|to|\\d+hertz|\\d+hz|\\d+kilohertz|\\d+khz|\\d+megahertz|\\d+mhz|\\d+gigahertz|\\d+ghz|\\d+terahertz|\\d+thz|\\d+petahertz|\\d+phz|\\d+exahertz|\\d+ehz|\\d+zettahertz|\\d+zhz| \\d+yottahertz|\\d+yhz|\\d+bits?|\\d+bytes?|\\d+kilobits?|\\d+kb|\\d+kilobytes?|\\d+kb|\\d+megabits?|\\d+mb| \\d+octets?|\\d+megabytes?|\\d+mb|\\d+gigabits?|\\d+gb|\\d+ko|\\d+gigabytes?|\\d+gb|\\d+terabits?|\\d+tb|\\d+terabytes?|\\d+tb| \\d+petabits?|\\d+pb|petabytes?|\\d+pb|\\d+exabits?|\\d+eb|\\d+exabytes?|\\d+eb|\\d+zettabits?|\\d+zb|\\d+zettabytes?|\\d+zb|\\d+yottabits?|\\d+yb|\\d+yottabytes?|\\d+yb|\\d+mégaoctets?|\\d+megaoctets?|\\d+mega octets?|\\d+mo|\\d+giga-octets?|\\d+giga octets?|\\d+go|\\d+téraoctets?|\\d+teraoctets?|\\d+tera octets?|\\d+to)s?\\b\n",
      "(?i)\\d*\\s*\\b(secondes?|s|millisecondes?|ms|microsecondes?|μs|nanosecondes?|ns|picosecondes?|ps|minutes?|min|heures?|h|jours?|j|semaines?|sem|mois|années?|ans?|décennies?|siècles?|siè|millénaires?|\\d+secondes?|\\d+s|\\d+millisecondes?|\\d+ms|\\d+microsecondes?|\\d+μs|\\d+nanosecondes?|\\d+ns|\\d+picosecondes?|\\d+ps|\\d+minutes?|\\d+min|heures?|\\d+h|\\d+jours?|\\d+j|\\d+semaines?|\\d+sem|\\d+mois|\\d+années?|\\d+ans?|\\d+décennies?|\\d+siècles?|\\d+siè|\\d+millénaires?)s?\\b\n",
      "[0-9]+\n",
      "début du frequency encoding 2 catégories\n",
      "(?i)\\d*\\s*\\b(kg\\/m³|kg\\/m3|g\\/m³|g\\/m3|\\d+kg\\/m³|\\d+kg\\/m3|\\d+g\\/m³|\\d+g\\/m3)s?\\b\n",
      "(?i)\\d*\\s*\\b(kg|g|gr|t|mg|tonnes?|kilos?|microgrammes?|grammes?|milligrammes?|µg|lbs?|pounds?|\\d+g|\\d+kg|\\d+gr|\\d+mg|\\d+t|\\d+tonnes?|\\d+kilos?|\\d+microgrammes?|\\d+grammes?|\\d+milligrammes?|\\d+µg|\\d+lbs?|\\d+pounds?)\\b\n",
      "(?i)\\d*s*\\b(m²|m2|metres?2|cm²|centimetres?2|cm2|km²|kilometres?2|km2|ft²|ft2|in²|in2|ha|ac|\\d+m²|\\d+m2|\\d+metres?2|\\d+cm²|\\d+centimetres?2|\\d+cm2|\\d+km²|\\d+kilometres?2|\\d+km2|\\d+ft²|\\d+ft2|\\d+in²|d+in2|\\d+ha|\\d+ac)\\b\n",
      "(?i)\\d*\\s*\\b(m\\/s|km\\/h|mph|m.s-1|\\d+m\\/s|\\d+km\\/h|\\d+mph|\\d+m.s-1)\\b\n",
      "(?i)\\d*\\s*\\b(Pa|Pascal|bar|atm|mmHg|\\d+Pa|\\d+bar|\\d+Pascal|\\d+atm|\\d+mmHg)\\b\n",
      "\\d*\\s*\\b(J|kJ|cal|kcal|CAL|KCAL|joules?|Joules?|kilojoules?|Calories?|calories?|kilocalories?|\\d+J|\\d+kJ|\\d+cal|\\d+kcal|\\d+kCAL|\\d+KCAL|\\d+Joules?|\\d+Calories?|\\d+joules?|d+kilojoules?|d+calories?|d+kilocalories?)\\b\n",
      "(?i)\\d*\\s*\\b(kW|W|Watts?|kWh|\\d+kWh|kiloWatts?|\\d+kW|\\d+W|\\d+Watts?|\\d+kiloWatts?)\\b\n",
      "(?i)\\d*\\s*\\b(centimètres?|centimetres?|cm|foot|ft|inch|kilomètres?|kilometres?|km|m|micromètres?|micrometres?|μm|millimètres?|millimetres?|mm|nanomètres?|nanometres?|nm|pouce|yard|yd|d+centimètres?|d+centimetres?|d+cm|d+foot|\\d+ft|\\d+inch|\\d+kilomètres?|\\d+kilometres?|\\d+km|\\d+m|micromètres?|\\d+micrometres?|\\d+μm|millimètres?|millimetres?|\\d+mm|\\d+nanomètres?|\\d+nanometres?|\\d+nm|\\d+pouce|\\d+yard|\\d+yd)s?\\b\n"
     ]
    },
    {
     "name": "stdout",
     "output_type": "stream",
     "text": [
      "(?i)\\d*\\s*\\b(litre|l|millilitres?|ml|centilitres?|cl|mètre cube|metre cube|m3|m 3|centimètres?cube|centimetres? cube|cm3|cm 3|pied cube|ft 3|ft3|pouce cube|in3|in 3|gallon|gal|once liquide|fl oz|\\d+litre|\\d+l|\\d+millilitres?|\\d+ml|\\d+centilitres?|\\d+cl|\\d+mètre cube|\\d+metre cube|\\d+m3|\\d+m 3|\\d+centimètres? cube|\\d+centimetres? cube|\\d+cm3|\\d+cm 3|\\d+pied cube|\\d+ft 3|\\d+ft3|\\d+pouce cube|\\d+in3|\\d+in 3|\\d+gallon|\\d+gal|\\d+once liquide|\\d+fl oz)s?\\b\n",
      "(?i)\\d*\\s*\\b(hertz|hz|kilohertz|khz|megahertz|mhz|gigahertz|ghz|terahertz|thz|petahertz|phz|exahertz|ehz|zettahertz|zhz|yottahertz|yhz|bits?|bytes?|kilobits?|kb|kilobytes?|kb|ko|mmegabits?|mb|megabytes?|mb|gigabits?|gb|gigabytes?|gb|terabits?|tb|terabytes?|tb|petabits?|pb|petabytes?|pb|exabits?|eb|exabytes?|eb|zettabits?|zb|zettabytes?|zb|yottabits?|yb|yottabytes?|yb|octets?|mégaoctets?|megaoctets?|mega octets?|mo|giga-octets?|giga octets?|go|téraoctets?|teraoctets?|tera octets?|to|\\d+hertz|\\d+hz|\\d+kilohertz|\\d+khz|\\d+megahertz|\\d+mhz|\\d+gigahertz|\\d+ghz|\\d+terahertz|\\d+thz|\\d+petahertz|\\d+phz|\\d+exahertz|\\d+ehz|\\d+zettahertz|\\d+zhz| \\d+yottahertz|\\d+yhz|\\d+bits?|\\d+bytes?|\\d+kilobits?|\\d+kb|\\d+kilobytes?|\\d+kb|\\d+megabits?|\\d+mb| \\d+octets?|\\d+megabytes?|\\d+mb|\\d+gigabits?|\\d+gb|\\d+ko|\\d+gigabytes?|\\d+gb|\\d+terabits?|\\d+tb|\\d+terabytes?|\\d+tb| \\d+petabits?|\\d+pb|petabytes?|\\d+pb|\\d+exabits?|\\d+eb|\\d+exabytes?|\\d+eb|\\d+zettabits?|\\d+zb|\\d+zettabytes?|\\d+zb|\\d+yottabits?|\\d+yb|\\d+yottabytes?|\\d+yb|\\d+mégaoctets?|\\d+megaoctets?|\\d+mega octets?|\\d+mo|\\d+giga-octets?|\\d+giga octets?|\\d+go|\\d+téraoctets?|\\d+teraoctets?|\\d+tera octets?|\\d+to)s?\\b\n",
      "(?i)\\d*\\s*\\b(secondes?|s|millisecondes?|ms|microsecondes?|μs|nanosecondes?|ns|picosecondes?|ps|minutes?|min|heures?|h|jours?|j|semaines?|sem|mois|années?|ans?|décennies?|siècles?|siè|millénaires?|\\d+secondes?|\\d+s|\\d+millisecondes?|\\d+ms|\\d+microsecondes?|\\d+μs|\\d+nanosecondes?|\\d+ns|\\d+picosecondes?|\\d+ps|\\d+minutes?|\\d+min|heures?|\\d+h|\\d+jours?|\\d+j|\\d+semaines?|\\d+sem|\\d+mois|\\d+années?|\\d+ans?|\\d+décennies?|\\d+siècles?|\\d+siè|\\d+millénaires?)s?\\b\n",
      "[0-9]+\n",
      "début du frequency encoding catégories par quartiles\n",
      "(?i)\\d*\\s*\\b(kg\\/m³|kg\\/m3|g\\/m³|g\\/m3|\\d+kg\\/m³|\\d+kg\\/m3|\\d+g\\/m³|\\d+g\\/m3)s?\\b\n",
      "(?i)\\d*\\s*\\b(kg|g|gr|t|mg|tonnes?|kilos?|microgrammes?|grammes?|milligrammes?|µg|lbs?|pounds?|\\d+g|\\d+kg|\\d+gr|\\d+mg|\\d+t|\\d+tonnes?|\\d+kilos?|\\d+microgrammes?|\\d+grammes?|\\d+milligrammes?|\\d+µg|\\d+lbs?|\\d+pounds?)\\b\n",
      "(?i)\\d*s*\\b(m²|m2|metres?2|cm²|centimetres?2|cm2|km²|kilometres?2|km2|ft²|ft2|in²|in2|ha|ac|\\d+m²|\\d+m2|\\d+metres?2|\\d+cm²|\\d+centimetres?2|\\d+cm2|\\d+km²|\\d+kilometres?2|\\d+km2|\\d+ft²|\\d+ft2|\\d+in²|d+in2|\\d+ha|\\d+ac)\\b\n",
      "(?i)\\d*\\s*\\b(m\\/s|km\\/h|mph|m.s-1|\\d+m\\/s|\\d+km\\/h|\\d+mph|\\d+m.s-1)\\b\n",
      "(?i)\\d*\\s*\\b(Pa|Pascal|bar|atm|mmHg|\\d+Pa|\\d+bar|\\d+Pascal|\\d+atm|\\d+mmHg)\\b\n",
      "\\d*\\s*\\b(J|kJ|cal|kcal|CAL|KCAL|joules?|Joules?|kilojoules?|Calories?|calories?|kilocalories?|\\d+J|\\d+kJ|\\d+cal|\\d+kcal|\\d+kCAL|\\d+KCAL|\\d+Joules?|\\d+Calories?|\\d+joules?|d+kilojoules?|d+calories?|d+kilocalories?)\\b\n",
      "(?i)\\d*\\s*\\b(kW|W|Watts?|kWh|\\d+kWh|kiloWatts?|\\d+kW|\\d+W|\\d+Watts?|\\d+kiloWatts?)\\b\n",
      "(?i)\\d*\\s*\\b(centimètres?|centimetres?|cm|foot|ft|inch|kilomètres?|kilometres?|km|m|micromètres?|micrometres?|μm|millimètres?|millimetres?|mm|nanomètres?|nanometres?|nm|pouce|yard|yd|d+centimètres?|d+centimetres?|d+cm|d+foot|\\d+ft|\\d+inch|\\d+kilomètres?|\\d+kilometres?|\\d+km|\\d+m|micromètres?|\\d+micrometres?|\\d+μm|millimètres?|millimetres?|\\d+mm|\\d+nanomètres?|\\d+nanometres?|\\d+nm|\\d+pouce|\\d+yard|\\d+yd)s?\\b\n",
      "(?i)\\d*\\s*\\b(litre|l|millilitres?|ml|centilitres?|cl|mètre cube|metre cube|m3|m 3|centimètres?cube|centimetres? cube|cm3|cm 3|pied cube|ft 3|ft3|pouce cube|in3|in 3|gallon|gal|once liquide|fl oz|\\d+litre|\\d+l|\\d+millilitres?|\\d+ml|\\d+centilitres?|\\d+cl|\\d+mètre cube|\\d+metre cube|\\d+m3|\\d+m 3|\\d+centimètres? cube|\\d+centimetres? cube|\\d+cm3|\\d+cm 3|\\d+pied cube|\\d+ft 3|\\d+ft3|\\d+pouce cube|\\d+in3|\\d+in 3|\\d+gallon|\\d+gal|\\d+once liquide|\\d+fl oz)s?\\b\n",
      "(?i)\\d*\\s*\\b(hertz|hz|kilohertz|khz|megahertz|mhz|gigahertz|ghz|terahertz|thz|petahertz|phz|exahertz|ehz|zettahertz|zhz|yottahertz|yhz|bits?|bytes?|kilobits?|kb|kilobytes?|kb|ko|mmegabits?|mb|megabytes?|mb|gigabits?|gb|gigabytes?|gb|terabits?|tb|terabytes?|tb|petabits?|pb|petabytes?|pb|exabits?|eb|exabytes?|eb|zettabits?|zb|zettabytes?|zb|yottabits?|yb|yottabytes?|yb|octets?|mégaoctets?|megaoctets?|mega octets?|mo|giga-octets?|giga octets?|go|téraoctets?|teraoctets?|tera octets?|to|\\d+hertz|\\d+hz|\\d+kilohertz|\\d+khz|\\d+megahertz|\\d+mhz|\\d+gigahertz|\\d+ghz|\\d+terahertz|\\d+thz|\\d+petahertz|\\d+phz|\\d+exahertz|\\d+ehz|\\d+zettahertz|\\d+zhz| \\d+yottahertz|\\d+yhz|\\d+bits?|\\d+bytes?|\\d+kilobits?|\\d+kb|\\d+kilobytes?|\\d+kb|\\d+megabits?|\\d+mb| \\d+octets?|\\d+megabytes?|\\d+mb|\\d+gigabits?|\\d+gb|\\d+ko|\\d+gigabytes?|\\d+gb|\\d+terabits?|\\d+tb|\\d+terabytes?|\\d+tb| \\d+petabits?|\\d+pb|petabytes?|\\d+pb|\\d+exabits?|\\d+eb|\\d+exabytes?|\\d+eb|\\d+zettabits?|\\d+zb|\\d+zettabytes?|\\d+zb|\\d+yottabits?|\\d+yb|\\d+yottabytes?|\\d+yb|\\d+mégaoctets?|\\d+megaoctets?|\\d+mega octets?|\\d+mo|\\d+giga-octets?|\\d+giga octets?|\\d+go|\\d+téraoctets?|\\d+teraoctets?|\\d+tera octets?|\\d+to)s?\\b\n",
      "(?i)\\d*\\s*\\b(secondes?|s|millisecondes?|ms|microsecondes?|μs|nanosecondes?|ns|picosecondes?|ps|minutes?|min|heures?|h|jours?|j|semaines?|sem|mois|années?|ans?|décennies?|siècles?|siè|millénaires?|\\d+secondes?|\\d+s|\\d+millisecondes?|\\d+ms|\\d+microsecondes?|\\d+μs|\\d+nanosecondes?|\\d+ns|\\d+picosecondes?|\\d+ps|\\d+minutes?|\\d+min|heures?|\\d+h|\\d+jours?|\\d+j|\\d+semaines?|\\d+sem|\\d+mois|\\d+années?|\\d+ans?|\\d+décennies?|\\d+siècles?|\\d+siè|\\d+millénaires?)s?\\b\n",
      "[0-9]+\n",
      "début du Helmert encoding catégories par quartiles\n"
     ]
    },
    {
     "name": "stderr",
     "output_type": "stream",
     "text": [
      "C:\\Users\\Frederic\\conda3\\Lib\\site-packages\\category_encoders\\base_contrast_encoder.py:126: FutureWarning: Intercept column might not be added anymore in future releases (c.f. issue #370)\n",
      "  warnings.warn(\"Intercept column might not be added anymore in future releases (c.f. issue #370)\",\n",
      "C:\\Users\\Frederic\\conda3\\Lib\\site-packages\\category_encoders\\base_contrast_encoder.py:126: FutureWarning: Intercept column might not be added anymore in future releases (c.f. issue #370)\n",
      "  warnings.warn(\"Intercept column might not be added anymore in future releases (c.f. issue #370)\",\n",
      "C:\\Users\\Frederic\\conda3\\Lib\\site-packages\\category_encoders\\base_contrast_encoder.py:126: FutureWarning: Intercept column might not be added anymore in future releases (c.f. issue #370)\n",
      "  warnings.warn(\"Intercept column might not be added anymore in future releases (c.f. issue #370)\",\n",
      "C:\\Users\\Frederic\\conda3\\Lib\\site-packages\\category_encoders\\base_contrast_encoder.py:126: FutureWarning: Intercept column might not be added anymore in future releases (c.f. issue #370)\n",
      "  warnings.warn(\"Intercept column might not be added anymore in future releases (c.f. issue #370)\",\n",
      "C:\\Users\\Frederic\\conda3\\Lib\\site-packages\\category_encoders\\base_contrast_encoder.py:126: FutureWarning: Intercept column might not be added anymore in future releases (c.f. issue #370)\n",
      "  warnings.warn(\"Intercept column might not be added anymore in future releases (c.f. issue #370)\",\n",
      "C:\\Users\\Frederic\\conda3\\Lib\\site-packages\\category_encoders\\base_contrast_encoder.py:126: FutureWarning: Intercept column might not be added anymore in future releases (c.f. issue #370)\n",
      "  warnings.warn(\"Intercept column might not be added anymore in future releases (c.f. issue #370)\",\n",
      "C:\\Users\\Frederic\\conda3\\Lib\\site-packages\\category_encoders\\base_contrast_encoder.py:126: FutureWarning: Intercept column might not be added anymore in future releases (c.f. issue #370)\n",
      "  warnings.warn(\"Intercept column might not be added anymore in future releases (c.f. issue #370)\",\n",
      "C:\\Users\\Frederic\\conda3\\Lib\\site-packages\\category_encoders\\base_contrast_encoder.py:126: FutureWarning: Intercept column might not be added anymore in future releases (c.f. issue #370)\n",
      "  warnings.warn(\"Intercept column might not be added anymore in future releases (c.f. issue #370)\",\n",
      "C:\\Users\\Frederic\\conda3\\Lib\\site-packages\\category_encoders\\base_contrast_encoder.py:126: FutureWarning: Intercept column might not be added anymore in future releases (c.f. issue #370)\n",
      "  warnings.warn(\"Intercept column might not be added anymore in future releases (c.f. issue #370)\",\n",
      "C:\\Users\\Frederic\\conda3\\Lib\\site-packages\\category_encoders\\base_contrast_encoder.py:126: FutureWarning: Intercept column might not be added anymore in future releases (c.f. issue #370)\n",
      "  warnings.warn(\"Intercept column might not be added anymore in future releases (c.f. issue #370)\",\n",
      "C:\\Users\\Frederic\\conda3\\Lib\\site-packages\\category_encoders\\base_contrast_encoder.py:126: FutureWarning: Intercept column might not be added anymore in future releases (c.f. issue #370)\n",
      "  warnings.warn(\"Intercept column might not be added anymore in future releases (c.f. issue #370)\",\n",
      "C:\\Users\\Frederic\\conda3\\Lib\\site-packages\\category_encoders\\base_contrast_encoder.py:126: FutureWarning: Intercept column might not be added anymore in future releases (c.f. issue #370)\n",
      "  warnings.warn(\"Intercept column might not be added anymore in future releases (c.f. issue #370)\",\n",
      "C:\\Users\\Frederic\\conda3\\Lib\\site-packages\\category_encoders\\base_contrast_encoder.py:126: FutureWarning: Intercept column might not be added anymore in future releases (c.f. issue #370)\n",
      "  warnings.warn(\"Intercept column might not be added anymore in future releases (c.f. issue #370)\",\n",
      "C:\\Users\\Frederic\\conda3\\Lib\\site-packages\\category_encoders\\base_contrast_encoder.py:126: FutureWarning: Intercept column might not be added anymore in future releases (c.f. issue #370)\n",
      "  warnings.warn(\"Intercept column might not be added anymore in future releases (c.f. issue #370)\",\n",
      "C:\\Users\\Frederic\\conda3\\Lib\\site-packages\\category_encoders\\base_contrast_encoder.py:126: FutureWarning: Intercept column might not be added anymore in future releases (c.f. issue #370)\n",
      "  warnings.warn(\"Intercept column might not be added anymore in future releases (c.f. issue #370)\",\n",
      "C:\\Users\\Frederic\\conda3\\Lib\\site-packages\\category_encoders\\base_contrast_encoder.py:126: FutureWarning: Intercept column might not be added anymore in future releases (c.f. issue #370)\n",
      "  warnings.warn(\"Intercept column might not be added anymore in future releases (c.f. issue #370)\",\n",
      "C:\\Users\\Frederic\\conda3\\Lib\\site-packages\\category_encoders\\base_contrast_encoder.py:126: FutureWarning: Intercept column might not be added anymore in future releases (c.f. issue #370)\n",
      "  warnings.warn(\"Intercept column might not be added anymore in future releases (c.f. issue #370)\",\n",
      "C:\\Users\\Frederic\\conda3\\Lib\\site-packages\\category_encoders\\base_contrast_encoder.py:126: FutureWarning: Intercept column might not be added anymore in future releases (c.f. issue #370)\n",
      "  warnings.warn(\"Intercept column might not be added anymore in future releases (c.f. issue #370)\",\n",
      "C:\\Users\\Frederic\\conda3\\Lib\\site-packages\\category_encoders\\base_contrast_encoder.py:126: FutureWarning: Intercept column might not be added anymore in future releases (c.f. issue #370)\n",
      "  warnings.warn(\"Intercept column might not be added anymore in future releases (c.f. issue #370)\",\n",
      "C:\\Users\\Frederic\\conda3\\Lib\\site-packages\\category_encoders\\base_contrast_encoder.py:126: FutureWarning: Intercept column might not be added anymore in future releases (c.f. issue #370)\n",
      "  warnings.warn(\"Intercept column might not be added anymore in future releases (c.f. issue #370)\",\n",
      "C:\\Users\\Frederic\\conda3\\Lib\\site-packages\\category_encoders\\base_contrast_encoder.py:126: FutureWarning: Intercept column might not be added anymore in future releases (c.f. issue #370)\n",
      "  warnings.warn(\"Intercept column might not be added anymore in future releases (c.f. issue #370)\",\n",
      "C:\\Users\\Frederic\\conda3\\Lib\\site-packages\\category_encoders\\base_contrast_encoder.py:126: FutureWarning: Intercept column might not be added anymore in future releases (c.f. issue #370)\n",
      "  warnings.warn(\"Intercept column might not be added anymore in future releases (c.f. issue #370)\",\n",
      "C:\\Users\\Frederic\\conda3\\Lib\\site-packages\\category_encoders\\base_contrast_encoder.py:126: FutureWarning: Intercept column might not be added anymore in future releases (c.f. issue #370)\n",
      "  warnings.warn(\"Intercept column might not be added anymore in future releases (c.f. issue #370)\",\n",
      "C:\\Users\\Frederic\\conda3\\Lib\\site-packages\\category_encoders\\base_contrast_encoder.py:126: FutureWarning: Intercept column might not be added anymore in future releases (c.f. issue #370)\n",
      "  warnings.warn(\"Intercept column might not be added anymore in future releases (c.f. issue #370)\",\n"
     ]
    },
    {
     "name": "stdout",
     "output_type": "stream",
     "text": [
      "(?i)\\d*\\s*\\b(kg\\/m³|kg\\/m3|g\\/m³|g\\/m3|\\d+kg\\/m³|\\d+kg\\/m3|\\d+g\\/m³|\\d+g\\/m3)s?\\b\n",
      "(?i)\\d*\\s*\\b(kg|g|gr|t|mg|tonnes?|kilos?|microgrammes?|grammes?|milligrammes?|µg|lbs?|pounds?|\\d+g|\\d+kg|\\d+gr|\\d+mg|\\d+t|\\d+tonnes?|\\d+kilos?|\\d+microgrammes?|\\d+grammes?|\\d+milligrammes?|\\d+µg|\\d+lbs?|\\d+pounds?)\\b\n",
      "(?i)\\d*s*\\b(m²|m2|metres?2|cm²|centimetres?2|cm2|km²|kilometres?2|km2|ft²|ft2|in²|in2|ha|ac|\\d+m²|\\d+m2|\\d+metres?2|\\d+cm²|\\d+centimetres?2|\\d+cm2|\\d+km²|\\d+kilometres?2|\\d+km2|\\d+ft²|\\d+ft2|\\d+in²|d+in2|\\d+ha|\\d+ac)\\b\n",
      "(?i)\\d*\\s*\\b(m\\/s|km\\/h|mph|m.s-1|\\d+m\\/s|\\d+km\\/h|\\d+mph|\\d+m.s-1)\\b\n",
      "(?i)\\d*\\s*\\b(Pa|Pascal|bar|atm|mmHg|\\d+Pa|\\d+bar|\\d+Pascal|\\d+atm|\\d+mmHg)\\b\n",
      "\\d*\\s*\\b(J|kJ|cal|kcal|CAL|KCAL|joules?|Joules?|kilojoules?|Calories?|calories?|kilocalories?|\\d+J|\\d+kJ|\\d+cal|\\d+kcal|\\d+kCAL|\\d+KCAL|\\d+Joules?|\\d+Calories?|\\d+joules?|d+kilojoules?|d+calories?|d+kilocalories?)\\b\n",
      "(?i)\\d*\\s*\\b(kW|W|Watts?|kWh|\\d+kWh|kiloWatts?|\\d+kW|\\d+W|\\d+Watts?|\\d+kiloWatts?)\\b\n",
      "(?i)\\d*\\s*\\b(centimètres?|centimetres?|cm|foot|ft|inch|kilomètres?|kilometres?|km|m|micromètres?|micrometres?|μm|millimètres?|millimetres?|mm|nanomètres?|nanometres?|nm|pouce|yard|yd|d+centimètres?|d+centimetres?|d+cm|d+foot|\\d+ft|\\d+inch|\\d+kilomètres?|\\d+kilometres?|\\d+km|\\d+m|micromètres?|\\d+micrometres?|\\d+μm|millimètres?|millimetres?|\\d+mm|\\d+nanomètres?|\\d+nanometres?|\\d+nm|\\d+pouce|\\d+yard|\\d+yd)s?\\b\n",
      "(?i)\\d*\\s*\\b(litre|l|millilitres?|ml|centilitres?|cl|mètre cube|metre cube|m3|m 3|centimètres?cube|centimetres? cube|cm3|cm 3|pied cube|ft 3|ft3|pouce cube|in3|in 3|gallon|gal|once liquide|fl oz|\\d+litre|\\d+l|\\d+millilitres?|\\d+ml|\\d+centilitres?|\\d+cl|\\d+mètre cube|\\d+metre cube|\\d+m3|\\d+m 3|\\d+centimètres? cube|\\d+centimetres? cube|\\d+cm3|\\d+cm 3|\\d+pied cube|\\d+ft 3|\\d+ft3|\\d+pouce cube|\\d+in3|\\d+in 3|\\d+gallon|\\d+gal|\\d+once liquide|\\d+fl oz)s?\\b\n",
      "(?i)\\d*\\s*\\b(hertz|hz|kilohertz|khz|megahertz|mhz|gigahertz|ghz|terahertz|thz|petahertz|phz|exahertz|ehz|zettahertz|zhz|yottahertz|yhz|bits?|bytes?|kilobits?|kb|kilobytes?|kb|ko|mmegabits?|mb|megabytes?|mb|gigabits?|gb|gigabytes?|gb|terabits?|tb|terabytes?|tb|petabits?|pb|petabytes?|pb|exabits?|eb|exabytes?|eb|zettabits?|zb|zettabytes?|zb|yottabits?|yb|yottabytes?|yb|octets?|mégaoctets?|megaoctets?|mega octets?|mo|giga-octets?|giga octets?|go|téraoctets?|teraoctets?|tera octets?|to|\\d+hertz|\\d+hz|\\d+kilohertz|\\d+khz|\\d+megahertz|\\d+mhz|\\d+gigahertz|\\d+ghz|\\d+terahertz|\\d+thz|\\d+petahertz|\\d+phz|\\d+exahertz|\\d+ehz|\\d+zettahertz|\\d+zhz| \\d+yottahertz|\\d+yhz|\\d+bits?|\\d+bytes?|\\d+kilobits?|\\d+kb|\\d+kilobytes?|\\d+kb|\\d+megabits?|\\d+mb| \\d+octets?|\\d+megabytes?|\\d+mb|\\d+gigabits?|\\d+gb|\\d+ko|\\d+gigabytes?|\\d+gb|\\d+terabits?|\\d+tb|\\d+terabytes?|\\d+tb| \\d+petabits?|\\d+pb|petabytes?|\\d+pb|\\d+exabits?|\\d+eb|\\d+exabytes?|\\d+eb|\\d+zettabits?|\\d+zb|\\d+zettabytes?|\\d+zb|\\d+yottabits?|\\d+yb|\\d+yottabytes?|\\d+yb|\\d+mégaoctets?|\\d+megaoctets?|\\d+mega octets?|\\d+mo|\\d+giga-octets?|\\d+giga octets?|\\d+go|\\d+téraoctets?|\\d+teraoctets?|\\d+tera octets?|\\d+to)s?\\b\n",
      "(?i)\\d*\\s*\\b(secondes?|s|millisecondes?|ms|microsecondes?|μs|nanosecondes?|ns|picosecondes?|ps|minutes?|min|heures?|h|jours?|j|semaines?|sem|mois|années?|ans?|décennies?|siècles?|siè|millénaires?|\\d+secondes?|\\d+s|\\d+millisecondes?|\\d+ms|\\d+microsecondes?|\\d+μs|\\d+nanosecondes?|\\d+ns|\\d+picosecondes?|\\d+ps|\\d+minutes?|\\d+min|heures?|\\d+h|\\d+jours?|\\d+j|\\d+semaines?|\\d+sem|\\d+mois|\\d+années?|\\d+ans?|\\d+décennies?|\\d+siècles?|\\d+siè|\\d+millénaires?)s?\\b\n",
      "[0-9]+\n",
      "début du Helmert encoding catégories 6 catégories\n"
     ]
    },
    {
     "name": "stderr",
     "output_type": "stream",
     "text": [
      "C:\\Users\\Frederic\\conda3\\Lib\\site-packages\\category_encoders\\base_contrast_encoder.py:126: FutureWarning: Intercept column might not be added anymore in future releases (c.f. issue #370)\n",
      "  warnings.warn(\"Intercept column might not be added anymore in future releases (c.f. issue #370)\",\n",
      "C:\\Users\\Frederic\\conda3\\Lib\\site-packages\\category_encoders\\base_contrast_encoder.py:126: FutureWarning: Intercept column might not be added anymore in future releases (c.f. issue #370)\n",
      "  warnings.warn(\"Intercept column might not be added anymore in future releases (c.f. issue #370)\",\n",
      "C:\\Users\\Frederic\\conda3\\Lib\\site-packages\\category_encoders\\base_contrast_encoder.py:126: FutureWarning: Intercept column might not be added anymore in future releases (c.f. issue #370)\n",
      "  warnings.warn(\"Intercept column might not be added anymore in future releases (c.f. issue #370)\",\n",
      "C:\\Users\\Frederic\\conda3\\Lib\\site-packages\\category_encoders\\base_contrast_encoder.py:126: FutureWarning: Intercept column might not be added anymore in future releases (c.f. issue #370)\n",
      "  warnings.warn(\"Intercept column might not be added anymore in future releases (c.f. issue #370)\",\n",
      "C:\\Users\\Frederic\\conda3\\Lib\\site-packages\\category_encoders\\base_contrast_encoder.py:126: FutureWarning: Intercept column might not be added anymore in future releases (c.f. issue #370)\n",
      "  warnings.warn(\"Intercept column might not be added anymore in future releases (c.f. issue #370)\",\n",
      "C:\\Users\\Frederic\\conda3\\Lib\\site-packages\\category_encoders\\base_contrast_encoder.py:126: FutureWarning: Intercept column might not be added anymore in future releases (c.f. issue #370)\n",
      "  warnings.warn(\"Intercept column might not be added anymore in future releases (c.f. issue #370)\",\n",
      "C:\\Users\\Frederic\\conda3\\Lib\\site-packages\\category_encoders\\base_contrast_encoder.py:126: FutureWarning: Intercept column might not be added anymore in future releases (c.f. issue #370)\n",
      "  warnings.warn(\"Intercept column might not be added anymore in future releases (c.f. issue #370)\",\n",
      "C:\\Users\\Frederic\\conda3\\Lib\\site-packages\\category_encoders\\base_contrast_encoder.py:126: FutureWarning: Intercept column might not be added anymore in future releases (c.f. issue #370)\n",
      "  warnings.warn(\"Intercept column might not be added anymore in future releases (c.f. issue #370)\",\n",
      "C:\\Users\\Frederic\\conda3\\Lib\\site-packages\\category_encoders\\base_contrast_encoder.py:126: FutureWarning: Intercept column might not be added anymore in future releases (c.f. issue #370)\n",
      "  warnings.warn(\"Intercept column might not be added anymore in future releases (c.f. issue #370)\",\n",
      "C:\\Users\\Frederic\\conda3\\Lib\\site-packages\\category_encoders\\base_contrast_encoder.py:126: FutureWarning: Intercept column might not be added anymore in future releases (c.f. issue #370)\n",
      "  warnings.warn(\"Intercept column might not be added anymore in future releases (c.f. issue #370)\",\n",
      "C:\\Users\\Frederic\\conda3\\Lib\\site-packages\\category_encoders\\base_contrast_encoder.py:126: FutureWarning: Intercept column might not be added anymore in future releases (c.f. issue #370)\n",
      "  warnings.warn(\"Intercept column might not be added anymore in future releases (c.f. issue #370)\",\n",
      "C:\\Users\\Frederic\\conda3\\Lib\\site-packages\\category_encoders\\base_contrast_encoder.py:126: FutureWarning: Intercept column might not be added anymore in future releases (c.f. issue #370)\n",
      "  warnings.warn(\"Intercept column might not be added anymore in future releases (c.f. issue #370)\",\n",
      "C:\\Users\\Frederic\\conda3\\Lib\\site-packages\\category_encoders\\base_contrast_encoder.py:126: FutureWarning: Intercept column might not be added anymore in future releases (c.f. issue #370)\n",
      "  warnings.warn(\"Intercept column might not be added anymore in future releases (c.f. issue #370)\",\n",
      "C:\\Users\\Frederic\\conda3\\Lib\\site-packages\\category_encoders\\base_contrast_encoder.py:126: FutureWarning: Intercept column might not be added anymore in future releases (c.f. issue #370)\n",
      "  warnings.warn(\"Intercept column might not be added anymore in future releases (c.f. issue #370)\",\n",
      "C:\\Users\\Frederic\\conda3\\Lib\\site-packages\\category_encoders\\base_contrast_encoder.py:126: FutureWarning: Intercept column might not be added anymore in future releases (c.f. issue #370)\n",
      "  warnings.warn(\"Intercept column might not be added anymore in future releases (c.f. issue #370)\",\n",
      "C:\\Users\\Frederic\\conda3\\Lib\\site-packages\\category_encoders\\base_contrast_encoder.py:126: FutureWarning: Intercept column might not be added anymore in future releases (c.f. issue #370)\n",
      "  warnings.warn(\"Intercept column might not be added anymore in future releases (c.f. issue #370)\",\n",
      "C:\\Users\\Frederic\\conda3\\Lib\\site-packages\\category_encoders\\base_contrast_encoder.py:126: FutureWarning: Intercept column might not be added anymore in future releases (c.f. issue #370)\n",
      "  warnings.warn(\"Intercept column might not be added anymore in future releases (c.f. issue #370)\",\n",
      "C:\\Users\\Frederic\\conda3\\Lib\\site-packages\\category_encoders\\base_contrast_encoder.py:126: FutureWarning: Intercept column might not be added anymore in future releases (c.f. issue #370)\n",
      "  warnings.warn(\"Intercept column might not be added anymore in future releases (c.f. issue #370)\",\n",
      "C:\\Users\\Frederic\\conda3\\Lib\\site-packages\\category_encoders\\base_contrast_encoder.py:126: FutureWarning: Intercept column might not be added anymore in future releases (c.f. issue #370)\n",
      "  warnings.warn(\"Intercept column might not be added anymore in future releases (c.f. issue #370)\",\n",
      "C:\\Users\\Frederic\\conda3\\Lib\\site-packages\\category_encoders\\base_contrast_encoder.py:126: FutureWarning: Intercept column might not be added anymore in future releases (c.f. issue #370)\n",
      "  warnings.warn(\"Intercept column might not be added anymore in future releases (c.f. issue #370)\",\n",
      "C:\\Users\\Frederic\\conda3\\Lib\\site-packages\\category_encoders\\base_contrast_encoder.py:126: FutureWarning: Intercept column might not be added anymore in future releases (c.f. issue #370)\n",
      "  warnings.warn(\"Intercept column might not be added anymore in future releases (c.f. issue #370)\",\n",
      "C:\\Users\\Frederic\\conda3\\Lib\\site-packages\\category_encoders\\base_contrast_encoder.py:126: FutureWarning: Intercept column might not be added anymore in future releases (c.f. issue #370)\n",
      "  warnings.warn(\"Intercept column might not be added anymore in future releases (c.f. issue #370)\",\n",
      "C:\\Users\\Frederic\\conda3\\Lib\\site-packages\\category_encoders\\base_contrast_encoder.py:126: FutureWarning: Intercept column might not be added anymore in future releases (c.f. issue #370)\n",
      "  warnings.warn(\"Intercept column might not be added anymore in future releases (c.f. issue #370)\",\n",
      "C:\\Users\\Frederic\\conda3\\Lib\\site-packages\\category_encoders\\base_contrast_encoder.py:126: FutureWarning: Intercept column might not be added anymore in future releases (c.f. issue #370)\n",
      "  warnings.warn(\"Intercept column might not be added anymore in future releases (c.f. issue #370)\",\n"
     ]
    }
   ],
   "source": [
    "#Chargement du df initial\n",
    "df = load('df_train_post_trad.joblib')\n",
    "\n",
    "df_freq_encoding= creation_frequency_encodage_REGEX(df)\n",
    "df_freq_encoding_2cat= creation_frequency_encodage_REGEX_2cat(df)\n",
    "df_freq_encoding_2cat_variante = creation_frequency_encodage_REGEX_2cat_variante(df)\n",
    "df_freq_encoding_quartiles = creation_frequency_encodage_REGEX_quartiles(df)\n",
    "df_Helmert_encoding_cat2 = creation_Helmert_encodage_REGEX_cat2(df)\n",
    "df_Helmert_encoding_cat6 = creation_Helmert_encodage_REGEX_6cat(df)"
   ]
  },
  {
   "cell_type": "markdown",
   "id": "af50a5be",
   "metadata": {},
   "source": [
    "### Enregistrement"
   ]
  },
  {
   "cell_type": "code",
   "execution_count": 22,
   "id": "edabc855",
   "metadata": {},
   "outputs": [
    {
     "data": {
      "text/plain": [
       "['df_helmert_encoding_cat6.joblib']"
      ]
     },
     "execution_count": 22,
     "metadata": {},
     "output_type": "execute_result"
    }
   ],
   "source": [
    "dump(df_freq_encoding,'df_freq_encoding.joblib')\n",
    "dump(df_freq_encoding_2cat,'df_freq_encoding_2cat.joblib')\n",
    "dump(df_freq_encoding_quartiles,'df_freq_encoding_quartiles.joblib')\n",
    "dump(df_Helmert_encoding_cat2,'df_helmert_encoding_cat2.joblib')\n",
    "dump(df_Helmert_encoding_cat6,'df_helmert_encoding_cat6.joblib')"
   ]
  },
  {
   "cell_type": "code",
   "execution_count": 40,
   "id": "7e2e2a5a",
   "metadata": {},
   "outputs": [
    {
     "data": {
      "text/plain": [
       "['df_freq_encoding_2cat_variante.joblib']"
      ]
     },
     "execution_count": 40,
     "metadata": {},
     "output_type": "execute_result"
    }
   ],
   "source": [
    "dump(df_freq_encoding_2cat_variante,'df_freq_encoding_2cat_variante.joblib')"
   ]
  },
  {
   "cell_type": "markdown",
   "id": "d117d0f4",
   "metadata": {},
   "source": [
    "### Chargement"
   ]
  },
  {
   "cell_type": "code",
   "execution_count": 3,
   "id": "33ca6a08",
   "metadata": {
    "collapsed": true
   },
   "outputs": [
    {
     "ename": "FileNotFoundError",
     "evalue": "[Errno 2] No such file or directory: 'df_freq_encoding.joblib'",
     "output_type": "error",
     "traceback": [
      "\u001b[1;31m---------------------------------------------------------------------------\u001b[0m",
      "\u001b[1;31mFileNotFoundError\u001b[0m                         Traceback (most recent call last)",
      "Cell \u001b[1;32mIn[3], line 1\u001b[0m\n\u001b[1;32m----> 1\u001b[0m df_freq_encoding \u001b[38;5;241m=\u001b[39m load(\u001b[38;5;124m'\u001b[39m\u001b[38;5;124mdf_freq_encoding.joblib\u001b[39m\u001b[38;5;124m'\u001b[39m)\n\u001b[0;32m      2\u001b[0m df_freq_encoding_2cat \u001b[38;5;241m=\u001b[39m load(\u001b[38;5;124m'\u001b[39m\u001b[38;5;124mdf_freq_encoding_2cat.joblib\u001b[39m\u001b[38;5;124m'\u001b[39m)\n\u001b[0;32m      3\u001b[0m df_freq_encoding_quartiles \u001b[38;5;241m=\u001b[39m load(\u001b[38;5;124m'\u001b[39m\u001b[38;5;124mdf_freq_encoding_quartiles.joblib\u001b[39m\u001b[38;5;124m'\u001b[39m)\n",
      "File \u001b[1;32m~\\conda3\\Lib\\site-packages\\joblib\\numpy_pickle.py:650\u001b[0m, in \u001b[0;36mload\u001b[1;34m(filename, mmap_mode)\u001b[0m\n\u001b[0;32m    648\u001b[0m         obj \u001b[38;5;241m=\u001b[39m _unpickle(fobj)\n\u001b[0;32m    649\u001b[0m \u001b[38;5;28;01melse\u001b[39;00m:\n\u001b[1;32m--> 650\u001b[0m     \u001b[38;5;28;01mwith\u001b[39;00m \u001b[38;5;28mopen\u001b[39m(filename, \u001b[38;5;124m'\u001b[39m\u001b[38;5;124mrb\u001b[39m\u001b[38;5;124m'\u001b[39m) \u001b[38;5;28;01mas\u001b[39;00m f:\n\u001b[0;32m    651\u001b[0m         \u001b[38;5;28;01mwith\u001b[39;00m _read_fileobject(f, filename, mmap_mode) \u001b[38;5;28;01mas\u001b[39;00m fobj:\n\u001b[0;32m    652\u001b[0m             \u001b[38;5;28;01mif\u001b[39;00m \u001b[38;5;28misinstance\u001b[39m(fobj, \u001b[38;5;28mstr\u001b[39m):\n\u001b[0;32m    653\u001b[0m                 \u001b[38;5;66;03m# if the returned file object is a string, this means we\u001b[39;00m\n\u001b[0;32m    654\u001b[0m                 \u001b[38;5;66;03m# try to load a pickle file generated with an version of\u001b[39;00m\n\u001b[0;32m    655\u001b[0m                 \u001b[38;5;66;03m# Joblib so we load it with joblib compatibility function.\u001b[39;00m\n",
      "\u001b[1;31mFileNotFoundError\u001b[0m: [Errno 2] No such file or directory: 'df_freq_encoding.joblib'"
     ]
    }
   ],
   "source": [
    "df_freq_encoding = load('df_freq_encoding.joblib')\n",
    "df_freq_encoding_2cat = load('df_freq_encoding_2cat.joblib')\n",
    "df_freq_encoding_2cat_variante = load('df_freq_encoding_2cat_variante.joblib')\n",
    "df_freq_encoding_quartiles = load('df_freq_encoding_quartiles.joblib')\n",
    "df_helmert_encoding_cat2 = load('df_helmert_encoding_cat2.joblib')\n",
    "df_Helmert_encoding_cat6 = load('df_Helmert_encoding_cat6.joblib')\n",
    "\n"
   ]
  },
  {
   "cell_type": "markdown",
   "id": "a75518a0",
   "metadata": {},
   "source": [
    "## Traitement divers"
   ]
  },
  {
   "cell_type": "code",
   "execution_count": 43,
   "id": "4684c129",
   "metadata": {},
   "outputs": [],
   "source": [
    "# Suppression des colonnes inutiles\n",
    "for df in [df_freq_encoding,df_freq_encoding_2cat,df_freq_encoding_quartiles,df_helmert_encoding_cat2,df_Helmert_encoding_cat6,df_freq_encoding_2cat_variante]:\n",
    "    df=df.drop(['mots','mots_concat'],axis=1)\n",
    "\n",
    "for df in [df_freq_encoding_2cat,df_freq_encoding_quartiles,df_helmert_encoding_cat2,df_Helmert_encoding_cat6,df_freq_encoding_2cat_variante]:\n",
    "    df=df.drop(['description_vide_encod_freq','Nb_mots_cat_encod_freq'],axis=1)\n",
    "\n",
    "df = load('df_train_post_trad.joblib')\n",
    "target = df['prdtypecode']\n",
    "df_freq_encoding = pd.concat([df_freq_encoding,target],axis='columns')"
   ]
  },
  {
   "cell_type": "code",
   "execution_count": 45,
   "id": "027ea194",
   "metadata": {},
   "outputs": [],
   "source": [
    "# Extraction des listes de colonnes \n",
    "Col_df_freq_encoding = list(df_freq_encoding.columns)\n",
    "Col_df_freq_encoding_2cat = list(df_freq_encoding_2cat.columns)\n",
    "Col_df_freq_encoding_2cat_variante = list(df_freq_encoding_2cat_variante)\n",
    "Col_df_freq_encoding_quartiles= list(df_freq_encoding_quartiles.columns)\n",
    "Col_df_helmert_encoding_cat2 = list(df_helmert_encoding_cat2.columns)\n",
    "Col_df_Helmert_encoding_cat6= list(df_Helmert_encoding_cat6.columns)\n",
    "Col_df_helmert_encoding_cat2 = list(df_Helmert_encoding_cat2.columns)\n",
    "Col_df_helmert_encoding_cat6= list(df_Helmert_encoding_cat6.columns)\n"
   ]
  },
  {
   "cell_type": "code",
   "execution_count": 47,
   "id": "2f00692d",
   "metadata": {},
   "outputs": [],
   "source": [
    "# Concaténation de l'ensebmle des varaintes de df crées\n",
    "df_REGEX_encode = pd.concat([df_freq_encoding,df_freq_encoding_2cat,df_freq_encoding_quartiles,\n",
    "                             df_helmert_encoding_cat2,df_Helmert_encoding_cat6,df_freq_encoding_2cat_variante],axis='columns')\n",
    "\n",
    "#Suppression des colonnes 'mots','mots_concat'\n",
    "df_REGEX_encode = df_REGEX_encode.drop(['mots','mots_concat'],axis=1)\n",
    "\n",
    "#Suppression des colonnes en doublons\n",
    "df_REGEX_encode  = df_REGEX_encode .loc[:,~df_REGEX_encode .columns.duplicated()]\n"
   ]
  },
  {
   "cell_type": "code",
   "execution_count": 50,
   "id": "7093c3c7",
   "metadata": {},
   "outputs": [
    {
     "data": {
      "text/plain": [
       "['df_REGEX_encode.joblib']"
      ]
     },
     "execution_count": 50,
     "metadata": {},
     "output_type": "execute_result"
    }
   ],
   "source": [
    "# Sauegarde du df concaténé pour la prochaine étape\n",
    "dump(df_REGEX_encode,'df_REGEX_encode.joblib')"
   ]
  }
 ],
 "metadata": {
  "kernelspec": {
   "display_name": "Python 3 (ipykernel)",
   "language": "python",
   "name": "python3"
  },
  "language_info": {
   "codemirror_mode": {
    "name": "ipython",
    "version": 3
   },
   "file_extension": ".py",
   "mimetype": "text/x-python",
   "name": "python",
   "nbconvert_exporter": "python",
   "pygments_lexer": "ipython3",
   "version": "3.11.4"
  }
 },
 "nbformat": 4,
 "nbformat_minor": 5
}
